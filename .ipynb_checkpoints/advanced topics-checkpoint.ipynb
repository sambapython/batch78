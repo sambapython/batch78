{
 "cells": [
  {
   "cell_type": "code",
   "execution_count": 1,
   "metadata": {},
   "outputs": [
    {
     "name": "stdout",
     "output_type": "stream",
     "text": [
      "<class 'function'>\n"
     ]
    }
   ],
   "source": [
    "def check_even(number):\n",
    "    return number%2==0\n",
    "print(type(check_even))"
   ]
  },
  {
   "cell_type": "code",
   "execution_count": 2,
   "metadata": {},
   "outputs": [
    {
     "name": "stdout",
     "output_type": "stream",
     "text": [
      "<class 'function'>\n"
     ]
    }
   ],
   "source": [
    "check_even = lambda number:number%2==0\n",
    "print(type(check_even))"
   ]
  },
  {
   "cell_type": "code",
   "execution_count": 3,
   "metadata": {},
   "outputs": [
    {
     "data": {
      "text/plain": [
       "True"
      ]
     },
     "execution_count": 3,
     "metadata": {},
     "output_type": "execute_result"
    }
   ],
   "source": [
    "check_even(20)"
   ]
  },
  {
   "cell_type": "code",
   "execution_count": 4,
   "metadata": {},
   "outputs": [
    {
     "data": {
      "text/plain": [
       "False"
      ]
     },
     "execution_count": 4,
     "metadata": {},
     "output_type": "execute_result"
    }
   ],
   "source": [
    "check_even(11)"
   ]
  },
  {
   "cell_type": "code",
   "execution_count": 5,
   "metadata": {},
   "outputs": [],
   "source": [
    "# write a lambda funtion to add three numbers.\n",
    "# def check_even(number):\n",
    "#     if number%2==0:\n",
    "#         return \"EVEN\"\n",
    "#     else:\n",
    "#         return \"ODD\"\n",
    "# def check_even(number):\n",
    "#     return \"EVEN\" if number%2==0 else \"ODD\"\n",
    "check_even = lambda number: \"EVEN\" if number%2==0 else \"ODD\"\n"
   ]
  },
  {
   "cell_type": "code",
   "execution_count": 6,
   "metadata": {},
   "outputs": [
    {
     "name": "stdout",
     "output_type": "stream",
     "text": [
      "10\n",
      "12\n",
      "14\n",
      "16\n"
     ]
    }
   ],
   "source": [
    "l=[10,11,12,13,14,15,16,17]\n",
    "for i in l:\n",
    "    if i%2==0:\n",
    "        print(i)"
   ]
  },
  {
   "cell_type": "code",
   "execution_count": 7,
   "metadata": {},
   "outputs": [
    {
     "name": "stdout",
     "output_type": "stream",
     "text": [
      "10\n",
      "\n",
      "12\n",
      "\n",
      "14\n",
      "\n",
      "16\n",
      "\n"
     ]
    }
   ],
   "source": [
    "def fun(number):\n",
    "    if i%2==0:\n",
    "        return i\n",
    "    return \"\"\n",
    "l=[10,11,12,13,14,15,16,17]\n",
    "for i in l:\n",
    "    print(fun(i))"
   ]
  },
  {
   "cell_type": "code",
   "execution_count": 9,
   "metadata": {},
   "outputs": [
    {
     "name": "stdout",
     "output_type": "stream",
     "text": [
      "[10, '', 12, '', 14, '', 16, '']\n"
     ]
    }
   ],
   "source": [
    "def fun(number):\n",
    "    if number%2==0:\n",
    "        return number\n",
    "    return \"\"\n",
    "l=[10,11,12,13,14,15,16,17]\n",
    "res=[]\n",
    "for i in l:\n",
    "    res.append(fun(i))\n",
    "print(res)"
   ]
  },
  {
   "cell_type": "code",
   "execution_count": 12,
   "metadata": {},
   "outputs": [
    {
     "name": "stdout",
     "output_type": "stream",
     "text": [
      "[10, '', 12, '', 14, '', 16, '']\n"
     ]
    }
   ],
   "source": [
    "def fun(number):\n",
    "    if number%2==0:\n",
    "        return number\n",
    "    return \"\"\n",
    "print(list(map(fun,[10,11,12,13,14,15,16,17])))"
   ]
  },
  {
   "cell_type": "code",
   "execution_count": 13,
   "metadata": {},
   "outputs": [
    {
     "name": "stdout",
     "output_type": "stream",
     "text": [
      "x=1, y=5\n",
      "x=2, y=6\n",
      "x=3, y=7\n",
      "[6, 8, 10]\n"
     ]
    }
   ],
   "source": [
    "def add(x,y):\n",
    "    print(f\"x={x}, y={y}\")\n",
    "    return x+y\n",
    "print(list(map(add,[1,2,3],[5,6,7])))"
   ]
  },
  {
   "cell_type": "code",
   "execution_count": 14,
   "metadata": {},
   "outputs": [
    {
     "name": "stdout",
     "output_type": "stream",
     "text": [
      "x=1, y=5,z=8\n",
      "x=2, y=6,z=9\n",
      "x=3, y=7,z=10\n",
      "[14, 17, 20]\n"
     ]
    }
   ],
   "source": [
    "def add(x,y,z):\n",
    "    print(f\"x={x}, y={y},z={z}\")\n",
    "    return x+y+z\n",
    "print(list(map(add,[1,2,3],[5,6,7],[8,9,10])))"
   ]
  },
  {
   "cell_type": "code",
   "execution_count": 15,
   "metadata": {},
   "outputs": [
    {
     "name": "stdout",
     "output_type": "stream",
     "text": [
      "x=1, y=5,z=8\n",
      "x=2, y=6,z=9\n",
      "[14, 17]\n"
     ]
    }
   ],
   "source": [
    "def add(x,y,z):\n",
    "    print(f\"x={x}, y={y},z={z}\")\n",
    "    return x+y+z\n",
    "print(list(map(add,[1,2,3],[5,6,7],[8,9])))"
   ]
  },
  {
   "cell_type": "code",
   "execution_count": 16,
   "metadata": {},
   "outputs": [
    {
     "name": "stdout",
     "output_type": "stream",
     "text": [
      "<map object at 0x000002129DF473A0>\n"
     ]
    }
   ],
   "source": [
    "def add(x,y,z):\n",
    "    print(f\"x={x}, y={y},z={z}\")\n",
    "    return x+y+z\n",
    "print(map(add,[1,2,3],[5,6,7],[8,9]))"
   ]
  },
  {
   "cell_type": "code",
   "execution_count": 17,
   "metadata": {},
   "outputs": [
    {
     "name": "stdout",
     "output_type": "stream",
     "text": [
      "x=1, y=5,z=8\n",
      "14\n",
      "x=2, y=6,z=9\n",
      "17\n"
     ]
    }
   ],
   "source": [
    "def add(x,y,z):\n",
    "    print(f\"x={x}, y={y},z={z}\")\n",
    "    return x+y+z\n",
    "for res in map(add,[1,2,3],[5,6,7],[8,9]):\n",
    "    print(res)"
   ]
  },
  {
   "cell_type": "code",
   "execution_count": 18,
   "metadata": {},
   "outputs": [
    {
     "name": "stdout",
     "output_type": "stream",
     "text": [
      "14\n",
      "17\n"
     ]
    }
   ],
   "source": [
    "def add(x,y,z):\n",
    "    return x+y+z\n",
    "for res in map(add,[1,2,3],[5,6,7],[8,9]):\n",
    "    print(res)"
   ]
  },
  {
   "cell_type": "code",
   "execution_count": 19,
   "metadata": {},
   "outputs": [
    {
     "name": "stdout",
     "output_type": "stream",
     "text": [
      "x=1, y=5,z=8\n",
      "x=2, y=6,z=9\n",
      "[14, 17]\n"
     ]
    }
   ],
   "source": [
    "def add(x,y,z):\n",
    "    print(f\"x={x}, y={y},z={z}\")\n",
    "    return x+y+z\n",
    "print(list(map(add,[1,2,3],[5,6,7],[8,9])))"
   ]
  },
  {
   "cell_type": "code",
   "execution_count": 20,
   "metadata": {},
   "outputs": [
    {
     "ename": "TypeError",
     "evalue": "filter expected 2 arguments, got 4",
     "output_type": "error",
     "traceback": [
      "\u001b[1;31m---------------------------------------------------------------------------\u001b[0m",
      "\u001b[1;31mTypeError\u001b[0m                                 Traceback (most recent call last)",
      "\u001b[1;32m<ipython-input-20-29064e035112>\u001b[0m in \u001b[0;36m<module>\u001b[1;34m\u001b[0m\n\u001b[0;32m      2\u001b[0m     \u001b[0mprint\u001b[0m\u001b[1;33m(\u001b[0m\u001b[1;34mf\"x={x}, y={y},z={z}\"\u001b[0m\u001b[1;33m)\u001b[0m\u001b[1;33m\u001b[0m\u001b[1;33m\u001b[0m\u001b[0m\n\u001b[0;32m      3\u001b[0m     \u001b[1;32mreturn\u001b[0m \u001b[0mx\u001b[0m\u001b[1;33m+\u001b[0m\u001b[0my\u001b[0m\u001b[1;33m+\u001b[0m\u001b[0mz\u001b[0m\u001b[1;33m\u001b[0m\u001b[1;33m\u001b[0m\u001b[0m\n\u001b[1;32m----> 4\u001b[1;33m \u001b[0mprint\u001b[0m\u001b[1;33m(\u001b[0m\u001b[0mlist\u001b[0m\u001b[1;33m(\u001b[0m\u001b[0mfilter\u001b[0m\u001b[1;33m(\u001b[0m\u001b[0madd\u001b[0m\u001b[1;33m,\u001b[0m\u001b[1;33m[\u001b[0m\u001b[1;36m1\u001b[0m\u001b[1;33m,\u001b[0m\u001b[1;36m2\u001b[0m\u001b[1;33m,\u001b[0m\u001b[1;36m3\u001b[0m\u001b[1;33m]\u001b[0m\u001b[1;33m,\u001b[0m\u001b[1;33m[\u001b[0m\u001b[1;36m5\u001b[0m\u001b[1;33m,\u001b[0m\u001b[1;36m6\u001b[0m\u001b[1;33m,\u001b[0m\u001b[1;36m7\u001b[0m\u001b[1;33m]\u001b[0m\u001b[1;33m,\u001b[0m\u001b[1;33m[\u001b[0m\u001b[1;36m8\u001b[0m\u001b[1;33m,\u001b[0m\u001b[1;36m9\u001b[0m\u001b[1;33m]\u001b[0m\u001b[1;33m)\u001b[0m\u001b[1;33m)\u001b[0m\u001b[1;33m)\u001b[0m\u001b[1;33m\u001b[0m\u001b[1;33m\u001b[0m\u001b[0m\n\u001b[0m",
      "\u001b[1;31mTypeError\u001b[0m: filter expected 2 arguments, got 4"
     ]
    }
   ],
   "source": [
    "def add(x,y,z):\n",
    "    print(f\"x={x}, y={y},z={z}\")\n",
    "    return x+y+z\n",
    "print(list(filter(add,[1,2,3],[5,6,7],[8,9])))"
   ]
  },
  {
   "cell_type": "code",
   "execution_count": 21,
   "metadata": {},
   "outputs": [
    {
     "name": "stdout",
     "output_type": "stream",
     "text": [
      "[True, False, True, False, True, False, True, False, True, False, True]\n"
     ]
    }
   ],
   "source": [
    "def check_even(number):\n",
    "    return number%2==0\n",
    "l=[10,11,20,21,30,31,40,41,50,51,60]\n",
    "print(list(map(check_even, l)))\n"
   ]
  },
  {
   "cell_type": "code",
   "execution_count": 22,
   "metadata": {},
   "outputs": [
    {
     "name": "stdout",
     "output_type": "stream",
     "text": [
      "[True, False, True, False, True, False, True, False, True, False, True]\n",
      "[10, 20, 30, 40, 50, 60]\n"
     ]
    }
   ],
   "source": [
    "def check_even(number):\n",
    "    return number%2==0\n",
    "l=[10,11,20,21,30,31,40,41,50,51,60]\n",
    "print(list(map(check_even, l)))\n",
    "print(list(filter(check_even, l)))# check_even(10)# True: 10 add to the list, check_even(11)#False, it will not add 11 to list"
   ]
  },
  {
   "cell_type": "code",
   "execution_count": 23,
   "metadata": {},
   "outputs": [
    {
     "name": "stdout",
     "output_type": "stream",
     "text": [
      "[11, 22, 33, 44]\n"
     ]
    }
   ],
   "source": [
    "l=[10,20,30,40]\n",
    "k=[1,2,3,4]\n",
    "def add(x,y):\n",
    "    return x+y\n",
    "print(list(map(add,l,k)))"
   ]
  },
  {
   "cell_type": "code",
   "execution_count": 24,
   "metadata": {},
   "outputs": [
    {
     "name": "stdout",
     "output_type": "stream",
     "text": [
      "0 10\n",
      "1 20\n",
      "2 30\n",
      "3 40\n"
     ]
    }
   ],
   "source": [
    "l=[10,20,30,40]\n",
    "k=[1,2,3,4]\n",
    "def add(x,y):\n",
    "    return x+y\n",
    "for index,value in enumerate(l):\n",
    "    print(index,value)\n",
    "    "
   ]
  },
  {
   "cell_type": "code",
   "execution_count": 25,
   "metadata": {},
   "outputs": [
    {
     "name": "stdout",
     "output_type": "stream",
     "text": [
      "10 1\n",
      "20 2\n",
      "30 3\n",
      "40 4\n"
     ]
    }
   ],
   "source": [
    "l=[10,20,30,40]\n",
    "k=[1,2,3,4]\n",
    "def add(x,y):\n",
    "    return x+y\n",
    "for index,value in enumerate(l):\n",
    "    print(value, k[index])\n",
    "    "
   ]
  },
  {
   "cell_type": "code",
   "execution_count": 26,
   "metadata": {},
   "outputs": [
    {
     "name": "stdout",
     "output_type": "stream",
     "text": [
      "[11, 22, 33, 44]\n"
     ]
    }
   ],
   "source": [
    "l=[10,20,30,40]\n",
    "k=[1,2,3,4]\n",
    "def add(x,y):\n",
    "    return x+y\n",
    "res=[]\n",
    "for index,value in enumerate(l):\n",
    "    res.append(add(value, k[index]))\n",
    "print(res)\n",
    "    \n",
    "    "
   ]
  },
  {
   "cell_type": "code",
   "execution_count": 27,
   "metadata": {},
   "outputs": [
    {
     "name": "stdout",
     "output_type": "stream",
     "text": [
      "<zip object at 0x000002129DF54F40>\n"
     ]
    }
   ],
   "source": [
    "l=[10,20,30,40]\n",
    "k=[1,2,3,4]\n",
    "print(zip(l,k))"
   ]
  },
  {
   "cell_type": "code",
   "execution_count": 28,
   "metadata": {},
   "outputs": [
    {
     "name": "stdout",
     "output_type": "stream",
     "text": [
      "<zip object at 0x000002129EF89440>\n",
      "[(10, 1), (20, 2), (30, 3), (40, 4)]\n",
      "10 1\n",
      "20 2\n",
      "30 3\n",
      "40 4\n"
     ]
    }
   ],
   "source": [
    "l=[10,20,30,40]\n",
    "k=[1,2,3,4]\n",
    "print(zip(l,k))\n",
    "print(list(zip(l,k)))\n",
    "for i,j in zip(l,k):\n",
    "    print(i,j)"
   ]
  },
  {
   "cell_type": "code",
   "execution_count": 29,
   "metadata": {},
   "outputs": [
    {
     "name": "stdout",
     "output_type": "stream",
     "text": [
      "10 1\n"
     ]
    }
   ],
   "source": [
    "i,j=(10,1)\n",
    "print(i,j)"
   ]
  },
  {
   "cell_type": "code",
   "execution_count": 30,
   "metadata": {},
   "outputs": [
    {
     "name": "stdout",
     "output_type": "stream",
     "text": [
      "<zip object at 0x000002129EE4D540>\n",
      "[(10, 1), (20, 2), (30, 3), (40, 4)]\n",
      "10 1\n",
      "20 2\n",
      "30 3\n",
      "40 4\n"
     ]
    }
   ],
   "source": [
    "l=[10,20,30,40,50,60,80,70]\n",
    "k=[1,2,3,4]\n",
    "print(zip(l,k))\n",
    "print(list(zip(l,k)))\n",
    "for i,j in zip(l,k):\n",
    "    print(i,j)"
   ]
  },
  {
   "cell_type": "markdown",
   "metadata": {},
   "source": [
    "# l=[10,20,30,40,50,60,80,70]\n",
    "k=[1,2,3,4]\n",
    "m=[]\n",
    "print(zip(l,k,m))\n",
    "print(list(zip(l,k,m)))\n"
   ]
  },
  {
   "cell_type": "code",
   "execution_count": 32,
   "metadata": {},
   "outputs": [
    {
     "name": "stdout",
     "output_type": "stream",
     "text": [
      "['APPLE', 'ORANGE', 'GRAPE', 'BANANA']\n"
     ]
    }
   ],
   "source": [
    "# comprehensions:list, tuple, dictionary\n",
    "l=[\"apple\", \"orange\", \"grape\",\"banana\"]\n",
    "res=[]\n",
    "for i in l:\n",
    "    res.append(i.upper())\n",
    "print(res)"
   ]
  },
  {
   "cell_type": "code",
   "execution_count": 33,
   "metadata": {},
   "outputs": [
    {
     "name": "stdout",
     "output_type": "stream",
     "text": [
      "['a', 'o', 'g', 'b']\n"
     ]
    }
   ],
   "source": [
    "# comprehensions:list, tuple, dictionary\n",
    "l=[\"apple\", \"orange\", \"grape\",\"banana\"]\n",
    "res=[i[0] for i in l]\n",
    "print(res)"
   ]
  },
  {
   "cell_type": "code",
   "execution_count": 34,
   "metadata": {},
   "outputs": [
    {
     "name": "stdout",
     "output_type": "stream",
     "text": [
      "['APPLE', 'ORANGE', 'GRAPE', 'BANANA']\n"
     ]
    }
   ],
   "source": [
    "# comprehensions:list, tuple, dictionary\n",
    "l=[\"apple\", \"orange\", \"grape\",\"banana\"]\n",
    "res=[i.upper() for i in l]\n",
    "print(res)"
   ]
  },
  {
   "cell_type": "code",
   "execution_count": 35,
   "metadata": {},
   "outputs": [
    {
     "name": "stdout",
     "output_type": "stream",
     "text": [
      "['Even', 'Even', 'ODD', 'ODD', 'Even', 'ODD']\n"
     ]
    }
   ],
   "source": [
    "# comprehensions:list, tuple, dictionary\n",
    "l=[10,20,13,15,16,17]\n",
    "def check_even(number):\n",
    "    return \"Even\" if number%2==0 else \"ODD\"\n",
    "res=[check_even(i) for i in l]\n",
    "print(res)"
   ]
  },
  {
   "cell_type": "code",
   "execution_count": 36,
   "metadata": {},
   "outputs": [
    {
     "name": "stdout",
     "output_type": "stream",
     "text": [
      "['Even', 'Even', 'ODD', 'ODD', 'Even', 'ODD']\n",
      "['Even', 'Even', 'ODD', 'ODD', 'Even', 'ODD']\n"
     ]
    }
   ],
   "source": [
    "# comprehensions:list, tuple, dictionary\n",
    "l=[10,20,13,15,16,17]\n",
    "def check_even(number):\n",
    "    return \"Even\" if number%2==0 else \"ODD\"\n",
    "print(list(map(check_even,l)))\n",
    "print([check_even(i) for i in l])"
   ]
  },
  {
   "cell_type": "code",
   "execution_count": 37,
   "metadata": {},
   "outputs": [
    {
     "name": "stdout",
     "output_type": "stream",
     "text": [
      "['Even', 'Even', 'ODD', 'ODD', 'Even', 'ODD']\n",
      "['Even', 'Even', 'ODD', 'ODD', 'Even', 'ODD']\n",
      "[10, 20, 13, 15, 16, 17]\n"
     ]
    }
   ],
   "source": [
    "# comprehensions:list, tuple, dictionary\n",
    "l=[10,20,13,15,16,17]\n",
    "def check_even(number):\n",
    "    return \"Even\" if number%2==0 else \"ODD\"\n",
    "print(list(map(check_even,l)))\n",
    "print([check_even(i) for i in l])\n",
    "print(list(filter(check_even,l)))"
   ]
  },
  {
   "cell_type": "code",
   "execution_count": 38,
   "metadata": {},
   "outputs": [
    {
     "ename": "TypeError",
     "evalue": "not all arguments converted during string formatting",
     "output_type": "error",
     "traceback": [
      "\u001b[1;31m---------------------------------------------------------------------------\u001b[0m",
      "\u001b[1;31mTypeError\u001b[0m                                 Traceback (most recent call last)",
      "\u001b[1;32m<ipython-input-38-470471da131f>\u001b[0m in \u001b[0;36m<module>\u001b[1;34m\u001b[0m\n\u001b[0;32m      3\u001b[0m \u001b[1;32mdef\u001b[0m \u001b[0mcheck_even\u001b[0m\u001b[1;33m(\u001b[0m\u001b[0mnumber\u001b[0m\u001b[1;33m)\u001b[0m\u001b[1;33m:\u001b[0m\u001b[1;33m\u001b[0m\u001b[1;33m\u001b[0m\u001b[0m\n\u001b[0;32m      4\u001b[0m     \u001b[1;32mreturn\u001b[0m \u001b[1;34m\"Even\"\u001b[0m \u001b[1;32mif\u001b[0m \u001b[0mnumber\u001b[0m\u001b[1;33m%\u001b[0m\u001b[1;36m2\u001b[0m\u001b[1;33m==\u001b[0m\u001b[1;36m0\u001b[0m \u001b[1;32melse\u001b[0m \u001b[1;34m\"ODD\"\u001b[0m\u001b[1;33m\u001b[0m\u001b[1;33m\u001b[0m\u001b[0m\n\u001b[1;32m----> 5\u001b[1;33m \u001b[0mprint\u001b[0m\u001b[1;33m(\u001b[0m\u001b[1;33m[\u001b[0m\u001b[0mcheck_even\u001b[0m\u001b[1;33m(\u001b[0m\u001b[0mi\u001b[0m\u001b[1;33m)\u001b[0m \u001b[1;32mfor\u001b[0m \u001b[0mi\u001b[0m \u001b[1;32min\u001b[0m \u001b[0ml\u001b[0m\u001b[1;33m]\u001b[0m\u001b[1;33m)\u001b[0m\u001b[1;33m\u001b[0m\u001b[1;33m\u001b[0m\u001b[0m\n\u001b[0m",
      "\u001b[1;32m<ipython-input-38-470471da131f>\u001b[0m in \u001b[0;36m<listcomp>\u001b[1;34m(.0)\u001b[0m\n\u001b[0;32m      3\u001b[0m \u001b[1;32mdef\u001b[0m \u001b[0mcheck_even\u001b[0m\u001b[1;33m(\u001b[0m\u001b[0mnumber\u001b[0m\u001b[1;33m)\u001b[0m\u001b[1;33m:\u001b[0m\u001b[1;33m\u001b[0m\u001b[1;33m\u001b[0m\u001b[0m\n\u001b[0;32m      4\u001b[0m     \u001b[1;32mreturn\u001b[0m \u001b[1;34m\"Even\"\u001b[0m \u001b[1;32mif\u001b[0m \u001b[0mnumber\u001b[0m\u001b[1;33m%\u001b[0m\u001b[1;36m2\u001b[0m\u001b[1;33m==\u001b[0m\u001b[1;36m0\u001b[0m \u001b[1;32melse\u001b[0m \u001b[1;34m\"ODD\"\u001b[0m\u001b[1;33m\u001b[0m\u001b[1;33m\u001b[0m\u001b[0m\n\u001b[1;32m----> 5\u001b[1;33m \u001b[0mprint\u001b[0m\u001b[1;33m(\u001b[0m\u001b[1;33m[\u001b[0m\u001b[0mcheck_even\u001b[0m\u001b[1;33m(\u001b[0m\u001b[0mi\u001b[0m\u001b[1;33m)\u001b[0m \u001b[1;32mfor\u001b[0m \u001b[0mi\u001b[0m \u001b[1;32min\u001b[0m \u001b[0ml\u001b[0m\u001b[1;33m]\u001b[0m\u001b[1;33m)\u001b[0m\u001b[1;33m\u001b[0m\u001b[1;33m\u001b[0m\u001b[0m\n\u001b[0m",
      "\u001b[1;32m<ipython-input-38-470471da131f>\u001b[0m in \u001b[0;36mcheck_even\u001b[1;34m(number)\u001b[0m\n\u001b[0;32m      2\u001b[0m \u001b[0ml\u001b[0m\u001b[1;33m=\u001b[0m\u001b[1;33m[\u001b[0m\u001b[1;36m10\u001b[0m\u001b[1;33m,\u001b[0m\u001b[1;36m20\u001b[0m\u001b[1;33m,\u001b[0m\u001b[1;36m13\u001b[0m\u001b[1;33m,\u001b[0m\u001b[1;36m15\u001b[0m\u001b[1;33m,\u001b[0m\u001b[1;36m16\u001b[0m\u001b[1;33m,\u001b[0m\u001b[1;36m17\u001b[0m\u001b[1;33m,\u001b[0m\u001b[1;34m\"python\"\u001b[0m\u001b[1;33m]\u001b[0m\u001b[1;33m\u001b[0m\u001b[1;33m\u001b[0m\u001b[0m\n\u001b[0;32m      3\u001b[0m \u001b[1;32mdef\u001b[0m \u001b[0mcheck_even\u001b[0m\u001b[1;33m(\u001b[0m\u001b[0mnumber\u001b[0m\u001b[1;33m)\u001b[0m\u001b[1;33m:\u001b[0m\u001b[1;33m\u001b[0m\u001b[1;33m\u001b[0m\u001b[0m\n\u001b[1;32m----> 4\u001b[1;33m     \u001b[1;32mreturn\u001b[0m \u001b[1;34m\"Even\"\u001b[0m \u001b[1;32mif\u001b[0m \u001b[0mnumber\u001b[0m\u001b[1;33m%\u001b[0m\u001b[1;36m2\u001b[0m\u001b[1;33m==\u001b[0m\u001b[1;36m0\u001b[0m \u001b[1;32melse\u001b[0m \u001b[1;34m\"ODD\"\u001b[0m\u001b[1;33m\u001b[0m\u001b[1;33m\u001b[0m\u001b[0m\n\u001b[0m\u001b[0;32m      5\u001b[0m \u001b[0mprint\u001b[0m\u001b[1;33m(\u001b[0m\u001b[1;33m[\u001b[0m\u001b[0mcheck_even\u001b[0m\u001b[1;33m(\u001b[0m\u001b[0mi\u001b[0m\u001b[1;33m)\u001b[0m \u001b[1;32mfor\u001b[0m \u001b[0mi\u001b[0m \u001b[1;32min\u001b[0m \u001b[0ml\u001b[0m\u001b[1;33m]\u001b[0m\u001b[1;33m)\u001b[0m\u001b[1;33m\u001b[0m\u001b[1;33m\u001b[0m\u001b[0m\n",
      "\u001b[1;31mTypeError\u001b[0m: not all arguments converted during string formatting"
     ]
    }
   ],
   "source": [
    "# comprehensions:list, tuple, dictionary\n",
    "l=[10,20,13,15,16,17,\"python\"]\n",
    "def check_even(number):\n",
    "    return \"Even\" if number%2==0 else \"ODD\"\n",
    "print([check_even(i) for i in l])"
   ]
  },
  {
   "cell_type": "code",
   "execution_count": 39,
   "metadata": {},
   "outputs": [
    {
     "name": "stdout",
     "output_type": "stream",
     "text": [
      "['Even', 'Even', 'ODD', 'ODD', 'Even', 'ODD']\n"
     ]
    }
   ],
   "source": [
    "# comprehensions:list, tuple, dictionary\n",
    "l=[10,\"apple\",20,13,15,16,17,\"python\"]\n",
    "def check_even(number):\n",
    "    return \"Even\" if number%2==0 else \"ODD\"\n",
    "print([check_even(i) for i in l if isinstance(i, int)])"
   ]
  },
  {
   "cell_type": "code",
   "execution_count": 1,
   "metadata": {},
   "outputs": [
    {
     "name": "stdout",
     "output_type": "stream",
     "text": [
      "['EVEN', 'EVEN', 'ODD', 'ODD', 'EVEN', 'ODD']\n"
     ]
    }
   ],
   "source": [
    "# comprehensions:list, tuple, dictionary\n",
    "l=[10,\"apple\",20,13,15,16,17,\"python\"]\n",
    "print([\"EVEN\" if i%2==0 else \"ODD\" for i in l if isinstance(i, int)])"
   ]
  },
  {
   "cell_type": "code",
   "execution_count": 2,
   "metadata": {},
   "outputs": [
    {
     "name": "stdout",
     "output_type": "stream",
     "text": [
      "<generator object <genexpr> at 0x00000211F75B5270>\n"
     ]
    }
   ],
   "source": [
    "# comprehensions:list, tuple, dictionary\n",
    "l=[10,\"apple\",20,13,15,16,17,\"python\"]\n",
    "print((\"EVEN\" if i%2==0 else \"ODD\" for i in l if isinstance(i, int)))"
   ]
  },
  {
   "cell_type": "code",
   "execution_count": 3,
   "metadata": {},
   "outputs": [
    {
     "name": "stdout",
     "output_type": "stream",
     "text": [
      "Number= 10\n",
      "Number= 20\n",
      "Number= 13\n",
      "Number= 15\n",
      "Number= 16\n",
      "Number= 17\n",
      "['Even', 'Even', 'ODD', 'ODD', 'Even', 'ODD']\n"
     ]
    }
   ],
   "source": [
    "# comprehensions:list, tuple, dictionary\n",
    "l=[10,\"apple\",20,13,15,16,17,\"python\"]\n",
    "def check_even(number):\n",
    "    print(\"Number=\",number)\n",
    "    return \"Even\" if number%2==0 else \"ODD\"\n",
    "print([check_even(i) for i in l if isinstance(i, int)])"
   ]
  },
  {
   "cell_type": "code",
   "execution_count": 4,
   "metadata": {},
   "outputs": [
    {
     "name": "stdout",
     "output_type": "stream",
     "text": [
      "<generator object <genexpr> at 0x00000211F75B5270>\n"
     ]
    }
   ],
   "source": [
    "# comprehensions:list, tuple, dictionary\n",
    "l=[10,\"apple\",20,13,15,16,17,\"python\"]\n",
    "def check_even(number):\n",
    "    print(\"Number=\",number)\n",
    "    return \"Even\" if number%2==0 else \"ODD\"\n",
    "print((check_even(i) for i in l if isinstance(i, int)))"
   ]
  },
  {
   "cell_type": "code",
   "execution_count": 5,
   "metadata": {},
   "outputs": [
    {
     "name": "stdout",
     "output_type": "stream",
     "text": [
      "<generator object <genexpr> at 0x00000211F75B53C0>\n"
     ]
    }
   ],
   "source": [
    "# comprehensions:list, tuple, dictionary\n",
    "l=[10,\"apple\",20,13,15,16,17,\"python\"]\n",
    "def check_even(number):\n",
    "    print(\"Number=\",number)\n",
    "    return \"Even\" if number%2==0 else \"ODD\"\n",
    "tuple_comprehension = (check_even(i) for i in l if isinstance(i, int))\n",
    "print(tuple_comprehension)"
   ]
  },
  {
   "cell_type": "code",
   "execution_count": 6,
   "metadata": {},
   "outputs": [
    {
     "name": "stdout",
     "output_type": "stream",
     "text": [
      "<generator object <genexpr> at 0x00000211F75B5120>\n",
      "Number= 10\n",
      "result= Even\n",
      "Number= 20\n",
      "result= Even\n",
      "Number= 13\n",
      "result= ODD\n",
      "Number= 15\n",
      "result= ODD\n",
      "Number= 16\n",
      "result= Even\n",
      "Number= 17\n",
      "result= ODD\n"
     ]
    }
   ],
   "source": [
    "# comprehensions:list, tuple, dictionary\n",
    "l=[10,\"apple\",20,13,15,16,17,\"python\"]\n",
    "def check_even(number):\n",
    "    print(\"Number=\",number)\n",
    "    return \"Even\" if number%2==0 else \"ODD\"\n",
    "tuple_comprehension = (check_even(i) for i in l if isinstance(i, int))\n",
    "print(tuple_comprehension)\n",
    "for res in tuple_comprehension:\n",
    "    print(\"result=\",res)"
   ]
  },
  {
   "cell_type": "code",
   "execution_count": 7,
   "metadata": {},
   "outputs": [
    {
     "name": "stdout",
     "output_type": "stream",
     "text": [
      "Number= 10\n",
      "Number= 20\n",
      "Number= 13\n",
      "Number= 15\n",
      "Number= 16\n",
      "Number= 17\n",
      "['Even', 'Even', 'ODD', 'ODD', 'Even', 'ODD']\n",
      "result= Even\n",
      "result= Even\n",
      "result= ODD\n",
      "result= ODD\n",
      "result= Even\n",
      "result= ODD\n"
     ]
    }
   ],
   "source": [
    "# comprehensions:list, tuple, dictionary\n",
    "l=[10,\"apple\",20,13,15,16,17,\"python\"]\n",
    "def check_even(number):\n",
    "    print(\"Number=\",number)\n",
    "    return \"Even\" if number%2==0 else \"ODD\"\n",
    "list_comprehension = [check_even(i) for i in l if isinstance(i, int)]\n",
    "print(list_comprehension)\n",
    "for res in list_comprehension:\n",
    "    print(\"result=\",res)"
   ]
  },
  {
   "cell_type": "code",
   "execution_count": 8,
   "metadata": {},
   "outputs": [
    {
     "name": "stdout",
     "output_type": "stream",
     "text": [
      "<generator object <genexpr> at 0x00000211F75B5B30>\n",
      "Number= 10\n",
      "result= Even\n",
      "Number= 20\n",
      "result= Even\n",
      "Number= 13\n",
      "result= ODD\n",
      "Number= 15\n",
      "result= ODD\n",
      "Number= 16\n",
      "result= Even\n",
      "Number= 17\n",
      "result= ODD\n",
      "second time iteration.\n"
     ]
    }
   ],
   "source": [
    "# comprehensions:list, tuple, dictionary\n",
    "l=[10,\"apple\",20,13,15,16,17,\"python\"]\n",
    "def check_even(number):\n",
    "    print(\"Number=\",number)\n",
    "    return \"Even\" if number%2==0 else \"ODD\"\n",
    "tuple_comprehension = (check_even(i) for i in l if isinstance(i, int))\n",
    "print(tuple_comprehension)\n",
    "for res in tuple_comprehension:\n",
    "    print(\"result=\",res)\n",
    "    \n",
    "print(\"second time iteration.\")\n",
    "for res in tuple_comprehension:\n",
    "    print(\"result=\",res)"
   ]
  },
  {
   "cell_type": "code",
   "execution_count": 9,
   "metadata": {},
   "outputs": [
    {
     "name": "stdout",
     "output_type": "stream",
     "text": [
      "{10: 1000, 20: 8000, 30: 27000, 40: 64000, 50: 125000}\n"
     ]
    }
   ],
   "source": [
    "keys=[10,20,30,40,50]\n",
    "# need a dictionary with cubes of keys.\n",
    "res={}\n",
    "for key in keys:\n",
    "    res[key]=key**3\n",
    "print(res)"
   ]
  },
  {
   "cell_type": "code",
   "execution_count": 11,
   "metadata": {},
   "outputs": [
    {
     "name": "stdout",
     "output_type": "stream",
     "text": [
      "{10: 1000, 11: 1331, 20: 8000, 14: 2744, 30: 27000, 33: 35937, 40: 64000, 45: 91125, 50: 125000}\n"
     ]
    }
   ],
   "source": [
    "keys=[10,11,20,14,30,33,40,45,50]\n",
    "# need a dictionary with cubes of keys.\n",
    "res={key:key**3 for key in keys}\n",
    "print(res)"
   ]
  },
  {
   "cell_type": "code",
   "execution_count": 12,
   "metadata": {},
   "outputs": [
    {
     "name": "stdout",
     "output_type": "stream",
     "text": [
      "{10: 'Even', 11: 'ODD', 20: 'Even', 14: 'Even', 30: 'Even', 33: 'ODD', 40: 'Even', 45: 'ODD', 50: 'Even'}\n"
     ]
    }
   ],
   "source": [
    "keys=[10,11,20,14,30,33,40,45,50]\n",
    "# need a dictionary with cubes of keys.\n",
    "res={key:\"Even\" if key%2==0 else \"ODD\" for key in keys}\n",
    "print(res)"
   ]
  },
  {
   "cell_type": "code",
   "execution_count": 13,
   "metadata": {},
   "outputs": [
    {
     "name": "stdout",
     "output_type": "stream",
     "text": [
      "{10: 'Even', 11: 'ODD', 20: 'Even', 14: 'Even', 30: 'Even', 33: 'ODD', 40: 'Even', 45: 'ODD', 50: 'Even'}\n"
     ]
    }
   ],
   "source": [
    "keys=[10,\"apple\",11,20,\"orange\",14,30,33,40,45,50]\n",
    "# need a dictionary with cubes of keys.\n",
    "res={key:\"Even\" if key%2==0 else \"ODD\" for key in keys if isinstance(key, int)}\n",
    "print(res)"
   ]
  },
  {
   "cell_type": "code",
   "execution_count": 14,
   "metadata": {},
   "outputs": [
    {
     "name": "stdout",
     "output_type": "stream",
     "text": [
      "['Even', 'Even', 'ODD', 'ODD', 'Even', 'ODD']\n"
     ]
    }
   ],
   "source": [
    "# comprehensions:list, tuple, dictionary\n",
    "l=[10,\"apple\",20,13,15,16,17,\"python\"]\n",
    "res=[]\n",
    "def check_even(number):\n",
    "    return \"Even\" if number%2==0 else \"ODD\"\n",
    "for i in l:\n",
    "    if isinstance(i, int):\n",
    "        res.append(check_even(i))\n",
    "print(res)"
   ]
  },
  {
   "cell_type": "code",
   "execution_count": 16,
   "metadata": {},
   "outputs": [
    {
     "name": "stdout",
     "output_type": "stream",
     "text": [
      "['Even', 'Even', 'ODD', 'ODD', 'Even', 'ODD']\n"
     ]
    }
   ],
   "source": [
    "# comprehensions:list, tuple, dictionary\n",
    "l=[10,\"apple\",20,13,15,16,17,\"python\"]\n",
    "def check_even(number):\n",
    "    return \"Even\" if number%2==0 else \"ODD\"\n",
    "print([check_even(i) for i in l if isinstance(i, int)])"
   ]
  },
  {
   "cell_type": "code",
   "execution_count": null,
   "metadata": {},
   "outputs": [],
   "source": []
  }
 ],
 "metadata": {
  "kernelspec": {
   "display_name": "Python 3",
   "language": "python",
   "name": "python3"
  },
  "language_info": {
   "codemirror_mode": {
    "name": "ipython",
    "version": 3
   },
   "file_extension": ".py",
   "mimetype": "text/x-python",
   "name": "python",
   "nbconvert_exporter": "python",
   "pygments_lexer": "ipython3",
   "version": "3.8.3"
  }
 },
 "nbformat": 4,
 "nbformat_minor": 4
}
