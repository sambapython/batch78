{
 "cells": [
  {
   "cell_type": "code",
   "execution_count": 1,
   "metadata": {},
   "outputs": [],
   "source": [
    "f=open(\"data.txt\",\"w\")# file not available. It will create it."
   ]
  },
  {
   "cell_type": "code",
   "execution_count": 2,
   "metadata": {},
   "outputs": [
    {
     "data": {
      "text/plain": [
       "27"
      ]
     },
     "execution_count": 2,
     "metadata": {},
     "output_type": "execute_result"
    }
   ],
   "source": [
    "f.write(\"It's cool in Hyderabad now.\")# it will write to cache, not actual file"
   ]
  },
  {
   "cell_type": "code",
   "execution_count": 3,
   "metadata": {},
   "outputs": [
    {
     "data": {
      "text/plain": [
       "18"
      ]
     },
     "execution_count": 3,
     "metadata": {},
     "output_type": "execute_result"
    }
   ],
   "source": [
    "f.write(\"and about to rain.\")# it will write to cache, not actual file"
   ]
  },
  {
   "cell_type": "code",
   "execution_count": 4,
   "metadata": {},
   "outputs": [],
   "source": [
    "f.flush()# it will remove data from cache and add it to the actual file"
   ]
  },
  {
   "cell_type": "code",
   "execution_count": 5,
   "metadata": {},
   "outputs": [],
   "source": [
    "import random"
   ]
  },
  {
   "cell_type": "code",
   "execution_count": 7,
   "metadata": {},
   "outputs": [
    {
     "data": {
      "text/plain": [
       "'rahane'"
      ]
     },
     "execution_count": 7,
     "metadata": {},
     "output_type": "execute_result"
    }
   ],
   "source": [
    "names=[\"Virant\",\"Rahul\",\"Rohit\",\"rahane\",\"jadeja\",\"bumra\"]\n",
    "random.choice(names)"
   ]
  },
  {
   "cell_type": "code",
   "execution_count": 8,
   "metadata": {},
   "outputs": [
    {
     "data": {
      "text/plain": [
       "'Virant'"
      ]
     },
     "execution_count": 8,
     "metadata": {},
     "output_type": "execute_result"
    }
   ],
   "source": [
    "names=[\"Virant\",\"Rahul\",\"Rohit\",\"rahane\",\"jadeja\",\"bumra\"]\n",
    "random.choice(names)"
   ]
  },
  {
   "cell_type": "code",
   "execution_count": 9,
   "metadata": {},
   "outputs": [],
   "source": [
    "import names"
   ]
  },
  {
   "cell_type": "code",
   "execution_count": 11,
   "metadata": {},
   "outputs": [
    {
     "data": {
      "text/plain": [
       "'Beatrice Anderson'"
      ]
     },
     "execution_count": 11,
     "metadata": {},
     "output_type": "execute_result"
    }
   ],
   "source": [
    "names.get_full_name()"
   ]
  },
  {
   "cell_type": "code",
   "execution_count": 12,
   "metadata": {},
   "outputs": [
    {
     "data": {
      "text/plain": [
       "'Frank Davison'"
      ]
     },
     "execution_count": 12,
     "metadata": {},
     "output_type": "execute_result"
    }
   ],
   "source": [
    "names.get_full_name()"
   ]
  },
  {
   "cell_type": "code",
   "execution_count": 13,
   "metadata": {},
   "outputs": [
    {
     "data": {
      "text/plain": [
       "'Mary Allison'"
      ]
     },
     "execution_count": 13,
     "metadata": {},
     "output_type": "execute_result"
    }
   ],
   "source": [
    "names.get_full_name()"
   ]
  },
  {
   "cell_type": "code",
   "execution_count": 14,
   "metadata": {},
   "outputs": [
    {
     "data": {
      "text/plain": [
       "75221"
      ]
     },
     "execution_count": 14,
     "metadata": {},
     "output_type": "execute_result"
    }
   ],
   "source": [
    "random.randint(60000,100000)"
   ]
  },
  {
   "cell_type": "code",
   "execution_count": 15,
   "metadata": {},
   "outputs": [
    {
     "data": {
      "text/plain": [
       "69764"
      ]
     },
     "execution_count": 15,
     "metadata": {},
     "output_type": "execute_result"
    }
   ],
   "source": [
    "random.randint(60000,100000)"
   ]
  },
  {
   "cell_type": "code",
   "execution_count": 16,
   "metadata": {},
   "outputs": [
    {
     "data": {
      "text/plain": [
       "96626"
      ]
     },
     "execution_count": 16,
     "metadata": {},
     "output_type": "execute_result"
    }
   ],
   "source": [
    "random.randint(60000,100000)"
   ]
  },
  {
   "cell_type": "code",
   "execution_count": 17,
   "metadata": {},
   "outputs": [],
   "source": [
    "#WAP to prepare 100 rows in csv file\n",
    "#id,name,salary\n",
    "f=open(\"data.csv\",\"w\")\n",
    "f.writelines([\"id\",\"name\",\"salary\"])\n",
    "f.flush()"
   ]
  },
  {
   "cell_type": "code",
   "execution_count": 21,
   "metadata": {},
   "outputs": [],
   "source": [
    "#WAP to prepare 100 rows in csv file\n",
    "#id,name,salary\n",
    "import random, names\n",
    "f=open(\"data.csv\",\"w\")\n",
    "f.write(\"id,name,salary\")\n",
    "for i in range(100):\n",
    "    row=f\"\\n{i},{names.get_full_name()},{random.randint(60000,100000)}\"\n",
    "    f.write(row)\n",
    "f.flush()\n",
    "f.close()"
   ]
  },
  {
   "cell_type": "code",
   "execution_count": null,
   "metadata": {},
   "outputs": [],
   "source": [
    "#WAP to prepare 100 rows in csv file\n",
    "#id,name,salary\n",
    "import random, names\n",
    "f=open(\"data.csv\",\"w\")\n",
    "f.write(\"id,name,salary\")\n",
    "for i in range(1000000):\n",
    "    row=f\"\\n{i},{names.get_full_name()},{random.randint(60000,100000)}\"\n",
    "    f.write(row) # cache. Do we have sufficient ram to handle ten lakhs rows?\n",
    "f.flush()\n",
    "f.close()"
   ]
  },
  {
   "cell_type": "code",
   "execution_count": null,
   "metadata": {},
   "outputs": [],
   "source": [
    "#WAP to prepare 100 rows in csv file\n",
    "#id,name,salary\n",
    "import random, names\n",
    "f=open(\"data.csv\",\"w\")\n",
    "f.write(\"id,name,salary\")\n",
    "for i in range(1000000):\n",
    "    row=f\"\\n{i},{names.get_full_name()},{random.randint(60000,100000)}\"\n",
    "    f.write(row)\n",
    "    f.flush()# if we flush it for every row, there will be a small performance issue, but it will store only one rwo in cache at a time\n",
    "f.close()"
   ]
  },
  {
   "cell_type": "code",
   "execution_count": 23,
   "metadata": {},
   "outputs": [],
   "source": [
    "f=open(\"data.csv\",\"w\")# data.csv is available in a path,then it will remove the old data and gives a fresh file."
   ]
  },
  {
   "cell_type": "code",
   "execution_count": 24,
   "metadata": {},
   "outputs": [
    {
     "data": {
      "text/plain": [
       "14"
      ]
     },
     "execution_count": 24,
     "metadata": {},
     "output_type": "execute_result"
    }
   ],
   "source": [
    "f.write(\"id,name,salary\")"
   ]
  },
  {
   "cell_type": "code",
   "execution_count": 25,
   "metadata": {},
   "outputs": [],
   "source": [
    "f.flush()"
   ]
  },
  {
   "cell_type": "code",
   "execution_count": 26,
   "metadata": {},
   "outputs": [
    {
     "data": {
      "text/plain": [
       "16"
      ]
     },
     "execution_count": 26,
     "metadata": {},
     "output_type": "execute_result"
    }
   ],
   "source": [
    "f.write(\"\\n1,name1,1234567\")"
   ]
  },
  {
   "cell_type": "code",
   "execution_count": 27,
   "metadata": {},
   "outputs": [],
   "source": [
    "f.close()# flush and close it."
   ]
  },
  {
   "cell_type": "code",
   "execution_count": 28,
   "metadata": {},
   "outputs": [
    {
     "ename": "ValueError",
     "evalue": "I/O operation on closed file.",
     "output_type": "error",
     "traceback": [
      "\u001b[1;31m---------------------------------------------------------------------------\u001b[0m",
      "\u001b[1;31mValueError\u001b[0m                                Traceback (most recent call last)",
      "\u001b[1;32m<ipython-input-28-da0753b4cb72>\u001b[0m in \u001b[0;36m<module>\u001b[1;34m\u001b[0m\n\u001b[1;32m----> 1\u001b[1;33m \u001b[0mf\u001b[0m\u001b[1;33m.\u001b[0m\u001b[0mwrite\u001b[0m\u001b[1;33m(\u001b[0m\u001b[1;34m\"some data\"\u001b[0m\u001b[1;33m)\u001b[0m\u001b[1;33m\u001b[0m\u001b[1;33m\u001b[0m\u001b[0m\n\u001b[0m",
      "\u001b[1;31mValueError\u001b[0m: I/O operation on closed file."
     ]
    }
   ],
   "source": [
    "f.write(\"some data\")"
   ]
  },
  {
   "cell_type": "code",
   "execution_count": 29,
   "metadata": {},
   "outputs": [],
   "source": [
    "f=open(\"data.csv\",\"a\")#data.csv is available in a path, it will not remove the old data."
   ]
  },
  {
   "cell_type": "code",
   "execution_count": 30,
   "metadata": {},
   "outputs": [],
   "source": [
    "f=open(\"data.csv\",\"a\")\n",
    "for i in range(2,102):\n",
    "    row=f\"\\n{i},{names.get_full_name()},{random.randint(60000,100000)}\"\n",
    "    f.write(row)\n",
    "    f.flush()\n",
    "f.close()"
   ]
  },
  {
   "cell_type": "code",
   "execution_count": 32,
   "metadata": {},
   "outputs": [
    {
     "name": "stdout",
     "output_type": "stream",
     "text": [
      "id,name,salary\n",
      "1,name1,1234567\n",
      "2,Candace Downing,70828\n",
      "3,Michael Look,83553\n",
      "4,Tracy Kaupp,99036\n",
      "5,Rubi Biondolillo,92957\n",
      "6,Joyce Brunton,79798\n",
      "7,Deana Simpkins,66066\n",
      "8,Jacqueline Erickson,62783\n",
      "9,Larry Carter,74952\n",
      "10,Larry Rayburn,72399\n",
      "11,Francis Weeks,90371\n",
      "12,Joseph Kalar,80838\n",
      "13,Stephen Garing,86850\n",
      "14,Sharon Dorf,82438\n",
      "15,Lois Johnson,98174\n",
      "16,Daniel Harrison,80252\n",
      "17,Jessica Loving,71939\n",
      "18,Alicia Thorn,76059\n",
      "19,Damon Jones,80971\n",
      "20,Cara Lheureux,96330\n",
      "21,Cynthia Rasmussen,76848\n",
      "22,Teresa Crockett,77586\n",
      "23,Nola Poulsen,73669\n",
      "24,Carey Dixon,82449\n",
      "25,Mary Yanni,89939\n",
      "26,Edward Rosenquist,77010\n",
      "27,Chris Island,84959\n",
      "28,Jerry Dellosso,92076\n",
      "29,Emma Brandon,88324\n",
      "30,Natasha Atkinson,78349\n",
      "31,Daniel Shinabarger,60954\n",
      "32,Laverne Byrd,76192\n",
      "33,Eunice Link,62847\n",
      "34,Alfred Quintero,95874\n",
      "35,Amelia Christensen,75642\n",
      "36,Betty Salas,85525\n",
      "37,Mark Little,80218\n",
      "38,Stephanie Dupree,97875\n",
      "39,Freddie Hendon,63052\n",
      "40,Anne Carollo,93375\n",
      "41,Lillian Clark,71630\n",
      "42,Anita Franklin,80482\n",
      "43,Amelia Boxx,95584\n",
      "44,Tammy Spore,77454\n",
      "45,Gayle Alonso,72292\n",
      "46,James Thomas,84876\n",
      "47,Sean Dunston,93950\n",
      "48,Yolanda Barker,84118\n",
      "49,Jo Brown,95265\n",
      "50,Cindy Coleman,65581\n",
      "51,Amanda Farrell,76042\n",
      "52,Joseph Griffith,85515\n",
      "53,Virginia Perez,75309\n",
      "54,Rita Griffith,70655\n",
      "55,Linda Toyoshima,82620\n",
      "56,Pamela Brown,70530\n",
      "57,Alison Carr,81944\n",
      "58,Travis Dimas,61457\n",
      "59,Dennis Dodd,73419\n",
      "60,Nancy Wheeler,71452\n",
      "61,Jerrod Wilson,75626\n",
      "62,Michael Hunsaker,90348\n",
      "63,Warren Martinez,88323\n",
      "64,Kaye Clevenger,90639\n",
      "65,Mary Davis,75781\n",
      "66,Robert Sullivan,99338\n",
      "67,Lois Morton,86840\n",
      "68,Barbara Adams,70742\n",
      "69,Felicia Martin,62256\n",
      "70,Charles Poling,62091\n",
      "71,Kenny Waters,78855\n",
      "72,Salvador Boyd,79777\n",
      "73,Daniel Johnson,61384\n",
      "74,John Franco,98423\n",
      "75,Rebecca Casey,99656\n",
      "76,Lisa Harris,92993\n",
      "77,Tammie Stubbs,70569\n",
      "78,Shawn Henry,64406\n",
      "79,Rhonda Bauman,64888\n",
      "80,Barbara Brown,88742\n",
      "81,Edward Gaston,94990\n",
      "82,Larry Kellison,61933\n",
      "83,Lesley Sam,86759\n",
      "84,Lora Neal,96392\n",
      "85,Dan Massey,87994\n",
      "86,Kirk Towers,75932\n",
      "87,Bernice Ricci,92189\n",
      "88,Georgia Law,92242\n",
      "89,Juan Dillingham,66755\n",
      "90,Edith Baron,73541\n",
      "91,Dennis Pettiway,71643\n",
      "92,Marion Martin,90554\n",
      "93,Retta Petersen,98419\n",
      "94,Donna Myers,82201\n",
      "95,Daniel Jackson,94025\n",
      "96,David Hanna,61211\n",
      "97,Carlos Ecklund,85511\n",
      "98,Mitsuko Hinsley,81746\n",
      "99,Richard Hansell,69914\n",
      "100,Gene Mcconkey,60215\n",
      "101,Marilyn Kempf,92164\n"
     ]
    }
   ],
   "source": [
    "f=open(\"data.csv\",\"r\")\n",
    "data = f.read()\n",
    "print(data)\n",
    "f.close()"
   ]
  },
  {
   "cell_type": "code",
   "execution_count": 33,
   "metadata": {},
   "outputs": [
    {
     "name": "stdout",
     "output_type": "stream",
     "text": [
      "id,name,salary\n",
      "\n",
      "1,name1,1234567\n",
      "\n",
      "2,Candace Downing,70828\n",
      "\n"
     ]
    }
   ],
   "source": [
    "f=open(\"data.csv\",\"r\")\n",
    "l1=f.readline()\n",
    "print(l1)\n",
    "l2=f.readline()\n",
    "print(l2)\n",
    "l3=f.readline()\n",
    "print(l3)\n",
    "f.close()"
   ]
  },
  {
   "cell_type": "code",
   "execution_count": 34,
   "metadata": {},
   "outputs": [
    {
     "name": "stdout",
     "output_type": "stream",
     "text": [
      "id,name,salary\n",
      "\n",
      "1,name1,1234567\n",
      "\n",
      "2,Candace Downing,70828\n",
      "\n",
      "3,Michael Look,83553\n",
      "\n",
      "4,Tracy Kaupp,99036\n",
      "\n",
      "5,Rubi Biondolillo,92957\n",
      "\n",
      "6,Joyce Brunton,79798\n",
      "\n",
      "7,Deana Simpkins,66066\n",
      "\n",
      "8,Jacqueline Erickson,62783\n",
      "\n",
      "9,Larry Carter,74952\n",
      "\n",
      "10,Larry Rayburn,72399\n",
      "\n",
      "11,Francis Weeks,90371\n",
      "\n",
      "12,Joseph Kalar,80838\n",
      "\n",
      "13,Stephen Garing,86850\n",
      "\n",
      "14,Sharon Dorf,82438\n",
      "\n",
      "15,Lois Johnson,98174\n",
      "\n",
      "16,Daniel Harrison,80252\n",
      "\n",
      "17,Jessica Loving,71939\n",
      "\n",
      "18,Alicia Thorn,76059\n",
      "\n",
      "19,Damon Jones,80971\n",
      "\n",
      "20,Cara Lheureux,96330\n",
      "\n",
      "21,Cynthia Rasmussen,76848\n",
      "\n",
      "22,Teresa Crockett,77586\n",
      "\n",
      "23,Nola Poulsen,73669\n",
      "\n",
      "24,Carey Dixon,82449\n",
      "\n",
      "25,Mary Yanni,89939\n",
      "\n",
      "26,Edward Rosenquist,77010\n",
      "\n",
      "27,Chris Island,84959\n",
      "\n",
      "28,Jerry Dellosso,92076\n",
      "\n",
      "29,Emma Brandon,88324\n",
      "\n",
      "30,Natasha Atkinson,78349\n",
      "\n",
      "31,Daniel Shinabarger,60954\n",
      "\n",
      "32,Laverne Byrd,76192\n",
      "\n",
      "33,Eunice Link,62847\n",
      "\n",
      "34,Alfred Quintero,95874\n",
      "\n",
      "35,Amelia Christensen,75642\n",
      "\n",
      "36,Betty Salas,85525\n",
      "\n",
      "37,Mark Little,80218\n",
      "\n",
      "38,Stephanie Dupree,97875\n",
      "\n",
      "39,Freddie Hendon,63052\n",
      "\n",
      "40,Anne Carollo,93375\n",
      "\n",
      "41,Lillian Clark,71630\n",
      "\n",
      "42,Anita Franklin,80482\n",
      "\n",
      "43,Amelia Boxx,95584\n",
      "\n",
      "44,Tammy Spore,77454\n",
      "\n",
      "45,Gayle Alonso,72292\n",
      "\n",
      "46,James Thomas,84876\n",
      "\n",
      "47,Sean Dunston,93950\n",
      "\n",
      "48,Yolanda Barker,84118\n",
      "\n",
      "49,Jo Brown,95265\n",
      "\n",
      "50,Cindy Coleman,65581\n",
      "\n",
      "51,Amanda Farrell,76042\n",
      "\n",
      "52,Joseph Griffith,85515\n",
      "\n",
      "53,Virginia Perez,75309\n",
      "\n",
      "54,Rita Griffith,70655\n",
      "\n",
      "55,Linda Toyoshima,82620\n",
      "\n",
      "56,Pamela Brown,70530\n",
      "\n",
      "57,Alison Carr,81944\n",
      "\n",
      "58,Travis Dimas,61457\n",
      "\n",
      "59,Dennis Dodd,73419\n",
      "\n",
      "60,Nancy Wheeler,71452\n",
      "\n",
      "61,Jerrod Wilson,75626\n",
      "\n",
      "62,Michael Hunsaker,90348\n",
      "\n",
      "63,Warren Martinez,88323\n",
      "\n",
      "64,Kaye Clevenger,90639\n",
      "\n",
      "65,Mary Davis,75781\n",
      "\n",
      "66,Robert Sullivan,99338\n",
      "\n",
      "67,Lois Morton,86840\n",
      "\n",
      "68,Barbara Adams,70742\n",
      "\n",
      "69,Felicia Martin,62256\n",
      "\n",
      "70,Charles Poling,62091\n",
      "\n",
      "71,Kenny Waters,78855\n",
      "\n",
      "72,Salvador Boyd,79777\n",
      "\n",
      "73,Daniel Johnson,61384\n",
      "\n",
      "74,John Franco,98423\n",
      "\n",
      "75,Rebecca Casey,99656\n",
      "\n",
      "76,Lisa Harris,92993\n",
      "\n",
      "77,Tammie Stubbs,70569\n",
      "\n",
      "78,Shawn Henry,64406\n",
      "\n",
      "79,Rhonda Bauman,64888\n",
      "\n",
      "80,Barbara Brown,88742\n",
      "\n",
      "81,Edward Gaston,94990\n",
      "\n",
      "82,Larry Kellison,61933\n",
      "\n",
      "83,Lesley Sam,86759\n",
      "\n",
      "84,Lora Neal,96392\n",
      "\n",
      "85,Dan Massey,87994\n",
      "\n",
      "86,Kirk Towers,75932\n",
      "\n",
      "87,Bernice Ricci,92189\n",
      "\n",
      "88,Georgia Law,92242\n",
      "\n",
      "89,Juan Dillingham,66755\n",
      "\n",
      "90,Edith Baron,73541\n",
      "\n",
      "91,Dennis Pettiway,71643\n",
      "\n",
      "92,Marion Martin,90554\n",
      "\n",
      "93,Retta Petersen,98419\n",
      "\n",
      "94,Donna Myers,82201\n",
      "\n",
      "95,Daniel Jackson,94025\n",
      "\n",
      "96,David Hanna,61211\n",
      "\n",
      "97,Carlos Ecklund,85511\n",
      "\n",
      "98,Mitsuko Hinsley,81746\n",
      "\n",
      "99,Richard Hansell,69914\n",
      "\n",
      "100,Gene Mcconkey,60215\n",
      "\n",
      "101,Marilyn Kempf,92164\n"
     ]
    }
   ],
   "source": [
    "f=open(\"data.csv\",\"r\")\n",
    "for line in f:\n",
    "    print(line)\n",
    "f.close()"
   ]
  },
  {
   "cell_type": "code",
   "execution_count": 35,
   "metadata": {},
   "outputs": [
    {
     "name": "stdout",
     "output_type": "stream",
     "text": [
      "data1: \n"
     ]
    }
   ],
   "source": [
    "f=open(\"data.csv\",\"r\")\n",
    "data=f.read()\n",
    "data1=f.read()\n",
    "print(\"data1:\",data1)\n",
    "f.close()"
   ]
  },
  {
   "cell_type": "code",
   "execution_count": 37,
   "metadata": {},
   "outputs": [
    {
     "name": "stdout",
     "output_type": "stream",
     "text": [
      "0\n",
      "2425\n",
      "data1: \n"
     ]
    }
   ],
   "source": [
    "f=open(\"data.csv\",\"r\")\n",
    "print(f.tell())\n",
    "data=f.read()\n",
    "print(f.tell())\n",
    "data1=f.read()\n",
    "print(\"data1:\",data1)\n",
    "f.close()"
   ]
  },
  {
   "cell_type": "code",
   "execution_count": 39,
   "metadata": {},
   "outputs": [
    {
     "name": "stdout",
     "output_type": "stream",
     "text": [
      "0\n",
      "data: id,name,salary\n",
      "1,name1,1234567\n",
      "2,Candace Downing,70828\n",
      "3,Michael Look,83553\n",
      "4,Tracy Kaupp,99036\n",
      "5,Ru\n",
      "105\n",
      "data1: bi Biondolillo,92957\n",
      "6,Joyce Brunton,79798\n",
      "7,Deana Simpkins,66066\n",
      "8,Jacqueline Erickson,62783\n",
      "9,Larr\n",
      "209\n"
     ]
    }
   ],
   "source": [
    "f=open(\"data.csv\",\"r\")\n",
    "print(f.tell())\n",
    "data=f.read(100)\n",
    "print(\"data:\",data)\n",
    "print(f.tell())\n",
    "data1=f.read(100)\n",
    "print(\"data1:\",data1)\n",
    "print(f.tell())\n",
    "f.close()"
   ]
  },
  {
   "cell_type": "code",
   "execution_count": 41,
   "metadata": {},
   "outputs": [
    {
     "name": "stdout",
     "output_type": "stream",
     "text": [
      "0\n",
      "data: id,name,salary\n",
      "1,name1,1234567\n",
      "2,Candace Downing,70828\n",
      "3,Michael Look,83553\n",
      "4,Tracy Kaupp,99036\n",
      "5,Ru\n",
      "105\n",
      "data1: bi Biondolillo,92957\n",
      "6,Joyce Brunton,79798\n",
      "7,Deana Simpkins,66066\n",
      "8,Jacqueline Erickson,62783\n",
      "9,Larr\n",
      "209\n"
     ]
    }
   ],
   "source": [
    "f=open(\"data.csv\",\"r\")\n",
    "print(f.tell())\n",
    "data=f.read(100)\n",
    "print(\"data:\",data)\n",
    "print(f.tell())\n",
    "data1=f.read(100)\n",
    "print(\"data1:\",data1)\n",
    "print(f.tell())"
   ]
  },
  {
   "cell_type": "code",
   "execution_count": 42,
   "metadata": {},
   "outputs": [],
   "source": [
    "data=f.read()# it will read from 209 character\n"
   ]
  },
  {
   "cell_type": "code",
   "execution_count": 43,
   "metadata": {},
   "outputs": [
    {
     "data": {
      "text/plain": [
       "2425"
      ]
     },
     "execution_count": 43,
     "metadata": {},
     "output_type": "execute_result"
    }
   ],
   "source": [
    "f.tell()"
   ]
  },
  {
   "cell_type": "code",
   "execution_count": 44,
   "metadata": {},
   "outputs": [
    {
     "name": "stdout",
     "output_type": "stream",
     "text": [
      "\n"
     ]
    }
   ],
   "source": [
    "data=f.read()# it will read fromm 2425, it's a last character, we dont have data after it. so it's empty\n",
    "print(data)"
   ]
  },
  {
   "cell_type": "code",
   "execution_count": 47,
   "metadata": {},
   "outputs": [
    {
     "name": "stdout",
     "output_type": "stream",
     "text": [
      "id,name,salary\n",
      "1,name1,1234567\n",
      "2,Candace Downing,70828\n",
      "3,Michael Look,83553\n",
      "4,Tracy Kaupp,99036\n",
      "5,Ru\n",
      "********************\n",
      "bi Biondolillo,92957\n",
      "6,Joyce Brunton,79798\n",
      "7,Deana Simpkins,66066\n",
      "8,Jacqueline Erickson,62783\n",
      "9,Larr\n",
      "********************\n",
      "y Carter,74952\n",
      "10,Larry Rayburn,72399\n",
      "11,Francis Weeks,90371\n",
      "12,Joseph Kalar,80838\n",
      "13,Stephen Garing\n",
      "********************\n",
      ",86850\n",
      "14,Sharon Dorf,82438\n",
      "15,Lois Johnson,98174\n",
      "16,Daniel Harrison,80252\n",
      "17,Jessica Loving,71939\n",
      "1\n",
      "********************\n",
      "8,Alicia Thorn,76059\n",
      "19,Damon Jones,80971\n",
      "20,Cara Lheureux,96330\n",
      "21,Cynthia Rasmussen,76848\n",
      "22,Teres\n",
      "********************\n",
      "a Crockett,77586\n",
      "23,Nola Poulsen,73669\n",
      "24,Carey Dixon,82449\n",
      "25,Mary Yanni,89939\n",
      "26,Edward Rosenquist\n",
      "********************\n",
      ",77010\n",
      "27,Chris Island,84959\n",
      "28,Jerry Dellosso,92076\n",
      "29,Emma Brandon,88324\n",
      "30,Natasha Atkinson,78349\n",
      "********************\n",
      "\n",
      "31,Daniel Shinabarger,60954\n",
      "32,Laverne Byrd,76192\n",
      "33,Eunice Link,62847\n",
      "34,Alfred Quintero,95874\n",
      "35,\n",
      "********************\n",
      "Amelia Christensen,75642\n",
      "36,Betty Salas,85525\n",
      "37,Mark Little,80218\n",
      "38,Stephanie Dupree,97875\n",
      "39,Fred\n",
      "********************\n",
      "die Hendon,63052\n",
      "40,Anne Carollo,93375\n",
      "41,Lillian Clark,71630\n",
      "42,Anita Franklin,80482\n",
      "43,Amelia Boxx\n",
      "********************\n",
      ",95584\n",
      "44,Tammy Spore,77454\n",
      "45,Gayle Alonso,72292\n",
      "46,James Thomas,84876\n",
      "47,Sean Dunston,93950\n",
      "48,Yol\n",
      "********************\n",
      "anda Barker,84118\n",
      "49,Jo Brown,95265\n",
      "50,Cindy Coleman,65581\n",
      "51,Amanda Farrell,76042\n",
      "52,Joseph Griffit\n",
      "********************\n",
      "h,85515\n",
      "53,Virginia Perez,75309\n",
      "54,Rita Griffith,70655\n",
      "55,Linda Toyoshima,82620\n",
      "56,Pamela Brown,7053\n",
      "********************\n",
      "0\n",
      "57,Alison Carr,81944\n",
      "58,Travis Dimas,61457\n",
      "59,Dennis Dodd,73419\n",
      "60,Nancy Wheeler,71452\n",
      "61,Jerrod W\n",
      "********************\n",
      "ilson,75626\n",
      "62,Michael Hunsaker,90348\n",
      "63,Warren Martinez,88323\n",
      "64,Kaye Clevenger,90639\n",
      "65,Mary Davis\n",
      "********************\n",
      ",75781\n",
      "66,Robert Sullivan,99338\n",
      "67,Lois Morton,86840\n",
      "68,Barbara Adams,70742\n",
      "69,Felicia Martin,62256\n",
      "\n",
      "********************\n",
      "70,Charles Poling,62091\n",
      "71,Kenny Waters,78855\n",
      "72,Salvador Boyd,79777\n",
      "73,Daniel Johnson,61384\n",
      "74,John\n",
      "********************\n",
      " Franco,98423\n",
      "75,Rebecca Casey,99656\n",
      "76,Lisa Harris,92993\n",
      "77,Tammie Stubbs,70569\n",
      "78,Shawn Henry,6440\n",
      "********************\n",
      "6\n",
      "79,Rhonda Bauman,64888\n",
      "80,Barbara Brown,88742\n",
      "81,Edward Gaston,94990\n",
      "82,Larry Kellison,61933\n",
      "83,Le\n",
      "********************\n",
      "sley Sam,86759\n",
      "84,Lora Neal,96392\n",
      "85,Dan Massey,87994\n",
      "86,Kirk Towers,75932\n",
      "87,Bernice Ricci,92189\n",
      "88\n",
      "********************\n",
      ",Georgia Law,92242\n",
      "89,Juan Dillingham,66755\n",
      "90,Edith Baron,73541\n",
      "91,Dennis Pettiway,71643\n",
      "92,Marion \n",
      "********************\n",
      "Martin,90554\n",
      "93,Retta Petersen,98419\n",
      "94,Donna Myers,82201\n",
      "95,Daniel Jackson,94025\n",
      "96,David Hanna,612\n",
      "********************\n",
      "11\n",
      "97,Carlos Ecklund,85511\n",
      "98,Mitsuko Hinsley,81746\n",
      "99,Richard Hansell,69914\n",
      "100,Gene Mcconkey,60215\n",
      "********************\n",
      "\n",
      "101,Marilyn Kempf,92164\n",
      "********************\n"
     ]
    }
   ],
   "source": [
    "f=open(\"data.csv\",\"r\")\n",
    "data = f.read(100)\n",
    "while data:\n",
    "    print(data)\n",
    "    print(\"*\"*20)\n",
    "    data=f.read(100)"
   ]
  },
  {
   "cell_type": "code",
   "execution_count": 49,
   "metadata": {},
   "outputs": [
    {
     "name": "stdout",
     "output_type": "stream",
     "text": [
      "[{'id': 0, 'name': 'Emma Arellano', 'salary': 90364}, {'id': 1, 'name': 'Stacy Brown', 'salary': 69673}, {'id': 2, 'name': 'Andrea Brown', 'salary': 71785}, {'id': 3, 'name': 'Marie Adams', 'salary': 69444}, {'id': 4, 'name': 'Angelina White', 'salary': 99284}]\n"
     ]
    }
   ],
   "source": [
    "data = [{\"id\":i,\"name\":names.get_full_name(),\"salary\":random.randint(60000,100000)} for i in range(5)]\n",
    "print(data)"
   ]
  },
  {
   "cell_type": "code",
   "execution_count": 50,
   "metadata": {},
   "outputs": [
    {
     "ename": "TypeError",
     "evalue": "write() argument must be str, not list",
     "output_type": "error",
     "traceback": [
      "\u001b[1;31m---------------------------------------------------------------------------\u001b[0m",
      "\u001b[1;31mTypeError\u001b[0m                                 Traceback (most recent call last)",
      "\u001b[1;32m<ipython-input-50-737db17c6dcc>\u001b[0m in \u001b[0;36m<module>\u001b[1;34m\u001b[0m\n\u001b[0;32m      1\u001b[0m \u001b[0mdata\u001b[0m \u001b[1;33m=\u001b[0m \u001b[1;33m[\u001b[0m\u001b[1;33m{\u001b[0m\u001b[1;34m\"id\"\u001b[0m\u001b[1;33m:\u001b[0m\u001b[0mi\u001b[0m\u001b[1;33m,\u001b[0m\u001b[1;34m\"name\"\u001b[0m\u001b[1;33m:\u001b[0m\u001b[0mnames\u001b[0m\u001b[1;33m.\u001b[0m\u001b[0mget_full_name\u001b[0m\u001b[1;33m(\u001b[0m\u001b[1;33m)\u001b[0m\u001b[1;33m,\u001b[0m\u001b[1;34m\"salary\"\u001b[0m\u001b[1;33m:\u001b[0m\u001b[0mrandom\u001b[0m\u001b[1;33m.\u001b[0m\u001b[0mrandint\u001b[0m\u001b[1;33m(\u001b[0m\u001b[1;36m60000\u001b[0m\u001b[1;33m,\u001b[0m\u001b[1;36m100000\u001b[0m\u001b[1;33m)\u001b[0m\u001b[1;33m}\u001b[0m \u001b[1;32mfor\u001b[0m \u001b[0mi\u001b[0m \u001b[1;32min\u001b[0m \u001b[0mrange\u001b[0m\u001b[1;33m(\u001b[0m\u001b[1;36m5\u001b[0m\u001b[1;33m)\u001b[0m\u001b[1;33m]\u001b[0m\u001b[1;33m\u001b[0m\u001b[1;33m\u001b[0m\u001b[0m\n\u001b[0;32m      2\u001b[0m \u001b[0mf\u001b[0m\u001b[1;33m=\u001b[0m\u001b[0mopen\u001b[0m\u001b[1;33m(\u001b[0m\u001b[1;34m\"data1.txt\"\u001b[0m\u001b[1;33m,\u001b[0m\u001b[1;34m\"w\"\u001b[0m\u001b[1;33m)\u001b[0m\u001b[1;33m\u001b[0m\u001b[1;33m\u001b[0m\u001b[0m\n\u001b[1;32m----> 3\u001b[1;33m \u001b[0mf\u001b[0m\u001b[1;33m.\u001b[0m\u001b[0mwrite\u001b[0m\u001b[1;33m(\u001b[0m\u001b[0mdata\u001b[0m\u001b[1;33m)\u001b[0m\u001b[1;33m\u001b[0m\u001b[1;33m\u001b[0m\u001b[0m\n\u001b[0m\u001b[0;32m      4\u001b[0m \u001b[0mf\u001b[0m\u001b[1;33m.\u001b[0m\u001b[0mclose\u001b[0m\u001b[1;33m(\u001b[0m\u001b[1;33m)\u001b[0m\u001b[1;33m\u001b[0m\u001b[1;33m\u001b[0m\u001b[0m\n",
      "\u001b[1;31mTypeError\u001b[0m: write() argument must be str, not list"
     ]
    }
   ],
   "source": [
    "data = [{\"id\":i,\"name\":names.get_full_name(),\"salary\":random.randint(60000,100000)} for i in range(5)]\n",
    "f=open(\"data1.txt\",\"w\")\n",
    "f.write(data)\n",
    "f.close()"
   ]
  },
  {
   "cell_type": "code",
   "execution_count": 51,
   "metadata": {},
   "outputs": [],
   "source": [
    "data = [{\"id\":i,\"name\":names.get_full_name(),\"salary\":random.randint(60000,100000)} for i in range(5)]\n",
    "f=open(\"data1.txt\",\"w\")\n",
    "f.write(str(data))\n",
    "f.close()"
   ]
  },
  {
   "cell_type": "code",
   "execution_count": 52,
   "metadata": {},
   "outputs": [
    {
     "name": "stdout",
     "output_type": "stream",
     "text": [
      "<class 'str'>\n",
      "[{'id': 0, 'name': 'Clarence Blank', 'salary': 99702}, {'id': 1, 'name': 'Jason Clow', 'salary': 85911}, {'id': 2, 'name': 'Michael Hartman', 'salary': 83052}, {'id': 3, 'name': 'Caitlyn Ahlman', 'salary': 96392}, {'id': 4, 'name': 'Maria Bundy', 'salary': 62816}]\n"
     ]
    }
   ],
   "source": [
    "f=open(\"data1.txt\",\"r\")\n",
    "data=f.read()\n",
    "print(type(data))\n",
    "print(data)\n",
    "f.close()"
   ]
  },
  {
   "cell_type": "code",
   "execution_count": 53,
   "metadata": {},
   "outputs": [
    {
     "data": {
      "text/plain": [
       "'['"
      ]
     },
     "execution_count": 53,
     "metadata": {},
     "output_type": "execute_result"
    }
   ],
   "source": [
    "data[0]"
   ]
  },
  {
   "cell_type": "code",
   "execution_count": 54,
   "metadata": {},
   "outputs": [],
   "source": [
    "# to process this data again we need to convert string to dictionary."
   ]
  },
  {
   "cell_type": "code",
   "execution_count": null,
   "metadata": {},
   "outputs": [],
   "source": [
    "# I dont want to convert list of dictionaries to string. But we should write this list of dicts as list of dicts only\n",
    "# in to file. when we read it, we should get list of dicts only not string."
   ]
  }
 ],
 "metadata": {
  "kernelspec": {
   "display_name": "Python 3",
   "language": "python",
   "name": "python3"
  },
  "language_info": {
   "codemirror_mode": {
    "name": "ipython",
    "version": 3
   },
   "file_extension": ".py",
   "mimetype": "text/x-python",
   "name": "python",
   "nbconvert_exporter": "python",
   "pygments_lexer": "ipython3",
   "version": "3.8.3"
  }
 },
 "nbformat": 4,
 "nbformat_minor": 4
}
