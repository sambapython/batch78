{
 "cells": [
  {
   "cell_type": "code",
   "execution_count": 1,
   "metadata": {},
   "outputs": [
    {
     "name": "stdout",
     "output_type": "stream",
     "text": [
      "Even\n"
     ]
    }
   ],
   "source": [
    "l=[12,34,53,57,89,46,48]\n",
    "n=12\n",
    "if n%2==0:\n",
    "    print(\"Even\")\n",
    "else:\n",
    "    print(\"ODD\")"
   ]
  },
  {
   "cell_type": "code",
   "execution_count": 2,
   "metadata": {},
   "outputs": [
    {
     "name": "stdout",
     "output_type": "stream",
     "text": [
      "Even\n",
      "Even\n",
      "ODD\n",
      "ODD\n"
     ]
    }
   ],
   "source": [
    "l=[12,34,53,57,89,46,48]\n",
    "if l[0]%2==0:\n",
    "    print(\"Even\")\n",
    "else:\n",
    "    print(\"ODD\")\n",
    "if l[1]%2==0:\n",
    "    print(\"Even\")\n",
    "else:\n",
    "    print(\"ODD\")\n",
    "if l[2]%2==0:\n",
    "    print(\"Even\")\n",
    "else:\n",
    "    print(\"ODD\")\n",
    "if l[3]%2==0:\n",
    "    print(\"Even\")\n",
    "else:\n",
    "    print(\"ODD\")"
   ]
  },
  {
   "cell_type": "code",
   "execution_count": 4,
   "metadata": {},
   "outputs": [
    {
     "name": "stdout",
     "output_type": "stream",
     "text": [
      "started\n",
      "12\n",
      "34\n",
      "53\n",
      "57\n",
      "89\n",
      "46\n",
      "48\n",
      "ended\n"
     ]
    }
   ],
   "source": [
    "print(\"started\")\n",
    "l=[12,34,53,57,89,46,48]\n",
    "for number in l:#number=48\n",
    "    print(number)\n",
    "print(\"ended\")"
   ]
  },
  {
   "cell_type": "code",
   "execution_count": 6,
   "metadata": {},
   "outputs": [
    {
     "name": "stdout",
     "output_type": "stream",
     "text": [
      "apple\n",
      "orange\n",
      "grape\n"
     ]
    }
   ],
   "source": [
    "fruits=[\"apple\",\"orange\",\"grape\"]\n",
    "for fruit in fruits:\n",
    "    print(fruit)"
   ]
  },
  {
   "cell_type": "code",
   "execution_count": 7,
   "metadata": {},
   "outputs": [
    {
     "name": "stdout",
     "output_type": "stream",
     "text": [
      "{'name': 'jay', 'age': 32}\n",
      "{'name': 'vedha', 'age': 31}\n"
     ]
    }
   ],
   "source": [
    "empdetails = [{\"name\":\"jay\",\"age\":32},{\"name\":\"vedha\",\"age\":31}]\n",
    "for emp in empdetails:\n",
    "    print(emp)"
   ]
  },
  {
   "cell_type": "code",
   "execution_count": 8,
   "metadata": {},
   "outputs": [
    {
     "name": "stdout",
     "output_type": "stream",
     "text": [
      "started\n",
      "Even\n",
      "Even\n",
      "ODD\n",
      "ODD\n",
      "ODD\n",
      "Even\n",
      "Even\n",
      "ended\n"
     ]
    }
   ],
   "source": [
    "print(\"started\")\n",
    "l=[12,34,53,57,89,46,48]\n",
    "for number in l:#number=48\n",
    "    print(\"Even\" if number%2==0 else \"ODD\")\n",
    "print(\"ended\")"
   ]
  },
  {
   "cell_type": "code",
   "execution_count": null,
   "metadata": {},
   "outputs": [],
   "source": [
    "#10,1.2,(10,20,30),{\"name\":\"jay\",\"age\":4}"
   ]
  },
  {
   "cell_type": "code",
   "execution_count": 9,
   "metadata": {},
   "outputs": [
    {
     "ename": "TypeError",
     "evalue": "'int' object is not iterable",
     "output_type": "error",
     "traceback": [
      "\u001b[1;31m---------------------------------------------------------------------------\u001b[0m",
      "\u001b[1;31mTypeError\u001b[0m                                 Traceback (most recent call last)",
      "\u001b[1;32m<ipython-input-9-665a8c31cf25>\u001b[0m in \u001b[0;36m<module>\u001b[1;34m\u001b[0m\n\u001b[1;32m----> 1\u001b[1;33m \u001b[1;32mfor\u001b[0m \u001b[0mi\u001b[0m \u001b[1;32min\u001b[0m \u001b[1;36m10\u001b[0m\u001b[1;33m:\u001b[0m\u001b[1;33m\u001b[0m\u001b[1;33m\u001b[0m\u001b[0m\n\u001b[0m\u001b[0;32m      2\u001b[0m     \u001b[0mprint\u001b[0m\u001b[1;33m(\u001b[0m\u001b[0mi\u001b[0m\u001b[1;33m)\u001b[0m\u001b[1;33m\u001b[0m\u001b[1;33m\u001b[0m\u001b[0m\n",
      "\u001b[1;31mTypeError\u001b[0m: 'int' object is not iterable"
     ]
    }
   ],
   "source": [
    "for i in 10:\n",
    "    print(i)"
   ]
  },
  {
   "cell_type": "code",
   "execution_count": 10,
   "metadata": {},
   "outputs": [
    {
     "name": "stdout",
     "output_type": "stream",
     "text": [
      "started\n",
      "0\n",
      "Ended\n"
     ]
    }
   ],
   "source": [
    "print(\"started\")\n",
    "i=0\n",
    "if i<4:\n",
    "    print(i)\n",
    "    i=i+1\n",
    "print(\"Ended\")"
   ]
  },
  {
   "cell_type": "code",
   "execution_count": 11,
   "metadata": {},
   "outputs": [
    {
     "name": "stdout",
     "output_type": "stream",
     "text": [
      "started\n",
      "0\n",
      "1\n",
      "2\n",
      "3\n",
      "Ended\n"
     ]
    }
   ],
   "source": [
    "print(\"started\")\n",
    "i=0\n",
    "while i<4:\n",
    "    print(i)\n",
    "    i=i+1\n",
    "print(\"Ended\")"
   ]
  },
  {
   "cell_type": "code",
   "execution_count": 12,
   "metadata": {},
   "outputs": [
    {
     "name": "stdout",
     "output_type": "stream",
     "text": [
      "3\n"
     ]
    }
   ],
   "source": [
    "l=[12,34,25,27,38,19]\n",
    "# find howmany number of even numbers are there.\n",
    "even_count=0\n",
    "for i in l:\n",
    "    if i%2==0:\n",
    "        even_count = even_count+1\n",
    "print(even_count)"
   ]
  },
  {
   "cell_type": "code",
   "execution_count": 13,
   "metadata": {},
   "outputs": [
    {
     "name": "stdout",
     "output_type": "stream",
     "text": [
      "It has evens\n",
      "It has evens\n",
      "it does not have evens\n",
      "it does not have evens\n",
      "It has evens\n",
      "it does not have evens\n",
      "ended\n"
     ]
    }
   ],
   "source": [
    "l=[12,34,25,27,38,19]\n",
    "# WAP to check given list contains atleast one even number.\n",
    "for i in l:#i=34\n",
    "    if i%2==0:\n",
    "        print(\"It has evens\")\n",
    "    else:\n",
    "        print(\"it does not have evens\")\n",
    "print(\"ended\")"
   ]
  },
  {
   "cell_type": "code",
   "execution_count": 14,
   "metadata": {},
   "outputs": [
    {
     "name": "stdout",
     "output_type": "stream",
     "text": [
      "3\n",
      "ended\n"
     ]
    }
   ],
   "source": [
    "# WAP to check given list contains atleast one even number.\n",
    "l=[12,34,25,27,38,19]\n",
    "even_count = 0\n",
    "for i in l:\n",
    "    if i%2==0:\n",
    "        even_count = even_count+1\n",
    "print(even_count)\n",
    "print(\"ended\")"
   ]
  },
  {
   "cell_type": "code",
   "execution_count": 15,
   "metadata": {},
   "outputs": [
    {
     "name": "stdout",
     "output_type": "stream",
     "text": [
      "0\n",
      "ended\n"
     ]
    }
   ],
   "source": [
    "# WAP to check given list contains atleast one even number.\n",
    "l=[13,15,17,19]\n",
    "even_count = 0\n",
    "for i in l:\n",
    "    if i%2==0:\n",
    "        even_count = even_count+1\n",
    "print(even_count)\n",
    "print(\"ended\")"
   ]
  },
  {
   "cell_type": "code",
   "execution_count": 16,
   "metadata": {},
   "outputs": [
    {
     "name": "stdout",
     "output_type": "stream",
     "text": [
      "It does not have even numbers.\n",
      "ended\n"
     ]
    }
   ],
   "source": [
    "# WAP to check given list contains atleast one even number.\n",
    "l=[13,15,17,19]\n",
    "even_count = 0\n",
    "for i in l:\n",
    "    if i%2==0:\n",
    "        even_count = even_count+1\n",
    "if even_count ==0:\n",
    "    print(\"It does not have even numbers.\")\n",
    "else:\n",
    "    print(\"it has even numbers.\")\n",
    "print(\"ended\")"
   ]
  },
  {
   "cell_type": "code",
   "execution_count": 17,
   "metadata": {},
   "outputs": [
    {
     "name": "stdout",
     "output_type": "stream",
     "text": [
      "it has even numbers.\n",
      "ended\n"
     ]
    }
   ],
   "source": [
    "# WAP to check given list contains atleast one even number.\n",
    "l=[14,13,15,17,19,16]\n",
    "even_count = 0\n",
    "for i in l:\n",
    "    if i%2==0:\n",
    "        even_count = even_count+1\n",
    "if even_count ==0:\n",
    "    print(\"It does not have even numbers.\")\n",
    "else:\n",
    "    print(\"it has even numbers.\")\n",
    "print(\"ended\")"
   ]
  },
  {
   "cell_type": "code",
   "execution_count": 18,
   "metadata": {},
   "outputs": [
    {
     "name": "stdout",
     "output_type": "stream",
     "text": [
      "i= 14\n",
      "i= 13\n",
      "i= 15\n",
      "i= 17\n",
      "i= 19\n",
      "i= 16\n",
      "it has even numbers.\n",
      "ended\n"
     ]
    }
   ],
   "source": [
    "# WAP to check given list contains atleast one even number.\n",
    "l=[14,13,15,17,19,16]\n",
    "even_count = 0\n",
    "for i in l:\n",
    "    print(\"i=\",i)\n",
    "    if i%2==0:\n",
    "        even_count = even_count+1\n",
    "if even_count ==0:\n",
    "    print(\"It does not have even numbers.\")\n",
    "else:\n",
    "    print(\"it has even numbers.\")\n",
    "print(\"ended\")"
   ]
  },
  {
   "cell_type": "code",
   "execution_count": 19,
   "metadata": {},
   "outputs": [
    {
     "name": "stdout",
     "output_type": "stream",
     "text": [
      "i= 1\n",
      "i= 3\n",
      "i= 5\n",
      "i= 14\n",
      "i= 13\n",
      "i= 15\n",
      "i= 17\n",
      "i= 19\n",
      "i= 16\n",
      "it has even numbers.\n",
      "ended\n"
     ]
    }
   ],
   "source": [
    "# WAP to check given list contains atleast one even number.\n",
    "l=[1,3,5,14,13,15,17,19,16]\n",
    "even_count = 0\n",
    "for i in l:\n",
    "    print(\"i=\",i)\n",
    "    if i%2==0:\n",
    "        even_count = even_count+1\n",
    "if even_count ==0:\n",
    "    print(\"It does not have even numbers.\")\n",
    "else:\n",
    "    print(\"it has even numbers.\")\n",
    "print(\"ended\")"
   ]
  },
  {
   "cell_type": "code",
   "execution_count": 20,
   "metadata": {},
   "outputs": [
    {
     "name": "stdout",
     "output_type": "stream",
     "text": [
      "i= 1\n",
      "i= 3\n",
      "i= 5\n",
      "i= 14\n",
      "it has even numbers.\n",
      "ended\n"
     ]
    }
   ],
   "source": [
    "# WAP to check given list contains atleast one even number.\n",
    "l=[1,3,5,14,13,15,17,19,16]\n",
    "even_count = 0\n",
    "for i in l:\n",
    "    print(\"i=\",i)\n",
    "    if i%2==0:\n",
    "        even_count = even_count+1\n",
    "        break\n",
    "if even_count ==0:\n",
    "    print(\"It does not have even numbers.\")\n",
    "else:\n",
    "    print(\"it has even numbers.\")\n",
    "print(\"ended\")"
   ]
  },
  {
   "cell_type": "code",
   "execution_count": 21,
   "metadata": {},
   "outputs": [
    {
     "name": "stdout",
     "output_type": "stream",
     "text": [
      "i= 20\n",
      "it has even numbers.\n",
      "ended\n"
     ]
    }
   ],
   "source": [
    "# WAP to check given list contains atleast one even number.\n",
    "l=[20,1,3,5,14,13,15,17,19,16]\n",
    "even_count = 0\n",
    "for i in l:\n",
    "    print(\"i=\",i)\n",
    "    if i%2==0:\n",
    "        even_count = even_count+1\n",
    "        break\n",
    "if even_count ==0:\n",
    "    print(\"It does not have even numbers.\")\n",
    "else:\n",
    "    print(\"it has even numbers.\")\n",
    "print(\"ended\")"
   ]
  },
  {
   "cell_type": "code",
   "execution_count": 22,
   "metadata": {},
   "outputs": [
    {
     "name": "stdout",
     "output_type": "stream",
     "text": [
      "i= 1\n",
      "i= 3\n",
      "i= 5\n",
      "i= 7\n",
      "It does not have even numbers.\n",
      "ended\n"
     ]
    }
   ],
   "source": [
    "# WAP to check given list contains atleast one even number.\n",
    "l=[1,3,5,7]\n",
    "even_count = 0\n",
    "for i in l:\n",
    "    print(\"i=\",i)\n",
    "    if i%2==0:\n",
    "        even_count = even_count+1\n",
    "        break\n",
    "if even_count ==0:\n",
    "    print(\"It does not have even numbers.\")\n",
    "else:\n",
    "    print(\"it has even numbers.\")\n",
    "print(\"ended\")"
   ]
  },
  {
   "cell_type": "code",
   "execution_count": null,
   "metadata": {},
   "outputs": [],
   "source": [
    "# WAP to check given list contains atleast one negative number."
   ]
  },
  {
   "cell_type": "code",
   "execution_count": null,
   "metadata": {},
   "outputs": [],
   "source": [
    "# WAP to check given list contains atleast one even number.\n",
    "l=[1,3,5,7]\n",
    "for i in l:\n",
    "    print(\"i=\",i)\n",
    "    if i%2==0:\n",
    "        break\n",
    "\n",
    "print(\"ended\")"
   ]
  },
  {
   "cell_type": "code",
   "execution_count": 23,
   "metadata": {},
   "outputs": [
    {
     "name": "stdout",
     "output_type": "stream",
     "text": [
      "started\n",
      "10\n",
      "20\n",
      "30\n",
      "40\n",
      "this is else\n",
      "ended\n"
     ]
    }
   ],
   "source": [
    "print(\"started\")\n",
    "for i in [10,20,30,40]:\n",
    "    print(i)\n",
    "else:\n",
    "    print(\"this is else\")\n",
    "print(\"ended\")\n"
   ]
  },
  {
   "cell_type": "code",
   "execution_count": 24,
   "metadata": {},
   "outputs": [
    {
     "name": "stdout",
     "output_type": "stream",
     "text": [
      "started\n",
      "10\n",
      "ended\n"
     ]
    }
   ],
   "source": [
    "print(\"started\")\n",
    "for i in [10,20,30,40]:#i=10\n",
    "    print(i)\n",
    "    break\n",
    "else:\n",
    "    print(\"this is else\")\n",
    "print(\"ended\")\n"
   ]
  },
  {
   "cell_type": "code",
   "execution_count": 25,
   "metadata": {},
   "outputs": [
    {
     "name": "stdout",
     "output_type": "stream",
     "text": [
      "started\n",
      "10\n",
      "20\n",
      "30\n",
      "ended\n"
     ]
    }
   ],
   "source": [
    "print(\"started\")\n",
    "for i in [10,20,30,40]:#i=30\n",
    "    print(i)\n",
    "    if i==30:#True\n",
    "        break\n",
    "else:\n",
    "    print(\"this is else\")\n",
    "print(\"ended\")\n"
   ]
  },
  {
   "cell_type": "code",
   "execution_count": 26,
   "metadata": {},
   "outputs": [
    {
     "name": "stdout",
     "output_type": "stream",
     "text": [
      "started\n",
      "10\n",
      "20\n",
      "30\n",
      "40\n",
      "this is else\n",
      "ended\n"
     ]
    }
   ],
   "source": [
    "print(\"started\")\n",
    "for i in [10,20,30,40]:\n",
    "    print(i)\n",
    "    if i==50:\n",
    "        break\n",
    "else:\n",
    "    print(\"this is else\")\n",
    "print(\"ended\")\n"
   ]
  },
  {
   "cell_type": "code",
   "execution_count": 27,
   "metadata": {},
   "outputs": [
    {
     "name": "stdout",
     "output_type": "stream",
     "text": [
      "started\n",
      "It has evens.\n",
      "ended\n"
     ]
    }
   ],
   "source": [
    "# WAP to check given list contains atleast one even number.\n",
    "print(\"started\")\n",
    "l=[20,1,3,5,14,13,15,17,19,16]\n",
    "for i in l:\n",
    "    if i%2==0:\n",
    "        print(\"It has evens.\")\n",
    "        break\n",
    "else:\n",
    "    print(\"it does not have evens.\")\n",
    "print(\"ended\")"
   ]
  },
  {
   "cell_type": "code",
   "execution_count": 28,
   "metadata": {},
   "outputs": [
    {
     "name": "stdout",
     "output_type": "stream",
     "text": [
      "started\n",
      "it does not have evens.\n",
      "ended\n"
     ]
    }
   ],
   "source": [
    "# WAP to check given list contains atleast one even number.\n",
    "print(\"started\")\n",
    "l=[1,3,5]\n",
    "for i in l:\n",
    "    if i%2==0:\n",
    "        print(\"It has evens.\")\n",
    "        break\n",
    "else:\n",
    "    print(\"it does not have evens.\")\n",
    "print(\"ended\")"
   ]
  },
  {
   "cell_type": "code",
   "execution_count": 29,
   "metadata": {},
   "outputs": [
    {
     "name": "stdout",
     "output_type": "stream",
     "text": [
      "i= p\n"
     ]
    }
   ],
   "source": [
    "for i in \"python\":#i=p\n",
    "    break\n",
    "print(\"i=\",i)"
   ]
  },
  {
   "cell_type": "code",
   "execution_count": 31,
   "metadata": {},
   "outputs": [
    {
     "name": "stdout",
     "output_type": "stream",
     "text": [
      "started\n",
      "ended\n"
     ]
    }
   ],
   "source": [
    "print(\"started\")\n",
    "for i in \"python\":\n",
    "    break\n",
    "    print(\"i=\",i)\n",
    "print(\"ended\")"
   ]
  },
  {
   "cell_type": "code",
   "execution_count": null,
   "metadata": {},
   "outputs": [],
   "source": []
  }
 ],
 "metadata": {
  "kernelspec": {
   "display_name": "Python 3",
   "language": "python",
   "name": "python3"
  },
  "language_info": {
   "codemirror_mode": {
    "name": "ipython",
    "version": 3
   },
   "file_extension": ".py",
   "mimetype": "text/x-python",
   "name": "python",
   "nbconvert_exporter": "python",
   "pygments_lexer": "ipython3",
   "version": "3.8.3"
  }
 },
 "nbformat": 4,
 "nbformat_minor": 4
}
