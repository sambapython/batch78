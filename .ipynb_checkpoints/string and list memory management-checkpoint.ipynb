{
 "cells": [
  {
   "cell_type": "code",
   "execution_count": 1,
   "metadata": {},
   "outputs": [],
   "source": [
    "s=\"python\"\n",
    "l=[1000,2000,3000]\n",
    "a=4000\n",
    "b=5000\n",
    "c=6000\n",
    "k=[a,b,c,7000]\n",
    "s1=s\n",
    "k1=k"
   ]
  },
  {
   "cell_type": "code",
   "execution_count": 2,
   "metadata": {},
   "outputs": [
    {
     "ename": "TypeError",
     "evalue": "'str' object does not support item assignment",
     "output_type": "error",
     "traceback": [
      "\u001b[1;31m---------------------------------------------------------------------------\u001b[0m",
      "\u001b[1;31mTypeError\u001b[0m                                 Traceback (most recent call last)",
      "\u001b[1;32m<ipython-input-2-c1b953efab54>\u001b[0m in \u001b[0;36m<module>\u001b[1;34m\u001b[0m\n\u001b[0;32m      1\u001b[0m \u001b[0ms\u001b[0m\u001b[1;33m=\u001b[0m\u001b[1;34m\"python\"\u001b[0m\u001b[1;33m\u001b[0m\u001b[1;33m\u001b[0m\u001b[0m\n\u001b[1;32m----> 2\u001b[1;33m \u001b[0ms\u001b[0m\u001b[1;33m[\u001b[0m\u001b[1;36m0\u001b[0m\u001b[1;33m]\u001b[0m\u001b[1;33m=\u001b[0m\u001b[1;34m\"P\"\u001b[0m\u001b[1;33m\u001b[0m\u001b[1;33m\u001b[0m\u001b[0m\n\u001b[0m",
      "\u001b[1;31mTypeError\u001b[0m: 'str' object does not support item assignment"
     ]
    }
   ],
   "source": [
    "s=\"python\"\n",
    "s[0]=\"P\""
   ]
  },
  {
   "cell_type": "code",
   "execution_count": 3,
   "metadata": {},
   "outputs": [
    {
     "name": "stdout",
     "output_type": "stream",
     "text": [
      "[4000, 2000, 3000]\n"
     ]
    }
   ],
   "source": [
    "l=[1000,2000,3000]\n",
    "l[0]=4000\n",
    "print(l)"
   ]
  },
  {
   "cell_type": "code",
   "execution_count": 5,
   "metadata": {},
   "outputs": [
    {
     "name": "stdout",
     "output_type": "stream",
     "text": [
      "<class 'str'> 1858336270320\n"
     ]
    }
   ],
   "source": [
    "s=\"python\"\n",
    "print(type(s),id(s))"
   ]
  },
  {
   "cell_type": "code",
   "execution_count": 7,
   "metadata": {},
   "outputs": [
    {
     "name": "stdout",
     "output_type": "stream",
     "text": [
      "<class 'str'> 1858295319024 p\n"
     ]
    }
   ],
   "source": [
    "s=\"python\"\n",
    "print(type(s[0]),id(s[0]),s[0])"
   ]
  },
  {
   "cell_type": "code",
   "execution_count": 9,
   "metadata": {},
   "outputs": [
    {
     "name": "stdout",
     "output_type": "stream",
     "text": [
      "1858336171888\n",
      "p <class 'str'> 1858295319024\n"
     ]
    }
   ],
   "source": [
    "s1=\"pot\"\n",
    "print(id(s1))\n",
    "print(s1[0],type(s1[0]),id(s1[0]))"
   ]
  },
  {
   "cell_type": "code",
   "execution_count": 10,
   "metadata": {},
   "outputs": [
    {
     "name": "stdout",
     "output_type": "stream",
     "text": [
      "1858336171888\n",
      "p <class 'str'> 1858295319024\n",
      "o 1858295300016\n",
      "o 1858295300016\n"
     ]
    }
   ],
   "source": [
    "s1=\"pot\"\n",
    "print(id(s1))\n",
    "print(s1[0],type(s1[0]),id(s1[0]))\n",
    "print(s[4],id(s[4]))\n",
    "print(s1[1],id(s1[1]))"
   ]
  },
  {
   "cell_type": "code",
   "execution_count": 11,
   "metadata": {},
   "outputs": [
    {
     "name": "stdout",
     "output_type": "stream",
     "text": [
      "<class 'list'> 1858367076032\n",
      "1000 1858367294320\n",
      "1000 1858367294320 <class 'int'>\n"
     ]
    }
   ],
   "source": [
    "a=1000\n",
    "b=2000\n",
    "c=3000\n",
    "l=[a,b,3000]\n",
    "print(type(l),id(l))\n",
    "print(a,id(a))\n",
    "print(l[0],id(l[0]),type(l[0]))"
   ]
  },
  {
   "cell_type": "code",
   "execution_count": 12,
   "metadata": {},
   "outputs": [
    {
     "name": "stdout",
     "output_type": "stream",
     "text": [
      "<class 'list'> 1858367345728\n",
      "1000 1858367292688\n",
      "1000 1858367292688 <class 'int'>\n",
      "3000 1858367293552\n",
      "3000 1858367294384\n"
     ]
    }
   ],
   "source": [
    "a=1000\n",
    "b=2000\n",
    "c=3000\n",
    "l=[a,b,3000]\n",
    "print(type(l),id(l))\n",
    "print(a,id(a))\n",
    "print(l[0],id(l[0]),type(l[0]))\n",
    "print(c, id(c))\n",
    "print(l[2], id(l[2]))"
   ]
  },
  {
   "cell_type": "code",
   "execution_count": null,
   "metadata": {},
   "outputs": [],
   "source": []
  }
 ],
 "metadata": {
  "kernelspec": {
   "display_name": "Python 3",
   "language": "python",
   "name": "python3"
  },
  "language_info": {
   "codemirror_mode": {
    "name": "ipython",
    "version": 3
   },
   "file_extension": ".py",
   "mimetype": "text/x-python",
   "name": "python",
   "nbconvert_exporter": "python",
   "pygments_lexer": "ipython3",
   "version": "3.8.3"
  }
 },
 "nbformat": 4,
 "nbformat_minor": 4
}
