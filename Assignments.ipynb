{
 "cells": [
  {
   "cell_type": "code",
   "execution_count": 1,
   "metadata": {},
   "outputs": [
    {
     "name": "stdout",
     "output_type": "stream",
     "text": [
      "Enter number of People:200\n",
      "Number of seats per bus:50\n",
      "required busses: 4.0\n"
     ]
    }
   ],
   "source": [
    "number_people = int(input(\"Enter number of People:\"))\n",
    "seats_per_bus = int(input(\"Number of seats per bus:\"))\n",
    "busses_required = number_people/seats_per_bus\n",
    "print(\"required busses:\",busses_required)"
   ]
  },
  {
   "cell_type": "code",
   "execution_count": 2,
   "metadata": {},
   "outputs": [
    {
     "name": "stdout",
     "output_type": "stream",
     "text": [
      "Enter number of People:205\n",
      "Number of seats per bus:50\n",
      "required busses: 4.1\n"
     ]
    }
   ],
   "source": [
    "number_people = int(input(\"Enter number of People:\"))\n",
    "seats_per_bus = int(input(\"Number of seats per bus:\"))\n",
    "busses_required = number_people/seats_per_bus\n",
    "print(\"required busses:\",busses_required)"
   ]
  },
  {
   "cell_type": "code",
   "execution_count": null,
   "metadata": {},
   "outputs": [],
   "source": [
    "number_people = int(input(\"Enter number of People:\"))\n",
    "seats_per_bus = int(input(\"Number of seats per bus:\"))\n",
    "busses_required = number_people/seats_per_bus\n",
    "print(\"required busses:\",busses_required)"
   ]
  },
  {
   "cell_type": "code",
   "execution_count": 3,
   "metadata": {},
   "outputs": [],
   "source": [
    "import math"
   ]
  },
  {
   "cell_type": "code",
   "execution_count": 4,
   "metadata": {},
   "outputs": [
    {
     "data": {
      "text/plain": [
       "2"
      ]
     },
     "execution_count": 4,
     "metadata": {},
     "output_type": "execute_result"
    }
   ],
   "source": [
    "math.floor(2.1)"
   ]
  },
  {
   "cell_type": "code",
   "execution_count": 5,
   "metadata": {},
   "outputs": [
    {
     "data": {
      "text/plain": [
       "3"
      ]
     },
     "execution_count": 5,
     "metadata": {},
     "output_type": "execute_result"
    }
   ],
   "source": [
    "math.ceil(2.1)"
   ]
  },
  {
   "cell_type": "code",
   "execution_count": 6,
   "metadata": {},
   "outputs": [
    {
     "name": "stdout",
     "output_type": "stream",
     "text": [
      "Enter number of People:210\n",
      "Number of seats per bus:50\n",
      "required busses: 5\n"
     ]
    }
   ],
   "source": [
    "\"\"\"\n",
    "1.\tTake the input from the user for(Total number of people,Number of seats for bus. Based on two inputs\n",
    "Decide how many number of buses required\n",
    "\"\"\"\n",
    "import math\n",
    "number_people = int(input(\"Enter number of People:\"))\n",
    "seats_per_bus = int(input(\"Number of seats per bus:\"))\n",
    "busses_required = number_people/seats_per_bus\n",
    "print(\"required busses:\",math.ceil(busses_required))"
   ]
  },
  {
   "cell_type": "code",
   "execution_count": 3,
   "metadata": {},
   "outputs": [
    {
     "name": "stdout",
     "output_type": "stream",
     "text": [
      "enter number1:1\n",
      "enter number2:2\n",
      "enter number3:33\n",
      "Enter number4:4\n",
      "9.0\n",
      "50653.0\n",
      "177.5\n"
     ]
    }
   ],
   "source": [
    "x1,x2,x3,x4 = float(input(\"enter number1:\")),float(input(\"enter number2:\")),float(input(\"enter number3:\")),float(input(\"Enter number4:\"))\n",
    "print((x1+x2)**2)\n",
    "print((x3+x4)**3)\n",
    "elements=[x1,x2,x3,x4]\n",
    "n=len(elements)\n",
    "xbar=sum(elements)/n\n",
    "nominator = (x1-xbar)**2+(x2-xbar)**2+(x3-xbar)**2+(x4-xbar)**2\n",
    "denominator = n\n",
    "variance=nominator/denominator\n",
    "print(variance)"
   ]
  },
  {
   "cell_type": "code",
   "execution_count": 2,
   "metadata": {},
   "outputs": [
    {
     "data": {
      "text/plain": [
       "13.322912594474229"
      ]
     },
     "execution_count": 2,
     "metadata": {},
     "output_type": "execute_result"
    }
   ],
   "source": [
    "import math\n",
    "math.sqrt(177.5)"
   ]
  },
  {
   "cell_type": "code",
   "execution_count": null,
   "metadata": {},
   "outputs": [],
   "source": []
  }
 ],
 "metadata": {
  "kernelspec": {
   "display_name": "Python 3",
   "language": "python",
   "name": "python3"
  },
  "language_info": {
   "codemirror_mode": {
    "name": "ipython",
    "version": 3
   },
   "file_extension": ".py",
   "mimetype": "text/x-python",
   "name": "python",
   "nbconvert_exporter": "python",
   "pygments_lexer": "ipython3",
   "version": "3.8.3"
  }
 },
 "nbformat": 4,
 "nbformat_minor": 4
}
