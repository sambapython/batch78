{
 "cells": [
  {
   "cell_type": "code",
   "execution_count": 1,
   "metadata": {},
   "outputs": [],
   "source": [
    "#numpy is an alternate for the list to work on mathematics"
   ]
  },
  {
   "cell_type": "code",
   "execution_count": 3,
   "metadata": {},
   "outputs": [],
   "source": [
    "import numpy as np\n",
    "ar1 = np.array([1,2,3,4])"
   ]
  },
  {
   "cell_type": "code",
   "execution_count": 4,
   "metadata": {},
   "outputs": [
    {
     "name": "stdout",
     "output_type": "stream",
     "text": [
      "[1 2 3 4]\n"
     ]
    }
   ],
   "source": [
    "print(ar1)"
   ]
  },
  {
   "cell_type": "code",
   "execution_count": 5,
   "metadata": {},
   "outputs": [
    {
     "name": "stdout",
     "output_type": "stream",
     "text": [
      "['T', '__abs__', '__add__', '__and__', '__array__', '__array_finalize__', '__array_function__', '__array_interface__', '__array_prepare__', '__array_priority__', '__array_struct__', '__array_ufunc__', '__array_wrap__', '__bool__', '__class__', '__complex__', '__contains__', '__copy__', '__deepcopy__', '__delattr__', '__delitem__', '__dir__', '__divmod__', '__doc__', '__eq__', '__float__', '__floordiv__', '__format__', '__ge__', '__getattribute__', '__getitem__', '__gt__', '__hash__', '__iadd__', '__iand__', '__ifloordiv__', '__ilshift__', '__imatmul__', '__imod__', '__imul__', '__index__', '__init__', '__init_subclass__', '__int__', '__invert__', '__ior__', '__ipow__', '__irshift__', '__isub__', '__iter__', '__itruediv__', '__ixor__', '__le__', '__len__', '__lshift__', '__lt__', '__matmul__', '__mod__', '__mul__', '__ne__', '__neg__', '__new__', '__or__', '__pos__', '__pow__', '__radd__', '__rand__', '__rdivmod__', '__reduce__', '__reduce_ex__', '__repr__', '__rfloordiv__', '__rlshift__', '__rmatmul__', '__rmod__', '__rmul__', '__ror__', '__rpow__', '__rrshift__', '__rshift__', '__rsub__', '__rtruediv__', '__rxor__', '__setattr__', '__setitem__', '__setstate__', '__sizeof__', '__str__', '__sub__', '__subclasshook__', '__truediv__', '__xor__', 'all', 'any', 'argmax', 'argmin', 'argpartition', 'argsort', 'astype', 'base', 'byteswap', 'choose', 'clip', 'compress', 'conj', 'conjugate', 'copy', 'ctypes', 'cumprod', 'cumsum', 'data', 'diagonal', 'dot', 'dtype', 'dump', 'dumps', 'fill', 'flags', 'flat', 'flatten', 'getfield', 'imag', 'item', 'itemset', 'itemsize', 'max', 'mean', 'min', 'nbytes', 'ndim', 'newbyteorder', 'nonzero', 'partition', 'prod', 'ptp', 'put', 'ravel', 'real', 'repeat', 'reshape', 'resize', 'round', 'searchsorted', 'setfield', 'setflags', 'shape', 'size', 'sort', 'squeeze', 'std', 'strides', 'sum', 'swapaxes', 'take', 'tobytes', 'tofile', 'tolist', 'tostring', 'trace', 'transpose', 'var', 'view']\n"
     ]
    }
   ],
   "source": [
    "print(dir(ar1))"
   ]
  },
  {
   "cell_type": "code",
   "execution_count": 6,
   "metadata": {},
   "outputs": [],
   "source": [
    "# data frame it's an alternative to list of dictionaries"
   ]
  },
  {
   "cell_type": "code",
   "execution_count": 7,
   "metadata": {},
   "outputs": [],
   "source": [
    "l=[{\"name\":\"jay\",\"sal\":20},{\"name\":\"vedha\",\"sal\":30},{\"name\":\"sai\",\"sal\":15}]\n",
    "import names"
   ]
  },
  {
   "cell_type": "code",
   "execution_count": 8,
   "metadata": {},
   "outputs": [
    {
     "data": {
      "text/plain": [
       "'Margaret Craig'"
      ]
     },
     "execution_count": 8,
     "metadata": {},
     "output_type": "execute_result"
    }
   ],
   "source": [
    "names.get_full_name()"
   ]
  },
  {
   "cell_type": "code",
   "execution_count": 10,
   "metadata": {},
   "outputs": [
    {
     "name": "stdout",
     "output_type": "stream",
     "text": [
      "[{'name': 'Elizabeth Braswell', 'sal': 39}, {'name': 'Sarah Manzone', 'sal': 88}, {'name': 'Hazel Johnson', 'sal': 30}, {'name': 'Timothy Kadi', 'sal': 17}, {'name': 'Kelly Jacobson', 'sal': 89}, {'name': 'Mattie Clements', 'sal': 86}, {'name': 'Adrian Schroder', 'sal': 36}, {'name': 'Betty Feinstein', 'sal': 32}, {'name': 'Anthony Morris', 'sal': 76}, {'name': 'Essie Brown', 'sal': 67}, {'name': 'Norma Barnes', 'sal': 88}, {'name': 'Randy Cox', 'sal': 32}, {'name': 'David Paullin', 'sal': 22}, {'name': 'Wesley Bell', 'sal': 49}, {'name': 'David Blecha', 'sal': 75}, {'name': 'Tonya Shaver', 'sal': 84}, {'name': 'Tamar Toppa', 'sal': 45}, {'name': 'James Low', 'sal': 68}, {'name': 'Silvia Knowles', 'sal': 59}, {'name': 'Raymond Helton', 'sal': 35}, {'name': 'Don Warden', 'sal': 82}, {'name': 'Emma Tejada', 'sal': 15}, {'name': 'Michael Garrison', 'sal': 17}, {'name': 'Wendy Davis', 'sal': 82}, {'name': 'Pamela Bittner', 'sal': 28}, {'name': 'Jeff Ortiz', 'sal': 15}, {'name': 'Dwayne Reynolds', 'sal': 95}, {'name': 'Amanda Pinkett', 'sal': 51}, {'name': 'James Braziel', 'sal': 51}, {'name': 'Jamie Hunt', 'sal': 69}, {'name': 'Brian Hobbs', 'sal': 74}, {'name': 'Dawn Smith', 'sal': 43}, {'name': 'Vena Pursley', 'sal': 95}, {'name': 'Robert Campbell', 'sal': 99}, {'name': 'Anna Tucker', 'sal': 80}, {'name': 'Elvia Ryburn', 'sal': 66}, {'name': 'Aida Ewing', 'sal': 69}, {'name': 'Jason Simmons', 'sal': 32}, {'name': 'Janette Davidson', 'sal': 24}, {'name': 'Ann Wong', 'sal': 49}, {'name': 'Della Diaz', 'sal': 28}, {'name': 'Gary Sica', 'sal': 58}, {'name': 'Shannon Griggs', 'sal': 24}, {'name': 'Wanda Ellison', 'sal': 22}, {'name': 'Randall Mcelyea', 'sal': 31}, {'name': 'Richard Schwarz', 'sal': 66}, {'name': 'Vance Simpson', 'sal': 81}, {'name': 'Michael Harper', 'sal': 62}, {'name': 'Monika Miller', 'sal': 74}, {'name': 'Jean Wesley', 'sal': 34}, {'name': 'Tyson Starling', 'sal': 95}, {'name': 'Wilburn Brown', 'sal': 54}, {'name': 'Adrian Johnston', 'sal': 46}, {'name': 'Hubert Thomas', 'sal': 25}, {'name': 'Justine Jackson', 'sal': 45}, {'name': 'Denise Owens', 'sal': 18}, {'name': 'William Mcgowen', 'sal': 19}, {'name': 'Chung Hollowell', 'sal': 14}, {'name': 'Clark Smith', 'sal': 17}, {'name': 'Mike Wiley', 'sal': 95}, {'name': 'Eleanor Terwilliger', 'sal': 52}, {'name': 'Harry Hallett', 'sal': 74}, {'name': 'Timothy Gandy', 'sal': 96}, {'name': 'George Sullivan', 'sal': 98}, {'name': 'Ronald Kimbrough', 'sal': 97}, {'name': 'Teri Cooper', 'sal': 87}, {'name': 'Verna Rivera', 'sal': 69}, {'name': 'Gregory Klotz', 'sal': 46}, {'name': 'Larry Campbell', 'sal': 62}, {'name': 'Richard Stein', 'sal': 51}, {'name': 'Harriette Summers', 'sal': 65}, {'name': 'Joanne Owens', 'sal': 36}, {'name': 'Scott Brawer', 'sal': 48}, {'name': 'Louis Smith', 'sal': 39}, {'name': 'Nathan Miller', 'sal': 24}, {'name': 'Graciela Schwartz', 'sal': 78}, {'name': 'Ronald Roberts', 'sal': 85}, {'name': 'Derek Kassler', 'sal': 74}, {'name': 'Jennifer Smith', 'sal': 11}, {'name': 'Susan Seide', 'sal': 88}, {'name': 'John Lazzari', 'sal': 96}, {'name': 'Gilberto Hardy', 'sal': 19}, {'name': 'Cornelius Harris', 'sal': 76}, {'name': 'Audrey Moyer', 'sal': 85}, {'name': 'Sherry Morgan', 'sal': 63}, {'name': 'Fredrick Nelson', 'sal': 50}, {'name': 'Michael Farris', 'sal': 94}, {'name': 'Terry Orozco', 'sal': 56}, {'name': 'Eduardo Sizer', 'sal': 28}, {'name': 'Marilynn Villarreal', 'sal': 32}, {'name': 'Andera Wetenkamp', 'sal': 91}, {'name': 'Frank White', 'sal': 80}, {'name': 'Scott Wertz', 'sal': 46}, {'name': 'Bernice Stauffer', 'sal': 26}, {'name': 'Kevin Pengelly', 'sal': 10}, {'name': 'John Ramirez', 'sal': 22}, {'name': 'Amy Cornett', 'sal': 18}, {'name': 'Wesley Marquez', 'sal': 45}, {'name': 'Robert Lum', 'sal': 41}, {'name': 'Katherine Wood', 'sal': 85}]\n"
     ]
    }
   ],
   "source": [
    "import random, names\n",
    "l=[{\"name\":names.get_full_name(),\"sal\":random.choice(range(10,100))} for sal in range(100)]\n",
    "print(l)"
   ]
  },
  {
   "cell_type": "code",
   "execution_count": 11,
   "metadata": {},
   "outputs": [],
   "source": [
    "import pandas as pd"
   ]
  },
  {
   "cell_type": "code",
   "execution_count": 13,
   "metadata": {},
   "outputs": [],
   "source": [
    "df = pd.DataFrame(l)"
   ]
  },
  {
   "cell_type": "code",
   "execution_count": 14,
   "metadata": {},
   "outputs": [
    {
     "data": {
      "text/html": [
       "<div>\n",
       "<style scoped>\n",
       "    .dataframe tbody tr th:only-of-type {\n",
       "        vertical-align: middle;\n",
       "    }\n",
       "\n",
       "    .dataframe tbody tr th {\n",
       "        vertical-align: top;\n",
       "    }\n",
       "\n",
       "    .dataframe thead th {\n",
       "        text-align: right;\n",
       "    }\n",
       "</style>\n",
       "<table border=\"1\" class=\"dataframe\">\n",
       "  <thead>\n",
       "    <tr style=\"text-align: right;\">\n",
       "      <th></th>\n",
       "      <th>name</th>\n",
       "      <th>sal</th>\n",
       "    </tr>\n",
       "  </thead>\n",
       "  <tbody>\n",
       "    <tr>\n",
       "      <th>0</th>\n",
       "      <td>Elizabeth Braswell</td>\n",
       "      <td>39</td>\n",
       "    </tr>\n",
       "    <tr>\n",
       "      <th>1</th>\n",
       "      <td>Sarah Manzone</td>\n",
       "      <td>88</td>\n",
       "    </tr>\n",
       "    <tr>\n",
       "      <th>2</th>\n",
       "      <td>Hazel Johnson</td>\n",
       "      <td>30</td>\n",
       "    </tr>\n",
       "    <tr>\n",
       "      <th>3</th>\n",
       "      <td>Timothy Kadi</td>\n",
       "      <td>17</td>\n",
       "    </tr>\n",
       "    <tr>\n",
       "      <th>4</th>\n",
       "      <td>Kelly Jacobson</td>\n",
       "      <td>89</td>\n",
       "    </tr>\n",
       "    <tr>\n",
       "      <th>...</th>\n",
       "      <td>...</td>\n",
       "      <td>...</td>\n",
       "    </tr>\n",
       "    <tr>\n",
       "      <th>95</th>\n",
       "      <td>John Ramirez</td>\n",
       "      <td>22</td>\n",
       "    </tr>\n",
       "    <tr>\n",
       "      <th>96</th>\n",
       "      <td>Amy Cornett</td>\n",
       "      <td>18</td>\n",
       "    </tr>\n",
       "    <tr>\n",
       "      <th>97</th>\n",
       "      <td>Wesley Marquez</td>\n",
       "      <td>45</td>\n",
       "    </tr>\n",
       "    <tr>\n",
       "      <th>98</th>\n",
       "      <td>Robert Lum</td>\n",
       "      <td>41</td>\n",
       "    </tr>\n",
       "    <tr>\n",
       "      <th>99</th>\n",
       "      <td>Katherine Wood</td>\n",
       "      <td>85</td>\n",
       "    </tr>\n",
       "  </tbody>\n",
       "</table>\n",
       "<p>100 rows × 2 columns</p>\n",
       "</div>"
      ],
      "text/plain": [
       "                  name  sal\n",
       "0   Elizabeth Braswell   39\n",
       "1        Sarah Manzone   88\n",
       "2        Hazel Johnson   30\n",
       "3         Timothy Kadi   17\n",
       "4       Kelly Jacobson   89\n",
       "..                 ...  ...\n",
       "95        John Ramirez   22\n",
       "96         Amy Cornett   18\n",
       "97      Wesley Marquez   45\n",
       "98          Robert Lum   41\n",
       "99      Katherine Wood   85\n",
       "\n",
       "[100 rows x 2 columns]"
      ]
     },
     "execution_count": 14,
     "metadata": {},
     "output_type": "execute_result"
    }
   ],
   "source": [
    "df"
   ]
  },
  {
   "cell_type": "code",
   "execution_count": 15,
   "metadata": {},
   "outputs": [
    {
     "data": {
      "text/plain": [
       "0     39\n",
       "1     88\n",
       "2     30\n",
       "3     17\n",
       "4     89\n",
       "      ..\n",
       "95    22\n",
       "96    18\n",
       "97    45\n",
       "98    41\n",
       "99    85\n",
       "Name: sal, Length: 100, dtype: int64"
      ]
     },
     "execution_count": 15,
     "metadata": {},
     "output_type": "execute_result"
    }
   ],
   "source": [
    "df.sal"
   ]
  },
  {
   "cell_type": "code",
   "execution_count": 17,
   "metadata": {},
   "outputs": [
    {
     "data": {
      "text/plain": [
       "5504"
      ]
     },
     "execution_count": 17,
     "metadata": {},
     "output_type": "execute_result"
    }
   ],
   "source": [
    "df.sal.sum()"
   ]
  },
  {
   "cell_type": "code",
   "execution_count": 18,
   "metadata": {},
   "outputs": [
    {
     "data": {
      "text/html": [
       "<div>\n",
       "<style scoped>\n",
       "    .dataframe tbody tr th:only-of-type {\n",
       "        vertical-align: middle;\n",
       "    }\n",
       "\n",
       "    .dataframe tbody tr th {\n",
       "        vertical-align: top;\n",
       "    }\n",
       "\n",
       "    .dataframe thead th {\n",
       "        text-align: right;\n",
       "    }\n",
       "</style>\n",
       "<table border=\"1\" class=\"dataframe\">\n",
       "  <thead>\n",
       "    <tr style=\"text-align: right;\">\n",
       "      <th></th>\n",
       "      <th>sal</th>\n",
       "    </tr>\n",
       "  </thead>\n",
       "  <tbody>\n",
       "    <tr>\n",
       "      <th>count</th>\n",
       "      <td>100.00000</td>\n",
       "    </tr>\n",
       "    <tr>\n",
       "      <th>mean</th>\n",
       "      <td>55.04000</td>\n",
       "    </tr>\n",
       "    <tr>\n",
       "      <th>std</th>\n",
       "      <td>26.81923</td>\n",
       "    </tr>\n",
       "    <tr>\n",
       "      <th>min</th>\n",
       "      <td>10.00000</td>\n",
       "    </tr>\n",
       "    <tr>\n",
       "      <th>25%</th>\n",
       "      <td>31.75000</td>\n",
       "    </tr>\n",
       "    <tr>\n",
       "      <th>50%</th>\n",
       "      <td>51.50000</td>\n",
       "    </tr>\n",
       "    <tr>\n",
       "      <th>75%</th>\n",
       "      <td>80.00000</td>\n",
       "    </tr>\n",
       "    <tr>\n",
       "      <th>max</th>\n",
       "      <td>99.00000</td>\n",
       "    </tr>\n",
       "  </tbody>\n",
       "</table>\n",
       "</div>"
      ],
      "text/plain": [
       "             sal\n",
       "count  100.00000\n",
       "mean    55.04000\n",
       "std     26.81923\n",
       "min     10.00000\n",
       "25%     31.75000\n",
       "50%     51.50000\n",
       "75%     80.00000\n",
       "max     99.00000"
      ]
     },
     "execution_count": 18,
     "metadata": {},
     "output_type": "execute_result"
    }
   ],
   "source": [
    "df.describe()"
   ]
  },
  {
   "cell_type": "code",
   "execution_count": 19,
   "metadata": {},
   "outputs": [
    {
     "data": {
      "text/html": [
       "<div>\n",
       "<style scoped>\n",
       "    .dataframe tbody tr th:only-of-type {\n",
       "        vertical-align: middle;\n",
       "    }\n",
       "\n",
       "    .dataframe tbody tr th {\n",
       "        vertical-align: top;\n",
       "    }\n",
       "\n",
       "    .dataframe thead th {\n",
       "        text-align: right;\n",
       "    }\n",
       "</style>\n",
       "<table border=\"1\" class=\"dataframe\">\n",
       "  <thead>\n",
       "    <tr style=\"text-align: right;\">\n",
       "      <th></th>\n",
       "      <th>name</th>\n",
       "      <th>sal</th>\n",
       "    </tr>\n",
       "  </thead>\n",
       "  <tbody>\n",
       "    <tr>\n",
       "      <th>0</th>\n",
       "      <td>Elizabeth Braswell</td>\n",
       "      <td>39</td>\n",
       "    </tr>\n",
       "    <tr>\n",
       "      <th>1</th>\n",
       "      <td>Sarah Manzone</td>\n",
       "      <td>88</td>\n",
       "    </tr>\n",
       "    <tr>\n",
       "      <th>4</th>\n",
       "      <td>Kelly Jacobson</td>\n",
       "      <td>89</td>\n",
       "    </tr>\n",
       "    <tr>\n",
       "      <th>5</th>\n",
       "      <td>Mattie Clements</td>\n",
       "      <td>86</td>\n",
       "    </tr>\n",
       "    <tr>\n",
       "      <th>6</th>\n",
       "      <td>Adrian Schroder</td>\n",
       "      <td>36</td>\n",
       "    </tr>\n",
       "    <tr>\n",
       "      <th>...</th>\n",
       "      <td>...</td>\n",
       "      <td>...</td>\n",
       "    </tr>\n",
       "    <tr>\n",
       "      <th>91</th>\n",
       "      <td>Frank White</td>\n",
       "      <td>80</td>\n",
       "    </tr>\n",
       "    <tr>\n",
       "      <th>92</th>\n",
       "      <td>Scott Wertz</td>\n",
       "      <td>46</td>\n",
       "    </tr>\n",
       "    <tr>\n",
       "      <th>97</th>\n",
       "      <td>Wesley Marquez</td>\n",
       "      <td>45</td>\n",
       "    </tr>\n",
       "    <tr>\n",
       "      <th>98</th>\n",
       "      <td>Robert Lum</td>\n",
       "      <td>41</td>\n",
       "    </tr>\n",
       "    <tr>\n",
       "      <th>99</th>\n",
       "      <td>Katherine Wood</td>\n",
       "      <td>85</td>\n",
       "    </tr>\n",
       "  </tbody>\n",
       "</table>\n",
       "<p>76 rows × 2 columns</p>\n",
       "</div>"
      ],
      "text/plain": [
       "                  name  sal\n",
       "0   Elizabeth Braswell   39\n",
       "1        Sarah Manzone   88\n",
       "4       Kelly Jacobson   89\n",
       "5      Mattie Clements   86\n",
       "6      Adrian Schroder   36\n",
       "..                 ...  ...\n",
       "91         Frank White   80\n",
       "92         Scott Wertz   46\n",
       "97      Wesley Marquez   45\n",
       "98          Robert Lum   41\n",
       "99      Katherine Wood   85\n",
       "\n",
       "[76 rows x 2 columns]"
      ]
     },
     "execution_count": 19,
     "metadata": {},
     "output_type": "execute_result"
    }
   ],
   "source": [
    "df[df.sal>30]"
   ]
  },
  {
   "cell_type": "code",
   "execution_count": 20,
   "metadata": {},
   "outputs": [
    {
     "data": {
      "text/html": [
       "<div>\n",
       "<style scoped>\n",
       "    .dataframe tbody tr th:only-of-type {\n",
       "        vertical-align: middle;\n",
       "    }\n",
       "\n",
       "    .dataframe tbody tr th {\n",
       "        vertical-align: top;\n",
       "    }\n",
       "\n",
       "    .dataframe thead th {\n",
       "        text-align: right;\n",
       "    }\n",
       "</style>\n",
       "<table border=\"1\" class=\"dataframe\">\n",
       "  <thead>\n",
       "    <tr style=\"text-align: right;\">\n",
       "      <th></th>\n",
       "      <th>name</th>\n",
       "      <th>sal</th>\n",
       "    </tr>\n",
       "  </thead>\n",
       "  <tbody>\n",
       "    <tr>\n",
       "      <th>94</th>\n",
       "      <td>Kevin Pengelly</td>\n",
       "      <td>10</td>\n",
       "    </tr>\n",
       "    <tr>\n",
       "      <th>78</th>\n",
       "      <td>Jennifer Smith</td>\n",
       "      <td>11</td>\n",
       "    </tr>\n",
       "    <tr>\n",
       "      <th>57</th>\n",
       "      <td>Chung Hollowell</td>\n",
       "      <td>14</td>\n",
       "    </tr>\n",
       "    <tr>\n",
       "      <th>21</th>\n",
       "      <td>Emma Tejada</td>\n",
       "      <td>15</td>\n",
       "    </tr>\n",
       "    <tr>\n",
       "      <th>25</th>\n",
       "      <td>Jeff Ortiz</td>\n",
       "      <td>15</td>\n",
       "    </tr>\n",
       "    <tr>\n",
       "      <th>...</th>\n",
       "      <td>...</td>\n",
       "      <td>...</td>\n",
       "    </tr>\n",
       "    <tr>\n",
       "      <th>80</th>\n",
       "      <td>John Lazzari</td>\n",
       "      <td>96</td>\n",
       "    </tr>\n",
       "    <tr>\n",
       "      <th>62</th>\n",
       "      <td>Timothy Gandy</td>\n",
       "      <td>96</td>\n",
       "    </tr>\n",
       "    <tr>\n",
       "      <th>64</th>\n",
       "      <td>Ronald Kimbrough</td>\n",
       "      <td>97</td>\n",
       "    </tr>\n",
       "    <tr>\n",
       "      <th>63</th>\n",
       "      <td>George Sullivan</td>\n",
       "      <td>98</td>\n",
       "    </tr>\n",
       "    <tr>\n",
       "      <th>33</th>\n",
       "      <td>Robert Campbell</td>\n",
       "      <td>99</td>\n",
       "    </tr>\n",
       "  </tbody>\n",
       "</table>\n",
       "<p>100 rows × 2 columns</p>\n",
       "</div>"
      ],
      "text/plain": [
       "                name  sal\n",
       "94    Kevin Pengelly   10\n",
       "78    Jennifer Smith   11\n",
       "57   Chung Hollowell   14\n",
       "21       Emma Tejada   15\n",
       "25        Jeff Ortiz   15\n",
       "..               ...  ...\n",
       "80      John Lazzari   96\n",
       "62     Timothy Gandy   96\n",
       "64  Ronald Kimbrough   97\n",
       "63   George Sullivan   98\n",
       "33   Robert Campbell   99\n",
       "\n",
       "[100 rows x 2 columns]"
      ]
     },
     "execution_count": 20,
     "metadata": {},
     "output_type": "execute_result"
    }
   ],
   "source": [
    "df.sort_values(\"sal\")"
   ]
  },
  {
   "cell_type": "code",
   "execution_count": 21,
   "metadata": {},
   "outputs": [
    {
     "data": {
      "text/html": [
       "<div>\n",
       "<style scoped>\n",
       "    .dataframe tbody tr th:only-of-type {\n",
       "        vertical-align: middle;\n",
       "    }\n",
       "\n",
       "    .dataframe tbody tr th {\n",
       "        vertical-align: top;\n",
       "    }\n",
       "\n",
       "    .dataframe thead th {\n",
       "        text-align: right;\n",
       "    }\n",
       "</style>\n",
       "<table border=\"1\" class=\"dataframe\">\n",
       "  <thead>\n",
       "    <tr style=\"text-align: right;\">\n",
       "      <th></th>\n",
       "      <th>name</th>\n",
       "      <th>sal</th>\n",
       "    </tr>\n",
       "  </thead>\n",
       "  <tbody>\n",
       "    <tr>\n",
       "      <th>86</th>\n",
       "      <td>Michael Farris</td>\n",
       "      <td>94</td>\n",
       "    </tr>\n",
       "    <tr>\n",
       "      <th>26</th>\n",
       "      <td>Dwayne Reynolds</td>\n",
       "      <td>95</td>\n",
       "    </tr>\n",
       "    <tr>\n",
       "      <th>50</th>\n",
       "      <td>Tyson Starling</td>\n",
       "      <td>95</td>\n",
       "    </tr>\n",
       "    <tr>\n",
       "      <th>32</th>\n",
       "      <td>Vena Pursley</td>\n",
       "      <td>95</td>\n",
       "    </tr>\n",
       "    <tr>\n",
       "      <th>59</th>\n",
       "      <td>Mike Wiley</td>\n",
       "      <td>95</td>\n",
       "    </tr>\n",
       "    <tr>\n",
       "      <th>80</th>\n",
       "      <td>John Lazzari</td>\n",
       "      <td>96</td>\n",
       "    </tr>\n",
       "    <tr>\n",
       "      <th>62</th>\n",
       "      <td>Timothy Gandy</td>\n",
       "      <td>96</td>\n",
       "    </tr>\n",
       "    <tr>\n",
       "      <th>64</th>\n",
       "      <td>Ronald Kimbrough</td>\n",
       "      <td>97</td>\n",
       "    </tr>\n",
       "    <tr>\n",
       "      <th>63</th>\n",
       "      <td>George Sullivan</td>\n",
       "      <td>98</td>\n",
       "    </tr>\n",
       "    <tr>\n",
       "      <th>33</th>\n",
       "      <td>Robert Campbell</td>\n",
       "      <td>99</td>\n",
       "    </tr>\n",
       "  </tbody>\n",
       "</table>\n",
       "</div>"
      ],
      "text/plain": [
       "                name  sal\n",
       "86    Michael Farris   94\n",
       "26   Dwayne Reynolds   95\n",
       "50    Tyson Starling   95\n",
       "32      Vena Pursley   95\n",
       "59        Mike Wiley   95\n",
       "80      John Lazzari   96\n",
       "62     Timothy Gandy   96\n",
       "64  Ronald Kimbrough   97\n",
       "63   George Sullivan   98\n",
       "33   Robert Campbell   99"
      ]
     },
     "execution_count": 21,
     "metadata": {},
     "output_type": "execute_result"
    }
   ],
   "source": [
    "df.sort_values(\"sal\").tail(10)"
   ]
  },
  {
   "cell_type": "code",
   "execution_count": 22,
   "metadata": {},
   "outputs": [
    {
     "data": {
      "text/plain": [
       "<AxesSubplot:>"
      ]
     },
     "execution_count": 22,
     "metadata": {},
     "output_type": "execute_result"
    },
    {
     "data": {
      "image/png": "[encoded data removed]",
      "text/plain": [
       "<Figure size 432x288 with 1 Axes>"
      ]
     },
     "metadata": {
      "needs_background": "light"
     },
     "output_type": "display_data"
    }
   ],
   "source": [
    "df.sort_values(\"sal\").tail(10).plot(kind=\"bar\")"
   ]
  },
  {
   "cell_type": "code",
   "execution_count": 23,
   "metadata": {},
   "outputs": [
    {
     "data": {
      "text/plain": [
       "<AxesSubplot:xlabel='name'>"
      ]
     },
     "execution_count": 23,
     "metadata": {},
     "output_type": "execute_result"
    },
    {
     "data": {
      "image/png": "[encoded data removed]",
      "text/plain": [
       "<Figure size 432x288 with 1 Axes>"
      ]
     },
     "metadata": {
      "needs_background": "light"
     },
     "output_type": "display_data"
    }
   ],
   "source": [
    "df.sort_values(\"sal\").tail(10).plot(kind=\"bar\", x=\"name\")"
   ]
  },
  {
   "cell_type": "code",
   "execution_count": 24,
   "metadata": {},
   "outputs": [
    {
     "name": "stderr",
     "output_type": "stream",
     "text": [
      "c:\\python38\\lib\\site-packages\\pandas\\plotting\\_matplotlib\\core.py:1192: UserWarning: FixedFormatter should only be used together with FixedLocator\n",
      "  ax.set_xticklabels(xticklabels)\n"
     ]
    },
    {
     "data": {
      "text/plain": [
       "<AxesSubplot:xlabel='name'>"
      ]
     },
     "execution_count": 24,
     "metadata": {},
     "output_type": "execute_result"
    },
    {
     "data": {
      "image/png": "[encoded data removed]",
      "text/plain": [
       "<Figure size 432x288 with 1 Axes>"
      ]
     },
     "metadata": {
      "needs_background": "light"
     },
     "output_type": "display_data"
    }
   ],
   "source": [
    "df.sort_values(\"sal\").tail(10).plot(kind=\"line\", x=\"name\")"
   ]
  },
  {
   "cell_type": "code",
   "execution_count": 25,
   "metadata": {},
   "outputs": [
    {
     "ename": "ValueError",
     "evalue": "No tables found",
     "output_type": "error",
     "traceback": [
      "\u001b[1;31m---------------------------------------------------------------------------\u001b[0m",
      "\u001b[1;31mValueError\u001b[0m                                Traceback (most recent call last)",
      "\u001b[1;32m<ipython-input-25-eee06c8bd6dd>\u001b[0m in \u001b[0;36m<module>\u001b[1;34m\u001b[0m\n\u001b[1;32m----> 1\u001b[1;33m \u001b[0mdf\u001b[0m \u001b[1;33m=\u001b[0m \u001b[0mpd\u001b[0m\u001b[1;33m.\u001b[0m\u001b[0mread_html\u001b[0m\u001b[1;33m(\u001b[0m\u001b[1;34m\"https://www.xe.com/currencyconverter/\"\u001b[0m\u001b[1;33m)\u001b[0m\u001b[1;33m\u001b[0m\u001b[1;33m\u001b[0m\u001b[0m\n\u001b[0m",
      "\u001b[1;32mc:\\python38\\lib\\site-packages\\pandas\\io\\html.py\u001b[0m in \u001b[0;36mread_html\u001b[1;34m(io, match, flavor, header, index_col, skiprows, attrs, parse_dates, thousands, encoding, decimal, converters, na_values, keep_default_na, displayed_only)\u001b[0m\n\u001b[0;32m   1083\u001b[0m         )\n\u001b[0;32m   1084\u001b[0m     \u001b[0mvalidate_header_arg\u001b[0m\u001b[1;33m(\u001b[0m\u001b[0mheader\u001b[0m\u001b[1;33m)\u001b[0m\u001b[1;33m\u001b[0m\u001b[1;33m\u001b[0m\u001b[0m\n\u001b[1;32m-> 1085\u001b[1;33m     return _parse(\n\u001b[0m\u001b[0;32m   1086\u001b[0m         \u001b[0mflavor\u001b[0m\u001b[1;33m=\u001b[0m\u001b[0mflavor\u001b[0m\u001b[1;33m,\u001b[0m\u001b[1;33m\u001b[0m\u001b[1;33m\u001b[0m\u001b[0m\n\u001b[0;32m   1087\u001b[0m         \u001b[0mio\u001b[0m\u001b[1;33m=\u001b[0m\u001b[0mio\u001b[0m\u001b[1;33m,\u001b[0m\u001b[1;33m\u001b[0m\u001b[1;33m\u001b[0m\u001b[0m\n",
      "\u001b[1;32mc:\\python38\\lib\\site-packages\\pandas\\io\\html.py\u001b[0m in \u001b[0;36m_parse\u001b[1;34m(flavor, io, match, attrs, encoding, displayed_only, **kwargs)\u001b[0m\n\u001b[0;32m    913\u001b[0m             \u001b[1;32mbreak\u001b[0m\u001b[1;33m\u001b[0m\u001b[1;33m\u001b[0m\u001b[0m\n\u001b[0;32m    914\u001b[0m     \u001b[1;32melse\u001b[0m\u001b[1;33m:\u001b[0m\u001b[1;33m\u001b[0m\u001b[1;33m\u001b[0m\u001b[0m\n\u001b[1;32m--> 915\u001b[1;33m         \u001b[1;32mraise\u001b[0m \u001b[0mretained\u001b[0m\u001b[1;33m\u001b[0m\u001b[1;33m\u001b[0m\u001b[0m\n\u001b[0m\u001b[0;32m    916\u001b[0m \u001b[1;33m\u001b[0m\u001b[0m\n\u001b[0;32m    917\u001b[0m     \u001b[0mret\u001b[0m \u001b[1;33m=\u001b[0m \u001b[1;33m[\u001b[0m\u001b[1;33m]\u001b[0m\u001b[1;33m\u001b[0m\u001b[1;33m\u001b[0m\u001b[0m\n",
      "\u001b[1;32mc:\\python38\\lib\\site-packages\\pandas\\io\\html.py\u001b[0m in \u001b[0;36m_parse\u001b[1;34m(flavor, io, match, attrs, encoding, displayed_only, **kwargs)\u001b[0m\n\u001b[0;32m    893\u001b[0m \u001b[1;33m\u001b[0m\u001b[0m\n\u001b[0;32m    894\u001b[0m         \u001b[1;32mtry\u001b[0m\u001b[1;33m:\u001b[0m\u001b[1;33m\u001b[0m\u001b[1;33m\u001b[0m\u001b[0m\n\u001b[1;32m--> 895\u001b[1;33m             \u001b[0mtables\u001b[0m \u001b[1;33m=\u001b[0m \u001b[0mp\u001b[0m\u001b[1;33m.\u001b[0m\u001b[0mparse_tables\u001b[0m\u001b[1;33m(\u001b[0m\u001b[1;33m)\u001b[0m\u001b[1;33m\u001b[0m\u001b[1;33m\u001b[0m\u001b[0m\n\u001b[0m\u001b[0;32m    896\u001b[0m         \u001b[1;32mexcept\u001b[0m \u001b[0mValueError\u001b[0m \u001b[1;32mas\u001b[0m \u001b[0mcaught\u001b[0m\u001b[1;33m:\u001b[0m\u001b[1;33m\u001b[0m\u001b[1;33m\u001b[0m\u001b[0m\n\u001b[0;32m    897\u001b[0m             \u001b[1;31m# if `io` is an io-like object, check if it's seekable\u001b[0m\u001b[1;33m\u001b[0m\u001b[1;33m\u001b[0m\u001b[1;33m\u001b[0m\u001b[0m\n",
      "\u001b[1;32mc:\\python38\\lib\\site-packages\\pandas\\io\\html.py\u001b[0m in \u001b[0;36mparse_tables\u001b[1;34m(self)\u001b[0m\n\u001b[0;32m    211\u001b[0m         \u001b[0mlist\u001b[0m \u001b[0mof\u001b[0m \u001b[0mparsed\u001b[0m \u001b[1;33m(\u001b[0m\u001b[0mheader\u001b[0m\u001b[1;33m,\u001b[0m \u001b[0mbody\u001b[0m\u001b[1;33m,\u001b[0m \u001b[0mfooter\u001b[0m\u001b[1;33m)\u001b[0m \u001b[0mtuples\u001b[0m \u001b[1;32mfrom\u001b[0m \u001b[0mtables\u001b[0m\u001b[1;33m.\u001b[0m\u001b[1;33m\u001b[0m\u001b[1;33m\u001b[0m\u001b[0m\n\u001b[0;32m    212\u001b[0m         \"\"\"\n\u001b[1;32m--> 213\u001b[1;33m         \u001b[0mtables\u001b[0m \u001b[1;33m=\u001b[0m \u001b[0mself\u001b[0m\u001b[1;33m.\u001b[0m\u001b[0m_parse_tables\u001b[0m\u001b[1;33m(\u001b[0m\u001b[0mself\u001b[0m\u001b[1;33m.\u001b[0m\u001b[0m_build_doc\u001b[0m\u001b[1;33m(\u001b[0m\u001b[1;33m)\u001b[0m\u001b[1;33m,\u001b[0m \u001b[0mself\u001b[0m\u001b[1;33m.\u001b[0m\u001b[0mmatch\u001b[0m\u001b[1;33m,\u001b[0m \u001b[0mself\u001b[0m\u001b[1;33m.\u001b[0m\u001b[0mattrs\u001b[0m\u001b[1;33m)\u001b[0m\u001b[1;33m\u001b[0m\u001b[1;33m\u001b[0m\u001b[0m\n\u001b[0m\u001b[0;32m    214\u001b[0m         \u001b[1;32mreturn\u001b[0m \u001b[1;33m(\u001b[0m\u001b[0mself\u001b[0m\u001b[1;33m.\u001b[0m\u001b[0m_parse_thead_tbody_tfoot\u001b[0m\u001b[1;33m(\u001b[0m\u001b[0mtable\u001b[0m\u001b[1;33m)\u001b[0m \u001b[1;32mfor\u001b[0m \u001b[0mtable\u001b[0m \u001b[1;32min\u001b[0m \u001b[0mtables\u001b[0m\u001b[1;33m)\u001b[0m\u001b[1;33m\u001b[0m\u001b[1;33m\u001b[0m\u001b[0m\n\u001b[0;32m    215\u001b[0m \u001b[1;33m\u001b[0m\u001b[0m\n",
      "\u001b[1;32mc:\\python38\\lib\\site-packages\\pandas\\io\\html.py\u001b[0m in \u001b[0;36m_parse_tables\u001b[1;34m(self, doc, match, attrs)\u001b[0m\n\u001b[0;32m    543\u001b[0m \u001b[1;33m\u001b[0m\u001b[0m\n\u001b[0;32m    544\u001b[0m         \u001b[1;32mif\u001b[0m \u001b[1;32mnot\u001b[0m \u001b[0mtables\u001b[0m\u001b[1;33m:\u001b[0m\u001b[1;33m\u001b[0m\u001b[1;33m\u001b[0m\u001b[0m\n\u001b[1;32m--> 545\u001b[1;33m             \u001b[1;32mraise\u001b[0m \u001b[0mValueError\u001b[0m\u001b[1;33m(\u001b[0m\u001b[1;34m\"No tables found\"\u001b[0m\u001b[1;33m)\u001b[0m\u001b[1;33m\u001b[0m\u001b[1;33m\u001b[0m\u001b[0m\n\u001b[0m\u001b[0;32m    546\u001b[0m \u001b[1;33m\u001b[0m\u001b[0m\n\u001b[0;32m    547\u001b[0m         \u001b[0mresult\u001b[0m \u001b[1;33m=\u001b[0m \u001b[1;33m[\u001b[0m\u001b[1;33m]\u001b[0m\u001b[1;33m\u001b[0m\u001b[1;33m\u001b[0m\u001b[0m\n",
      "\u001b[1;31mValueError\u001b[0m: No tables found"
     ]
    }
   ],
   "source": [
    "df = pd.read_html(\"https://www.xe.com/currencyconverter/\")"
   ]
  },
  {
   "cell_type": "code",
   "execution_count": 26,
   "metadata": {},
   "outputs": [],
   "source": [
    "import requests"
   ]
  },
  {
   "cell_type": "code",
   "execution_count": 27,
   "metadata": {},
   "outputs": [],
   "source": [
    "source = requests.get(\"https://www.xe.com/currencyconverter/\")"
   ]
  },
  {
   "cell_type": "code",
   "execution_count": 28,
   "metadata": {},
   "outputs": [
    {
     "name": "stdout",
     "output_type": "stream",
     "text": [
      "<Response [200]>\n"
     ]
    }
   ],
   "source": [
    "print(source)"
   ]
  },
  {
   "cell_type": "code",
   "execution_count": 29,
   "metadata": {},
   "outputs": [],
   "source": [
    "df = pd.read_html(\"https://www.x-rates.com/table/?from=INR&amount=1\")"
   ]
  },
  {
   "cell_type": "code",
   "execution_count": 30,
   "metadata": {},
   "outputs": [
    {
     "name": "stdout",
     "output_type": "stream",
     "text": [
      "            Indian Rupee  1.00 INR  inv. 1.00 INR\n",
      "0              US Dollar  0.013486      74.152290\n",
      "1                   Euro  0.011629      85.989755\n",
      "2          British Pound  0.009954     100.460147\n",
      "3      Australian Dollar  0.018583      53.812901\n",
      "4        Canadian Dollar  0.017058      58.622860\n",
      "5       Singapore Dollar  0.018314      54.604031\n",
      "6            Swiss Franc  0.012551      79.673681\n",
      "7      Malaysian Ringgit  0.056410      17.727296\n",
      "8           Japanese Yen  1.497995       0.667559\n",
      "9  Chinese Yuan Renminbi  0.086938      11.502455\n",
      "             Indian Rupee      1.00 INR  inv. 1.00 INR\n",
      "0          Argentine Peso  1.331137e+00       0.751238\n",
      "1       Australian Dollar  1.858300e-02      53.812901\n",
      "2          Bahraini Dinar  5.071000e-03     197.213538\n",
      "3           Botswana Pula  1.522120e-01       6.569774\n",
      "4          Brazilian Real  7.236700e-02      13.818534\n",
      "5         Bruneian Dollar  1.831400e-02      54.604031\n",
      "6           Bulgarian Lev  2.274500e-02      43.965864\n",
      "7         Canadian Dollar  1.705800e-02      58.622860\n",
      "8            Chilean Peso  1.083227e+01       0.092317\n",
      "9   Chinese Yuan Renminbi  8.693800e-02      11.502455\n",
      "10         Colombian Peso  5.110910e+01       0.019566\n",
      "11          Croatian Kuna  8.722700e-02      11.464375\n",
      "12           Czech Koruna  2.944940e-01       3.395650\n",
      "13           Danish Krone  8.650400e-02      11.560184\n",
      "14                   Euro  1.162900e-02      85.989755\n",
      "15       Hong Kong Dollar  1.049860e-01       9.525062\n",
      "16       Hungarian Forint  4.161019e+00       0.240326\n",
      "17        Icelandic Krona  1.748401e+00       0.571951\n",
      "18      Indonesian Rupiah  1.924007e+02       0.005197\n",
      "19           Iranian Rial  5.667433e+02       0.001764\n",
      "20         Israeli Shekel  4.340600e-02      23.038170\n",
      "21           Japanese Yen  1.497995e+00       0.667559\n",
      "22      Kazakhstani Tenge  5.753233e+00       0.173815\n",
      "23       South Korean Won  1.594681e+01       0.062708\n",
      "24          Kuwaiti Dinar  4.064000e-03     246.067314\n",
      "25           Libyan Dinar  6.149100e-02      16.262559\n",
      "26      Malaysian Ringgit  5.641000e-02      17.727296\n",
      "27        Mauritian Rupee  5.755450e-01       1.737482\n",
      "28           Mexican Peso  2.757990e-01       3.625824\n",
      "29         Nepalese Rupee  1.607500e+00       0.622084\n",
      "30     New Zealand Dollar  1.942100e-02      51.490603\n",
      "31        Norwegian Krone  1.163490e-01       8.594849\n",
      "32             Omani Rial  5.185000e-03     192.853811\n",
      "33        Pakistani Rupee  2.302676e+00       0.434277\n",
      "34        Philippine Peso  6.842740e-01       1.461402\n",
      "35           Polish Zloty  5.327200e-02      18.771582\n",
      "36           Qatari Riyal  4.908800e-02      20.371508\n",
      "37       Romanian New Leu  5.752200e-02      17.384636\n",
      "38          Russian Ruble  9.810030e-01       1.019365\n",
      "39    Saudi Arabian Riyal  5.057200e-02      19.773944\n",
      "40       Singapore Dollar  1.831400e-02      54.604031\n",
      "41     South African Rand  2.004890e-01       4.987798\n",
      "42       Sri Lankan Rupee  2.693268e+00       0.371296\n",
      "43          Swedish Krona  1.181560e-01       8.463357\n",
      "44            Swiss Franc  1.255100e-02      79.673681\n",
      "45      Taiwan New Dollar  3.745080e-01       2.670170\n",
      "46              Thai Baht  4.529300e-01       2.207845\n",
      "47     Trinidadian Dollar  9.159200e-02      10.917937\n",
      "48           Turkish Lira  1.194350e-01       8.372738\n",
      "49         Emirati Dirham  4.952600e-02      20.191230\n",
      "50          British Pound  9.954000e-03     100.460147\n",
      "51              US Dollar  1.348600e-02      74.152290\n",
      "52     Venezuelan Bolivar  5.661461e+09       0.000000\n"
     ]
    }
   ],
   "source": [
    "for table in df:\n",
    "    print(table)"
   ]
  },
  {
   "cell_type": "code",
   "execution_count": 32,
   "metadata": {},
   "outputs": [
    {
     "data": {
      "text/html": [
       "<div>\n",
       "<style scoped>\n",
       "    .dataframe tbody tr th:only-of-type {\n",
       "        vertical-align: middle;\n",
       "    }\n",
       "\n",
       "    .dataframe tbody tr th {\n",
       "        vertical-align: top;\n",
       "    }\n",
       "\n",
       "    .dataframe thead th {\n",
       "        text-align: right;\n",
       "    }\n",
       "</style>\n",
       "<table border=\"1\" class=\"dataframe\">\n",
       "  <thead>\n",
       "    <tr style=\"text-align: right;\">\n",
       "      <th></th>\n",
       "      <th>Indian Rupee</th>\n",
       "      <th>1.00 INR</th>\n",
       "      <th>inv. 1.00 INR</th>\n",
       "    </tr>\n",
       "  </thead>\n",
       "  <tbody>\n",
       "    <tr>\n",
       "      <th>0</th>\n",
       "      <td>US Dollar</td>\n",
       "      <td>0.013486</td>\n",
       "      <td>74.152290</td>\n",
       "    </tr>\n",
       "    <tr>\n",
       "      <th>1</th>\n",
       "      <td>Euro</td>\n",
       "      <td>0.011629</td>\n",
       "      <td>85.989755</td>\n",
       "    </tr>\n",
       "    <tr>\n",
       "      <th>2</th>\n",
       "      <td>British Pound</td>\n",
       "      <td>0.009954</td>\n",
       "      <td>100.460147</td>\n",
       "    </tr>\n",
       "    <tr>\n",
       "      <th>3</th>\n",
       "      <td>Australian Dollar</td>\n",
       "      <td>0.018583</td>\n",
       "      <td>53.812901</td>\n",
       "    </tr>\n",
       "    <tr>\n",
       "      <th>4</th>\n",
       "      <td>Canadian Dollar</td>\n",
       "      <td>0.017058</td>\n",
       "      <td>58.622860</td>\n",
       "    </tr>\n",
       "    <tr>\n",
       "      <th>5</th>\n",
       "      <td>Singapore Dollar</td>\n",
       "      <td>0.018314</td>\n",
       "      <td>54.604031</td>\n",
       "    </tr>\n",
       "    <tr>\n",
       "      <th>6</th>\n",
       "      <td>Swiss Franc</td>\n",
       "      <td>0.012551</td>\n",
       "      <td>79.673681</td>\n",
       "    </tr>\n",
       "    <tr>\n",
       "      <th>7</th>\n",
       "      <td>Malaysian Ringgit</td>\n",
       "      <td>0.056410</td>\n",
       "      <td>17.727296</td>\n",
       "    </tr>\n",
       "    <tr>\n",
       "      <th>8</th>\n",
       "      <td>Japanese Yen</td>\n",
       "      <td>1.497995</td>\n",
       "      <td>0.667559</td>\n",
       "    </tr>\n",
       "    <tr>\n",
       "      <th>9</th>\n",
       "      <td>Chinese Yuan Renminbi</td>\n",
       "      <td>0.086938</td>\n",
       "      <td>11.502455</td>\n",
       "    </tr>\n",
       "  </tbody>\n",
       "</table>\n",
       "</div>"
      ],
      "text/plain": [
       "            Indian Rupee  1.00 INR  inv. 1.00 INR\n",
       "0              US Dollar  0.013486      74.152290\n",
       "1                   Euro  0.011629      85.989755\n",
       "2          British Pound  0.009954     100.460147\n",
       "3      Australian Dollar  0.018583      53.812901\n",
       "4        Canadian Dollar  0.017058      58.622860\n",
       "5       Singapore Dollar  0.018314      54.604031\n",
       "6            Swiss Franc  0.012551      79.673681\n",
       "7      Malaysian Ringgit  0.056410      17.727296\n",
       "8           Japanese Yen  1.497995       0.667559\n",
       "9  Chinese Yuan Renminbi  0.086938      11.502455"
      ]
     },
     "execution_count": 32,
     "metadata": {},
     "output_type": "execute_result"
    }
   ],
   "source": [
    "df[0]"
   ]
  },
  {
   "cell_type": "code",
   "execution_count": 33,
   "metadata": {},
   "outputs": [
    {
     "data": {
      "text/html": [
       "<div>\n",
       "<style scoped>\n",
       "    .dataframe tbody tr th:only-of-type {\n",
       "        vertical-align: middle;\n",
       "    }\n",
       "\n",
       "    .dataframe tbody tr th {\n",
       "        vertical-align: top;\n",
       "    }\n",
       "\n",
       "    .dataframe thead th {\n",
       "        text-align: right;\n",
       "    }\n",
       "</style>\n",
       "<table border=\"1\" class=\"dataframe\">\n",
       "  <thead>\n",
       "    <tr style=\"text-align: right;\">\n",
       "      <th></th>\n",
       "      <th>Indian Rupee</th>\n",
       "      <th>1.00 INR</th>\n",
       "      <th>inv. 1.00 INR</th>\n",
       "    </tr>\n",
       "  </thead>\n",
       "  <tbody>\n",
       "    <tr>\n",
       "      <th>0</th>\n",
       "      <td>Argentine Peso</td>\n",
       "      <td>1.331137e+00</td>\n",
       "      <td>0.751238</td>\n",
       "    </tr>\n",
       "    <tr>\n",
       "      <th>1</th>\n",
       "      <td>Australian Dollar</td>\n",
       "      <td>1.858300e-02</td>\n",
       "      <td>53.812901</td>\n",
       "    </tr>\n",
       "    <tr>\n",
       "      <th>2</th>\n",
       "      <td>Bahraini Dinar</td>\n",
       "      <td>5.071000e-03</td>\n",
       "      <td>197.213538</td>\n",
       "    </tr>\n",
       "    <tr>\n",
       "      <th>3</th>\n",
       "      <td>Botswana Pula</td>\n",
       "      <td>1.522120e-01</td>\n",
       "      <td>6.569774</td>\n",
       "    </tr>\n",
       "    <tr>\n",
       "      <th>4</th>\n",
       "      <td>Brazilian Real</td>\n",
       "      <td>7.236700e-02</td>\n",
       "      <td>13.818534</td>\n",
       "    </tr>\n",
       "    <tr>\n",
       "      <th>5</th>\n",
       "      <td>Bruneian Dollar</td>\n",
       "      <td>1.831400e-02</td>\n",
       "      <td>54.604031</td>\n",
       "    </tr>\n",
       "    <tr>\n",
       "      <th>6</th>\n",
       "      <td>Bulgarian Lev</td>\n",
       "      <td>2.274500e-02</td>\n",
       "      <td>43.965864</td>\n",
       "    </tr>\n",
       "    <tr>\n",
       "      <th>7</th>\n",
       "      <td>Canadian Dollar</td>\n",
       "      <td>1.705800e-02</td>\n",
       "      <td>58.622860</td>\n",
       "    </tr>\n",
       "    <tr>\n",
       "      <th>8</th>\n",
       "      <td>Chilean Peso</td>\n",
       "      <td>1.083227e+01</td>\n",
       "      <td>0.092317</td>\n",
       "    </tr>\n",
       "    <tr>\n",
       "      <th>9</th>\n",
       "      <td>Chinese Yuan Renminbi</td>\n",
       "      <td>8.693800e-02</td>\n",
       "      <td>11.502455</td>\n",
       "    </tr>\n",
       "    <tr>\n",
       "      <th>10</th>\n",
       "      <td>Colombian Peso</td>\n",
       "      <td>5.110910e+01</td>\n",
       "      <td>0.019566</td>\n",
       "    </tr>\n",
       "    <tr>\n",
       "      <th>11</th>\n",
       "      <td>Croatian Kuna</td>\n",
       "      <td>8.722700e-02</td>\n",
       "      <td>11.464375</td>\n",
       "    </tr>\n",
       "    <tr>\n",
       "      <th>12</th>\n",
       "      <td>Czech Koruna</td>\n",
       "      <td>2.944940e-01</td>\n",
       "      <td>3.395650</td>\n",
       "    </tr>\n",
       "    <tr>\n",
       "      <th>13</th>\n",
       "      <td>Danish Krone</td>\n",
       "      <td>8.650400e-02</td>\n",
       "      <td>11.560184</td>\n",
       "    </tr>\n",
       "    <tr>\n",
       "      <th>14</th>\n",
       "      <td>Euro</td>\n",
       "      <td>1.162900e-02</td>\n",
       "      <td>85.989755</td>\n",
       "    </tr>\n",
       "    <tr>\n",
       "      <th>15</th>\n",
       "      <td>Hong Kong Dollar</td>\n",
       "      <td>1.049860e-01</td>\n",
       "      <td>9.525062</td>\n",
       "    </tr>\n",
       "    <tr>\n",
       "      <th>16</th>\n",
       "      <td>Hungarian Forint</td>\n",
       "      <td>4.161019e+00</td>\n",
       "      <td>0.240326</td>\n",
       "    </tr>\n",
       "    <tr>\n",
       "      <th>17</th>\n",
       "      <td>Icelandic Krona</td>\n",
       "      <td>1.748401e+00</td>\n",
       "      <td>0.571951</td>\n",
       "    </tr>\n",
       "    <tr>\n",
       "      <th>18</th>\n",
       "      <td>Indonesian Rupiah</td>\n",
       "      <td>1.924007e+02</td>\n",
       "      <td>0.005197</td>\n",
       "    </tr>\n",
       "    <tr>\n",
       "      <th>19</th>\n",
       "      <td>Iranian Rial</td>\n",
       "      <td>5.667433e+02</td>\n",
       "      <td>0.001764</td>\n",
       "    </tr>\n",
       "    <tr>\n",
       "      <th>20</th>\n",
       "      <td>Israeli Shekel</td>\n",
       "      <td>4.340600e-02</td>\n",
       "      <td>23.038170</td>\n",
       "    </tr>\n",
       "    <tr>\n",
       "      <th>21</th>\n",
       "      <td>Japanese Yen</td>\n",
       "      <td>1.497995e+00</td>\n",
       "      <td>0.667559</td>\n",
       "    </tr>\n",
       "    <tr>\n",
       "      <th>22</th>\n",
       "      <td>Kazakhstani Tenge</td>\n",
       "      <td>5.753233e+00</td>\n",
       "      <td>0.173815</td>\n",
       "    </tr>\n",
       "    <tr>\n",
       "      <th>23</th>\n",
       "      <td>South Korean Won</td>\n",
       "      <td>1.594681e+01</td>\n",
       "      <td>0.062708</td>\n",
       "    </tr>\n",
       "    <tr>\n",
       "      <th>24</th>\n",
       "      <td>Kuwaiti Dinar</td>\n",
       "      <td>4.064000e-03</td>\n",
       "      <td>246.067314</td>\n",
       "    </tr>\n",
       "    <tr>\n",
       "      <th>25</th>\n",
       "      <td>Libyan Dinar</td>\n",
       "      <td>6.149100e-02</td>\n",
       "      <td>16.262559</td>\n",
       "    </tr>\n",
       "    <tr>\n",
       "      <th>26</th>\n",
       "      <td>Malaysian Ringgit</td>\n",
       "      <td>5.641000e-02</td>\n",
       "      <td>17.727296</td>\n",
       "    </tr>\n",
       "    <tr>\n",
       "      <th>27</th>\n",
       "      <td>Mauritian Rupee</td>\n",
       "      <td>5.755450e-01</td>\n",
       "      <td>1.737482</td>\n",
       "    </tr>\n",
       "    <tr>\n",
       "      <th>28</th>\n",
       "      <td>Mexican Peso</td>\n",
       "      <td>2.757990e-01</td>\n",
       "      <td>3.625824</td>\n",
       "    </tr>\n",
       "    <tr>\n",
       "      <th>29</th>\n",
       "      <td>Nepalese Rupee</td>\n",
       "      <td>1.607500e+00</td>\n",
       "      <td>0.622084</td>\n",
       "    </tr>\n",
       "    <tr>\n",
       "      <th>30</th>\n",
       "      <td>New Zealand Dollar</td>\n",
       "      <td>1.942100e-02</td>\n",
       "      <td>51.490603</td>\n",
       "    </tr>\n",
       "    <tr>\n",
       "      <th>31</th>\n",
       "      <td>Norwegian Krone</td>\n",
       "      <td>1.163490e-01</td>\n",
       "      <td>8.594849</td>\n",
       "    </tr>\n",
       "    <tr>\n",
       "      <th>32</th>\n",
       "      <td>Omani Rial</td>\n",
       "      <td>5.185000e-03</td>\n",
       "      <td>192.853811</td>\n",
       "    </tr>\n",
       "    <tr>\n",
       "      <th>33</th>\n",
       "      <td>Pakistani Rupee</td>\n",
       "      <td>2.302676e+00</td>\n",
       "      <td>0.434277</td>\n",
       "    </tr>\n",
       "    <tr>\n",
       "      <th>34</th>\n",
       "      <td>Philippine Peso</td>\n",
       "      <td>6.842740e-01</td>\n",
       "      <td>1.461402</td>\n",
       "    </tr>\n",
       "    <tr>\n",
       "      <th>35</th>\n",
       "      <td>Polish Zloty</td>\n",
       "      <td>5.327200e-02</td>\n",
       "      <td>18.771582</td>\n",
       "    </tr>\n",
       "    <tr>\n",
       "      <th>36</th>\n",
       "      <td>Qatari Riyal</td>\n",
       "      <td>4.908800e-02</td>\n",
       "      <td>20.371508</td>\n",
       "    </tr>\n",
       "    <tr>\n",
       "      <th>37</th>\n",
       "      <td>Romanian New Leu</td>\n",
       "      <td>5.752200e-02</td>\n",
       "      <td>17.384636</td>\n",
       "    </tr>\n",
       "    <tr>\n",
       "      <th>38</th>\n",
       "      <td>Russian Ruble</td>\n",
       "      <td>9.810030e-01</td>\n",
       "      <td>1.019365</td>\n",
       "    </tr>\n",
       "    <tr>\n",
       "      <th>39</th>\n",
       "      <td>Saudi Arabian Riyal</td>\n",
       "      <td>5.057200e-02</td>\n",
       "      <td>19.773944</td>\n",
       "    </tr>\n",
       "    <tr>\n",
       "      <th>40</th>\n",
       "      <td>Singapore Dollar</td>\n",
       "      <td>1.831400e-02</td>\n",
       "      <td>54.604031</td>\n",
       "    </tr>\n",
       "    <tr>\n",
       "      <th>41</th>\n",
       "      <td>South African Rand</td>\n",
       "      <td>2.004890e-01</td>\n",
       "      <td>4.987798</td>\n",
       "    </tr>\n",
       "    <tr>\n",
       "      <th>42</th>\n",
       "      <td>Sri Lankan Rupee</td>\n",
       "      <td>2.693268e+00</td>\n",
       "      <td>0.371296</td>\n",
       "    </tr>\n",
       "    <tr>\n",
       "      <th>43</th>\n",
       "      <td>Swedish Krona</td>\n",
       "      <td>1.181560e-01</td>\n",
       "      <td>8.463357</td>\n",
       "    </tr>\n",
       "    <tr>\n",
       "      <th>44</th>\n",
       "      <td>Swiss Franc</td>\n",
       "      <td>1.255100e-02</td>\n",
       "      <td>79.673681</td>\n",
       "    </tr>\n",
       "    <tr>\n",
       "      <th>45</th>\n",
       "      <td>Taiwan New Dollar</td>\n",
       "      <td>3.745080e-01</td>\n",
       "      <td>2.670170</td>\n",
       "    </tr>\n",
       "    <tr>\n",
       "      <th>46</th>\n",
       "      <td>Thai Baht</td>\n",
       "      <td>4.529300e-01</td>\n",
       "      <td>2.207845</td>\n",
       "    </tr>\n",
       "    <tr>\n",
       "      <th>47</th>\n",
       "      <td>Trinidadian Dollar</td>\n",
       "      <td>9.159200e-02</td>\n",
       "      <td>10.917937</td>\n",
       "    </tr>\n",
       "    <tr>\n",
       "      <th>48</th>\n",
       "      <td>Turkish Lira</td>\n",
       "      <td>1.194350e-01</td>\n",
       "      <td>8.372738</td>\n",
       "    </tr>\n",
       "    <tr>\n",
       "      <th>49</th>\n",
       "      <td>Emirati Dirham</td>\n",
       "      <td>4.952600e-02</td>\n",
       "      <td>20.191230</td>\n",
       "    </tr>\n",
       "    <tr>\n",
       "      <th>50</th>\n",
       "      <td>British Pound</td>\n",
       "      <td>9.954000e-03</td>\n",
       "      <td>100.460147</td>\n",
       "    </tr>\n",
       "    <tr>\n",
       "      <th>51</th>\n",
       "      <td>US Dollar</td>\n",
       "      <td>1.348600e-02</td>\n",
       "      <td>74.152290</td>\n",
       "    </tr>\n",
       "    <tr>\n",
       "      <th>52</th>\n",
       "      <td>Venezuelan Bolivar</td>\n",
       "      <td>5.661461e+09</td>\n",
       "      <td>0.000000</td>\n",
       "    </tr>\n",
       "  </tbody>\n",
       "</table>\n",
       "</div>"
      ],
      "text/plain": [
       "             Indian Rupee      1.00 INR  inv. 1.00 INR\n",
       "0          Argentine Peso  1.331137e+00       0.751238\n",
       "1       Australian Dollar  1.858300e-02      53.812901\n",
       "2          Bahraini Dinar  5.071000e-03     197.213538\n",
       "3           Botswana Pula  1.522120e-01       6.569774\n",
       "4          Brazilian Real  7.236700e-02      13.818534\n",
       "5         Bruneian Dollar  1.831400e-02      54.604031\n",
       "6           Bulgarian Lev  2.274500e-02      43.965864\n",
       "7         Canadian Dollar  1.705800e-02      58.622860\n",
       "8            Chilean Peso  1.083227e+01       0.092317\n",
       "9   Chinese Yuan Renminbi  8.693800e-02      11.502455\n",
       "10         Colombian Peso  5.110910e+01       0.019566\n",
       "11          Croatian Kuna  8.722700e-02      11.464375\n",
       "12           Czech Koruna  2.944940e-01       3.395650\n",
       "13           Danish Krone  8.650400e-02      11.560184\n",
       "14                   Euro  1.162900e-02      85.989755\n",
       "15       Hong Kong Dollar  1.049860e-01       9.525062\n",
       "16       Hungarian Forint  4.161019e+00       0.240326\n",
       "17        Icelandic Krona  1.748401e+00       0.571951\n",
       "18      Indonesian Rupiah  1.924007e+02       0.005197\n",
       "19           Iranian Rial  5.667433e+02       0.001764\n",
       "20         Israeli Shekel  4.340600e-02      23.038170\n",
       "21           Japanese Yen  1.497995e+00       0.667559\n",
       "22      Kazakhstani Tenge  5.753233e+00       0.173815\n",
       "23       South Korean Won  1.594681e+01       0.062708\n",
       "24          Kuwaiti Dinar  4.064000e-03     246.067314\n",
       "25           Libyan Dinar  6.149100e-02      16.262559\n",
       "26      Malaysian Ringgit  5.641000e-02      17.727296\n",
       "27        Mauritian Rupee  5.755450e-01       1.737482\n",
       "28           Mexican Peso  2.757990e-01       3.625824\n",
       "29         Nepalese Rupee  1.607500e+00       0.622084\n",
       "30     New Zealand Dollar  1.942100e-02      51.490603\n",
       "31        Norwegian Krone  1.163490e-01       8.594849\n",
       "32             Omani Rial  5.185000e-03     192.853811\n",
       "33        Pakistani Rupee  2.302676e+00       0.434277\n",
       "34        Philippine Peso  6.842740e-01       1.461402\n",
       "35           Polish Zloty  5.327200e-02      18.771582\n",
       "36           Qatari Riyal  4.908800e-02      20.371508\n",
       "37       Romanian New Leu  5.752200e-02      17.384636\n",
       "38          Russian Ruble  9.810030e-01       1.019365\n",
       "39    Saudi Arabian Riyal  5.057200e-02      19.773944\n",
       "40       Singapore Dollar  1.831400e-02      54.604031\n",
       "41     South African Rand  2.004890e-01       4.987798\n",
       "42       Sri Lankan Rupee  2.693268e+00       0.371296\n",
       "43          Swedish Krona  1.181560e-01       8.463357\n",
       "44            Swiss Franc  1.255100e-02      79.673681\n",
       "45      Taiwan New Dollar  3.745080e-01       2.670170\n",
       "46              Thai Baht  4.529300e-01       2.207845\n",
       "47     Trinidadian Dollar  9.159200e-02      10.917937\n",
       "48           Turkish Lira  1.194350e-01       8.372738\n",
       "49         Emirati Dirham  4.952600e-02      20.191230\n",
       "50          British Pound  9.954000e-03     100.460147\n",
       "51              US Dollar  1.348600e-02      74.152290\n",
       "52     Venezuelan Bolivar  5.661461e+09       0.000000"
      ]
     },
     "execution_count": 33,
     "metadata": {},
     "output_type": "execute_result"
    }
   ],
   "source": [
    "df[1]"
   ]
  },
  {
   "cell_type": "code",
   "execution_count": 34,
   "metadata": {},
   "outputs": [],
   "source": [
    "df[0].to_csv(\"rates.csv\")"
   ]
  },
  {
   "cell_type": "code",
   "execution_count": 35,
   "metadata": {},
   "outputs": [],
   "source": [
    "df = pd.read_csv(\"rates.csv\")"
   ]
  },
  {
   "cell_type": "code",
   "execution_count": 36,
   "metadata": {},
   "outputs": [
    {
     "data": {
      "text/html": [
       "<div>\n",
       "<style scoped>\n",
       "    .dataframe tbody tr th:only-of-type {\n",
       "        vertical-align: middle;\n",
       "    }\n",
       "\n",
       "    .dataframe tbody tr th {\n",
       "        vertical-align: top;\n",
       "    }\n",
       "\n",
       "    .dataframe thead th {\n",
       "        text-align: right;\n",
       "    }\n",
       "</style>\n",
       "<table border=\"1\" class=\"dataframe\">\n",
       "  <thead>\n",
       "    <tr style=\"text-align: right;\">\n",
       "      <th></th>\n",
       "      <th>Indian Rupee</th>\n",
       "      <th>1.00 INR</th>\n",
       "      <th>inv. 1.00 INR</th>\n",
       "    </tr>\n",
       "  </thead>\n",
       "  <tbody>\n",
       "    <tr>\n",
       "      <th>0</th>\n",
       "      <td>US Dollar</td>\n",
       "      <td>0.013486</td>\n",
       "      <td>74.152290</td>\n",
       "    </tr>\n",
       "    <tr>\n",
       "      <th>1</th>\n",
       "      <td>Euro</td>\n",
       "      <td>0.011629</td>\n",
       "      <td>85.989755</td>\n",
       "    </tr>\n",
       "    <tr>\n",
       "      <th>2</th>\n",
       "      <td>British Pound</td>\n",
       "      <td>0.009954</td>\n",
       "      <td>100.460147</td>\n",
       "    </tr>\n",
       "    <tr>\n",
       "      <th>3</th>\n",
       "      <td>Australian Dollar</td>\n",
       "      <td>0.018583</td>\n",
       "      <td>53.812901</td>\n",
       "    </tr>\n",
       "    <tr>\n",
       "      <th>4</th>\n",
       "      <td>Canadian Dollar</td>\n",
       "      <td>0.017058</td>\n",
       "      <td>58.622860</td>\n",
       "    </tr>\n",
       "    <tr>\n",
       "      <th>5</th>\n",
       "      <td>Singapore Dollar</td>\n",
       "      <td>0.018314</td>\n",
       "      <td>54.604031</td>\n",
       "    </tr>\n",
       "    <tr>\n",
       "      <th>6</th>\n",
       "      <td>Swiss Franc</td>\n",
       "      <td>0.012551</td>\n",
       "      <td>79.673681</td>\n",
       "    </tr>\n",
       "    <tr>\n",
       "      <th>7</th>\n",
       "      <td>Malaysian Ringgit</td>\n",
       "      <td>0.056410</td>\n",
       "      <td>17.727296</td>\n",
       "    </tr>\n",
       "    <tr>\n",
       "      <th>8</th>\n",
       "      <td>Japanese Yen</td>\n",
       "      <td>1.497995</td>\n",
       "      <td>0.667559</td>\n",
       "    </tr>\n",
       "    <tr>\n",
       "      <th>9</th>\n",
       "      <td>Chinese Yuan Renminbi</td>\n",
       "      <td>0.086938</td>\n",
       "      <td>11.502455</td>\n",
       "    </tr>\n",
       "  </tbody>\n",
       "</table>\n",
       "</div>"
      ],
      "text/plain": [
       "            Indian Rupee  1.00 INR  inv. 1.00 INR\n",
       "0              US Dollar  0.013486      74.152290\n",
       "1                   Euro  0.011629      85.989755\n",
       "2          British Pound  0.009954     100.460147\n",
       "3      Australian Dollar  0.018583      53.812901\n",
       "4        Canadian Dollar  0.017058      58.622860\n",
       "5       Singapore Dollar  0.018314      54.604031\n",
       "6            Swiss Franc  0.012551      79.673681\n",
       "7      Malaysian Ringgit  0.056410      17.727296\n",
       "8           Japanese Yen  1.497995       0.667559\n",
       "9  Chinese Yuan Renminbi  0.086938      11.502455"
      ]
     },
     "execution_count": 36,
     "metadata": {},
     "output_type": "execute_result"
    }
   ],
   "source": [
    "df"
   ]
  },
  {
   "cell_type": "code",
   "execution_count": 38,
   "metadata": {},
   "outputs": [],
   "source": [
    "pd.read_sql?"
   ]
  },
  {
   "cell_type": "code",
   "execution_count": 39,
   "metadata": {},
   "outputs": [
    {
     "data": {
      "text/plain": [
       "<module 'requests' from 'c:\\\\python38\\\\lib\\\\site-packages\\\\requests\\\\__init__.py'>"
      ]
     },
     "execution_count": 39,
     "metadata": {},
     "output_type": "execute_result"
    }
   ],
   "source": [
    "requests"
   ]
  },
  {
   "cell_type": "code",
   "execution_count": null,
   "metadata": {},
   "outputs": [],
   "source": []
  }
 ],
 "metadata": {
  "kernelspec": {
   "display_name": "Python 3",
   "language": "python",
   "name": "python3"
  },
  "language_info": {
   "codemirror_mode": {
    "name": "ipython",
    "version": 3
   },
   "file_extension": ".py",
   "mimetype": "text/x-python",
   "name": "python",
   "nbconvert_exporter": "python",
   "pygments_lexer": "ipython3",
   "version": "3.8.3"
  }
 },
 "nbformat": 4,
 "nbformat_minor": 4
}
