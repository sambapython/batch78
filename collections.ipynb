{
 "cells": [
  {
   "cell_type": "code",
   "execution_count": 1,
   "metadata": {},
   "outputs": [],
   "source": [
    "from collections import defaultdict"
   ]
  },
  {
   "cell_type": "code",
   "execution_count": 2,
   "metadata": {},
   "outputs": [],
   "source": [
    "d={}"
   ]
  },
  {
   "cell_type": "code",
   "execution_count": 3,
   "metadata": {},
   "outputs": [],
   "source": [
    "d.get(\"key1\")"
   ]
  },
  {
   "cell_type": "code",
   "execution_count": 4,
   "metadata": {},
   "outputs": [],
   "source": [
    "d=defaultdict(list)"
   ]
  },
  {
   "cell_type": "code",
   "execution_count": 5,
   "metadata": {},
   "outputs": [
    {
     "data": {
      "text/plain": [
       "[]"
      ]
     },
     "execution_count": 5,
     "metadata": {},
     "output_type": "execute_result"
    }
   ],
   "source": [
    "d[\"key1\"]"
   ]
  },
  {
   "cell_type": "code",
   "execution_count": 6,
   "metadata": {},
   "outputs": [],
   "source": [
    "d=defaultdict(int)"
   ]
  },
  {
   "cell_type": "code",
   "execution_count": 7,
   "metadata": {},
   "outputs": [
    {
     "data": {
      "text/plain": [
       "0"
      ]
     },
     "execution_count": 7,
     "metadata": {},
     "output_type": "execute_result"
    }
   ],
   "source": [
    "d[\"k2\"]"
   ]
  },
  {
   "cell_type": "code",
   "execution_count": 8,
   "metadata": {},
   "outputs": [
    {
     "data": {
      "text/plain": [
       "0"
      ]
     },
     "execution_count": 8,
     "metadata": {},
     "output_type": "execute_result"
    }
   ],
   "source": [
    "d[\"k3\"]"
   ]
  },
  {
   "cell_type": "code",
   "execution_count": 9,
   "metadata": {},
   "outputs": [
    {
     "name": "stdout",
     "output_type": "stream",
     "text": [
      "defaultdict(<class 'list'>, {70: ['virat', 'rohit'], 30: ['rahul', 'davan'], 4: ['bumra', 'shami']})\n"
     ]
    }
   ],
   "source": [
    "todays_match_scores={\"virat\":70,\"rohit\":70,\"rahul\":30,\"davan\":30,\"bumra\":4,\"shami\":4}\n",
    "#{70:[\"virat\",\"rohit\"],30:[\"davan\",\"rahul\"],4:[\"bumra\",\"shami\"]}\n",
    "res=defaultdict(list)\n",
    "for key,value in todays_match_scores.items():\n",
    "    res[value].append(key)\n",
    "print(res)"
   ]
  },
  {
   "cell_type": "code",
   "execution_count": 10,
   "metadata": {},
   "outputs": [
    {
     "name": "stdout",
     "output_type": "stream",
     "text": [
      "{70: ['virat', 'rohit'], 30: ['rahul', 'davan'], 4: ['bumra', 'shami']}\n"
     ]
    }
   ],
   "source": [
    "todays_match_scores={\"virat\":70,\"rohit\":70,\"rahul\":30,\"davan\":30,\"bumra\":4,\"shami\":4}\n",
    "#{70:[\"virat\",\"rohit\"],30:[\"davan\",\"rahul\"],4:[\"bumra\",\"shami\"]}\n",
    "res=dict()\n",
    "for key,value in todays_match_scores.items():\n",
    "    if not value in res:\n",
    "        res[value]=[]\n",
    "    res[value].append(key)\n",
    "print(res)"
   ]
  },
  {
   "cell_type": "code",
   "execution_count": 12,
   "metadata": {},
   "outputs": [],
   "source": [
    "from collections import namedtuple"
   ]
  },
  {
   "cell_type": "code",
   "execution_count": 13,
   "metadata": {},
   "outputs": [
    {
     "name": "stdout",
     "output_type": "stream",
     "text": [
      "(30, 40)\n"
     ]
    }
   ],
   "source": [
    "def get_res():\n",
    "    return 30,40\n",
    "res=get_res()\n",
    "print(res)"
   ]
  },
  {
   "cell_type": "code",
   "execution_count": 14,
   "metadata": {},
   "outputs": [
    {
     "name": "stdout",
     "output_type": "stream",
     "text": [
      "{'tests_ran': 40, 'success': 30}\n"
     ]
    }
   ],
   "source": [
    "def get_res():\n",
    "    return {\"tests_ran\":40,\"success\":30}\n",
    "res=get_res()\n",
    "print(res)"
   ]
  },
  {
   "cell_type": "code",
   "execution_count": 16,
   "metadata": {},
   "outputs": [
    {
     "name": "stdout",
     "output_type": "stream",
     "text": [
      "Test_cases_Result(tests_ran=30, success=40)\n"
     ]
    }
   ],
   "source": [
    "def get_res():\n",
    "    res = namedtuple(\"Test_cases_Result\",(\"tests_ran\",\"success\"))\n",
    "    return res(30,40)\n",
    "res=get_res()\n",
    "print(res)"
   ]
  },
  {
   "cell_type": "code",
   "execution_count": 17,
   "metadata": {},
   "outputs": [
    {
     "name": "stdout",
     "output_type": "stream",
     "text": [
      "[123, 10, 12, 34, 56]\n"
     ]
    }
   ],
   "source": [
    "l=[10,12,34,56]\n",
    "l.insert(0,123)\n",
    "print(l)"
   ]
  },
  {
   "cell_type": "code",
   "execution_count": 18,
   "metadata": {},
   "outputs": [
    {
     "name": "stdout",
     "output_type": "stream",
     "text": [
      "deque([10, 12, 34, 56])\n"
     ]
    }
   ],
   "source": [
    "from collections import deque\n",
    "l=deque([10,12,34,56])\n",
    "print(l)"
   ]
  },
  {
   "cell_type": "code",
   "execution_count": 19,
   "metadata": {},
   "outputs": [
    {
     "name": "stdout",
     "output_type": "stream",
     "text": [
      "deque([123, 10, 12, 34, 56])\n"
     ]
    }
   ],
   "source": [
    "l.appendleft(123)\n",
    "print(l)"
   ]
  },
  {
   "cell_type": "code",
   "execution_count": 21,
   "metadata": {},
   "outputs": [
    {
     "name": "stdout",
     "output_type": "stream",
     "text": [
      "deque([10, 12, 34, 56])\n"
     ]
    }
   ],
   "source": [
    "l.popleft()\n",
    "print(l)"
   ]
  },
  {
   "cell_type": "code",
   "execution_count": 22,
   "metadata": {},
   "outputs": [
    {
     "name": "stdout",
     "output_type": "stream",
     "text": [
      "deque([10, 12, 34, 200, 56])\n"
     ]
    }
   ],
   "source": [
    "l.insert(3,200)\n",
    "print(l)"
   ]
  },
  {
   "cell_type": "code",
   "execution_count": null,
   "metadata": {},
   "outputs": [],
   "source": []
  }
 ],
 "metadata": {
  "kernelspec": {
   "display_name": "Python 3",
   "language": "python",
   "name": "python3"
  },
  "language_info": {
   "codemirror_mode": {
    "name": "ipython",
    "version": 3
   },
   "file_extension": ".py",
   "mimetype": "text/x-python",
   "name": "python",
   "nbconvert_exporter": "python",
   "pygments_lexer": "ipython3",
   "version": "3.8.3"
  }
 },
 "nbformat": 4,
 "nbformat_minor": 4
}
