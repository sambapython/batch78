{
 "cells": [
  {
   "cell_type": "code",
   "execution_count": 1,
   "metadata": {},
   "outputs": [
    {
     "data": {
      "text/plain": [
       "False"
      ]
     },
     "execution_count": 1,
     "metadata": {},
     "output_type": "execute_result"
    }
   ],
   "source": [
    "10>20"
   ]
  },
  {
   "cell_type": "code",
   "execution_count": 2,
   "metadata": {},
   "outputs": [
    {
     "data": {
      "text/plain": [
       "True"
      ]
     },
     "execution_count": 2,
     "metadata": {},
     "output_type": "execute_result"
    }
   ],
   "source": [
    "10>20 or 1<2"
   ]
  },
  {
   "cell_type": "code",
   "execution_count": 3,
   "metadata": {},
   "outputs": [
    {
     "data": {
      "text/plain": [
       "False"
      ]
     },
     "execution_count": 3,
     "metadata": {},
     "output_type": "execute_result"
    }
   ],
   "source": [
    "bool(0)"
   ]
  },
  {
   "cell_type": "code",
   "execution_count": 4,
   "metadata": {},
   "outputs": [
    {
     "data": {
      "text/plain": [
       "False"
      ]
     },
     "execution_count": 4,
     "metadata": {},
     "output_type": "execute_result"
    }
   ],
   "source": [
    "bool(0.0)"
   ]
  },
  {
   "cell_type": "code",
   "execution_count": 5,
   "metadata": {},
   "outputs": [
    {
     "data": {
      "text/plain": [
       "False"
      ]
     },
     "execution_count": 5,
     "metadata": {},
     "output_type": "execute_result"
    }
   ],
   "source": [
    "bool(0+0j)"
   ]
  },
  {
   "cell_type": "code",
   "execution_count": 6,
   "metadata": {},
   "outputs": [
    {
     "data": {
      "text/plain": [
       "False"
      ]
     },
     "execution_count": 6,
     "metadata": {},
     "output_type": "execute_result"
    }
   ],
   "source": [
    "bool([])"
   ]
  },
  {
   "cell_type": "code",
   "execution_count": 8,
   "metadata": {},
   "outputs": [
    {
     "data": {
      "text/plain": [
       "False"
      ]
     },
     "execution_count": 8,
     "metadata": {},
     "output_type": "execute_result"
    }
   ],
   "source": [
    "bool(dict())"
   ]
  },
  {
   "cell_type": "code",
   "execution_count": 9,
   "metadata": {},
   "outputs": [
    {
     "data": {
      "text/plain": [
       "False"
      ]
     },
     "execution_count": 9,
     "metadata": {},
     "output_type": "execute_result"
    }
   ],
   "source": [
    "bool(set())"
   ]
  },
  {
   "cell_type": "code",
   "execution_count": 10,
   "metadata": {},
   "outputs": [
    {
     "data": {
      "text/plain": [
       "False"
      ]
     },
     "execution_count": 10,
     "metadata": {},
     "output_type": "execute_result"
    }
   ],
   "source": [
    "bool(tuple())"
   ]
  },
  {
   "cell_type": "code",
   "execution_count": 11,
   "metadata": {},
   "outputs": [
    {
     "data": {
      "text/plain": [
       "True"
      ]
     },
     "execution_count": 11,
     "metadata": {},
     "output_type": "execute_result"
    }
   ],
   "source": [
    "bool(1)"
   ]
  },
  {
   "cell_type": "code",
   "execution_count": 12,
   "metadata": {},
   "outputs": [
    {
     "data": {
      "text/plain": [
       "True"
      ]
     },
     "execution_count": 12,
     "metadata": {},
     "output_type": "execute_result"
    }
   ],
   "source": [
    "bool(1000)"
   ]
  },
  {
   "cell_type": "code",
   "execution_count": 13,
   "metadata": {},
   "outputs": [
    {
     "data": {
      "text/plain": [
       "True"
      ]
     },
     "execution_count": 13,
     "metadata": {},
     "output_type": "execute_result"
    }
   ],
   "source": [
    "bool(-1000)"
   ]
  },
  {
   "cell_type": "code",
   "execution_count": 14,
   "metadata": {},
   "outputs": [
    {
     "data": {
      "text/plain": [
       "True"
      ]
     },
     "execution_count": 14,
     "metadata": {},
     "output_type": "execute_result"
    }
   ],
   "source": [
    "bool([10,20,30,4])"
   ]
  },
  {
   "cell_type": "code",
   "execution_count": 15,
   "metadata": {},
   "outputs": [
    {
     "data": {
      "text/plain": [
       "True"
      ]
     },
     "execution_count": 15,
     "metadata": {},
     "output_type": "execute_result"
    }
   ],
   "source": [
    "bool([0])"
   ]
  },
  {
   "cell_type": "code",
   "execution_count": 16,
   "metadata": {},
   "outputs": [
    {
     "data": {
      "text/plain": [
       "False"
      ]
     },
     "execution_count": 16,
     "metadata": {},
     "output_type": "execute_result"
    }
   ],
   "source": [
    "bool(\"\")"
   ]
  },
  {
   "cell_type": "code",
   "execution_count": 17,
   "metadata": {},
   "outputs": [
    {
     "data": {
      "text/plain": [
       "True"
      ]
     },
     "execution_count": 17,
     "metadata": {},
     "output_type": "execute_result"
    }
   ],
   "source": [
    "bool(\"python\")"
   ]
  },
  {
   "cell_type": "code",
   "execution_count": 18,
   "metadata": {},
   "outputs": [
    {
     "data": {
      "text/plain": [
       "True"
      ]
     },
     "execution_count": 18,
     "metadata": {},
     "output_type": "execute_result"
    }
   ],
   "source": [
    "bool(\"0\")"
   ]
  },
  {
   "cell_type": "code",
   "execution_count": 19,
   "metadata": {},
   "outputs": [
    {
     "name": "stdout",
     "output_type": "stream",
     "text": [
      "a is greater than b\n",
      "b is greater than a\n"
     ]
    }
   ],
   "source": [
    "print(\"a is greater than b\")\n",
    "print(\"b is greater than a\")"
   ]
  },
  {
   "cell_type": "code",
   "execution_count": 20,
   "metadata": {},
   "outputs": [
    {
     "name": "stdout",
     "output_type": "stream",
     "text": [
      "program started\n",
      "a is greater than b\n",
      "b is greater than a\n",
      "program ended\n"
     ]
    }
   ],
   "source": [
    "print(\"program started\")\n",
    "print(\"a is greater than b\")\n",
    "print(\"b is greater than a\")\n",
    "print(\"program ended\")"
   ]
  },
  {
   "cell_type": "code",
   "execution_count": 21,
   "metadata": {},
   "outputs": [
    {
     "name": "stdout",
     "output_type": "stream",
     "text": [
      "program started\n",
      "a is greater than b\n",
      "program ended\n"
     ]
    }
   ],
   "source": [
    "print(\"program started\")\n",
    "if True:\n",
    "    print(\"a is greater than b\")\n",
    "else:\n",
    "    print(\"b is greater than a\")\n",
    "print(\"program ended\")"
   ]
  },
  {
   "cell_type": "code",
   "execution_count": 22,
   "metadata": {},
   "outputs": [
    {
     "name": "stdout",
     "output_type": "stream",
     "text": [
      "program started\n",
      "b is greater than a\n",
      "program ended\n"
     ]
    }
   ],
   "source": [
    "print(\"program started\")\n",
    "if False:\n",
    "    print(\"a is greater than b\")\n",
    "else:\n",
    "    print(\"b is greater than a\")\n",
    "print(\"program ended\")"
   ]
  },
  {
   "cell_type": "code",
   "execution_count": 23,
   "metadata": {},
   "outputs": [
    {
     "name": "stdout",
     "output_type": "stream",
     "text": [
      "program started\n",
      "else block started\n",
      "b is greater than a\n",
      "else block ended\n",
      "program ended\n"
     ]
    }
   ],
   "source": [
    "print(\"program started\")\n",
    "if False:\n",
    "    print(\"if block started\")\n",
    "    print(\"a is greater than b\")\n",
    "    print(\"if block ended\")\n",
    "else:\n",
    "    print(\"else block started\")\n",
    "    print(\"b is greater than a\")\n",
    "    print(\"else block ended\")\n",
    "print(\"program ended\")"
   ]
  },
  {
   "cell_type": "code",
   "execution_count": 24,
   "metadata": {},
   "outputs": [
    {
     "name": "stdout",
     "output_type": "stream",
     "text": [
      "program started\n",
      "else block started\n",
      "b is greater than a\n",
      "else block ended\n",
      "program ended\n"
     ]
    }
   ],
   "source": [
    "print(\"program started\")\n",
    "if False:\n",
    "    print(\"if block started\")\n",
    "    print(\"a is greater than b\")\n",
    "    print(\"if block ended\")\n",
    "else:\n",
    " print(\"else block started\")\n",
    " print(\"b is greater than a\")\n",
    " print(\"else block ended\")\n",
    "print(\"program ended\")"
   ]
  },
  {
   "cell_type": "code",
   "execution_count": 25,
   "metadata": {},
   "outputs": [
    {
     "ename": "IndentationError",
     "evalue": "unexpected indent (<ipython-input-25-349be0633a23>, line 8)",
     "output_type": "error",
     "traceback": [
      "\u001b[1;36m  File \u001b[1;32m\"<ipython-input-25-349be0633a23>\"\u001b[1;36m, line \u001b[1;32m8\u001b[0m\n\u001b[1;33m    print(\"b is greater than a\")\u001b[0m\n\u001b[1;37m    ^\u001b[0m\n\u001b[1;31mIndentationError\u001b[0m\u001b[1;31m:\u001b[0m unexpected indent\n"
     ]
    }
   ],
   "source": [
    "print(\"program started\")\n",
    "if False:\n",
    "    print(\"if block started\")\n",
    "    print(\"a is greater than b\")\n",
    "    print(\"if block ended\")\n",
    "else:\n",
    " print(\"else block started\")\n",
    "    print(\"b is greater than a\")\n",
    "    print(\"else block ended\")\n",
    "print(\"program ended\")"
   ]
  },
  {
   "cell_type": "code",
   "execution_count": 26,
   "metadata": {},
   "outputs": [
    {
     "name": "stdout",
     "output_type": "stream",
     "text": [
      "program started\n",
      "else block started\n",
      "b is greater than a\n",
      "else block ended\n",
      "program ended\n"
     ]
    }
   ],
   "source": [
    "print(\"program started\")\n",
    "if False:\n",
    "    print(\"if block started\")\n",
    "    print(\"a is greater than b\")\n",
    "    print(\"if block ended\")\n",
    "else:\n",
    " print(\"else block started\")\n",
    " print(\"b is greater than a\")\n",
    "print(\"else block ended\")\n",
    "print(\"program ended\")"
   ]
  },
  {
   "cell_type": "code",
   "execution_count": 27,
   "metadata": {},
   "outputs": [
    {
     "name": "stdout",
     "output_type": "stream",
     "text": [
      "program started\n",
      "if block started\n",
      "a is greater than b\n",
      "if block ended\n",
      "else block ended\n",
      "program ended\n"
     ]
    }
   ],
   "source": [
    "print(\"program started\")\n",
    "if True:\n",
    "    print(\"if block started\")\n",
    "    print(\"a is greater than b\")\n",
    "    print(\"if block ended\")\n",
    "else:\n",
    " print(\"else block started\")\n",
    " print(\"b is greater than a\")\n",
    "print(\"else block ended\")\n",
    "print(\"program ended\")"
   ]
  },
  {
   "cell_type": "code",
   "execution_count": 29,
   "metadata": {},
   "outputs": [
    {
     "name": "stdout",
     "output_type": "stream",
     "text": [
      "program started\n",
      "False\n",
      "else block started\n",
      "b is greater than a\n",
      "else block ended\n",
      "program ended\n"
     ]
    }
   ],
   "source": [
    "print(\"program started\")\n",
    "a=10\n",
    "b=20\n",
    "print(a>b)\n",
    "if a>b:\n",
    "    print(\"if block started\")\n",
    "    print(\"a is greater than b\")\n",
    "    print(\"if block ended\")\n",
    "else:\n",
    " print(\"else block started\")\n",
    " print(\"b is greater than a\")\n",
    " print(\"else block ended\")\n",
    "print(\"program ended\")"
   ]
  },
  {
   "cell_type": "code",
   "execution_count": 30,
   "metadata": {},
   "outputs": [
    {
     "name": "stdout",
     "output_type": "stream",
     "text": [
      "enter string:python\n",
      "6\n"
     ]
    }
   ],
   "source": [
    "s=input(\"enter string:\")\n",
    "print(len(s))"
   ]
  },
  {
   "cell_type": "code",
   "execution_count": 31,
   "metadata": {},
   "outputs": [
    {
     "name": "stdout",
     "output_type": "stream",
     "text": [
      "enter string:\n",
      "0\n"
     ]
    }
   ],
   "source": [
    "s=input(\"enter string:\")\n",
    "print(len(s))"
   ]
  },
  {
   "cell_type": "code",
   "execution_count": 32,
   "metadata": {},
   "outputs": [
    {
     "name": "stdout",
     "output_type": "stream",
     "text": [
      "enter string:python\n",
      "6\n",
      "True\n"
     ]
    }
   ],
   "source": [
    "s=input(\"enter string:\")\n",
    "print(len(s))\n",
    "print(bool(s))"
   ]
  },
  {
   "cell_type": "code",
   "execution_count": 33,
   "metadata": {},
   "outputs": [
    {
     "name": "stdout",
     "output_type": "stream",
     "text": [
      "enter string:\n",
      "0\n",
      "False\n"
     ]
    }
   ],
   "source": [
    "s=input(\"enter string:\")\n",
    "print(len(s))\n",
    "print(bool(s))"
   ]
  },
  {
   "cell_type": "code",
   "execution_count": 34,
   "metadata": {},
   "outputs": [
    {
     "name": "stdout",
     "output_type": "stream",
     "text": [
      "enter string:\n",
      "INVALID\n"
     ]
    }
   ],
   "source": [
    "# write a code to check given string contains atleast one element or not.\n",
    "s=input(\"enter string:\")\n",
    "if bool(s):\n",
    "    print(\"VALID\")\n",
    "else:\n",
    "    print(\"INVALID\")"
   ]
  },
  {
   "cell_type": "code",
   "execution_count": 35,
   "metadata": {},
   "outputs": [
    {
     "name": "stdout",
     "output_type": "stream",
     "text": [
      "enter string:pyhot\n",
      "VALID\n"
     ]
    }
   ],
   "source": [
    "# write a code to check given string contains atleast one element or not.\n",
    "s=input(\"enter string:\")\n",
    "if s:\n",
    "    print(\"VALID\")\n",
    "else:\n",
    "    print(\"INVALID\")"
   ]
  },
  {
   "cell_type": "code",
   "execution_count": 36,
   "metadata": {},
   "outputs": [
    {
     "name": "stdout",
     "output_type": "stream",
     "text": [
      "enter string:\n",
      "INVALID\n"
     ]
    }
   ],
   "source": [
    "# write a code to check given string contains atleast one element or not.\n",
    "s=input(\"enter string:\")\n",
    "if s:\n",
    "    print(\"VALID\")\n",
    "else:\n",
    "    print(\"INVALID\")"
   ]
  },
  {
   "cell_type": "code",
   "execution_count": 37,
   "metadata": {},
   "outputs": [
    {
     "name": "stdout",
     "output_type": "stream",
     "text": [
      "Enter Number 1:12\n",
      "Enter Number 2:34\n",
      "Enter value for section in between 1 to 4:1\n",
      "46.0\n",
      "invlaid option\n"
     ]
    }
   ],
   "source": [
    "# will take a menu based on the option selected by the user, we have to act on it.\n",
    "\"\"\"\n",
    "Enter number1:\n",
    "Enter number2:\n",
    "Oprtations:\n",
    "    1. ADD\n",
    "    2. MULTIPLICATION\n",
    "    3. DIVISION\n",
    "    4. SUBSTRACTION\n",
    "Enter an option:1: number1+number2, 2. number1*number2\n",
    "\"\"\"\n",
    "#write a code \n",
    "a=float(input('Enter Number 1:'))\n",
    "b=float(input('Enter Number 2:'))\n",
    "c=int(input('Enter value for section in between 1 to 4:'))\n",
    "if c==1:\n",
    "    print(a+b)\n",
    "if c==2:\n",
    "    print(a-b)\n",
    "if c==3:\n",
    "    print(a*b)\n",
    "if c==4:\n",
    "    print(a/b)\n",
    "else:\n",
    "    print(\"invlaid option\")"
   ]
  },
  {
   "cell_type": "code",
   "execution_count": 38,
   "metadata": {},
   "outputs": [
    {
     "name": "stdout",
     "output_type": "stream",
     "text": [
      "Enter Number 1:2\n",
      "Enter Number 2:3\n",
      "Enter value for section in between 1 to 4:2\n",
      "-1.0\n"
     ]
    }
   ],
   "source": [
    "# will take a menu based on the option selected by the user, we have to act on it.\n",
    "\"\"\"\n",
    "Enter number1:\n",
    "Enter number2:\n",
    "Oprtations:\n",
    "    1. ADD\n",
    "    2. MULTIPLICATION\n",
    "    3. DIVISION\n",
    "    4. SUBSTRACTION\n",
    "Enter an option:1: number1+number2, 2. number1*number2\n",
    "\"\"\"\n",
    "#write a code \n",
    "a=float(input('Enter Number 1:'))\n",
    "b=float(input('Enter Number 2:'))\n",
    "c=int(input('Enter value for section in between 1 to 4:'))\n",
    "if c==1:\n",
    "    print(a+b)\n",
    "elif c==2:\n",
    "    print(a-b)\n",
    "elif c==3:\n",
    "    print(a*b)\n",
    "elif c==4:\n",
    "    print(a/b)\n",
    "else:\n",
    "    print(\"invlaid option\")"
   ]
  },
  {
   "cell_type": "code",
   "execution_count": 39,
   "metadata": {},
   "outputs": [
    {
     "name": "stdout",
     "output_type": "stream",
     "text": [
      "Enter Number 1:10\n",
      "Enter Number 2:20\n",
      "Enter value for section in between 1 to 4:6\n",
      "invlaid option\n"
     ]
    }
   ],
   "source": [
    "# will take a menu based on the option selected by the user, we have to act on it.\n",
    "\"\"\"\n",
    "Enter number1:\n",
    "Enter number2:\n",
    "Oprtations:\n",
    "    1. ADD\n",
    "    2. MULTIPLICATION\n",
    "    3. DIVISION\n",
    "    4. SUBSTRACTION\n",
    "Enter an option:1: number1+number2, 2. number1*number2\n",
    "\"\"\"\n",
    "#write a code \n",
    "a=float(input('Enter Number 1:'))\n",
    "b=float(input('Enter Number 2:'))\n",
    "c=int(input('Enter value for section in between 1 to 4:'))\n",
    "if c==1:\n",
    "    print(a+b)\n",
    "elif c==2:\n",
    "    print(a-b)\n",
    "elif c==3:\n",
    "    print(a*b)\n",
    "elif c==4:\n",
    "    print(a/b)\n",
    "else:\n",
    "    print(\"invlaid option\")"
   ]
  },
  {
   "cell_type": "code",
   "execution_count": 40,
   "metadata": {},
   "outputs": [
    {
     "name": "stdout",
     "output_type": "stream",
     "text": [
      "Operations:\n",
      "\t1.ADD\n",
      "\t2.SUBSTRATION\n",
      "\t3.MULTIPLICATIOn\n"
     ]
    }
   ],
   "source": [
    "print(\"Operations:\\n\\t1.ADD\\n\\t2.SUBSTRATION\\n\\t3.MULTIPLICATIOn\")"
   ]
  },
  {
   "cell_type": "code",
   "execution_count": 41,
   "metadata": {},
   "outputs": [
    {
     "data": {
      "text/plain": [
       "True"
      ]
     },
     "execution_count": 41,
     "metadata": {},
     "output_type": "execute_result"
    }
   ],
   "source": [
    "20 in [10,20,30,40]"
   ]
  },
  {
   "cell_type": "code",
   "execution_count": 42,
   "metadata": {},
   "outputs": [
    {
     "data": {
      "text/plain": [
       "False"
      ]
     },
     "execution_count": 42,
     "metadata": {},
     "output_type": "execute_result"
    }
   ],
   "source": [
    "400 in [10,20,30,40]"
   ]
  },
  {
   "cell_type": "code",
   "execution_count": 43,
   "metadata": {},
   "outputs": [
    {
     "data": {
      "text/plain": [
       "True"
      ]
     },
     "execution_count": 43,
     "metadata": {},
     "output_type": "execute_result"
    }
   ],
   "source": [
    "\"python\" in \"program python\""
   ]
  },
  {
   "cell_type": "code",
   "execution_count": 44,
   "metadata": {},
   "outputs": [
    {
     "data": {
      "text/plain": [
       "False"
      ]
     },
     "execution_count": 44,
     "metadata": {},
     "output_type": "execute_result"
    }
   ],
   "source": [
    "\"java\" in \"program python\""
   ]
  },
  {
   "cell_type": "code",
   "execution_count": 45,
   "metadata": {},
   "outputs": [
    {
     "name": "stdout",
     "output_type": "stream",
     "text": [
      "Enter a number:2\n",
      "EVEN\n"
     ]
    }
   ],
   "source": [
    "n=float(input(\"Enter a number:\"))\n",
    "if n%2==0:\n",
    "    print(\"EVEN\")\n",
    "else:\n",
    "    print(\"ODD\")"
   ]
  },
  {
   "cell_type": "code",
   "execution_count": 46,
   "metadata": {},
   "outputs": [
    {
     "name": "stdout",
     "output_type": "stream",
     "text": [
      "Enter a number:35\n",
      "ODD\n"
     ]
    }
   ],
   "source": [
    "n=float(input(\"Enter a number:\"))\n",
    "print(\"EVEN\" if n%2==0 else \"ODD\")"
   ]
  },
  {
   "cell_type": "code",
   "execution_count": 47,
   "metadata": {},
   "outputs": [
    {
     "name": "stdout",
     "output_type": "stream",
     "text": [
      "Enter a number:46\n",
      "EVEN\n"
     ]
    }
   ],
   "source": [
    "n=float(input(\"Enter a number:\"))\n",
    "print(\"EVEN\" if n%2==0 else \"ODD\")"
   ]
  },
  {
   "cell_type": "code",
   "execution_count": 48,
   "metadata": {},
   "outputs": [
    {
     "name": "stdout",
     "output_type": "stream",
     "text": [
      "Enter a number:48\n",
      "EVEN\n"
     ]
    }
   ],
   "source": [
    "n=float(input(\"Enter a number:\"))\n",
    "res = \"EVEN\" if n%2==0 else \"ODD\"\n",
    "print(res)"
   ]
  },
  {
   "cell_type": "code",
   "execution_count": 49,
   "metadata": {},
   "outputs": [
    {
     "name": "stdout",
     "output_type": "stream",
     "text": [
      "Enter a number:59\n",
      "ODD\n"
     ]
    }
   ],
   "source": [
    "n=float(input(\"Enter a number:\"))\n",
    "res = \"EVEN\" if n%2==0 else \"ODD\"\n",
    "print(res)"
   ]
  },
  {
   "cell_type": "code",
   "execution_count": 50,
   "metadata": {},
   "outputs": [
    {
     "name": "stdout",
     "output_type": "stream",
     "text": [
      "20\n"
     ]
    }
   ],
   "source": [
    "res = 10 and 20\n",
    "print(res)"
   ]
  },
  {
   "cell_type": "code",
   "execution_count": 51,
   "metadata": {},
   "outputs": [
    {
     "name": "stdout",
     "output_type": "stream",
     "text": [
      "0\n"
     ]
    }
   ],
   "source": [
    "res = 0 and 20\n",
    "print(res)"
   ]
  },
  {
   "cell_type": "code",
   "execution_count": 52,
   "metadata": {},
   "outputs": [
    {
     "name": "stdout",
     "output_type": "stream",
     "text": [
      "10\n"
     ]
    }
   ],
   "source": [
    "res = 10 or 20\n",
    "print(res)"
   ]
  },
  {
   "cell_type": "code",
   "execution_count": 53,
   "metadata": {},
   "outputs": [
    {
     "name": "stdout",
     "output_type": "stream",
     "text": [
      "Enter number:24\n",
      "True\n"
     ]
    }
   ],
   "source": [
    "# number: True, False\n",
    "number = float(input(\"Enter number:\"))\n",
    "print(number%2==0)"
   ]
  },
  {
   "cell_type": "code",
   "execution_count": 54,
   "metadata": {},
   "outputs": [
    {
     "name": "stdout",
     "output_type": "stream",
     "text": [
      "Enter number:25\n",
      "False\n"
     ]
    }
   ],
   "source": [
    "# number: True, False\n",
    "number = float(input(\"Enter number:\"))\n",
    "print(number%2==0)"
   ]
  },
  {
   "cell_type": "code",
   "execution_count": 55,
   "metadata": {},
   "outputs": [
    {
     "name": "stdout",
     "output_type": "stream",
     "text": [
      "Enter number:23\n",
      "False\n"
     ]
    }
   ],
   "source": [
    "# number: True, False\n",
    "print(float(input(\"Enter number:\"))%2==0)"
   ]
  },
  {
   "cell_type": "code",
   "execution_count": 56,
   "metadata": {},
   "outputs": [
    {
     "name": "stdout",
     "output_type": "stream",
     "text": [
      "Enter number:34\n"
     ]
    },
    {
     "ename": "TypeError",
     "evalue": "'number1' is an invalid keyword argument for print()",
     "output_type": "error",
     "traceback": [
      "\u001b[1;31m---------------------------------------------------------------------------\u001b[0m",
      "\u001b[1;31mTypeError\u001b[0m                                 Traceback (most recent call last)",
      "\u001b[1;32m<ipython-input-56-e16f9d3bb2c2>\u001b[0m in \u001b[0;36m<module>\u001b[1;34m\u001b[0m\n\u001b[0;32m      1\u001b[0m \u001b[1;31m# number: True, False\u001b[0m\u001b[1;33m\u001b[0m\u001b[1;33m\u001b[0m\u001b[1;33m\u001b[0m\u001b[0m\n\u001b[1;32m----> 2\u001b[1;33m \u001b[0mprint\u001b[0m\u001b[1;33m(\u001b[0m\u001b[0mnumber1\u001b[0m\u001b[1;33m=\u001b[0m\u001b[0mfloat\u001b[0m\u001b[1;33m(\u001b[0m\u001b[0minput\u001b[0m\u001b[1;33m(\u001b[0m\u001b[1;34m\"Enter number:\"\u001b[0m\u001b[1;33m)\u001b[0m\u001b[1;33m)\u001b[0m\u001b[1;33m%\u001b[0m\u001b[1;36m2\u001b[0m\u001b[1;33m==\u001b[0m\u001b[1;36m0\u001b[0m\u001b[1;33m)\u001b[0m\u001b[1;33m\u001b[0m\u001b[1;33m\u001b[0m\u001b[0m\n\u001b[0m",
      "\u001b[1;31mTypeError\u001b[0m: 'number1' is an invalid keyword argument for print()"
     ]
    }
   ],
   "source": [
    "# number: True, False\n",
    "print(number1=float(input(\"Enter number:\"))%2==0)"
   ]
  },
  {
   "cell_type": "code",
   "execution_count": 57,
   "metadata": {},
   "outputs": [
    {
     "name": "stdout",
     "output_type": "stream",
     "text": [
      "Enter number:34\n",
      "True\n",
      "True\n"
     ]
    }
   ],
   "source": [
    "# number: True, False\n",
    "print((number1:=float(input(\"Enter number:\"))%2==0)) # (ref:=)\n",
    "print(number1)"
   ]
  },
  {
   "cell_type": "code",
   "execution_count": 59,
   "metadata": {},
   "outputs": [
    {
     "name": "stdout",
     "output_type": "stream",
     "text": [
      "Enter number:46\n",
      "True\n"
     ]
    }
   ],
   "source": [
    "# number: True, False\n",
    "number1=float(input(\"Enter number:\"))%2==0\n",
    "print(number1)"
   ]
  },
  {
   "cell_type": "code",
   "execution_count": null,
   "metadata": {},
   "outputs": [],
   "source": []
  }
 ],
 "metadata": {
  "kernelspec": {
   "display_name": "Python 3",
   "language": "python",
   "name": "python3"
  },
  "language_info": {
   "codemirror_mode": {
    "name": "ipython",
    "version": 3
   },
   "file_extension": ".py",
   "mimetype": "text/x-python",
   "name": "python",
   "nbconvert_exporter": "python",
   "pygments_lexer": "ipython3",
   "version": "3.8.3"
  }
 },
 "nbformat": 4,
 "nbformat_minor": 4
}
