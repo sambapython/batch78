{
 "cells": [
  {
   "cell_type": "code",
   "execution_count": 1,
   "metadata": {},
   "outputs": [
    {
     "name": "stdout",
     "output_type": "stream",
     "text": [
      "Entere a number:12\n",
      "Enter a numebr:34\n",
      "before conversion: n1=12, n2=34\n",
      "after conversion: n1=12, n2=34\n",
      "result=0.35294117647058826\n",
      "end\n"
     ]
    }
   ],
   "source": [
    "n1=input(\"Entere a number:\")\n",
    "n2=input(\"Enter a numebr:\")\n",
    "print(f\"before conversion: n1={n1}, n2={n2}\")\n",
    "n1=int(n1)\n",
    "n2=int(n2)\n",
    "print(f\"after conversion: n1={n1}, n2={n2}\")\n",
    "res=n1/n2\n",
    "print(f\"result={res}\")\n",
    "print(\"end\")"
   ]
  },
  {
   "cell_type": "code",
   "execution_count": 2,
   "metadata": {},
   "outputs": [
    {
     "name": "stdout",
     "output_type": "stream",
     "text": [
      "Entere a number:12\n",
      "Enter a numebr:45\n",
      "before conversion: n1=12, n2=45\n",
      "after conversion: n1=12, n2=45\n",
      "result=0.26666666666666666\n",
      "end\n"
     ]
    }
   ],
   "source": [
    "n1=input(\"Entere a number:\")\n",
    "n2=input(\"Enter a numebr:\")\n",
    "print(f\"before conversion: n1={n1}, n2={n2}\")\n",
    "n1=int(n1)\n",
    "n2=int(n2)\n",
    "print(f\"after conversion: n1={n1}, n2={n2}\")\n",
    "res=n1/n2\n",
    "print(f\"result={res}\")\n",
    "print(\"end\")"
   ]
  },
  {
   "cell_type": "code",
   "execution_count": 3,
   "metadata": {},
   "outputs": [
    {
     "name": "stdout",
     "output_type": "stream",
     "text": [
      "Entere a number:12\n",
      "Enter a numebr:0\n",
      "before conversion: n1=12, n2=0\n",
      "after conversion: n1=12, n2=0\n"
     ]
    },
    {
     "ename": "ZeroDivisionError",
     "evalue": "division by zero",
     "output_type": "error",
     "traceback": [
      "\u001b[1;31m---------------------------------------------------------------------------\u001b[0m",
      "\u001b[1;31mZeroDivisionError\u001b[0m                         Traceback (most recent call last)",
      "\u001b[1;32m<ipython-input-3-9b433f7cee12>\u001b[0m in \u001b[0;36m<module>\u001b[1;34m\u001b[0m\n\u001b[0;32m      5\u001b[0m \u001b[0mn2\u001b[0m\u001b[1;33m=\u001b[0m\u001b[0mint\u001b[0m\u001b[1;33m(\u001b[0m\u001b[0mn2\u001b[0m\u001b[1;33m)\u001b[0m\u001b[1;33m\u001b[0m\u001b[1;33m\u001b[0m\u001b[0m\n\u001b[0;32m      6\u001b[0m \u001b[0mprint\u001b[0m\u001b[1;33m(\u001b[0m\u001b[1;34mf\"after conversion: n1={n1}, n2={n2}\"\u001b[0m\u001b[1;33m)\u001b[0m\u001b[1;33m\u001b[0m\u001b[1;33m\u001b[0m\u001b[0m\n\u001b[1;32m----> 7\u001b[1;33m \u001b[0mres\u001b[0m\u001b[1;33m=\u001b[0m\u001b[0mn1\u001b[0m\u001b[1;33m/\u001b[0m\u001b[0mn2\u001b[0m\u001b[1;33m\u001b[0m\u001b[1;33m\u001b[0m\u001b[0m\n\u001b[0m\u001b[0;32m      8\u001b[0m \u001b[0mprint\u001b[0m\u001b[1;33m(\u001b[0m\u001b[1;34mf\"result={res}\"\u001b[0m\u001b[1;33m)\u001b[0m\u001b[1;33m\u001b[0m\u001b[1;33m\u001b[0m\u001b[0m\n\u001b[0;32m      9\u001b[0m \u001b[0mprint\u001b[0m\u001b[1;33m(\u001b[0m\u001b[1;34m\"end\"\u001b[0m\u001b[1;33m)\u001b[0m\u001b[1;33m\u001b[0m\u001b[1;33m\u001b[0m\u001b[0m\n",
      "\u001b[1;31mZeroDivisionError\u001b[0m: division by zero"
     ]
    }
   ],
   "source": [
    "n1=input(\"Entere a number:\")\n",
    "n2=input(\"Enter a numebr:\")\n",
    "print(f\"before conversion: n1={n1}, n2={n2}\")\n",
    "n1=int(n1)\n",
    "n2=int(n2)\n",
    "print(f\"after conversion: n1={n1}, n2={n2}\")\n",
    "res=n1/n2\n",
    "print(f\"result={res}\")\n",
    "print(\"end\")"
   ]
  },
  {
   "cell_type": "code",
   "execution_count": null,
   "metadata": {},
   "outputs": [],
   "source": [
    "# Aim of exception handling is that, the program should not crash and give a promer message to the user, to understand\n",
    "# some what the issue."
   ]
  },
  {
   "cell_type": "code",
   "execution_count": 4,
   "metadata": {},
   "outputs": [
    {
     "name": "stdout",
     "output_type": "stream",
     "text": [
      "Entere a number:12\n",
      "Enter a numebr:6\n",
      "before conversion: n1=12, n2=6\n",
      "after conversion: n1=12, n2=6\n",
      "result=2.0\n",
      "end\n"
     ]
    }
   ],
   "source": [
    "try:\n",
    "    n1=input(\"Entere a number:\")\n",
    "    n2=input(\"Enter a numebr:\")\n",
    "    print(f\"before conversion: n1={n1}, n2={n2}\")\n",
    "    n1=int(n1)\n",
    "    n2=int(n2)\n",
    "    print(f\"after conversion: n1={n1}, n2={n2}\")\n",
    "    res=n1/n2\n",
    "    print(f\"result={res}\")\n",
    "    print(\"end\")\n",
    "except:\n",
    "    print(\"some issue\")"
   ]
  },
  {
   "cell_type": "code",
   "execution_count": 5,
   "metadata": {},
   "outputs": [
    {
     "name": "stdout",
     "output_type": "stream",
     "text": [
      "Entere a number:12\n",
      "Enter a numebr:0\n",
      "before conversion: n1=12, n2=0\n",
      "after conversion: n1=12, n2=0\n",
      "some issue\n"
     ]
    }
   ],
   "source": [
    "try:\n",
    "    n1=input(\"Entere a number:\")\n",
    "    n2=input(\"Enter a numebr:\")\n",
    "    print(f\"before conversion: n1={n1}, n2={n2}\")\n",
    "    n1=int(n1)\n",
    "    n2=int(n2)\n",
    "    print(f\"after conversion: n1={n1}, n2={n2}\")\n",
    "    res=n1/n2\n",
    "    print(f\"result={res}\")\n",
    "    print(\"end\")\n",
    "except:\n",
    "    print(\"some issue\")"
   ]
  },
  {
   "cell_type": "code",
   "execution_count": 7,
   "metadata": {},
   "outputs": [
    {
     "name": "stdout",
     "output_type": "stream",
     "text": [
      "Entere a number:12\n",
      "Enter a numebr:6\n",
      "before conversion: n1=12, n2=6\n",
      "after conversion: n1=12, n2=6\n",
      "result=2.0\n",
      "end\n"
     ]
    }
   ],
   "source": [
    "n1=input(\"Entere a number:\")\n",
    "n2=input(\"Enter a numebr:\")\n",
    "print(f\"before conversion: n1={n1}, n2={n2}\")\n",
    "try:\n",
    "    n1=int(n1)\n",
    "    n2=int(n2)\n",
    "    print(f\"after conversion: n1={n1}, n2={n2}\")\n",
    "    res=n1/n2\n",
    "    print(f\"result={res}\")\n",
    "except:\n",
    "    print(\"ERROR:some issue\")\n",
    "print(\"end\")"
   ]
  },
  {
   "cell_type": "code",
   "execution_count": 8,
   "metadata": {},
   "outputs": [
    {
     "name": "stdout",
     "output_type": "stream",
     "text": [
      "Entere a number:12\n",
      "Enter a numebr:0\n",
      "before conversion: n1=12, n2=0\n",
      "after conversion: n1=12, n2=0\n",
      "ERROR:some issue\n",
      "end\n"
     ]
    }
   ],
   "source": [
    "n1=input(\"Entere a number:\")\n",
    "n2=input(\"Enter a numebr:\")\n",
    "print(f\"before conversion: n1={n1}, n2={n2}\")\n",
    "try:\n",
    "    n1=int(n1)\n",
    "    n2=int(n2)\n",
    "    print(f\"after conversion: n1={n1}, n2={n2}\")\n",
    "    res=n1/n2\n",
    "    print(f\"result={res}\")\n",
    "except:\n",
    "    print(\"ERROR:some issue\")\n",
    "print(\"end\")"
   ]
  },
  {
   "cell_type": "code",
   "execution_count": 9,
   "metadata": {},
   "outputs": [
    {
     "name": "stdout",
     "output_type": "stream",
     "text": [
      "Entere a number:qwer\n",
      "Enter a numebr:23\n",
      "before conversion: n1=qwer, n2=23\n",
      "ERROR:some issue\n",
      "end\n"
     ]
    }
   ],
   "source": [
    "n1=input(\"Entere a number:\")\n",
    "n2=input(\"Enter a numebr:\")\n",
    "print(f\"before conversion: n1={n1}, n2={n2}\")\n",
    "try:\n",
    "    n1=int(n1)\n",
    "    n2=int(n2)\n",
    "    print(f\"after conversion: n1={n1}, n2={n2}\")\n",
    "    res=n1/n2\n",
    "    print(f\"result={res}\")\n",
    "except:\n",
    "    print(\"ERROR:some issue\")\n",
    "print(\"end\")"
   ]
  },
  {
   "cell_type": "code",
   "execution_count": 10,
   "metadata": {},
   "outputs": [
    {
     "name": "stdout",
     "output_type": "stream",
     "text": [
      "Entere a number:12\n",
      "Enter a numebr:6\n",
      "before conversion: n1=12, n2=6\n",
      "after conversion: n1=12, n2=6\n",
      "result=2.0\n",
      "end\n"
     ]
    }
   ],
   "source": [
    "n1=input(\"Entere a number:\")\n",
    "n2=input(\"Enter a numebr:\")\n",
    "print(f\"before conversion: n1={n1}, n2={n2}\")\n",
    "try:\n",
    "    n1=int(n1)\n",
    "    n2=int(n2)\n",
    "    print(f\"after conversion: n1={n1}, n2={n2}\")\n",
    "    res=n1/n2\n",
    "    print(f\"result={res}\")\n",
    "except Exception as err:\n",
    "    print(\"ERROR:some issue\")\n",
    "    print(\"ERROR: %s\"%err)\n",
    "print(\"end\")"
   ]
  },
  {
   "cell_type": "code",
   "execution_count": 11,
   "metadata": {},
   "outputs": [
    {
     "name": "stdout",
     "output_type": "stream",
     "text": [
      "Entere a number:12\n",
      "Enter a numebr:0\n",
      "before conversion: n1=12, n2=0\n",
      "after conversion: n1=12, n2=0\n",
      "ERROR:some issue\n",
      "ERROR: division by zero\n",
      "end\n"
     ]
    }
   ],
   "source": [
    "n1=input(\"Entere a number:\")\n",
    "n2=input(\"Enter a numebr:\")\n",
    "print(f\"before conversion: n1={n1}, n2={n2}\")\n",
    "try:\n",
    "    n1=int(n1)\n",
    "    n2=int(n2)\n",
    "    print(f\"after conversion: n1={n1}, n2={n2}\")\n",
    "    res=n1/n2\n",
    "    print(f\"result={res}\")\n",
    "except Exception as err:\n",
    "    print(\"ERROR:some issue\")\n",
    "    print(\"ERROR: %s\"%err)\n",
    "print(\"end\")"
   ]
  },
  {
   "cell_type": "code",
   "execution_count": 12,
   "metadata": {},
   "outputs": [
    {
     "name": "stdout",
     "output_type": "stream",
     "text": [
      "Entere a number:12\n",
      "Enter a numebr:erty\n",
      "before conversion: n1=12, n2=erty\n",
      "ERROR:some issue\n",
      "ERROR: invalid literal for int() with base 10: 'erty'\n",
      "end\n"
     ]
    }
   ],
   "source": [
    "n1=input(\"Entere a number:\")\n",
    "n2=input(\"Enter a numebr:\")\n",
    "print(f\"before conversion: n1={n1}, n2={n2}\")\n",
    "try:\n",
    "    n1=int(n1)\n",
    "    n2=int(n2)\n",
    "    print(f\"after conversion: n1={n1}, n2={n2}\")\n",
    "    res=n1/n2\n",
    "    print(f\"result={res}\")\n",
    "except Exception as err:\n",
    "    print(\"ERROR:some issue\")\n",
    "    print(\"ERROR: %s\"%err)\n",
    "print(\"end\")"
   ]
  },
  {
   "cell_type": "code",
   "execution_count": 13,
   "metadata": {},
   "outputs": [
    {
     "ename": "ZeroDivisionError",
     "evalue": "division by zero",
     "output_type": "error",
     "traceback": [
      "\u001b[1;31m---------------------------------------------------------------------------\u001b[0m",
      "\u001b[1;31mZeroDivisionError\u001b[0m                         Traceback (most recent call last)",
      "\u001b[1;32m<ipython-input-13-898e9759c56e>\u001b[0m in \u001b[0;36m<module>\u001b[1;34m\u001b[0m\n\u001b[1;32m----> 1\u001b[1;33m \u001b[1;36m12\u001b[0m\u001b[1;33m/\u001b[0m\u001b[1;36m0\u001b[0m\u001b[1;33m\u001b[0m\u001b[1;33m\u001b[0m\u001b[0m\n\u001b[0m",
      "\u001b[1;31mZeroDivisionError\u001b[0m: division by zero"
     ]
    }
   ],
   "source": [
    "12/0"
   ]
  },
  {
   "cell_type": "code",
   "execution_count": 14,
   "metadata": {},
   "outputs": [
    {
     "ename": "ValueError",
     "evalue": "invalid literal for int() with base 10: 'ewr'",
     "output_type": "error",
     "traceback": [
      "\u001b[1;31m---------------------------------------------------------------------------\u001b[0m",
      "\u001b[1;31mValueError\u001b[0m                                Traceback (most recent call last)",
      "\u001b[1;32m<ipython-input-14-565dfe788677>\u001b[0m in \u001b[0;36m<module>\u001b[1;34m\u001b[0m\n\u001b[1;32m----> 1\u001b[1;33m \u001b[0mint\u001b[0m\u001b[1;33m(\u001b[0m\u001b[1;34m\"ewr\"\u001b[0m\u001b[1;33m)\u001b[0m\u001b[1;33m\u001b[0m\u001b[1;33m\u001b[0m\u001b[0m\n\u001b[0m",
      "\u001b[1;31mValueError\u001b[0m: invalid literal for int() with base 10: 'ewr'"
     ]
    }
   ],
   "source": [
    "int(\"ewr\")"
   ]
  },
  {
   "cell_type": "code",
   "execution_count": 15,
   "metadata": {},
   "outputs": [
    {
     "name": "stdout",
     "output_type": "stream",
     "text": [
      "Entere a number:12\n",
      "Enter a numebr:6\n",
      "before conversion: n1=12, n2=6\n",
      "after conversion: n1=12, n2=6\n",
      "result=2.0\n",
      "end\n"
     ]
    }
   ],
   "source": [
    "n1=input(\"Entere a number:\")\n",
    "n2=input(\"Enter a numebr:\")\n",
    "print(f\"before conversion: n1={n1}, n2={n2}\")\n",
    "try:\n",
    "    n1=int(n1)\n",
    "    n2=int(n2)\n",
    "    print(f\"after conversion: n1={n1}, n2={n2}\")\n",
    "    res=n1/n2\n",
    "    print(f\"result={res}\")\n",
    "except ZeroDivisionError as err:\n",
    "    print(\"ERROR: %s\"%err)\n",
    "    print(\"expecting second number not equals to zero\")\n",
    "except ValueError as err:\n",
    "    print(\"ERROR: %s\"%err)\n",
    "    print(\"expecting only the digits.\")\n",
    "except Exception as err:\n",
    "    print(\"ERROR:some issue\")\n",
    "    print(\"ERROR: %s\"%err)\n",
    "print(\"end\")"
   ]
  },
  {
   "cell_type": "code",
   "execution_count": 16,
   "metadata": {},
   "outputs": [
    {
     "name": "stdout",
     "output_type": "stream",
     "text": [
      "Entere a number:12\n",
      "Enter a numebr:werwe\n",
      "before conversion: n1=12, n2=werwe\n",
      "ERROR: invalid literal for int() with base 10: 'werwe'\n",
      "expecting only the digits.\n",
      "end\n"
     ]
    }
   ],
   "source": [
    "n1=input(\"Entere a number:\")\n",
    "n2=input(\"Enter a numebr:\")\n",
    "print(f\"before conversion: n1={n1}, n2={n2}\")\n",
    "try:\n",
    "    n1=int(n1)\n",
    "    n2=int(n2)\n",
    "    print(f\"after conversion: n1={n1}, n2={n2}\")\n",
    "    res=n1/n2\n",
    "    print(f\"result={res}\")\n",
    "except ZeroDivisionError as err:\n",
    "    print(\"ERROR: %s\"%err)\n",
    "    print(\"expecting second number not equals to zero\")\n",
    "except ValueError as err:\n",
    "    print(\"ERROR: %s\"%err)\n",
    "    print(\"expecting only the digits.\")\n",
    "except Exception as err:\n",
    "    print(\"ERROR:some issue\")\n",
    "    print(\"ERROR: %s\"%err)\n",
    "print(\"end\")"
   ]
  },
  {
   "cell_type": "code",
   "execution_count": 17,
   "metadata": {},
   "outputs": [
    {
     "name": "stdout",
     "output_type": "stream",
     "text": [
      "Entere a number:12\n",
      "Enter a numebr:9\n",
      "before conversion: n1=12, n2=9\n",
      "after conversion: n1=12, n2=9\n",
      "result=1.3333333333333333\n",
      "end\n"
     ]
    }
   ],
   "source": [
    "n1=input(\"Entere a number:\")\n",
    "n2=input(\"Enter a numebr:\")\n",
    "print(f\"before conversion: n1={n1}, n2={n2}\")\n",
    "try:\n",
    "    n1=int(n1)\n",
    "    n2=int(n2)\n",
    "    print(f\"after conversion: n1={n1}, n2={n2}\")\n",
    "    res=n1/n2\n",
    "    print(f\"result={res}\")\n",
    "except ZeroDivisionError as err:\n",
    "    print(\"ERROR: %s\"%err)\n",
    "    print(\"expecting second number not equals to zero\")\n",
    "except ValueError as err:\n",
    "    print(\"ERROR: %s\"%err)\n",
    "    print(\"expecting only the digits.\")\n",
    "except Exception as err:\n",
    "    print(\"ERROR:some issue\")\n",
    "    print(\"ERROR: %s\"%err)\n",
    "print(\"end\")"
   ]
  },
  {
   "cell_type": "code",
   "execution_count": 18,
   "metadata": {},
   "outputs": [
    {
     "name": "stdout",
     "output_type": "stream",
     "text": [
      "Entere a number:12\n",
      "Enter a numebr:0\n",
      "before conversion: n1=12, n2=0\n",
      "after conversion: n1=12, n2=0\n",
      "ERROR: division by zero\n",
      "expecting second number not equals to zero\n",
      "end\n"
     ]
    }
   ],
   "source": [
    "n1=input(\"Entere a number:\")\n",
    "n2=input(\"Enter a numebr:\")\n",
    "print(f\"before conversion: n1={n1}, n2={n2}\")\n",
    "try:\n",
    "    n1=int(n1)\n",
    "    n2=int(n2)\n",
    "    print(f\"after conversion: n1={n1}, n2={n2}\")\n",
    "    res=n1/n2\n",
    "    print(f\"result={res}\")\n",
    "except ZeroDivisionError as err:\n",
    "    print(\"ERROR: %s\"%err)\n",
    "    print(\"expecting second number not equals to zero\")\n",
    "except ValueError as err:\n",
    "    print(\"ERROR: %s\"%err)\n",
    "    print(\"expecting only the digits.\")\n",
    "except Exception as err:\n",
    "    print(\"ERROR:some issue\")\n",
    "    print(\"ERROR: %s\"%err)\n",
    "print(\"end\")"
   ]
  },
  {
   "cell_type": "code",
   "execution_count": 1,
   "metadata": {},
   "outputs": [
    {
     "name": "stdout",
     "output_type": "stream",
     "text": [
      "main block\n",
      "try\n",
      "else\n",
      "End main block\n"
     ]
    }
   ],
   "source": [
    "print(\"main block\")\n",
    "from time import sleep\n",
    "try:\n",
    "    print(\"try\")\n",
    "except:\n",
    "    print(\"except\")\n",
    "else:\n",
    "    print(\"else\")\n",
    "print(\"End main block\")"
   ]
  },
  {
   "cell_type": "code",
   "execution_count": 2,
   "metadata": {},
   "outputs": [
    {
     "name": "stdout",
     "output_type": "stream",
     "text": [
      "main block\n",
      "try\n",
      "except\n",
      "End main block\n"
     ]
    }
   ],
   "source": [
    "print(\"main block\")\n",
    "from time import sleep\n",
    "try:\n",
    "    print(\"try\")\n",
    "    print(1/0)\n",
    "except:\n",
    "    print(\"except\")\n",
    "else:\n",
    "    print(\"else\")\n",
    "print(\"End main block\")"
   ]
  },
  {
   "cell_type": "code",
   "execution_count": 3,
   "metadata": {},
   "outputs": [
    {
     "name": "stdout",
     "output_type": "stream",
     "text": [
      "main block\n",
      "try\n",
      "except\n",
      "this is finally\n",
      "End main block\n"
     ]
    }
   ],
   "source": [
    "print(\"main block\")\n",
    "from time import sleep\n",
    "try:\n",
    "    print(\"try\")\n",
    "    print(1/0)\n",
    "except:\n",
    "    print(\"except\")\n",
    "else:\n",
    "    print(\"else\")\n",
    "finally:\n",
    "    print(\"this is finally\")\n",
    "print(\"End main block\")"
   ]
  },
  {
   "cell_type": "code",
   "execution_count": 4,
   "metadata": {},
   "outputs": [
    {
     "name": "stdout",
     "output_type": "stream",
     "text": [
      "main block\n",
      "try\n",
      "else\n",
      "this is finally\n",
      "End main block\n"
     ]
    }
   ],
   "source": [
    "print(\"main block\")\n",
    "from time import sleep\n",
    "try:\n",
    "    print(\"try\")\n",
    "except:\n",
    "    print(\"except\")\n",
    "else:\n",
    "    print(\"else\")\n",
    "finally:\n",
    "    print(\"this is finally\")\n",
    "print(\"End main block\")"
   ]
  },
  {
   "cell_type": "code",
   "execution_count": 5,
   "metadata": {},
   "outputs": [
    {
     "name": "stdout",
     "output_type": "stream",
     "text": [
      "main block\n",
      "try\n",
      "else\n",
      "this is finally\n",
      "End main block\n"
     ]
    }
   ],
   "source": [
    "print(\"main block\")\n",
    "from time import sleep\n",
    "try:\n",
    "    print(\"try\")\n",
    "except:\n",
    "    print(\"except\")\n",
    "else:\n",
    "    print(\"else\")\n",
    "print(\"this is finally\")\n",
    "print(\"End main block\")"
   ]
  },
  {
   "cell_type": "code",
   "execution_count": 6,
   "metadata": {},
   "outputs": [
    {
     "name": "stdout",
     "output_type": "stream",
     "text": [
      "main block\n",
      "try\n",
      "except\n",
      "this is finally\n",
      "End main block\n"
     ]
    }
   ],
   "source": [
    "print(\"main block\")\n",
    "from time import sleep\n",
    "try:\n",
    "    print(\"try\")\n",
    "    print(1/0)\n",
    "except:\n",
    "    print(\"except\")\n",
    "else:\n",
    "    print(\"else\")\n",
    "print(\"this is finally\")\n",
    "print(\"End main block\")"
   ]
  },
  {
   "cell_type": "code",
   "execution_count": 7,
   "metadata": {},
   "outputs": [
    {
     "name": "stdout",
     "output_type": "stream",
     "text": [
      "try\n",
      "finally\n",
      "result= 30\n"
     ]
    }
   ],
   "source": [
    "def fun():\n",
    "    try:\n",
    "        print(\"try\")\n",
    "        return 10\n",
    "    except:\n",
    "        print(\"except\")\n",
    "        return 20\n",
    "    finally:\n",
    "        print(\"finally\")\n",
    "        return 30\n",
    "    print(\"main\")\n",
    "    return 40\n",
    "res = fun()\n",
    "print(\"result=\",res)"
   ]
  },
  {
   "cell_type": "code",
   "execution_count": 9,
   "metadata": {},
   "outputs": [
    {
     "name": "stdout",
     "output_type": "stream",
     "text": [
      "0\n",
      "finally for: 0\n",
      "for main for: 0\n",
      "1\n",
      "finally for: 1\n",
      "for main for: 1\n",
      "2\n",
      "finally for: 2\n",
      "for main for: 2\n",
      "3\n",
      "finally for: 3\n"
     ]
    }
   ],
   "source": [
    "for i in range(10):\n",
    "    try:\n",
    "        print(i)\n",
    "        if i==3:\n",
    "            break\n",
    "    except:\n",
    "        print(\"except\")\n",
    "    finally:\n",
    "        print(\"finally for: %s\"%i)\n",
    "    print(\"for main for: %s\"%i)"
   ]
  },
  {
   "cell_type": "code",
   "execution_count": null,
   "metadata": {},
   "outputs": [],
   "source": []
  }
 ],
 "metadata": {
  "kernelspec": {
   "display_name": "Python 3",
   "language": "python",
   "name": "python3"
  },
  "language_info": {
   "codemirror_mode": {
    "name": "ipython",
    "version": 3
   },
   "file_extension": ".py",
   "mimetype": "text/x-python",
   "name": "python",
   "nbconvert_exporter": "python",
   "pygments_lexer": "ipython3",
   "version": "3.8.3"
  }
 },
 "nbformat": 4,
 "nbformat_minor": 4
}
