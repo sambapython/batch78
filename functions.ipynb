{
 "cells": [
  {
   "cell_type": "code",
   "execution_count": 1,
   "metadata": {},
   "outputs": [
    {
     "name": "stdout",
     "output_type": "stream",
     "text": [
      "started\n",
      "hyderabad\n",
      "result= 30\n",
      "st1\n",
      "st2\n",
      "result= 300\n",
      "st3\n",
      "st4\n",
      "result= 3\n",
      "sdfs\n",
      "sdfsd\n",
      "result= 3000\n"
     ]
    }
   ],
   "source": [
    "print(\"started\")\n",
    "print(\"hyderabad\")\n",
    "a=10\n",
    "b=20\n",
    "c=a+b\n",
    "print(\"result=\",c)\n",
    "print(\"st1\")\n",
    "print(\"st2\")\n",
    "a=100\n",
    "b=200\n",
    "c=a+b\n",
    "print(\"result=\",c)\n",
    "print(\"st3\")\n",
    "print(\"st4\")\n",
    "a=1\n",
    "b=2\n",
    "c=a+b\n",
    "print(\"result=\",c)\n",
    "print(\"sdfs\")\n",
    "print(\"sdfsd\")\n",
    "a=1000\n",
    "b=2000\n",
    "c=a+b\n",
    "print(\"result=\",c)"
   ]
  },
  {
   "cell_type": "code",
   "execution_count": 3,
   "metadata": {},
   "outputs": [
    {
     "name": "stdout",
     "output_type": "stream",
     "text": [
      "started\n",
      "hyderabad\n",
      "result= 30\n",
      "st1\n",
      "st2\n",
      "result= 300\n",
      "st3\n",
      "st4\n",
      "result= 3\n",
      "sdfs\n",
      "sdfsd\n",
      "result= 3000\n"
     ]
    }
   ],
   "source": [
    "def fun(a,b):\n",
    "    c=a+b\n",
    "    print(\"result=\",c)\n",
    "print(\"started\")\n",
    "print(\"hyderabad\")\n",
    "fun(10,20)\n",
    "print(\"st1\")\n",
    "print(\"st2\")\n",
    "fun(100,200)\n",
    "print(\"st3\")\n",
    "print(\"st4\")\n",
    "fun(1,2)\n",
    "print(\"sdfs\")\n",
    "print(\"sdfsd\")\n",
    "fun(1000,2000)"
   ]
  },
  {
   "cell_type": "code",
   "execution_count": 4,
   "metadata": {},
   "outputs": [
    {
     "name": "stdout",
     "output_type": "stream",
     "text": [
      "started\n",
      "hyderabad\n",
      "summtion= 30\n",
      "st1\n",
      "st2\n",
      "summation= 300\n",
      "st3\n",
      "st4\n",
      "summation= 3\n",
      "sdfs\n",
      "sdfsd\n",
      "summation= 3000\n"
     ]
    }
   ],
   "source": [
    "print(\"started\")\n",
    "print(\"hyderabad\")\n",
    "a=10\n",
    "b=20\n",
    "c=a+b\n",
    "print(\"summtion=\",c)\n",
    "print(\"st1\")\n",
    "print(\"st2\")\n",
    "a=100\n",
    "b=200\n",
    "c=a+b\n",
    "print(\"summation=\",c)\n",
    "print(\"st3\")\n",
    "print(\"st4\")\n",
    "a=1\n",
    "b=2\n",
    "c=a+b\n",
    "print(\"summation=\",c)\n",
    "print(\"sdfs\")\n",
    "print(\"sdfsd\")\n",
    "a=1000\n",
    "b=2000\n",
    "c=a+b\n",
    "print(\"summation=\",c)"
   ]
  },
  {
   "cell_type": "code",
   "execution_count": 5,
   "metadata": {},
   "outputs": [
    {
     "name": "stdout",
     "output_type": "stream",
     "text": [
      "started\n",
      "hyderabad\n",
      "summation= 30\n",
      "st1\n",
      "st2\n",
      "summation= 300\n",
      "st3\n",
      "st4\n",
      "summation= 3\n",
      "sdfs\n",
      "sdfsd\n",
      "summation= 3000\n"
     ]
    }
   ],
   "source": [
    "def fun(a,b):\n",
    "    c=a+b\n",
    "    print(\"summation=\",c)\n",
    "print(\"started\")\n",
    "print(\"hyderabad\")\n",
    "fun(10,20)\n",
    "print(\"st1\")\n",
    "print(\"st2\")\n",
    "fun(100,200)\n",
    "print(\"st3\")\n",
    "print(\"st4\")\n",
    "fun(1,2)\n",
    "print(\"sdfs\")\n",
    "print(\"sdfsd\")\n",
    "fun(1000,2000)"
   ]
  },
  {
   "cell_type": "code",
   "execution_count": 6,
   "metadata": {},
   "outputs": [
    {
     "name": "stdout",
     "output_type": "stream",
     "text": [
      "started\n",
      "ended\n"
     ]
    }
   ],
   "source": [
    "print(\"started\")\n",
    "def fun():\n",
    "    print(\"hi\")\n",
    "    print(\"hyderabad\")\n",
    "print(\"ended\")"
   ]
  },
  {
   "cell_type": "code",
   "execution_count": 7,
   "metadata": {},
   "outputs": [
    {
     "name": "stdout",
     "output_type": "stream",
     "text": [
      "started\n",
      "ended\n",
      "hi\n",
      "hyderabad\n"
     ]
    }
   ],
   "source": [
    "print(\"started\")\n",
    "def fun():\n",
    "    print(\"hi\")\n",
    "    print(\"hyderabad\")\n",
    "print(\"ended\")\n",
    "fun()"
   ]
  },
  {
   "cell_type": "code",
   "execution_count": 8,
   "metadata": {},
   "outputs": [
    {
     "name": "stdout",
     "output_type": "stream",
     "text": [
      "started\n",
      "ended\n",
      "hi\n",
      "hyderabad\n",
      "hi\n",
      "hyderabad\n",
      "hi\n",
      "hyderabad\n"
     ]
    }
   ],
   "source": [
    "print(\"started\")\n",
    "def fun():# functino signature\n",
    "    # function body\n",
    "    print(\"hi\")\n",
    "    print(\"hyderabad\")\n",
    "print(\"ended\")\n",
    "fun() # function call\n",
    "fun()\n",
    "fun()"
   ]
  },
  {
   "cell_type": "code",
   "execution_count": 11,
   "metadata": {},
   "outputs": [
    {
     "name": "stdout",
     "output_type": "stream",
     "text": [
      "x=1, y=2\n",
      "result= 3\n",
      "x=10, y=20\n",
      "result= 30\n",
      "x=10, y=3\n",
      "result= 13\n"
     ]
    }
   ],
   "source": [
    "def add(x,y):# x,y are parameters\n",
    "    print(f\"x={x}, y={y}\")\n",
    "    result=x+y\n",
    "    print(\"result=\",result)\n",
    "add(1,2)# 1,2 are positional arguments: x=1, y=2\n",
    "add(10,20)# x=10,y=20\n",
    "add(y=3,x=10)# x,y are keyword arguments"
   ]
  },
  {
   "cell_type": "code",
   "execution_count": 12,
   "metadata": {},
   "outputs": [
    {
     "name": "stdout",
     "output_type": "stream",
     "text": [
      "x=10, y=20\n",
      "result= 30\n"
     ]
    },
    {
     "ename": "TypeError",
     "evalue": "add() takes 2 positional arguments but 3 were given",
     "output_type": "error",
     "traceback": [
      "\u001b[1;31m---------------------------------------------------------------------------\u001b[0m",
      "\u001b[1;31mTypeError\u001b[0m                                 Traceback (most recent call last)",
      "\u001b[1;32m<ipython-input-12-c72431b3870c>\u001b[0m in \u001b[0;36m<module>\u001b[1;34m\u001b[0m\n\u001b[0;32m      4\u001b[0m     \u001b[0mprint\u001b[0m\u001b[1;33m(\u001b[0m\u001b[1;34m\"result=\"\u001b[0m\u001b[1;33m,\u001b[0m\u001b[0mresult\u001b[0m\u001b[1;33m)\u001b[0m\u001b[1;33m\u001b[0m\u001b[1;33m\u001b[0m\u001b[0m\n\u001b[0;32m      5\u001b[0m \u001b[0madd\u001b[0m\u001b[1;33m(\u001b[0m\u001b[1;36m10\u001b[0m\u001b[1;33m,\u001b[0m\u001b[1;36m20\u001b[0m\u001b[1;33m)\u001b[0m\u001b[1;33m\u001b[0m\u001b[1;33m\u001b[0m\u001b[0m\n\u001b[1;32m----> 6\u001b[1;33m \u001b[0madd\u001b[0m\u001b[1;33m(\u001b[0m\u001b[1;36m1\u001b[0m\u001b[1;33m,\u001b[0m\u001b[1;36m2\u001b[0m\u001b[1;33m,\u001b[0m\u001b[1;36m3\u001b[0m\u001b[1;33m)\u001b[0m\u001b[1;33m\u001b[0m\u001b[1;33m\u001b[0m\u001b[0m\n\u001b[0m",
      "\u001b[1;31mTypeError\u001b[0m: add() takes 2 positional arguments but 3 were given"
     ]
    }
   ],
   "source": [
    "def add(x,y):# x,y are parameters\n",
    "    print(f\"x={x}, y={y}\")\n",
    "    result=x+y\n",
    "    print(\"result=\",result)\n",
    "add(10,20)\n",
    "add(1,2,3)"
   ]
  },
  {
   "cell_type": "code",
   "execution_count": 13,
   "metadata": {},
   "outputs": [
    {
     "name": "stdout",
     "output_type": "stream",
     "text": [
      "x=10, y=20\n",
      "result= 30\n"
     ]
    },
    {
     "ename": "TypeError",
     "evalue": "add() missing 1 required positional argument: 'y'",
     "output_type": "error",
     "traceback": [
      "\u001b[1;31m---------------------------------------------------------------------------\u001b[0m",
      "\u001b[1;31mTypeError\u001b[0m                                 Traceback (most recent call last)",
      "\u001b[1;32m<ipython-input-13-eb7738eddf95>\u001b[0m in \u001b[0;36m<module>\u001b[1;34m\u001b[0m\n\u001b[0;32m      4\u001b[0m     \u001b[0mprint\u001b[0m\u001b[1;33m(\u001b[0m\u001b[1;34m\"result=\"\u001b[0m\u001b[1;33m,\u001b[0m\u001b[0mresult\u001b[0m\u001b[1;33m)\u001b[0m\u001b[1;33m\u001b[0m\u001b[1;33m\u001b[0m\u001b[0m\n\u001b[0;32m      5\u001b[0m \u001b[0madd\u001b[0m\u001b[1;33m(\u001b[0m\u001b[1;36m10\u001b[0m\u001b[1;33m,\u001b[0m\u001b[1;36m20\u001b[0m\u001b[1;33m)\u001b[0m\u001b[1;33m\u001b[0m\u001b[1;33m\u001b[0m\u001b[0m\n\u001b[1;32m----> 6\u001b[1;33m \u001b[0madd\u001b[0m\u001b[1;33m(\u001b[0m\u001b[1;36m1\u001b[0m\u001b[1;33m)\u001b[0m\u001b[1;33m\u001b[0m\u001b[1;33m\u001b[0m\u001b[0m\n\u001b[0m",
      "\u001b[1;31mTypeError\u001b[0m: add() missing 1 required positional argument: 'y'"
     ]
    }
   ],
   "source": [
    "def add(x,y):# x,y are parameters\n",
    "    print(f\"x={x}, y={y}\")\n",
    "    result=x+y\n",
    "    print(\"result=\",result)\n",
    "add(10,20)\n",
    "add(1)"
   ]
  },
  {
   "cell_type": "code",
   "execution_count": 14,
   "metadata": {},
   "outputs": [
    {
     "name": "stdout",
     "output_type": "stream",
     "text": [
      "x=1,y=2\n",
      "result= 3\n"
     ]
    },
    {
     "ename": "TypeError",
     "evalue": "add() takes 2 positional arguments but 3 were given",
     "output_type": "error",
     "traceback": [
      "\u001b[1;31m---------------------------------------------------------------------------\u001b[0m",
      "\u001b[1;31mTypeError\u001b[0m                                 Traceback (most recent call last)",
      "\u001b[1;32m<ipython-input-14-b2c12c399439>\u001b[0m in \u001b[0;36m<module>\u001b[1;34m\u001b[0m\n\u001b[0;32m      4\u001b[0m \u001b[1;33m\u001b[0m\u001b[0m\n\u001b[0;32m      5\u001b[0m \u001b[0madd\u001b[0m\u001b[1;33m(\u001b[0m\u001b[1;36m1\u001b[0m\u001b[1;33m,\u001b[0m\u001b[1;36m2\u001b[0m\u001b[1;33m)\u001b[0m\u001b[1;33m\u001b[0m\u001b[1;33m\u001b[0m\u001b[0m\n\u001b[1;32m----> 6\u001b[1;33m \u001b[0madd\u001b[0m\u001b[1;33m(\u001b[0m\u001b[1;36m1\u001b[0m\u001b[1;33m,\u001b[0m\u001b[1;36m2\u001b[0m\u001b[1;33m,\u001b[0m\u001b[1;36m3\u001b[0m\u001b[1;33m)\u001b[0m\u001b[1;33m\u001b[0m\u001b[1;33m\u001b[0m\u001b[0m\n\u001b[0m\u001b[0;32m      7\u001b[0m \u001b[0madd\u001b[0m\u001b[1;33m(\u001b[0m\u001b[1;36m1\u001b[0m\u001b[1;33m,\u001b[0m\u001b[1;36m2\u001b[0m\u001b[1;33m,\u001b[0m\u001b[1;36m3\u001b[0m\u001b[1;33m,\u001b[0m\u001b[1;36m4\u001b[0m\u001b[1;33m)\u001b[0m\u001b[1;33m\u001b[0m\u001b[1;33m\u001b[0m\u001b[0m\n\u001b[0;32m      8\u001b[0m \u001b[0madd\u001b[0m\u001b[1;33m(\u001b[0m\u001b[1;36m1\u001b[0m\u001b[1;33m,\u001b[0m\u001b[1;36m2\u001b[0m\u001b[1;33m,\u001b[0m\u001b[1;36m3\u001b[0m\u001b[1;33m,\u001b[0m\u001b[1;36m4\u001b[0m\u001b[1;33m,\u001b[0m\u001b[1;36m5\u001b[0m\u001b[1;33m)\u001b[0m\u001b[1;33m\u001b[0m\u001b[1;33m\u001b[0m\u001b[0m\n",
      "\u001b[1;31mTypeError\u001b[0m: add() takes 2 positional arguments but 3 were given"
     ]
    }
   ],
   "source": [
    "def add(x,y):\n",
    "    print(f\"x={x},y={y}\")\n",
    "    print(\"result=\",(x+y))\n",
    "\n",
    "add(1,2)\n",
    "add(1,2,3)\n",
    "add(1,2,3,4)\n",
    "add(1,2,3,4,5)"
   ]
  },
  {
   "cell_type": "code",
   "execution_count": 16,
   "metadata": {},
   "outputs": [
    {
     "name": "stdout",
     "output_type": "stream",
     "text": [
      "a=1,b=2,c=3,d=4,e=5\n",
      "result= 15\n"
     ]
    },
    {
     "ename": "TypeError",
     "evalue": "add() missing 3 required positional arguments: 'c', 'd', and 'e'",
     "output_type": "error",
     "traceback": [
      "\u001b[1;31m---------------------------------------------------------------------------\u001b[0m",
      "\u001b[1;31mTypeError\u001b[0m                                 Traceback (most recent call last)",
      "\u001b[1;32m<ipython-input-16-801a97616082>\u001b[0m in \u001b[0;36m<module>\u001b[1;34m\u001b[0m\n\u001b[0;32m      4\u001b[0m \u001b[1;33m\u001b[0m\u001b[0m\n\u001b[0;32m      5\u001b[0m \u001b[0madd\u001b[0m\u001b[1;33m(\u001b[0m\u001b[1;36m1\u001b[0m\u001b[1;33m,\u001b[0m\u001b[1;36m2\u001b[0m\u001b[1;33m,\u001b[0m\u001b[1;36m3\u001b[0m\u001b[1;33m,\u001b[0m\u001b[1;36m4\u001b[0m\u001b[1;33m,\u001b[0m\u001b[1;36m5\u001b[0m\u001b[1;33m)\u001b[0m\u001b[1;33m\u001b[0m\u001b[1;33m\u001b[0m\u001b[0m\n\u001b[1;32m----> 6\u001b[1;33m \u001b[0madd\u001b[0m\u001b[1;33m(\u001b[0m\u001b[1;36m1\u001b[0m\u001b[1;33m,\u001b[0m\u001b[1;36m2\u001b[0m\u001b[1;33m)\u001b[0m\u001b[1;33m\u001b[0m\u001b[1;33m\u001b[0m\u001b[0m\n\u001b[0m\u001b[0;32m      7\u001b[0m \u001b[0madd\u001b[0m\u001b[1;33m(\u001b[0m\u001b[1;36m1\u001b[0m\u001b[1;33m,\u001b[0m\u001b[1;36m2\u001b[0m\u001b[1;33m,\u001b[0m\u001b[1;36m3\u001b[0m\u001b[1;33m)\u001b[0m\u001b[1;33m\u001b[0m\u001b[1;33m\u001b[0m\u001b[0m\n\u001b[0;32m      8\u001b[0m \u001b[0madd\u001b[0m\u001b[1;33m(\u001b[0m\u001b[1;36m1\u001b[0m\u001b[1;33m,\u001b[0m\u001b[1;36m2\u001b[0m\u001b[1;33m,\u001b[0m\u001b[1;36m3\u001b[0m\u001b[1;33m,\u001b[0m\u001b[1;36m4\u001b[0m\u001b[1;33m)\u001b[0m\u001b[1;33m\u001b[0m\u001b[1;33m\u001b[0m\u001b[0m\n",
      "\u001b[1;31mTypeError\u001b[0m: add() missing 3 required positional arguments: 'c', 'd', and 'e'"
     ]
    }
   ],
   "source": [
    "def add(a,b,c,d,e):\n",
    "    print(f\"a={a},b={b},c={c},d={d},e={e}\")\n",
    "    print(\"result=\",(a+b+c+d+e))\n",
    "\n",
    "add(1,2,3,4,5)\n",
    "add(1,2)\n",
    "add(1,2,3)\n",
    "add(1,2,3,4)\n"
   ]
  },
  {
   "cell_type": "code",
   "execution_count": 17,
   "metadata": {},
   "outputs": [
    {
     "name": "stdout",
     "output_type": "stream",
     "text": [
      "a=1,b=2,c=0,d=0,e=0\n",
      "result= 3\n",
      "a=1,b=2,c=3,d=0,e=0\n",
      "result= 6\n",
      "a=1,b=2,c=3,d=4,e=0\n",
      "result= 10\n",
      "a=1,b=2,c=3,d=4,e=5\n",
      "result= 15\n"
     ]
    }
   ],
   "source": [
    "def add(a,b,c=0,d=0,e=0):# default argument.\n",
    "    #a,b are mandatory parameters\n",
    "    # c,d,e are optional parameters.\n",
    "    print(f\"a={a},b={b},c={c},d={d},e={e}\")\n",
    "    print(\"result=\",(a+b+c+d+e))\n",
    "\n",
    "add(1,2)\n",
    "add(1,2,3)\n",
    "add(1,2,3,4)\n",
    "add(1,2,3,4,5)\n"
   ]
  },
  {
   "cell_type": "code",
   "execution_count": 18,
   "metadata": {},
   "outputs": [
    {
     "ename": "TypeError",
     "evalue": "add() missing 1 required positional argument: 'b'",
     "output_type": "error",
     "traceback": [
      "\u001b[1;31m---------------------------------------------------------------------------\u001b[0m",
      "\u001b[1;31mTypeError\u001b[0m                                 Traceback (most recent call last)",
      "\u001b[1;32m<ipython-input-18-31680f47a39f>\u001b[0m in \u001b[0;36m<module>\u001b[1;34m\u001b[0m\n\u001b[0;32m      5\u001b[0m     \u001b[0mprint\u001b[0m\u001b[1;33m(\u001b[0m\u001b[1;34m\"result=\"\u001b[0m\u001b[1;33m,\u001b[0m\u001b[1;33m(\u001b[0m\u001b[0ma\u001b[0m\u001b[1;33m+\u001b[0m\u001b[0mb\u001b[0m\u001b[1;33m+\u001b[0m\u001b[0mc\u001b[0m\u001b[1;33m+\u001b[0m\u001b[0md\u001b[0m\u001b[1;33m+\u001b[0m\u001b[0me\u001b[0m\u001b[1;33m)\u001b[0m\u001b[1;33m)\u001b[0m\u001b[1;33m\u001b[0m\u001b[1;33m\u001b[0m\u001b[0m\n\u001b[0;32m      6\u001b[0m \u001b[1;33m\u001b[0m\u001b[0m\n\u001b[1;32m----> 7\u001b[1;33m \u001b[0madd\u001b[0m\u001b[1;33m(\u001b[0m\u001b[1;36m1\u001b[0m\u001b[1;33m)\u001b[0m\u001b[1;33m\u001b[0m\u001b[1;33m\u001b[0m\u001b[0m\n\u001b[0m",
      "\u001b[1;31mTypeError\u001b[0m: add() missing 1 required positional argument: 'b'"
     ]
    }
   ],
   "source": [
    "def add(a,b,c=0,d=0,e=0):# default argument.\n",
    "    #a,b are mandatory parameters\n",
    "    # c,d,e are optional parameters.\n",
    "    print(f\"a={a},b={b},c={c},d={d},e={e}\")\n",
    "    print(\"result=\",(a+b+c+d+e))\n",
    "\n",
    "add(1)"
   ]
  },
  {
   "cell_type": "code",
   "execution_count": 19,
   "metadata": {},
   "outputs": [
    {
     "ename": "TypeError",
     "evalue": "add() takes from 2 to 5 positional arguments but 6 were given",
     "output_type": "error",
     "traceback": [
      "\u001b[1;31m---------------------------------------------------------------------------\u001b[0m",
      "\u001b[1;31mTypeError\u001b[0m                                 Traceback (most recent call last)",
      "\u001b[1;32m<ipython-input-19-372b2bf12cb0>\u001b[0m in \u001b[0;36m<module>\u001b[1;34m\u001b[0m\n\u001b[0;32m      4\u001b[0m     \u001b[0mprint\u001b[0m\u001b[1;33m(\u001b[0m\u001b[1;34mf\"a={a},b={b},c={c},d={d},e={e}\"\u001b[0m\u001b[1;33m)\u001b[0m\u001b[1;33m\u001b[0m\u001b[1;33m\u001b[0m\u001b[0m\n\u001b[0;32m      5\u001b[0m     \u001b[0mprint\u001b[0m\u001b[1;33m(\u001b[0m\u001b[1;34m\"result=\"\u001b[0m\u001b[1;33m,\u001b[0m\u001b[1;33m(\u001b[0m\u001b[0ma\u001b[0m\u001b[1;33m+\u001b[0m\u001b[0mb\u001b[0m\u001b[1;33m+\u001b[0m\u001b[0mc\u001b[0m\u001b[1;33m+\u001b[0m\u001b[0md\u001b[0m\u001b[1;33m+\u001b[0m\u001b[0me\u001b[0m\u001b[1;33m)\u001b[0m\u001b[1;33m)\u001b[0m\u001b[1;33m\u001b[0m\u001b[1;33m\u001b[0m\u001b[0m\n\u001b[1;32m----> 6\u001b[1;33m \u001b[0madd\u001b[0m\u001b[1;33m(\u001b[0m\u001b[1;36m1\u001b[0m\u001b[1;33m,\u001b[0m\u001b[1;36m2\u001b[0m\u001b[1;33m,\u001b[0m\u001b[1;36m3\u001b[0m\u001b[1;33m,\u001b[0m\u001b[1;36m4\u001b[0m\u001b[1;33m,\u001b[0m\u001b[1;36m5\u001b[0m\u001b[1;33m,\u001b[0m\u001b[1;36m6\u001b[0m\u001b[1;33m)\u001b[0m\u001b[1;33m\u001b[0m\u001b[1;33m\u001b[0m\u001b[0m\n\u001b[0m",
      "\u001b[1;31mTypeError\u001b[0m: add() takes from 2 to 5 positional arguments but 6 were given"
     ]
    }
   ],
   "source": [
    "def add(a,b,c=0,d=0,e=0):# default argument.\n",
    "    #a,b are mandatory parameters\n",
    "    # c,d,e are optional parameters.\n",
    "    print(f\"a={a},b={b},c={c},d={d},e={e}\")\n",
    "    print(\"result=\",(a+b+c+d+e))\n",
    "add(1,2,3,4,5,6)\n"
   ]
  },
  {
   "cell_type": "code",
   "execution_count": 20,
   "metadata": {},
   "outputs": [
    {
     "name": "stdout",
     "output_type": "stream",
     "text": [
      "a=1,b=2,c=0,d=5,e=0\n",
      "result= 8\n"
     ]
    }
   ],
   "source": [
    "def add(a,b,c=0,d=0,e=0):# default argument.\n",
    "    #a,b are mandatory parameters\n",
    "    # c,d,e are optional parameters.\n",
    "    print(f\"a={a},b={b},c={c},d={d},e={e}\")\n",
    "    print(\"result=\",(a+b+c+d+e))\n",
    "\n",
    "add(1,2,d=5)\n"
   ]
  },
  {
   "cell_type": "code",
   "execution_count": 21,
   "metadata": {},
   "outputs": [
    {
     "name": "stdout",
     "output_type": "stream",
     "text": [
      "a=10,b=2,c=3,d=5,e=6\n",
      "result= 26\n"
     ]
    }
   ],
   "source": [
    "def add(a,b,c=0,d=0,e=0):# default argument.\n",
    "    #a,b are mandatory parameters\n",
    "    # c,d,e are optional parameters.\n",
    "    print(f\"a={a},b={b},c={c},d={d},e={e}\")\n",
    "    print(\"result=\",(a+b+c+d+e))\n",
    "\n",
    "add(c=3,b=2,a=10,d=5,e=6)\n"
   ]
  },
  {
   "cell_type": "code",
   "execution_count": 22,
   "metadata": {},
   "outputs": [
    {
     "ename": "TypeError",
     "evalue": "add() missing 1 required positional argument: 'b'",
     "output_type": "error",
     "traceback": [
      "\u001b[1;31m---------------------------------------------------------------------------\u001b[0m",
      "\u001b[1;31mTypeError\u001b[0m                                 Traceback (most recent call last)",
      "\u001b[1;32m<ipython-input-22-79e105646a44>\u001b[0m in \u001b[0;36m<module>\u001b[1;34m\u001b[0m\n\u001b[0;32m      5\u001b[0m     \u001b[0mprint\u001b[0m\u001b[1;33m(\u001b[0m\u001b[1;34m\"result=\"\u001b[0m\u001b[1;33m,\u001b[0m\u001b[1;33m(\u001b[0m\u001b[0ma\u001b[0m\u001b[1;33m+\u001b[0m\u001b[0mb\u001b[0m\u001b[1;33m+\u001b[0m\u001b[0mc\u001b[0m\u001b[1;33m+\u001b[0m\u001b[0md\u001b[0m\u001b[1;33m+\u001b[0m\u001b[0me\u001b[0m\u001b[1;33m)\u001b[0m\u001b[1;33m)\u001b[0m\u001b[1;33m\u001b[0m\u001b[1;33m\u001b[0m\u001b[0m\n\u001b[0;32m      6\u001b[0m \u001b[1;33m\u001b[0m\u001b[0m\n\u001b[1;32m----> 7\u001b[1;33m \u001b[0madd\u001b[0m\u001b[1;33m(\u001b[0m\u001b[0mc\u001b[0m\u001b[1;33m=\u001b[0m\u001b[1;36m3\u001b[0m\u001b[1;33m,\u001b[0m\u001b[0ma\u001b[0m\u001b[1;33m=\u001b[0m\u001b[1;36m10\u001b[0m\u001b[1;33m,\u001b[0m\u001b[0md\u001b[0m\u001b[1;33m=\u001b[0m\u001b[1;36m5\u001b[0m\u001b[1;33m,\u001b[0m\u001b[0me\u001b[0m\u001b[1;33m=\u001b[0m\u001b[1;36m6\u001b[0m\u001b[1;33m)\u001b[0m\u001b[1;33m\u001b[0m\u001b[1;33m\u001b[0m\u001b[0m\n\u001b[0m",
      "\u001b[1;31mTypeError\u001b[0m: add() missing 1 required positional argument: 'b'"
     ]
    }
   ],
   "source": [
    "def add(a,b,c=0,d=0,e=0):# default argument.\n",
    "    #a,b are mandatory parameters\n",
    "    # c,d,e are optional parameters.\n",
    "    print(f\"a={a},b={b},c={c},d={d},e={e}\")\n",
    "    print(\"result=\",(a+b+c+d+e))\n",
    "\n",
    "add(c=3,a=10,d=5,e=6)\n"
   ]
  },
  {
   "cell_type": "code",
   "execution_count": 23,
   "metadata": {},
   "outputs": [
    {
     "ename": "TypeError",
     "evalue": "add() got multiple values for argument 'a'",
     "output_type": "error",
     "traceback": [
      "\u001b[1;31m---------------------------------------------------------------------------\u001b[0m",
      "\u001b[1;31mTypeError\u001b[0m                                 Traceback (most recent call last)",
      "\u001b[1;32m<ipython-input-23-4d2114005ae0>\u001b[0m in \u001b[0;36m<module>\u001b[1;34m\u001b[0m\n\u001b[0;32m      5\u001b[0m     \u001b[0mprint\u001b[0m\u001b[1;33m(\u001b[0m\u001b[1;34m\"result=\"\u001b[0m\u001b[1;33m,\u001b[0m\u001b[1;33m(\u001b[0m\u001b[0ma\u001b[0m\u001b[1;33m+\u001b[0m\u001b[0mb\u001b[0m\u001b[1;33m+\u001b[0m\u001b[0mc\u001b[0m\u001b[1;33m+\u001b[0m\u001b[0md\u001b[0m\u001b[1;33m+\u001b[0m\u001b[0me\u001b[0m\u001b[1;33m)\u001b[0m\u001b[1;33m)\u001b[0m\u001b[1;33m\u001b[0m\u001b[1;33m\u001b[0m\u001b[0m\n\u001b[0;32m      6\u001b[0m \u001b[1;33m\u001b[0m\u001b[0m\n\u001b[1;32m----> 7\u001b[1;33m \u001b[0madd\u001b[0m\u001b[1;33m(\u001b[0m\u001b[1;36m10\u001b[0m\u001b[1;33m,\u001b[0m\u001b[1;36m20\u001b[0m\u001b[1;33m,\u001b[0m\u001b[0md\u001b[0m\u001b[1;33m=\u001b[0m\u001b[1;36m5\u001b[0m\u001b[1;33m,\u001b[0m\u001b[0ma\u001b[0m\u001b[1;33m=\u001b[0m\u001b[1;36m20\u001b[0m\u001b[1;33m)\u001b[0m\u001b[1;33m\u001b[0m\u001b[1;33m\u001b[0m\u001b[0m\n\u001b[0m",
      "\u001b[1;31mTypeError\u001b[0m: add() got multiple values for argument 'a'"
     ]
    }
   ],
   "source": [
    "def add(a,b,c=0,d=0,e=0):# default argument.\n",
    "    #a,b are mandatory parameters\n",
    "    # c,d,e are optional parameters.\n",
    "    print(f\"a={a},b={b},c={c},d={d},e={e}\")\n",
    "    print(\"result=\",(a+b+c+d+e))\n",
    "\n",
    "add(10,20,d=5,a=20)\n"
   ]
  },
  {
   "cell_type": "code",
   "execution_count": 24,
   "metadata": {},
   "outputs": [
    {
     "name": "stdout",
     "output_type": "stream",
     "text": [
      "a=10,b=20,c=20,d=5,e=0\n",
      "result= 55\n"
     ]
    }
   ],
   "source": [
    "def add(a,b,c=0,d=0,e=0):# default argument.\n",
    "    #a,b are mandatory parameters\n",
    "    # c,d,e are optional parameters.\n",
    "    print(f\"a={a},b={b},c={c},d={d},e={e}\")\n",
    "    print(\"result=\",(a+b+c+d+e))\n",
    "\n",
    "add(10,20,d=5,c=20)"
   ]
  },
  {
   "cell_type": "code",
   "execution_count": 25,
   "metadata": {},
   "outputs": [
    {
     "name": "stdout",
     "output_type": "stream",
     "text": [
      "() <class 'tuple'>\n",
      "(1,) <class 'tuple'>\n",
      "(1, 2) <class 'tuple'>\n",
      "(1, 2, 3, 4, 5, 6, 7, 8, 9) <class 'tuple'>\n",
      "(1, 2, 3, 4, 5, 6, 7, 8, 9, 10, 11, 12, 13, 14, 15, 16, 17, 18) <class 'tuple'>\n"
     ]
    }
   ],
   "source": [
    "def add(*k): # *args\n",
    "    print(k, type(k))\n",
    "    \n",
    "add()\n",
    "add(1)\n",
    "add(1,2,)\n",
    "add(1,2,3,4,5,6,7,8,9)\n",
    "add(1,2,3,4,5,6,7,8,9,10,11,12,13,14,15,16,17,18)"
   ]
  },
  {
   "cell_type": "code",
   "execution_count": 26,
   "metadata": {},
   "outputs": [
    {
     "name": "stdout",
     "output_type": "stream",
     "text": [
      "() <class 'tuple'>\n",
      "0\n",
      "(1,) <class 'tuple'>\n",
      "1\n",
      "(1, 2) <class 'tuple'>\n",
      "3\n",
      "(1, 2, 3, 4, 5, 6, 7, 8, 9) <class 'tuple'>\n",
      "45\n",
      "(1, 2, 3, 4, 5, 6, 7, 8, 9, 10, 11, 12, 13, 14, 15, 16, 17, 18) <class 'tuple'>\n",
      "171\n"
     ]
    }
   ],
   "source": [
    "def add(*k): # *args\n",
    "    print(k, type(k))\n",
    "    print(sum(k))\n",
    "    \n",
    "add()\n",
    "add(1)\n",
    "add(1,2,)\n",
    "add(1,2,3,4,5,6,7,8,9)\n",
    "add(1,2,3,4,5,6,7,8,9,10,11,12,13,14,15,16,17,18)"
   ]
  },
  {
   "cell_type": "code",
   "execution_count": 27,
   "metadata": {},
   "outputs": [
    {
     "name": "stdout",
     "output_type": "stream",
     "text": [
      "0\n",
      "1\n",
      "3\n",
      "45\n",
      "171\n"
     ]
    }
   ],
   "source": [
    "def add(*k): # *args\n",
    "    print(sum(k))\n",
    "    \n",
    "add()\n",
    "add(1)\n",
    "add(1,2,)\n",
    "add(1,2,3,4,5,6,7,8,9)\n",
    "add(1,2,3,4,5,6,7,8,9,10,11,12,13,14,15,16,17,18)"
   ]
  },
  {
   "cell_type": "code",
   "execution_count": 32,
   "metadata": {},
   "outputs": [
    {
     "name": "stdout",
     "output_type": "stream",
     "text": [
      "name=jay,age=4,pan=None,adhar=adhar_jat_1234,mobile=None,email=None\n"
     ]
    }
   ],
   "source": [
    "def register(name,age,pan=None,adhar=None,mobile=None,email=None):\n",
    "    print(f\"name={name},age={age},pan={pan},adhar={adhar},mobile={mobile},email={email}\")\n",
    "register(\"jay\",4,adhar=\"adhar_jat_1234\")"
   ]
  },
  {
   "cell_type": "code",
   "execution_count": 33,
   "metadata": {},
   "outputs": [
    {
     "ename": "TypeError",
     "evalue": "register() got an unexpected keyword argument 'voterid'",
     "output_type": "error",
     "traceback": [
      "\u001b[1;31m---------------------------------------------------------------------------\u001b[0m",
      "\u001b[1;31mTypeError\u001b[0m                                 Traceback (most recent call last)",
      "\u001b[1;32m<ipython-input-33-8fcc44a39551>\u001b[0m in \u001b[0;36m<module>\u001b[1;34m\u001b[0m\n\u001b[0;32m      1\u001b[0m \u001b[1;32mdef\u001b[0m \u001b[0mregister\u001b[0m\u001b[1;33m(\u001b[0m\u001b[0mname\u001b[0m\u001b[1;33m,\u001b[0m\u001b[0mage\u001b[0m\u001b[1;33m,\u001b[0m\u001b[0mpan\u001b[0m\u001b[1;33m=\u001b[0m\u001b[1;32mNone\u001b[0m\u001b[1;33m,\u001b[0m\u001b[0madhar\u001b[0m\u001b[1;33m=\u001b[0m\u001b[1;32mNone\u001b[0m\u001b[1;33m,\u001b[0m\u001b[0mmobile\u001b[0m\u001b[1;33m=\u001b[0m\u001b[1;32mNone\u001b[0m\u001b[1;33m,\u001b[0m\u001b[0memail\u001b[0m\u001b[1;33m=\u001b[0m\u001b[1;32mNone\u001b[0m\u001b[1;33m)\u001b[0m\u001b[1;33m:\u001b[0m\u001b[1;33m\u001b[0m\u001b[1;33m\u001b[0m\u001b[0m\n\u001b[0;32m      2\u001b[0m     \u001b[0mprint\u001b[0m\u001b[1;33m(\u001b[0m\u001b[1;34mf\"name={name},age={age},pan={pan},adhar={adhar},mobile={mobile},email={email}\"\u001b[0m\u001b[1;33m)\u001b[0m\u001b[1;33m\u001b[0m\u001b[1;33m\u001b[0m\u001b[0m\n\u001b[1;32m----> 3\u001b[1;33m \u001b[0mregister\u001b[0m\u001b[1;33m(\u001b[0m\u001b[1;34m\"jay\"\u001b[0m\u001b[1;33m,\u001b[0m\u001b[1;36m4\u001b[0m\u001b[1;33m,\u001b[0m\u001b[0madhar\u001b[0m\u001b[1;33m=\u001b[0m\u001b[1;34m\"adhar_jat_1234\"\u001b[0m\u001b[1;33m,\u001b[0m\u001b[0mvoterid\u001b[0m\u001b[1;33m=\u001b[0m\u001b[1;34m\"jay_voter_1234\"\u001b[0m\u001b[1;33m,\u001b[0m\u001b[0mpassport\u001b[0m\u001b[1;33m=\u001b[0m\u001b[1;34m\"jay_passport_1234\"\u001b[0m\u001b[1;33m)\u001b[0m\u001b[1;33m\u001b[0m\u001b[1;33m\u001b[0m\u001b[0m\n\u001b[0m",
      "\u001b[1;31mTypeError\u001b[0m: register() got an unexpected keyword argument 'voterid'"
     ]
    }
   ],
   "source": [
    "def register(name,age,pan=None,adhar=None,mobile=None,email=None):\n",
    "    print(f\"name={name},age={age},pan={pan},adhar={adhar},mobile={mobile},email={email}\")\n",
    "register(\"jay\",4,adhar=\"adhar_jat_1234\",voterid=\"jay_voter_1234\",passport=\"jay_passport_1234\")"
   ]
  },
  {
   "cell_type": "code",
   "execution_count": 34,
   "metadata": {},
   "outputs": [
    {
     "name": "stdout",
     "output_type": "stream",
     "text": [
      "name=jay,age=4,pan=None,adhar=adhar_jat_1234,mobile=None,email=None\n",
      "{'voterid': 'jay_voter_1234', 'passport': 'jay_passport_1234'}\n"
     ]
    }
   ],
   "source": [
    "def register(name,age,pan=None,adhar=None,mobile=None,email=None,**context):# **kwargs\n",
    "    print(f\"name={name},age={age},pan={pan},adhar={adhar},mobile={mobile},email={email}\")\n",
    "    print(context)\n",
    "register(\"jay\",4,adhar=\"adhar_jat_1234\",voterid=\"jay_voter_1234\",passport=\"jay_passport_1234\")"
   ]
  },
  {
   "cell_type": "code",
   "execution_count": 35,
   "metadata": {},
   "outputs": [
    {
     "name": "stdout",
     "output_type": "stream",
     "text": [
      "name=jay,age=4,pan=pan_jay_1234,adhar=adhar_jat_1234,mobile=None,email=None\n",
      "{'voterid': 'jay_voter_1234', 'passport': 'jay_passport_1234'}\n"
     ]
    }
   ],
   "source": [
    "def register(name,age,pan=None,adhar=None,mobile=None,email=None,**context):# **kwargs\n",
    "    print(f\"name={name},age={age},pan={pan},adhar={adhar},mobile={mobile},email={email}\")\n",
    "    print(context)\n",
    "register(\"jay\",4,\"pan_jay_1234\",\"adhar_jat_1234\",voterid=\"jay_voter_1234\",passport=\"jay_passport_1234\")"
   ]
  },
  {
   "cell_type": "code",
   "execution_count": 36,
   "metadata": {},
   "outputs": [
    {
     "name": "stdout",
     "output_type": "stream",
     "text": [
      "name=jay,age=4,pan=pan_jay_1234,adhar=adhar_jat_1234,mobile=None,email=jay@gmail.com\n",
      "{'voterid': 'jay_voter_1234', 'passport': 'jay_passport_1234'}\n"
     ]
    }
   ],
   "source": [
    "def register(name,age,pan=None,adhar=None,mobile=None,email=None,**context):# **kwargs\n",
    "    print(f\"name={name},age={age},pan={pan},adhar={adhar},mobile={mobile},email={email}\")\n",
    "    print(context)\n",
    "register(\"jay\",4,\"pan_jay_1234\",\"adhar_jat_1234\",voterid=\"jay_voter_1234\",passport=\"jay_passport_1234\",email=\"jay@gmail.com\")"
   ]
  },
  {
   "cell_type": "code",
   "execution_count": 37,
   "metadata": {},
   "outputs": [
    {
     "name": "stdout",
     "output_type": "stream",
     "text": [
      "name=jay,age=4,pan=pan_jay_1234,adhar=adhar_jat_1234,mobile=9676622023,email=jay@gmail.com\n",
      "('jay_voter_1234',)\n",
      "{'passport': 'jay_passport_1234'}\n"
     ]
    }
   ],
   "source": [
    "def register(name,age,pan=None,adhar=None,mobile=None,email=None,*data,**context):# **kwargs\n",
    "    print(f\"name={name},age={age},pan={pan},adhar={adhar},mobile={mobile},email={email}\")\n",
    "    print(data)\n",
    "    print(context)\n",
    "register(\"jay\",4,\"pan_jay_1234\",\"adhar_jat_1234\",\"9676622023\",\"jay@gmail.com\",\"jay_voter_1234\",passport=\"jay_passport_1234\")"
   ]
  },
  {
   "cell_type": "code",
   "execution_count": null,
   "metadata": {},
   "outputs": [],
   "source": []
  }
 ],
 "metadata": {
  "kernelspec": {
   "display_name": "Python 3",
   "language": "python",
   "name": "python3"
  },
  "language_info": {
   "codemirror_mode": {
    "name": "ipython",
    "version": 3
   },
   "file_extension": ".py",
   "mimetype": "text/x-python",
   "name": "python",
   "nbconvert_exporter": "python",
   "pygments_lexer": "ipython3",
   "version": "3.8.3"
  }
 },
 "nbformat": 4,
 "nbformat_minor": 4
}
