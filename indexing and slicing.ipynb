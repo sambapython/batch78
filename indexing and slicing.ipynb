{
 "cells": [
  {
   "cell_type": "code",
   "execution_count": 1,
   "metadata": {},
   "outputs": [
    {
     "name": "stdout",
     "output_type": "stream",
     "text": [
      "p\n",
      "p\n"
     ]
    }
   ],
   "source": [
    "k=\"01234567890123\"\n",
    "s=\"python program\"\n",
    "p=\"43210987654321\"\n",
    "print(s[0])\n",
    "print(s[-14])"
   ]
  },
  {
   "cell_type": "code",
   "execution_count": 2,
   "metadata": {},
   "outputs": [
    {
     "name": "stdout",
     "output_type": "stream",
     "text": [
      "g\n",
      "g\n"
     ]
    }
   ],
   "source": [
    "k=\"01234567890123\"\n",
    "s=\"python program\"\n",
    "p=\"43210987654321\"\n",
    "print(s[10])\n",
    "print(s[-4])"
   ]
  },
  {
   "cell_type": "code",
   "execution_count": 3,
   "metadata": {},
   "outputs": [
    {
     "name": "stdout",
     "output_type": "stream",
     "text": [
      "100\n",
      "100\n"
     ]
    }
   ],
   "source": [
    "l=[100,200,300,400,500,600]\n",
    "print(l[0])\n",
    "print(l[-6])"
   ]
  },
  {
   "cell_type": "code",
   "execution_count": 4,
   "metadata": {},
   "outputs": [
    {
     "ename": "IndexError",
     "evalue": "string index out of range",
     "output_type": "error",
     "traceback": [
      "\u001b[1;31m---------------------------------------------------------------------------\u001b[0m",
      "\u001b[1;31mIndexError\u001b[0m                                Traceback (most recent call last)",
      "\u001b[1;32m<ipython-input-4-e20b06985d5c>\u001b[0m in \u001b[0;36m<module>\u001b[1;34m\u001b[0m\n\u001b[0;32m      2\u001b[0m \u001b[0ms\u001b[0m\u001b[1;33m=\u001b[0m\u001b[1;34m\"python program\"\u001b[0m\u001b[1;33m\u001b[0m\u001b[1;33m\u001b[0m\u001b[0m\n\u001b[0;32m      3\u001b[0m \u001b[0mp\u001b[0m\u001b[1;33m=\u001b[0m\u001b[1;34m\"43210987654321\"\u001b[0m\u001b[1;33m\u001b[0m\u001b[1;33m\u001b[0m\u001b[0m\n\u001b[1;32m----> 4\u001b[1;33m \u001b[0mprint\u001b[0m\u001b[1;33m(\u001b[0m\u001b[0ms\u001b[0m\u001b[1;33m[\u001b[0m\u001b[1;36m14\u001b[0m\u001b[1;33m]\u001b[0m\u001b[1;33m)\u001b[0m\u001b[1;33m\u001b[0m\u001b[1;33m\u001b[0m\u001b[0m\n\u001b[0m",
      "\u001b[1;31mIndexError\u001b[0m: string index out of range"
     ]
    }
   ],
   "source": [
    "k=\"01234567890123\"\n",
    "s=\"python program\"\n",
    "p=\"43210987654321\"\n",
    "print(s[14])"
   ]
  },
  {
   "cell_type": "code",
   "execution_count": 5,
   "metadata": {},
   "outputs": [
    {
     "name": "stdout",
     "output_type": "stream",
     "text": [
      "p\n"
     ]
    }
   ],
   "source": [
    "k=\"01234567890123\"\n",
    "s=\"python program\"\n",
    "p=\"43210987654321\"\n",
    "print(s[-14])"
   ]
  },
  {
   "cell_type": "code",
   "execution_count": 6,
   "metadata": {},
   "outputs": [
    {
     "ename": "IndexError",
     "evalue": "string index out of range",
     "output_type": "error",
     "traceback": [
      "\u001b[1;31m---------------------------------------------------------------------------\u001b[0m",
      "\u001b[1;31mIndexError\u001b[0m                                Traceback (most recent call last)",
      "\u001b[1;32m<ipython-input-6-a808d93f1dd9>\u001b[0m in \u001b[0;36m<module>\u001b[1;34m\u001b[0m\n\u001b[0;32m      2\u001b[0m \u001b[0ms\u001b[0m\u001b[1;33m=\u001b[0m\u001b[1;34m\"python program\"\u001b[0m\u001b[1;33m\u001b[0m\u001b[1;33m\u001b[0m\u001b[0m\n\u001b[0;32m      3\u001b[0m \u001b[0mp\u001b[0m\u001b[1;33m=\u001b[0m\u001b[1;34m\"43210987654321\"\u001b[0m\u001b[1;33m\u001b[0m\u001b[1;33m\u001b[0m\u001b[0m\n\u001b[1;32m----> 4\u001b[1;33m \u001b[0mprint\u001b[0m\u001b[1;33m(\u001b[0m\u001b[0ms\u001b[0m\u001b[1;33m[\u001b[0m\u001b[1;33m-\u001b[0m\u001b[1;36m15\u001b[0m\u001b[1;33m]\u001b[0m\u001b[1;33m)\u001b[0m\u001b[1;33m\u001b[0m\u001b[1;33m\u001b[0m\u001b[0m\n\u001b[0m",
      "\u001b[1;31mIndexError\u001b[0m: string index out of range"
     ]
    }
   ],
   "source": [
    "k=\"01234567890123\"\n",
    "s=\"python program\"\n",
    "p=\"43210987654321\"\n",
    "print(s[-15])"
   ]
  },
  {
   "cell_type": "code",
   "execution_count": 7,
   "metadata": {},
   "outputs": [
    {
     "name": "stdout",
     "output_type": "stream",
     "text": [
      "pyt\n"
     ]
    }
   ],
   "source": [
    "k=\"01234567890123\"\n",
    "s=\"python program\"\n",
    "p=\"43210987654321\"\n",
    "print(s[0]+s[1]+s[2])"
   ]
  },
  {
   "cell_type": "code",
   "execution_count": 8,
   "metadata": {},
   "outputs": [
    {
     "name": "stdout",
     "output_type": "stream",
     "text": [
      "pyt\n",
      "py\n"
     ]
    }
   ],
   "source": [
    "k=\"01234567890123\"\n",
    "s=\"python program\"\n",
    "p=\"43210987654321\"\n",
    "print(s[0]+s[1]+s[2])\n",
    "print(s[0:2])"
   ]
  },
  {
   "cell_type": "code",
   "execution_count": 9,
   "metadata": {},
   "outputs": [
    {
     "name": "stdout",
     "output_type": "stream",
     "text": [
      "pyt\n",
      "pyt\n"
     ]
    }
   ],
   "source": [
    "k=\"01234567890123\"\n",
    "s=\"python program\"\n",
    "p=\"43210987654321\"\n",
    "print(s[0]+s[1]+s[2])\n",
    "print(s[0:3])"
   ]
  },
  {
   "cell_type": "code",
   "execution_count": 10,
   "metadata": {},
   "outputs": [
    {
     "name": "stdout",
     "output_type": "stream",
     "text": [
      "pyt\n",
      "thon p\n"
     ]
    }
   ],
   "source": [
    "k=\"01234567890123\"\n",
    "s=\"python program\"\n",
    "p=\"43210987654321\"\n",
    "print(s[0]+s[1]+s[2])\n",
    "print(s[2:8])"
   ]
  },
  {
   "cell_type": "code",
   "execution_count": 11,
   "metadata": {},
   "outputs": [
    {
     "name": "stdout",
     "output_type": "stream",
     "text": [
      "pyt\n",
      "yhnpo\n"
     ]
    }
   ],
   "source": [
    "k=\"01234567890123\"\n",
    "s=\"python program\"\n",
    "p=\"43210987654321\"\n",
    "print(s[0]+s[1]+s[2])\n",
    "print(s[1:10:2])#1-y, 1+2:3-h,3+2:5-n"
   ]
  },
  {
   "cell_type": "code",
   "execution_count": 12,
   "metadata": {},
   "outputs": [
    {
     "name": "stdout",
     "output_type": "stream",
     "text": [
      "pyt\n",
      "ython pro\n"
     ]
    }
   ],
   "source": [
    "k=\"01234567890123\"\n",
    "s=\"python program\"\n",
    "p=\"43210987654321\"\n",
    "print(s[0]+s[1]+s[2])\n",
    "print(s[1:10])"
   ]
  },
  {
   "cell_type": "code",
   "execution_count": 13,
   "metadata": {},
   "outputs": [
    {
     "name": "stdout",
     "output_type": "stream",
     "text": [
      "pyt\n",
      "yop\n"
     ]
    }
   ],
   "source": [
    "k=\"01234567890123\"\n",
    "s=\"python program\"\n",
    "p=\"43210987654321\"\n",
    "print(s[0]+s[1]+s[2])\n",
    "print(s[1:10:3])"
   ]
  },
  {
   "cell_type": "code",
   "execution_count": 15,
   "metadata": {},
   "outputs": [
    {
     "name": "stdout",
     "output_type": "stream",
     "text": [
      "\n"
     ]
    }
   ],
   "source": [
    "k=\"01234567890123\"\n",
    "s=\"python program\"\n",
    "p=\"43210987654321\"\n",
    "print(s[8:1])"
   ]
  },
  {
   "cell_type": "code",
   "execution_count": 17,
   "metadata": {},
   "outputs": [
    {
     "name": "stdout",
     "output_type": "stream",
     "text": [
      "\n"
     ]
    }
   ],
   "source": [
    "k=\"01234567890123\"\n",
    "s=\"python program\"\n",
    "p=\"43210987654321\"\n",
    "print(s[10:1])# the direction is decided by the sign of third slicing value. Here by defalut its +1.\n",
    "# if the third silicing value is +. then it's in forward direction.in the forward direction we coould not get one index"
   ]
  },
  {
   "cell_type": "code",
   "execution_count": 18,
   "metadata": {},
   "outputs": [
    {
     "name": "stdout",
     "output_type": "stream",
     "text": [
      "gorp noht\n"
     ]
    }
   ],
   "source": [
    "k=\"01234567890123\"\n",
    "s=\"python program\"\n",
    "p=\"43210987654321\"\n",
    "print(s[10:1:-1])# the direction is decided by the sign of third slicing value.-.negative.\n",
    "# if the third silicing value is -. then it's in backward direction.in the backward  direction we will one index. so it will give up to 2."
   ]
  },
  {
   "cell_type": "code",
   "execution_count": 19,
   "metadata": {},
   "outputs": [
    {
     "name": "stdout",
     "output_type": "stream",
     "text": [
      "gr\n"
     ]
    }
   ],
   "source": [
    "k=\"01234567890123\"\n",
    "s=\"python program\"\n",
    "p=\"43210987654321\"\n",
    "print(s[10:-2])"
   ]
  },
  {
   "cell_type": "code",
   "execution_count": 20,
   "metadata": {},
   "outputs": [
    {
     "name": "stdout",
     "output_type": "stream",
     "text": [
      "\n"
     ]
    }
   ],
   "source": [
    "k=\"01234567890123\"\n",
    "s=\"python program\"\n",
    "p=\"43210987654321\"\n",
    "print(s[10:-2:-1])"
   ]
  },
  {
   "cell_type": "code",
   "execution_count": 21,
   "metadata": {},
   "outputs": [
    {
     "name": "stdout",
     "output_type": "stream",
     "text": [
      "gr\n"
     ]
    }
   ],
   "source": [
    "k=\"01234567890123\"\n",
    "s=\"python program\"\n",
    "p=\"43210987654321\"\n",
    "print(s[10:-2])# not given a thid slicing value, by default +1"
   ]
  },
  {
   "cell_type": "code",
   "execution_count": 22,
   "metadata": {},
   "outputs": [
    {
     "name": "stdout",
     "output_type": "stream",
     "text": [
      "n progr\n"
     ]
    }
   ],
   "source": [
    "k=\"01234567890123\"\n",
    "s=\"python program\"\n",
    "p=\"43210987654321\"\n",
    "print(s[5:-2])# not given a thid slicing value, by default +1"
   ]
  },
  {
   "cell_type": "code",
   "execution_count": 23,
   "metadata": {},
   "outputs": [
    {
     "name": "stdout",
     "output_type": "stream",
     "text": [
      "ogr\n"
     ]
    }
   ],
   "source": [
    "k=\"01234567890123\"# positive indexes\n",
    "s=\"python program\"\n",
    "p=\"43210987654321\"#negative indexes\n",
    "print(s[-5:-2])# not given a thid slicing value, by default +1"
   ]
  },
  {
   "cell_type": "code",
   "execution_count": 24,
   "metadata": {},
   "outputs": [
    {
     "name": "stdout",
     "output_type": "stream",
     "text": [
      "\n"
     ]
    }
   ],
   "source": [
    "k=\"01234567890123\"\n",
    "s=\"python program\"\n",
    "p=\"43210987654321\"\n",
    "print(s[-5:-2:-1])# not given a thid slicing value, by default +1"
   ]
  },
  {
   "cell_type": "code",
   "execution_count": 25,
   "metadata": {},
   "outputs": [
    {
     "name": "stdout",
     "output_type": "stream",
     "text": [
      "arg\n"
     ]
    }
   ],
   "source": [
    "k=\"01234567890123\"\n",
    "s=\"python program\"\n",
    "p=\"43210987654321\"\n",
    "print(s[-2:-5:-1])# not given a thid slicing value, by default +1"
   ]
  },
  {
   "cell_type": "code",
   "execution_count": 26,
   "metadata": {},
   "outputs": [
    {
     "name": "stdout",
     "output_type": "stream",
     "text": [
      "n program\n"
     ]
    }
   ],
   "source": [
    "k=\"01234567890123\"\n",
    "s=\"python program\"\n",
    "p=\"43210987654321\"\n",
    "print(s[5:])# we have not given, second slicing, depends on direction, whether it has to goto end or begining.\n",
    "# here the third slicing value +1 so its a forward direction. so it will go till end"
   ]
  },
  {
   "cell_type": "code",
   "execution_count": 27,
   "metadata": {},
   "outputs": [
    {
     "name": "stdout",
     "output_type": "stream",
     "text": [
      "nohtyp\n"
     ]
    }
   ],
   "source": [
    "k=\"01234567890123\"\n",
    "s=\"python program\"\n",
    "p=\"43210987654321\"\n",
    "print(s[5::-1])# we have not given, second slicing, depends on direction, whether it has to goto end or begining.\n",
    "# here the third slicing value -1 so its a backward direction. so it will go till begining."
   ]
  },
  {
   "cell_type": "code",
   "execution_count": 28,
   "metadata": {},
   "outputs": [
    {
     "name": "stdout",
     "output_type": "stream",
     "text": [
      "margorp \n"
     ]
    }
   ],
   "source": [
    "k=\"01234567890123\"\n",
    "s=\"python program\"\n",
    "p=\"43210987654321\"\n",
    "print(s[:5:-1])# we have not given first slicing, depends on direction, whether it will start from end or begining.\n",
    "# here the third slicing value -1 so its a backward direction, it will start from end. it will give up to 6 in back ward direction"
   ]
  },
  {
   "cell_type": "code",
   "execution_count": 29,
   "metadata": {},
   "outputs": [
    {
     "name": "stdout",
     "output_type": "stream",
     "text": [
      "pytho\n"
     ]
    }
   ],
   "source": [
    "k=\"01234567890123\"\n",
    "s=\"python program\"\n",
    "p=\"43210987654321\"\n",
    "print(s[:5])# we have not given first slicing, depends on direction, whether it will start from end or begining.\n",
    "# here the third slicing value +1. so its a forward direction, it will start from begining. it will give up to 4 in forward direction"
   ]
  },
  {
   "cell_type": "code",
   "execution_count": 30,
   "metadata": {},
   "outputs": [
    {
     "name": "stdout",
     "output_type": "stream",
     "text": [
      "python program\n"
     ]
    }
   ],
   "source": [
    "k=\"01234567890123\"\n",
    "s=\"python program\"\n",
    "p=\"43210987654321\"\n",
    "print(s[:])"
   ]
  },
  {
   "cell_type": "code",
   "execution_count": 31,
   "metadata": {},
   "outputs": [
    {
     "name": "stdout",
     "output_type": "stream",
     "text": [
      "margorp nohtyp\n"
     ]
    }
   ],
   "source": [
    "k=\"01234567890123\"\n",
    "s=\"python program\"\n",
    "p=\"43210987654321\"\n",
    "print(s[::-1])"
   ]
  },
  {
   "cell_type": "code",
   "execution_count": null,
   "metadata": {},
   "outputs": [],
   "source": []
  }
 ],
 "metadata": {
  "kernelspec": {
   "display_name": "Python 3",
   "language": "python",
   "name": "python3"
  },
  "language_info": {
   "codemirror_mode": {
    "name": "ipython",
    "version": 3
   },
   "file_extension": ".py",
   "mimetype": "text/x-python",
   "name": "python",
   "nbconvert_exporter": "python",
   "pygments_lexer": "ipython3",
   "version": "3.8.3"
  }
 },
 "nbformat": 4,
 "nbformat_minor": 4
}
