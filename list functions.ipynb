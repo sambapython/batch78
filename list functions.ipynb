{
 "cells": [
  {
   "cell_type": "code",
   "execution_count": 1,
   "metadata": {},
   "outputs": [
    {
     "name": "stdout",
     "output_type": "stream",
     "text": [
      "['GRAPE', 'GRAPE', 'ORANGE', 'apple', 'apple', 'apple', 'mango', 'orange', 'orange']\n"
     ]
    }
   ],
   "source": [
    "l=[\"apple\",\"GRAPE\",\"orange\",\"apple\",\"mango\",\"orange\",\"apple\",\"GRAPE\",\"ORANGE\"]\n",
    "l.sort()\n",
    "print(l)"
   ]
  },
  {
   "cell_type": "code",
   "execution_count": 2,
   "metadata": {},
   "outputs": [
    {
     "name": "stdout",
     "output_type": "stream",
     "text": [
      "20\n"
     ]
    }
   ],
   "source": [
    "def fun(x):\n",
    "    return x+10\n",
    "print(fun(10))"
   ]
  },
  {
   "cell_type": "code",
   "execution_count": 3,
   "metadata": {},
   "outputs": [
    {
     "data": {
      "text/plain": [
       "30"
      ]
     },
     "execution_count": 3,
     "metadata": {},
     "output_type": "execute_result"
    }
   ],
   "source": [
    "fun=lambda x:x+10\n",
    "fun(20)"
   ]
  },
  {
   "cell_type": "code",
   "execution_count": 4,
   "metadata": {},
   "outputs": [
    {
     "name": "stdout",
     "output_type": "stream",
     "text": [
      "['apple', 'apple', 'apple', 'GRAPE', 'GRAPE', 'mango', 'orange', 'orange', 'ORANGE']\n"
     ]
    }
   ],
   "source": [
    "l=[\"apple\",\"GRAPE\",\"orange\",\"apple\",\"mango\",\"orange\",\"apple\",\"GRAPE\",\"ORANGE\"]\n",
    "def fun(x):\n",
    "    return x.lower()\n",
    "l.sort(key=fun)\n",
    "print(l)"
   ]
  },
  {
   "cell_type": "code",
   "execution_count": 5,
   "metadata": {},
   "outputs": [
    {
     "name": "stdout",
     "output_type": "stream",
     "text": [
      "['apple', 'apple', 'apple', 'GRAPE', 'GRAPE', 'mango', 'orange', 'orange', 'ORANGE']\n"
     ]
    }
   ],
   "source": [
    "l=[\"apple\",\"GRAPE\",\"orange\",\"apple\",\"mango\",\"orange\",\"apple\",\"GRAPE\",\"ORANGE\"]\n",
    "l.sort(key=lambda x:x.lower())\n",
    "print(l)"
   ]
  },
  {
   "cell_type": "code",
   "execution_count": 6,
   "metadata": {},
   "outputs": [
    {
     "name": "stdout",
     "output_type": "stream",
     "text": [
      "['2', '3', '4', '7', '9', '10', '20', '29']\n"
     ]
    }
   ],
   "source": [
    "l=[\"10\",\"9\",\"20\",\"29\",\"3\",\"4\",\"7\",\"2\"]\n",
    "l.sort(key=lambda x:int(x))\n",
    "print(l)"
   ]
  },
  {
   "cell_type": "code",
   "execution_count": 7,
   "metadata": {},
   "outputs": [
    {
     "name": "stdout",
     "output_type": "stream",
     "text": [
      "{40, 10, 20, 30}\n",
      "{40, 50, 60, 30}\n",
      "{40, 10, 50, 20, 60, 30}\n"
     ]
    }
   ],
   "source": [
    "s={10,20,30,40}\n",
    "s1={30,40,50,60}\n",
    "k=s.union(s1)\n",
    "print(s)\n",
    "print(s1)\n",
    "print(k)"
   ]
  },
  {
   "cell_type": "code",
   "execution_count": 8,
   "metadata": {},
   "outputs": [
    {
     "name": "stdout",
     "output_type": "stream",
     "text": [
      "{40, 10, 50, 20, 60, 30}\n",
      "{40, 50, 60, 30}\n",
      "None\n"
     ]
    }
   ],
   "source": [
    "s={10,20,30,40}\n",
    "s1={30,40,50,60}\n",
    "k=s.update(s1)\n",
    "print(s)\n",
    "print(s1)\n",
    "print(k)"
   ]
  },
  {
   "cell_type": "code",
   "execution_count": 9,
   "metadata": {},
   "outputs": [
    {
     "name": "stdout",
     "output_type": "stream",
     "text": [
      "{40, 10, 20, 30}\n",
      "{40, 10, 50, 20, 60, 30}\n",
      "None\n"
     ]
    }
   ],
   "source": [
    "s={10,20,30,40}\n",
    "s1={30,40,50,60}\n",
    "k=s1.update(s)\n",
    "print(s)\n",
    "print(s1)\n",
    "print(k)"
   ]
  },
  {
   "cell_type": "code",
   "execution_count": 10,
   "metadata": {},
   "outputs": [
    {
     "name": "stdout",
     "output_type": "stream",
     "text": [
      "{'name': 'jay', 'age': 4, 'street': 'devender nagar', 'city': 'Hyderabad'}\n"
     ]
    }
   ],
   "source": [
    "details={\"name\":\"jay\",\"age\":4}\n",
    "address={\"street\":\"devender nagar\",\"city\":\"Hyderabad\"}\n",
    "details.update(address)\n",
    "print(details)"
   ]
  },
  {
   "cell_type": "code",
   "execution_count": null,
   "metadata": {},
   "outputs": [],
   "source": []
  }
 ],
 "metadata": {
  "kernelspec": {
   "display_name": "Python 3",
   "language": "python",
   "name": "python3"
  },
  "language_info": {
   "codemirror_mode": {
    "name": "ipython",
    "version": 3
   },
   "file_extension": ".py",
   "mimetype": "text/x-python",
   "name": "python",
   "nbconvert_exporter": "python",
   "pygments_lexer": "ipython3",
   "version": "3.8.3"
  }
 },
 "nbformat": 4,
 "nbformat_minor": 4
}
