{
 "cells": [
  {
   "cell_type": "code",
   "execution_count": null,
   "metadata": {},
   "outputs": [],
   "source": [
    "def salary_cal(emp_id,emp_name,emp_sal,emp_leaves):\n",
    "    print(\"this is function\")\n",
    "\n",
    "class Emp:\n",
    "    def salary_cal(obj):\n",
    "        print(\"this is salry calculation\")"
   ]
  },
  {
   "cell_type": "code",
   "execution_count": 1,
   "metadata": {},
   "outputs": [
    {
     "name": "stdout",
     "output_type": "stream",
     "text": [
      "this is class\n"
     ]
    }
   ],
   "source": [
    "def fun():\n",
    "    print(\"this is fun\")\n",
    "    \n",
    "class Emp:\n",
    "    print(\"this is class\")"
   ]
  },
  {
   "cell_type": "code",
   "execution_count": 2,
   "metadata": {},
   "outputs": [
    {
     "name": "stdout",
     "output_type": "stream",
     "text": [
      "this is class\n"
     ]
    }
   ],
   "source": [
    "def fun():\n",
    "    print(\"this is fun\")\n",
    "    \n",
    "class Emp:\n",
    "    print(\"this is class\")\n",
    "    def get(obj):\n",
    "        print(\"this is get\")"
   ]
  },
  {
   "cell_type": "code",
   "execution_count": 3,
   "metadata": {},
   "outputs": [
    {
     "name": "stdout",
     "output_type": "stream",
     "text": [
      "this is class\n",
      "Jay 1 200000\n",
      "this is get\n"
     ]
    }
   ],
   "source": [
    "def fun():\n",
    "    print(\"this is fun\")\n",
    "    \n",
    "class Emp:\n",
    "    print(\"this is class\")\n",
    "    emp_name=\"Jay\"\n",
    "    emp_id=1\n",
    "    emp_sal=200000\n",
    "    emp_leaves=3\n",
    "    def get(obj):\n",
    "        print(\"this is get\")\n",
    "\n",
    "print(Emp.emp_name, Emp.emp_id, Emp.emp_sal)\n",
    "Emp.get(\"jayaram\")"
   ]
  },
  {
   "cell_type": "code",
   "execution_count": 5,
   "metadata": {},
   "outputs": [
    {
     "name": "stdout",
     "output_type": "stream",
     "text": [
      "Jayaram 1 200000 3\n",
      "Vedhanvesh 2 300000 2\n"
     ]
    }
   ],
   "source": [
    "class Emp:# class object\n",
    "    pass\n",
    "jay=Emp()# data object\n",
    "jay.name=\"Jayaram\"\n",
    "jay.id=1\n",
    "jay.sal=200000\n",
    "jay.leaves=3# name id sal leaves are the attributes, these atttributes are binded to Emp data object, refer by jay reference.\n",
    "vedha = Emp()# data object\n",
    "vedha.name=\"Vedhanvesh\"\n",
    "vedha.id=2\n",
    "vedha.sal=300000\n",
    "vedha.leaves=2\n",
    "print(jay.name,jay.id,jay.sal,jay.leaves)\n",
    "print(vedha.name, vedha.id, vedha.sal, vedha.leaves)"
   ]
  },
  {
   "cell_type": "code",
   "execution_count": 7,
   "metadata": {},
   "outputs": [
    {
     "name": "stdout",
     "output_type": "stream",
     "text": [
      "('Jayaram', 1, 200000, 3)\n",
      "('Vedhanvesh', 2, 300000, 2)\n"
     ]
    }
   ],
   "source": [
    "# class Product: name, cost, color, discount, deliverycharges, profit\n",
    "class Emp:# class object\n",
    "    def get(obj):\n",
    "        return obj.name, obj.id, obj.sal, obj.leaves\n",
    "        \n",
    "jay=Emp()# data object\n",
    "jay.name=\"Jayaram\"\n",
    "jay.id=1\n",
    "jay.sal=200000\n",
    "jay.leaves=3# name id sal leaves are the attributes, these atttributes are binded to Emp data object, refer by jay reference.\n",
    "vedha = Emp()# data object\n",
    "vedha.name=\"Vedhanvesh\"\n",
    "vedha.id=2\n",
    "vedha.sal=300000\n",
    "vedha.leaves=2\n",
    "#print(jay.name,jay.id,jay.sal,jay.leaves)\n",
    "print(Emp.get(jay))\n",
    "#print(vedha.name, vedha.id, vedha.sal, vedha.leaves)\n",
    "print(Emp.get(vedha))"
   ]
  },
  {
   "cell_type": "code",
   "execution_count": 8,
   "metadata": {},
   "outputs": [
    {
     "name": "stdout",
     "output_type": "stream",
     "text": [
      "('Jayaram', 1, 200000, 3)\n",
      "('Vedhanvesh', 2, 300000, 2)\n"
     ]
    }
   ],
   "source": [
    "# class Product: name, cost, color, discount, deliverycharges, profit\n",
    "class Emp:# class object\n",
    "    def set_data(obj, name, e_id, sal,leaves):\n",
    "        obj.name=name\n",
    "        obj.id=e_id\n",
    "        obj.sal=sal\n",
    "        obj.leaves=leaves\n",
    "    \n",
    "    def get(obj):\n",
    "        return obj.name, obj.id, obj.sal, obj.leaves\n",
    "        \n",
    "jay=Emp()# data object\n",
    "Emp.set_data(jay, \"Jayaram\",1,200000,3)\n",
    "# jay.name=\"Jayaram\"\n",
    "# jay.id=1\n",
    "# jay.sal=200000\n",
    "# jay.leaves=3# name id sal leaves are the attributes, these atttributes are binded to Emp data object, refer by jay reference.\n",
    "vedha = Emp()# data object\n",
    "Emp.set_data(vedha,\"Vedhanvesh\",2,300000,2)\n",
    "# vedha.name=\"Vedhanvesh\"\n",
    "# vedha.id=2\n",
    "# vedha.sal=300000\n",
    "# vedha.leaves=2\n",
    "#print(jay.name,jay.id,jay.sal,jay.leaves)\n",
    "print(Emp.get(jay))\n",
    "#print(vedha.name, vedha.id, vedha.sal, vedha.leaves)\n",
    "print(Emp.get(vedha))"
   ]
  },
  {
   "cell_type": "code",
   "execution_count": 10,
   "metadata": {},
   "outputs": [
    {
     "name": "stdout",
     "output_type": "stream",
     "text": [
      "('Jayaram', 1, 200000, 3)\n",
      "('Vedhanvesh', 2, 300000, 2)\n"
     ]
    }
   ],
   "source": [
    "class Emp:# class object\n",
    "    def set_data(obj, name, e_id, sal,leaves):\n",
    "        obj.name=name\n",
    "        obj.id=e_id\n",
    "        obj.sal=sal\n",
    "        obj.leaves=leaves\n",
    "    \n",
    "    def get(obj):\n",
    "        return obj.name, obj.id, obj.sal, obj.leaves\n",
    "        \n",
    "jay=Emp()\n",
    "Emp.set_data(jay, \"Jayaram\",1,200000,3)\n",
    "vedha = Emp()\n",
    "Emp.set_data(vedha,\"Vedhanvesh\",2,300000,2)\n",
    "print(Emp.get(jay))\n",
    "print(Emp.get(vedha))"
   ]
  },
  {
   "cell_type": "code",
   "execution_count": 13,
   "metadata": {},
   "outputs": [
    {
     "name": "stdout",
     "output_type": "stream",
     "text": [
      "('Jayaram', 1, 200000, 3)\n",
      "('Vedhanvesh', 2, 300000, 2)\n"
     ]
    }
   ],
   "source": [
    "class Emp:# class object\n",
    "    def set_data(obj, name, e_id, sal,leaves):\n",
    "        obj.name=name\n",
    "        obj.id=e_id\n",
    "        obj.sal=sal\n",
    "        obj.leaves=leaves\n",
    "    \n",
    "    def get(obj):\n",
    "        return obj.name, obj.id, obj.sal, obj.leaves\n",
    "        \n",
    "jay=Emp()\n",
    "#Emp.set_data(jay, \"Jayaram\",1,200000,3)\n",
    "jay.set_data(\"Jayaram\",1,200000,3)\n",
    "vedha = Emp()\n",
    "#Emp.set_data(vedha,\"Vedhanvesh\",2,300000,2)\n",
    "vedha.set_data(\"Vedhanvesh\",2,300000,2)\n",
    "#print(Emp.get(jay))\n",
    "print(jay.get())\n",
    "#print(Emp.get(vedha))\n",
    "print(vedha.get())"
   ]
  },
  {
   "cell_type": "code",
   "execution_count": 14,
   "metadata": {},
   "outputs": [
    {
     "name": "stdout",
     "output_type": "stream",
     "text": [
      "('Jayaram', 1, 200000, 3)\n",
      "('Vedhanvesh', 2, 300000, 2)\n"
     ]
    }
   ],
   "source": [
    "class Emp:# class object\n",
    "    def set_data(obj, name, e_id, sal,leaves):\n",
    "        obj.name=name\n",
    "        obj.id=e_id\n",
    "        obj.sal=sal\n",
    "        obj.leaves=leaves\n",
    "    \n",
    "    def get(obj):\n",
    "        return obj.name, obj.id, obj.sal, obj.leaves\n",
    "        \n",
    "jay=Emp()\n",
    "jay.set_data(\"Jayaram\",1,200000,3)\n",
    "vedha = Emp()\n",
    "vedha.set_data(\"Vedhanvesh\",2,300000,2)\n",
    "print(jay.get())\n",
    "print(vedha.get())"
   ]
  },
  {
   "cell_type": "code",
   "execution_count": 17,
   "metadata": {},
   "outputs": [
    {
     "name": "stdout",
     "output_type": "stream",
     "text": [
      "('Jayaram', 1, 200000, 3)\n",
      "('Vedhanvesh', 2, 300000, 2)\n",
      "180000.0\n",
      "280000.0\n"
     ]
    }
   ],
   "source": [
    "class Emp:# class object\n",
    "    def set_data(obj, name, e_id, sal,leaves):\n",
    "        obj.name=name\n",
    "        obj.id=e_id\n",
    "        obj.sal=sal\n",
    "        obj.leaves=leaves\n",
    "    \n",
    "    def get(obj):\n",
    "        return obj.name, obj.id, obj.sal, obj.leaves\n",
    "    def sal_cal(obj):\n",
    "        return obj.sal-(obj.leaves*(obj.sal/30))\n",
    "        \n",
    "jay=Emp()\n",
    "jay.set_data(\"Jayaram\",1,200000,3)\n",
    "vedha = Emp()\n",
    "vedha.set_data(\"Vedhanvesh\",2,300000,2)\n",
    "print(jay.get())\n",
    "print(vedha.get())\n",
    "print(jay.sal_cal())\n",
    "print(vedha.sal_cal())"
   ]
  },
  {
   "cell_type": "code",
   "execution_count": 18,
   "metadata": {},
   "outputs": [
    {
     "name": "stdout",
     "output_type": "stream",
     "text": [
      "('Jayaram', 1, 200000, 3)\n",
      "('Vedhanvesh', 2, 300000, 2)\n",
      "180000.0\n",
      "280000.0\n"
     ]
    }
   ],
   "source": [
    "class Emp:# class object\n",
    "    def set_data(self, name, e_id, sal,leaves):\n",
    "        self.name=name\n",
    "        self.id=e_id\n",
    "        self.sal=sal\n",
    "        self.leaves=leaves\n",
    "    \n",
    "    def get(self):\n",
    "        return self.name, self.id, self.sal, self.leaves\n",
    "    def sal_cal(self):\n",
    "        return self.sal-(self.leaves*(self.sal/30))\n",
    "        \n",
    "jay=Emp()\n",
    "jay.set_data(\"Jayaram\",1,200000,3)\n",
    "vedha = Emp()\n",
    "vedha.set_data(\"Vedhanvesh\",2,300000,2)\n",
    "print(jay.get())\n",
    "print(vedha.get())\n",
    "print(jay.sal_cal())\n",
    "print(vedha.sal_cal())"
   ]
  },
  {
   "cell_type": "code",
   "execution_count": 19,
   "metadata": {},
   "outputs": [
    {
     "name": "stdout",
     "output_type": "stream",
     "text": [
      "('Jayaram', 1, 200000, 3)\n",
      "('Vedhanvesh', 2, 300000, 2)\n",
      "180000.0\n",
      "280000.0\n"
     ]
    },
    {
     "ename": "AttributeError",
     "evalue": "'Emp' object has no attribute 'sal'",
     "output_type": "error",
     "traceback": [
      "\u001b[1;31m---------------------------------------------------------------------------\u001b[0m",
      "\u001b[1;31mAttributeError\u001b[0m                            Traceback (most recent call last)",
      "\u001b[1;32m<ipython-input-19-fb0ef7fca88e>\u001b[0m in \u001b[0;36m<module>\u001b[1;34m\u001b[0m\n\u001b[0;32m     20\u001b[0m \u001b[0mprint\u001b[0m\u001b[1;33m(\u001b[0m\u001b[0mvedha\u001b[0m\u001b[1;33m.\u001b[0m\u001b[0msal_cal\u001b[0m\u001b[1;33m(\u001b[0m\u001b[1;33m)\u001b[0m\u001b[1;33m)\u001b[0m\u001b[1;33m\u001b[0m\u001b[1;33m\u001b[0m\u001b[0m\n\u001b[0;32m     21\u001b[0m \u001b[0msai\u001b[0m\u001b[1;33m=\u001b[0m\u001b[0mEmp\u001b[0m\u001b[1;33m(\u001b[0m\u001b[1;33m)\u001b[0m\u001b[1;33m\u001b[0m\u001b[1;33m\u001b[0m\u001b[0m\n\u001b[1;32m---> 22\u001b[1;33m \u001b[0mprint\u001b[0m\u001b[1;33m(\u001b[0m\u001b[0msai\u001b[0m\u001b[1;33m.\u001b[0m\u001b[0msal_cal\u001b[0m\u001b[1;33m(\u001b[0m\u001b[1;33m)\u001b[0m\u001b[1;33m)\u001b[0m\u001b[1;33m\u001b[0m\u001b[1;33m\u001b[0m\u001b[0m\n\u001b[0m",
      "\u001b[1;32m<ipython-input-19-fb0ef7fca88e>\u001b[0m in \u001b[0;36msal_cal\u001b[1;34m(self)\u001b[0m\n\u001b[0;32m      9\u001b[0m         \u001b[1;32mreturn\u001b[0m \u001b[0mself\u001b[0m\u001b[1;33m.\u001b[0m\u001b[0mname\u001b[0m\u001b[1;33m,\u001b[0m \u001b[0mself\u001b[0m\u001b[1;33m.\u001b[0m\u001b[0mid\u001b[0m\u001b[1;33m,\u001b[0m \u001b[0mself\u001b[0m\u001b[1;33m.\u001b[0m\u001b[0msal\u001b[0m\u001b[1;33m,\u001b[0m \u001b[0mself\u001b[0m\u001b[1;33m.\u001b[0m\u001b[0mleaves\u001b[0m\u001b[1;33m\u001b[0m\u001b[1;33m\u001b[0m\u001b[0m\n\u001b[0;32m     10\u001b[0m     \u001b[1;32mdef\u001b[0m \u001b[0msal_cal\u001b[0m\u001b[1;33m(\u001b[0m\u001b[0mself\u001b[0m\u001b[1;33m)\u001b[0m\u001b[1;33m:\u001b[0m\u001b[1;33m\u001b[0m\u001b[1;33m\u001b[0m\u001b[0m\n\u001b[1;32m---> 11\u001b[1;33m         \u001b[1;32mreturn\u001b[0m \u001b[0mself\u001b[0m\u001b[1;33m.\u001b[0m\u001b[0msal\u001b[0m\u001b[1;33m-\u001b[0m\u001b[1;33m(\u001b[0m\u001b[0mself\u001b[0m\u001b[1;33m.\u001b[0m\u001b[0mleaves\u001b[0m\u001b[1;33m*\u001b[0m\u001b[1;33m(\u001b[0m\u001b[0mself\u001b[0m\u001b[1;33m.\u001b[0m\u001b[0msal\u001b[0m\u001b[1;33m/\u001b[0m\u001b[1;36m30\u001b[0m\u001b[1;33m)\u001b[0m\u001b[1;33m)\u001b[0m\u001b[1;33m\u001b[0m\u001b[1;33m\u001b[0m\u001b[0m\n\u001b[0m\u001b[0;32m     12\u001b[0m \u001b[1;33m\u001b[0m\u001b[0m\n\u001b[0;32m     13\u001b[0m \u001b[0mjay\u001b[0m\u001b[1;33m=\u001b[0m\u001b[0mEmp\u001b[0m\u001b[1;33m(\u001b[0m\u001b[1;33m)\u001b[0m\u001b[1;33m\u001b[0m\u001b[1;33m\u001b[0m\u001b[0m\n",
      "\u001b[1;31mAttributeError\u001b[0m: 'Emp' object has no attribute 'sal'"
     ]
    }
   ],
   "source": [
    "class Emp:# class object\n",
    "    def set_data(self, name, e_id, sal,leaves):\n",
    "        self.name=name\n",
    "        self.id=e_id\n",
    "        self.sal=sal\n",
    "        self.leaves=leaves\n",
    "    \n",
    "    def get(self):\n",
    "        return self.name, self.id, self.sal, self.leaves\n",
    "    def sal_cal(self):\n",
    "        return self.sal-(self.leaves*(self.sal/30))\n",
    "        \n",
    "jay=Emp()\n",
    "jay.set_data(\"Jayaram\",1,200000,3)\n",
    "vedha = Emp()\n",
    "vedha.set_data(\"Vedhanvesh\",2,300000,2)\n",
    "print(jay.get())\n",
    "print(vedha.get())\n",
    "print(jay.sal_cal())\n",
    "print(vedha.sal_cal())\n",
    "sai=Emp()\n",
    "print(sai.sal_cal())"
   ]
  },
  {
   "cell_type": "code",
   "execution_count": 1,
   "metadata": {},
   "outputs": [
    {
     "name": "stdout",
     "output_type": "stream",
     "text": [
      "This is class\n"
     ]
    }
   ],
   "source": [
    "class Emp:\n",
    "    print(\"This is class\")\n",
    "    def get(self):\n",
    "        print(\"this is get\")\n"
   ]
  },
  {
   "cell_type": "code",
   "execution_count": 2,
   "metadata": {},
   "outputs": [
    {
     "name": "stdout",
     "output_type": "stream",
     "text": [
      "This is class\n"
     ]
    }
   ],
   "source": [
    "class Emp:\n",
    "    print(\"This is class\")\n",
    "    def get(self):\n",
    "        print(\"this is get\")\n",
    "        \n",
    "    def __init__(self):\n",
    "        print(\"this is init\")\n"
   ]
  },
  {
   "cell_type": "code",
   "execution_count": 3,
   "metadata": {},
   "outputs": [
    {
     "name": "stdout",
     "output_type": "stream",
     "text": [
      "This is class\n",
      "this is init\n"
     ]
    }
   ],
   "source": [
    "class Emp:\n",
    "    print(\"This is class\")\n",
    "    def get(self):\n",
    "        print(\"this is get\")\n",
    "        \n",
    "    def __init__(self):\n",
    "        print(\"this is init\")\n",
    "jay=Emp()"
   ]
  },
  {
   "cell_type": "code",
   "execution_count": 4,
   "metadata": {},
   "outputs": [
    {
     "name": "stdout",
     "output_type": "stream",
     "text": [
      "This is class\n",
      "this is init\n",
      "this is init\n"
     ]
    }
   ],
   "source": [
    "class Emp:\n",
    "    print(\"This is class\")\n",
    "    def get(self):\n",
    "        print(\"this is get\")\n",
    "        \n",
    "    def __init__(self):\n",
    "        print(\"this is init\")\n",
    "jay=Emp()\n",
    "vedha=Emp()"
   ]
  },
  {
   "cell_type": "code",
   "execution_count": 5,
   "metadata": {},
   "outputs": [
    {
     "name": "stdout",
     "output_type": "stream",
     "text": [
      "This is class\n",
      "this is init\n",
      "this is init\n",
      "this is init\n",
      "this is init\n"
     ]
    }
   ],
   "source": [
    "class Emp:\n",
    "    print(\"This is class\")\n",
    "    def get(self):\n",
    "        print(\"this is get\")\n",
    "        \n",
    "    def __init__(self):\n",
    "        print(\"this is init\")\n",
    "jay=Emp()\n",
    "vedha=Emp()\n",
    "sai=Emp()\n",
    "ram=Emp()"
   ]
  },
  {
   "cell_type": "code",
   "execution_count": 10,
   "metadata": {},
   "outputs": [
    {
     "name": "stdout",
     "output_type": "stream",
     "text": [
      "{'age': 4, 'name': 'Jayaram', 'weight': 17.5, 'company': 'Khyaathi'}\n"
     ]
    }
   ],
   "source": [
    "class Emp:\n",
    "    company_name=\"Khyaathi\" # class object attribute\n",
    "    def get(self):\n",
    "        data = self.__dict__\n",
    "        data.update({\"company\":self.company_name})\n",
    "        return data\n",
    "    def __init__(self, name,age,weight):# constructor\n",
    "        self.age=age # name,age,weight data object attributes\n",
    "        self.name=name\n",
    "        self.weight=weight\n",
    "jay=Emp(\"Jayaram\",4,17.5)\n",
    "print(jay.get())"
   ]
  },
  {
   "cell_type": "code",
   "execution_count": 11,
   "metadata": {},
   "outputs": [
    {
     "name": "stdout",
     "output_type": "stream",
     "text": [
      "{'age': 4, 'name': 'Jayaram', 'weight': 17.5, 'company': 'Khyaathi'}\n"
     ]
    }
   ],
   "source": [
    "class Emp:\n",
    "    company_name=\"Khyaathi\" # class object attribute\n",
    "    def get(self):\n",
    "        data = self.__dict__\n",
    "        data.update({\"company\":self.company_name})\n",
    "        return data\n",
    "    def __init__(self, name,age,weight):# constructor\n",
    "        self.age=age # name,age,weight data object attributes\n",
    "        self.name=name\n",
    "        self.weight=weight\n",
    "jay=Emp(\"Jayaram\",4,17.5)\n",
    "print(jay.get())"
   ]
  },
  {
   "cell_type": "code",
   "execution_count": 12,
   "metadata": {},
   "outputs": [
    {
     "name": "stdout",
     "output_type": "stream",
     "text": [
      "{'age': 4, 'name': 'Jayaram', 'weight': 17.5, 'company': 'Khyaathi'}\n",
      "Khyaathi\n"
     ]
    }
   ],
   "source": [
    "class Emp:\n",
    "    company_name=\"Khyaathi\" # class object attribute\n",
    "    def get(self):\n",
    "        data = self.__dict__\n",
    "        data.update({\"company\":self.company_name})\n",
    "        return data\n",
    "    def __init__(self, name,age,weight):# constructor\n",
    "        self.age=age # name,age,weight data object attributes\n",
    "        self.name=name\n",
    "        self.weight=weight\n",
    "jay=Emp(\"Jayaram\",4,17.5)\n",
    "print(jay.get())\n",
    "print(Emp.company_name)"
   ]
  },
  {
   "cell_type": "code",
   "execution_count": 13,
   "metadata": {},
   "outputs": [
    {
     "name": "stdout",
     "output_type": "stream",
     "text": [
      "{'age': 4, 'name': 'Jayaram', 'weight': 17.5, 'company': 'Khyaathi'}\n",
      "Khyaathi\n"
     ]
    },
    {
     "ename": "AttributeError",
     "evalue": "type object 'Emp' has no attribute 'name'",
     "output_type": "error",
     "traceback": [
      "\u001b[1;31m---------------------------------------------------------------------------\u001b[0m",
      "\u001b[1;31mAttributeError\u001b[0m                            Traceback (most recent call last)",
      "\u001b[1;32m<ipython-input-13-b161b69844ca>\u001b[0m in \u001b[0;36m<module>\u001b[1;34m\u001b[0m\n\u001b[0;32m     12\u001b[0m \u001b[0mprint\u001b[0m\u001b[1;33m(\u001b[0m\u001b[0mjay\u001b[0m\u001b[1;33m.\u001b[0m\u001b[0mget\u001b[0m\u001b[1;33m(\u001b[0m\u001b[1;33m)\u001b[0m\u001b[1;33m)\u001b[0m\u001b[1;33m\u001b[0m\u001b[1;33m\u001b[0m\u001b[0m\n\u001b[0;32m     13\u001b[0m \u001b[0mprint\u001b[0m\u001b[1;33m(\u001b[0m\u001b[0mEmp\u001b[0m\u001b[1;33m.\u001b[0m\u001b[0mcompany_name\u001b[0m\u001b[1;33m)\u001b[0m\u001b[1;33m\u001b[0m\u001b[1;33m\u001b[0m\u001b[0m\n\u001b[1;32m---> 14\u001b[1;33m \u001b[0mprint\u001b[0m\u001b[1;33m(\u001b[0m\u001b[0mEmp\u001b[0m\u001b[1;33m.\u001b[0m\u001b[0mname\u001b[0m\u001b[1;33m)\u001b[0m\u001b[1;33m\u001b[0m\u001b[1;33m\u001b[0m\u001b[0m\n\u001b[0m",
      "\u001b[1;31mAttributeError\u001b[0m: type object 'Emp' has no attribute 'name'"
     ]
    }
   ],
   "source": [
    "class Emp:\n",
    "    company_name=\"Khyaathi\" # class object attribute\n",
    "    def get(self):\n",
    "        data = self.__dict__\n",
    "        data.update({\"company\":self.company_name})\n",
    "        return data\n",
    "    def __init__(self, name,age,weight):# constructor\n",
    "        self.age=age # name,age,weight data object attributes\n",
    "        self.name=name\n",
    "        self.weight=weight\n",
    "jay=Emp(\"Jayaram\",4,17.5)\n",
    "print(jay.get())\n",
    "print(Emp.company_name)\n",
    "print(Emp.name)"
   ]
  },
  {
   "cell_type": "code",
   "execution_count": 15,
   "metadata": {},
   "outputs": [
    {
     "name": "stdout",
     "output_type": "stream",
     "text": [
      "('Jayaram', 1, 200000, 3, 'Khyaathi')\n",
      "('Vedhanvesh', 2, 300000, 2, 'Khyaathi')\n",
      "180000.0\n",
      "280000.0\n"
     ]
    }
   ],
   "source": [
    "class Emp:# class object\n",
    "    company=\"Khyaathi\"\n",
    "    def __init__(self, name, e_id, sal,leaves):\n",
    "        self.name=name\n",
    "        self.id=e_id\n",
    "        self.sal=sal\n",
    "        self.leaves=leaves\n",
    "    \n",
    "    def get(self):\n",
    "        return self.name, self.id, self.sal, self.leaves, self.company\n",
    "    def sal_cal(self):\n",
    "        return self.sal-(self.leaves*(self.sal/30))\n",
    "        \n",
    "jay=Emp(\"Jayaram\",1,200000,3)\n",
    "vedha = Emp(\"Vedhanvesh\",2,300000,2)\n",
    "print(jay.get())\n",
    "print(vedha.get())\n",
    "print(jay.sal_cal())\n",
    "print(vedha.sal_cal())"
   ]
  },
  {
   "cell_type": "code",
   "execution_count": 16,
   "metadata": {},
   "outputs": [
    {
     "name": "stdout",
     "output_type": "stream",
     "text": [
      "('Jayaram', 1, 200000, 3, 'Khyaathi')\n",
      "('Vedhanvesh', 2, 300000, 2, 'Khyaathi')\n",
      "180000.0\n",
      "280000.0\n"
     ]
    },
    {
     "ename": "TypeError",
     "evalue": "__init__() missing 4 required positional arguments: 'name', 'e_id', 'sal', and 'leaves'",
     "output_type": "error",
     "traceback": [
      "\u001b[1;31m---------------------------------------------------------------------------\u001b[0m",
      "\u001b[1;31mTypeError\u001b[0m                                 Traceback (most recent call last)",
      "\u001b[1;32m<ipython-input-16-8fdd0aacbc85>\u001b[0m in \u001b[0;36m<module>\u001b[1;34m\u001b[0m\n\u001b[0;32m     18\u001b[0m \u001b[0mprint\u001b[0m\u001b[1;33m(\u001b[0m\u001b[0mjay\u001b[0m\u001b[1;33m.\u001b[0m\u001b[0msal_cal\u001b[0m\u001b[1;33m(\u001b[0m\u001b[1;33m)\u001b[0m\u001b[1;33m)\u001b[0m\u001b[1;33m\u001b[0m\u001b[1;33m\u001b[0m\u001b[0m\n\u001b[0;32m     19\u001b[0m \u001b[0mprint\u001b[0m\u001b[1;33m(\u001b[0m\u001b[0mvedha\u001b[0m\u001b[1;33m.\u001b[0m\u001b[0msal_cal\u001b[0m\u001b[1;33m(\u001b[0m\u001b[1;33m)\u001b[0m\u001b[1;33m)\u001b[0m\u001b[1;33m\u001b[0m\u001b[1;33m\u001b[0m\u001b[0m\n\u001b[1;32m---> 20\u001b[1;33m \u001b[0msai\u001b[0m\u001b[1;33m=\u001b[0m\u001b[0mEmp\u001b[0m\u001b[1;33m(\u001b[0m\u001b[1;33m)\u001b[0m\u001b[1;33m\u001b[0m\u001b[1;33m\u001b[0m\u001b[0m\n\u001b[0m",
      "\u001b[1;31mTypeError\u001b[0m: __init__() missing 4 required positional arguments: 'name', 'e_id', 'sal', and 'leaves'"
     ]
    }
   ],
   "source": [
    "class Emp:# class object\n",
    "    company=\"Khyaathi\"\n",
    "    def __init__(self, name, e_id, sal,leaves):\n",
    "        self.name=name\n",
    "        self.id=e_id\n",
    "        self.sal=sal\n",
    "        self.leaves=leaves\n",
    "    \n",
    "    def get(self):\n",
    "        return self.name, self.id, self.sal, self.leaves, self.company\n",
    "    def sal_cal(self):\n",
    "        return self.sal-(self.leaves*(self.sal/30))\n",
    "        \n",
    "jay=Emp(\"Jayaram\",1,200000,3)\n",
    "vedha = Emp(\"Vedhanvesh\",2,300000,2)\n",
    "print(jay.get())\n",
    "print(vedha.get())\n",
    "print(jay.sal_cal())\n",
    "print(vedha.sal_cal())\n",
    "sai=Emp()"
   ]
  },
  {
   "cell_type": "code",
   "execution_count": null,
   "metadata": {},
   "outputs": [],
   "source": [
    "\"\"\"\n",
    "we got a module from module from pypi\n",
    "sales:   class Customer: (name, email), create_customer()\n",
    "\n",
    "when we install this module, this sales file will be there in python path. \n",
    "\"\"\"\n",
    "# to the customer phone, update, delete, get, validate_emial, validate_phone\n",
    "# 1. approach to solve this is open sales.py and change the Customer class.\n",
    "\n",
    "# sales:   class Customer: (name, email,phone), create_customer(), update, delete, get, validate_email, validate_phone"
   ]
  },
  {
   "cell_type": "code",
   "execution_count": null,
   "metadata": {},
   "outputs": [],
   "source": [
    "class Customer:\n",
    "    def __init__(self, name, email):\n",
    "        self.name=name\n",
    "        self.email=email\n",
    "        \n",
    "    def create_customer(self):\n",
    "        print(\"creating customer:%s\"%self.__dict__)\n",
    "        \n",
    "class MyCustomer():\n",
    "    def update, delete, get, validate_email, validate_phone"
   ]
  },
  {
   "cell_type": "code",
   "execution_count": 17,
   "metadata": {},
   "outputs": [
    {
     "name": "stdout",
     "output_type": "stream",
     "text": [
      "this is operations\n"
     ]
    }
   ],
   "source": [
    "class C1:\n",
    "    def op1(self):\n",
    "        print(\"this is op1\")\n",
    "        \n",
    "class C2:\n",
    "    def op2(self):\n",
    "        print(\"this is op2\")\n",
    "class C3:\n",
    "    def op3(self):\n",
    "        print(\"this is op3\")\n",
    "        \n",
    "    def operations(self):\n",
    "        print(\"this is operations\")\n",
    "    \n",
    "o3=C3()\n",
    "o3.operations()"
   ]
  },
  {
   "cell_type": "code",
   "execution_count": 18,
   "metadata": {},
   "outputs": [
    {
     "name": "stdout",
     "output_type": "stream",
     "text": [
      "this is operations\n",
      "this is op3\n"
     ]
    }
   ],
   "source": [
    "class C1:\n",
    "    def op1(self):\n",
    "        print(\"this is op1\")\n",
    "        \n",
    "class C2:\n",
    "    def op2(self):\n",
    "        print(\"this is op2\")\n",
    "class C3:\n",
    "    def op3(self):\n",
    "        print(\"this is op3\")\n",
    "        \n",
    "    def operations(self):\n",
    "        print(\"this is operations\")\n",
    "        \n",
    "    \n",
    "o3=C3()\n",
    "o3.operations()\n",
    "o3.op3()"
   ]
  },
  {
   "cell_type": "code",
   "execution_count": 19,
   "metadata": {},
   "outputs": [
    {
     "name": "stdout",
     "output_type": "stream",
     "text": [
      "this is operations\n",
      "this is op3\n"
     ]
    }
   ],
   "source": [
    "class C1:\n",
    "    def op1(self):\n",
    "        print(\"this is op1\")\n",
    "        \n",
    "class C2:\n",
    "    def op2(self):\n",
    "        print(\"this is op2\")\n",
    "class C3:\n",
    "    def op3(self):\n",
    "        print(\"this is op3\")\n",
    "        \n",
    "    def operations(self):\n",
    "        print(\"this is operations\")\n",
    "        self.op3()\n",
    "    \n",
    "o3=C3()\n",
    "o3.operations()\n"
   ]
  },
  {
   "cell_type": "code",
   "execution_count": 20,
   "metadata": {},
   "outputs": [
    {
     "name": "stdout",
     "output_type": "stream",
     "text": [
      "this is operations\n",
      "this is op3\n",
      "this is op1\n",
      "this is op2\n"
     ]
    }
   ],
   "source": [
    "class C1:\n",
    "    def op1(self):\n",
    "        print(\"this is op1\")\n",
    "        \n",
    "class C2:\n",
    "    def op2(self):\n",
    "        print(\"this is op2\")\n",
    "class C3:\n",
    "    def op3(self):\n",
    "        print(\"this is op3\")\n",
    "        \n",
    "    def operations(self):\n",
    "        print(\"this is operations\")\n",
    "        self.op3()\n",
    "        o1=C1()\n",
    "        o2=C2()\n",
    "        o1.op1()\n",
    "        o2.op2()\n",
    "    \n",
    "o3=C3()\n",
    "o3.operations()\n"
   ]
  },
  {
   "cell_type": "code",
   "execution_count": 21,
   "metadata": {},
   "outputs": [
    {
     "name": "stdout",
     "output_type": "stream",
     "text": [
      "this is operations\n",
      "this is op3\n"
     ]
    },
    {
     "ename": "AttributeError",
     "evalue": "'C3' object has no attribute 'op1'",
     "output_type": "error",
     "traceback": [
      "\u001b[1;31m---------------------------------------------------------------------------\u001b[0m",
      "\u001b[1;31mAttributeError\u001b[0m                            Traceback (most recent call last)",
      "\u001b[1;32m<ipython-input-21-fc3f08b84960>\u001b[0m in \u001b[0;36m<module>\u001b[1;34m\u001b[0m\n\u001b[0;32m     17\u001b[0m \u001b[1;33m\u001b[0m\u001b[0m\n\u001b[0;32m     18\u001b[0m \u001b[0mo3\u001b[0m\u001b[1;33m=\u001b[0m\u001b[0mC3\u001b[0m\u001b[1;33m(\u001b[0m\u001b[1;33m)\u001b[0m\u001b[1;33m\u001b[0m\u001b[1;33m\u001b[0m\u001b[0m\n\u001b[1;32m---> 19\u001b[1;33m \u001b[0mo3\u001b[0m\u001b[1;33m.\u001b[0m\u001b[0moperations\u001b[0m\u001b[1;33m(\u001b[0m\u001b[1;33m)\u001b[0m\u001b[1;33m\u001b[0m\u001b[1;33m\u001b[0m\u001b[0m\n\u001b[0m",
      "\u001b[1;32m<ipython-input-21-fc3f08b84960>\u001b[0m in \u001b[0;36moperations\u001b[1;34m(self)\u001b[0m\n\u001b[0;32m     13\u001b[0m         \u001b[0mprint\u001b[0m\u001b[1;33m(\u001b[0m\u001b[1;34m\"this is operations\"\u001b[0m\u001b[1;33m)\u001b[0m\u001b[1;33m\u001b[0m\u001b[1;33m\u001b[0m\u001b[0m\n\u001b[0;32m     14\u001b[0m         \u001b[0mself\u001b[0m\u001b[1;33m.\u001b[0m\u001b[0mop3\u001b[0m\u001b[1;33m(\u001b[0m\u001b[1;33m)\u001b[0m\u001b[1;33m\u001b[0m\u001b[1;33m\u001b[0m\u001b[0m\n\u001b[1;32m---> 15\u001b[1;33m         \u001b[0mself\u001b[0m\u001b[1;33m.\u001b[0m\u001b[0mop1\u001b[0m\u001b[1;33m(\u001b[0m\u001b[1;33m)\u001b[0m\u001b[1;33m\u001b[0m\u001b[1;33m\u001b[0m\u001b[0m\n\u001b[0m\u001b[0;32m     16\u001b[0m         \u001b[0mself\u001b[0m\u001b[1;33m.\u001b[0m\u001b[0mop2\u001b[0m\u001b[1;33m(\u001b[0m\u001b[1;33m)\u001b[0m\u001b[1;33m\u001b[0m\u001b[1;33m\u001b[0m\u001b[0m\n\u001b[0;32m     17\u001b[0m \u001b[1;33m\u001b[0m\u001b[0m\n",
      "\u001b[1;31mAttributeError\u001b[0m: 'C3' object has no attribute 'op1'"
     ]
    }
   ],
   "source": [
    "class C1:\n",
    "    def op1(self):\n",
    "        print(\"this is op1\")\n",
    "        \n",
    "class C2:\n",
    "    def op2(self):\n",
    "        print(\"this is op2\")\n",
    "class C3:\n",
    "    def op3(self):\n",
    "        print(\"this is op3\")\n",
    "        \n",
    "    def operations(self):\n",
    "        print(\"this is operations\")\n",
    "        self.op3()\n",
    "        self.op1()\n",
    "        self.op2()\n",
    "    \n",
    "o3=C3()\n",
    "o3.operations()\n"
   ]
  },
  {
   "cell_type": "code",
   "execution_count": 22,
   "metadata": {},
   "outputs": [
    {
     "name": "stdout",
     "output_type": "stream",
     "text": [
      "this is operations\n",
      "this is op3\n",
      "this is op1\n"
     ]
    },
    {
     "ename": "AttributeError",
     "evalue": "'C3' object has no attribute 'op2'",
     "output_type": "error",
     "traceback": [
      "\u001b[1;31m---------------------------------------------------------------------------\u001b[0m",
      "\u001b[1;31mAttributeError\u001b[0m                            Traceback (most recent call last)",
      "\u001b[1;32m<ipython-input-22-a4e9ed75974d>\u001b[0m in \u001b[0;36m<module>\u001b[1;34m\u001b[0m\n\u001b[0;32m     17\u001b[0m \u001b[1;33m\u001b[0m\u001b[0m\n\u001b[0;32m     18\u001b[0m \u001b[0mo3\u001b[0m\u001b[1;33m=\u001b[0m\u001b[0mC3\u001b[0m\u001b[1;33m(\u001b[0m\u001b[1;33m)\u001b[0m\u001b[1;33m\u001b[0m\u001b[1;33m\u001b[0m\u001b[0m\n\u001b[1;32m---> 19\u001b[1;33m \u001b[0mo3\u001b[0m\u001b[1;33m.\u001b[0m\u001b[0moperations\u001b[0m\u001b[1;33m(\u001b[0m\u001b[1;33m)\u001b[0m\u001b[1;33m\u001b[0m\u001b[1;33m\u001b[0m\u001b[0m\n\u001b[0m",
      "\u001b[1;32m<ipython-input-22-a4e9ed75974d>\u001b[0m in \u001b[0;36moperations\u001b[1;34m(self)\u001b[0m\n\u001b[0;32m     14\u001b[0m         \u001b[0mself\u001b[0m\u001b[1;33m.\u001b[0m\u001b[0mop3\u001b[0m\u001b[1;33m(\u001b[0m\u001b[1;33m)\u001b[0m\u001b[1;33m\u001b[0m\u001b[1;33m\u001b[0m\u001b[0m\n\u001b[0;32m     15\u001b[0m         \u001b[0mself\u001b[0m\u001b[1;33m.\u001b[0m\u001b[0mop1\u001b[0m\u001b[1;33m(\u001b[0m\u001b[1;33m)\u001b[0m\u001b[1;33m\u001b[0m\u001b[1;33m\u001b[0m\u001b[0m\n\u001b[1;32m---> 16\u001b[1;33m         \u001b[0mself\u001b[0m\u001b[1;33m.\u001b[0m\u001b[0mop2\u001b[0m\u001b[1;33m(\u001b[0m\u001b[1;33m)\u001b[0m\u001b[1;33m\u001b[0m\u001b[1;33m\u001b[0m\u001b[0m\n\u001b[0m\u001b[0;32m     17\u001b[0m \u001b[1;33m\u001b[0m\u001b[0m\n\u001b[0;32m     18\u001b[0m \u001b[0mo3\u001b[0m\u001b[1;33m=\u001b[0m\u001b[0mC3\u001b[0m\u001b[1;33m(\u001b[0m\u001b[1;33m)\u001b[0m\u001b[1;33m\u001b[0m\u001b[1;33m\u001b[0m\u001b[0m\n",
      "\u001b[1;31mAttributeError\u001b[0m: 'C3' object has no attribute 'op2'"
     ]
    }
   ],
   "source": [
    "class C1:\n",
    "    def op1(self):\n",
    "        print(\"this is op1\")\n",
    "        \n",
    "class C2:\n",
    "    def op2(self):\n",
    "        print(\"this is op2\")\n",
    "class C3(C1):# C3 child class, C1 parent class\n",
    "    def op3(self):\n",
    "        print(\"this is op3\")\n",
    "        \n",
    "    def operations(self):\n",
    "        print(\"this is operations\")\n",
    "        self.op3()\n",
    "        self.op1()\n",
    "        self.op2()\n",
    "    \n",
    "o3=C3()\n",
    "o3.operations()\n"
   ]
  },
  {
   "cell_type": "code",
   "execution_count": 23,
   "metadata": {},
   "outputs": [
    {
     "name": "stdout",
     "output_type": "stream",
     "text": [
      "this is operations\n",
      "this is op3\n",
      "this is op1\n",
      "this is op2\n"
     ]
    }
   ],
   "source": [
    "class C1:\n",
    "    def op1(self):\n",
    "        print(\"this is op1\")\n",
    "        \n",
    "class C2:\n",
    "    def op2(self):\n",
    "        print(\"this is op2\")\n",
    "class C3(C1, C2):# C3 child class, C1 parent class\n",
    "    def op3(self):\n",
    "        print(\"this is op3\")\n",
    "        \n",
    "    def operations(self):\n",
    "        print(\"this is operations\")\n",
    "        self.op3()\n",
    "        self.op1()\n",
    "        self.op2()\n",
    "    \n",
    "o3=C3()\n",
    "o3.operations()\n"
   ]
  },
  {
   "cell_type": "code",
   "execution_count": 24,
   "metadata": {},
   "outputs": [
    {
     "name": "stdout",
     "output_type": "stream",
     "text": [
      "this is operations\n",
      "this is op3 in c3\n",
      "this is op1 in c1\n",
      "this is op2 in c2\n"
     ]
    }
   ],
   "source": [
    "class C1:\n",
    "    def op1(self):\n",
    "        print(\"this is op1 in c1\")\n",
    "        \n",
    "class C2:\n",
    "    def op2(self):\n",
    "        print(\"this is op2 in c2\")\n",
    "class C3(C1, C2):# C3 child class, C1 parent class\n",
    "    def op3(self):\n",
    "        print(\"this is op3 in c3\")\n",
    "        \n",
    "    def operations(self):\n",
    "        print(\"this is operations\")\n",
    "        self.op3()\n",
    "        self.op1()\n",
    "        self.op2()\n",
    "    \n",
    "o3=C3()\n",
    "o3.operations()\n"
   ]
  },
  {
   "cell_type": "code",
   "execution_count": 25,
   "metadata": {},
   "outputs": [
    {
     "name": "stdout",
     "output_type": "stream",
     "text": [
      "this is operations\n",
      "this is op3 in c3\n",
      "this is op1 in c1\n",
      "this is op2 in c1\n"
     ]
    }
   ],
   "source": [
    "class C1:\n",
    "    def op1(self):\n",
    "        print(\"this is op1 in c1\")\n",
    "        \n",
    "    def op2(self):\n",
    "        print(\"this is op2 in c1\")\n",
    "        \n",
    "class C2:\n",
    "    def op2(self):\n",
    "        print(\"this is op2 in c2\")\n",
    "class C3(C1, C2):# C3 child class, C1 parent class\n",
    "    def op3(self):\n",
    "        print(\"this is op3 in c3\")\n",
    "        \n",
    "    def operations(self):\n",
    "        print(\"this is operations\")\n",
    "        self.op3()\n",
    "        self.op1()\n",
    "        self.op2()\n",
    "    \n",
    "o3=C3()\n",
    "o3.operations()\n"
   ]
  },
  {
   "cell_type": "code",
   "execution_count": 26,
   "metadata": {},
   "outputs": [
    {
     "name": "stdout",
     "output_type": "stream",
     "text": [
      "this is operations\n",
      "this is op3 in c3\n",
      "this is op1 in c1\n",
      "this is op2 in c1\n",
      "(<class '__main__.C3'>, <class '__main__.C1'>, <class '__main__.C2'>, <class 'object'>)\n"
     ]
    }
   ],
   "source": [
    "class C1:\n",
    "    def op1(self):\n",
    "        print(\"this is op1 in c1\")\n",
    "        \n",
    "    def op2(self):\n",
    "        print(\"this is op2 in c1\")\n",
    "        \n",
    "class C2:\n",
    "    def op2(self):\n",
    "        print(\"this is op2 in c2\")\n",
    "class C3(C1, C2):# C3 child class, C1 parent class\n",
    "    def op3(self):\n",
    "        print(\"this is op3 in c3\")\n",
    "        \n",
    "    def operations(self):\n",
    "        print(\"this is operations\")\n",
    "        self.op3()\n",
    "        self.op1()\n",
    "        self.op2()\n",
    "    \n",
    "o3=C3()\n",
    "o3.operations()\n",
    "print(C3.__mro__)"
   ]
  },
  {
   "cell_type": "code",
   "execution_count": 27,
   "metadata": {},
   "outputs": [
    {
     "name": "stdout",
     "output_type": "stream",
     "text": [
      "this is operations\n",
      "this is op3 in c3\n",
      "this is op1 in c1\n",
      "this is op2 in c2\n",
      "(<class '__main__.C3'>, <class '__main__.C2'>, <class '__main__.C1'>, <class 'object'>)\n"
     ]
    }
   ],
   "source": [
    "class C1:\n",
    "    def op1(self):\n",
    "        print(\"this is op1 in c1\")\n",
    "        \n",
    "    def op2(self):\n",
    "        print(\"this is op2 in c1\")\n",
    "        \n",
    "class C2:\n",
    "    def op2(self):\n",
    "        print(\"this is op2 in c2\")\n",
    "class C3(C2, C1):# C3 child class, C1 parent class\n",
    "    def op3(self):\n",
    "        print(\"this is op3 in c3\")\n",
    "        \n",
    "    def operations(self):\n",
    "        print(\"this is operations\")\n",
    "        self.op3()\n",
    "        self.op1()\n",
    "        self.op2()\n",
    "    \n",
    "o3=C3()\n",
    "o3.operations()\n",
    "print(C3.__mro__)"
   ]
  },
  {
   "cell_type": "code",
   "execution_count": 28,
   "metadata": {},
   "outputs": [
    {
     "ename": "TypeError",
     "evalue": "__init__() missing 1 required positional argument: 'a'",
     "output_type": "error",
     "traceback": [
      "\u001b[1;31m---------------------------------------------------------------------------\u001b[0m",
      "\u001b[1;31mTypeError\u001b[0m                                 Traceback (most recent call last)",
      "\u001b[1;32m<ipython-input-28-9635595ad87c>\u001b[0m in \u001b[0;36m<module>\u001b[1;34m\u001b[0m\n\u001b[0;32m     21\u001b[0m         \u001b[0mself\u001b[0m\u001b[1;33m.\u001b[0m\u001b[0mop2\u001b[0m\u001b[1;33m(\u001b[0m\u001b[1;33m)\u001b[0m\u001b[1;33m\u001b[0m\u001b[1;33m\u001b[0m\u001b[0m\n\u001b[0;32m     22\u001b[0m \u001b[1;33m\u001b[0m\u001b[0m\n\u001b[1;32m---> 23\u001b[1;33m \u001b[0mo3\u001b[0m\u001b[1;33m=\u001b[0m\u001b[0mC3\u001b[0m\u001b[1;33m(\u001b[0m\u001b[1;33m)\u001b[0m\u001b[1;33m\u001b[0m\u001b[1;33m\u001b[0m\u001b[0m\n\u001b[0m\u001b[0;32m     24\u001b[0m \u001b[0mo3\u001b[0m\u001b[1;33m.\u001b[0m\u001b[0moperations\u001b[0m\u001b[1;33m(\u001b[0m\u001b[1;33m)\u001b[0m\u001b[1;33m\u001b[0m\u001b[1;33m\u001b[0m\u001b[0m\n\u001b[0;32m     25\u001b[0m \u001b[0mprint\u001b[0m\u001b[1;33m(\u001b[0m\u001b[0mC3\u001b[0m\u001b[1;33m.\u001b[0m\u001b[0m__mro__\u001b[0m\u001b[1;33m)\u001b[0m\u001b[1;33m\u001b[0m\u001b[1;33m\u001b[0m\u001b[0m\n",
      "\u001b[1;31mTypeError\u001b[0m: __init__() missing 1 required positional argument: 'a'"
     ]
    }
   ],
   "source": [
    "class C1:\n",
    "    def __init__(self,a):\n",
    "        self.a=a\n",
    "    def op1(self):\n",
    "        print(\"this is op1 in c1\")\n",
    "        \n",
    "    def op2(self):\n",
    "        print(\"this is op2 in c1\")\n",
    "        \n",
    "class C2:\n",
    "    def op2(self):\n",
    "        print(\"this is op2 in c2\")\n",
    "class C3(C2, C1):# C3 child class, C1 parent class\n",
    "    def op3(self):\n",
    "        print(\"this is op3 in c3\")\n",
    "        \n",
    "    def operations(self):\n",
    "        print(\"this is operations\")\n",
    "        self.op3()\n",
    "        self.op1()\n",
    "        self.op2()\n",
    "    \n",
    "o3=C3()\n",
    "o3.operations()\n",
    "print(C3.__mro__)"
   ]
  },
  {
   "cell_type": "code",
   "execution_count": 29,
   "metadata": {},
   "outputs": [
    {
     "name": "stdout",
     "output_type": "stream",
     "text": [
      "this is operations\n",
      "this is op3 in c3\n",
      "this is op1 in c1\n",
      "this is op2 in c2\n",
      "(<class '__main__.C3'>, <class '__main__.C2'>, <class '__main__.C1'>, <class 'object'>)\n"
     ]
    }
   ],
   "source": [
    "class C1:\n",
    "    def __init__(self,a):\n",
    "        self.a=a\n",
    "    def op1(self):\n",
    "        print(\"this is op1 in c1\")\n",
    "        \n",
    "    def op2(self):\n",
    "        print(\"this is op2 in c1\")\n",
    "        \n",
    "class C2:\n",
    "    def op2(self):\n",
    "        print(\"this is op2 in c2\")\n",
    "class C3(C2, C1):# C3 child class, C1 parent class\n",
    "    def op3(self):\n",
    "        print(\"this is op3 in c3\")\n",
    "        \n",
    "    def operations(self):\n",
    "        print(\"this is operations\")\n",
    "        self.op3()\n",
    "        self.op1()\n",
    "        self.op2()\n",
    "    \n",
    "o3=C3(10)\n",
    "o3.operations()\n",
    "print(C3.__mro__)"
   ]
  },
  {
   "cell_type": "code",
   "execution_count": 30,
   "metadata": {},
   "outputs": [
    {
     "name": "stdout",
     "output_type": "stream",
     "text": [
      "this is operations\n",
      "this is op3 in c3\n",
      "this is op1 in c1\n",
      "this is op2 in c2\n",
      "10\n",
      "(<class '__main__.C3'>, <class '__main__.C2'>, <class '__main__.C1'>, <class 'object'>)\n"
     ]
    }
   ],
   "source": [
    "class C1:\n",
    "    def __init__(self,a):\n",
    "        self.a=a\n",
    "    def op1(self):\n",
    "        print(\"this is op1 in c1\")\n",
    "        \n",
    "    def op2(self):\n",
    "        print(\"this is op2 in c1\")\n",
    "        \n",
    "class C2:\n",
    "    def op2(self):\n",
    "        print(\"this is op2 in c2\")\n",
    "class C3(C2, C1):# C3 child class, C1 parent class\n",
    "    def op3(self):\n",
    "        print(\"this is op3 in c3\")\n",
    "        \n",
    "    def operations(self):\n",
    "        print(\"this is operations\")\n",
    "        self.op3()\n",
    "        self.op1()\n",
    "        self.op2()\n",
    "        print(self.a)\n",
    "    \n",
    "o3=C3(10)\n",
    "o3.operations()\n",
    "print(C3.__mro__)"
   ]
  },
  {
   "cell_type": "code",
   "execution_count": 31,
   "metadata": {},
   "outputs": [
    {
     "name": "stdout",
     "output_type": "stream",
     "text": [
      "this is operations\n",
      "this is op3 in c3\n",
      "this is op1 in c1\n",
      "this is op2 in c2\n"
     ]
    },
    {
     "ename": "AttributeError",
     "evalue": "'C3' object has no attribute 'a'",
     "output_type": "error",
     "traceback": [
      "\u001b[1;31m---------------------------------------------------------------------------\u001b[0m",
      "\u001b[1;31mAttributeError\u001b[0m                            Traceback (most recent call last)",
      "\u001b[1;32m<ipython-input-31-b69e962115b8>\u001b[0m in \u001b[0;36m<module>\u001b[1;34m\u001b[0m\n\u001b[0;32m     25\u001b[0m \u001b[1;33m\u001b[0m\u001b[0m\n\u001b[0;32m     26\u001b[0m \u001b[0mo3\u001b[0m\u001b[1;33m=\u001b[0m\u001b[0mC3\u001b[0m\u001b[1;33m(\u001b[0m\u001b[1;36m10\u001b[0m\u001b[1;33m)\u001b[0m\u001b[1;33m\u001b[0m\u001b[1;33m\u001b[0m\u001b[0m\n\u001b[1;32m---> 27\u001b[1;33m \u001b[0mo3\u001b[0m\u001b[1;33m.\u001b[0m\u001b[0moperations\u001b[0m\u001b[1;33m(\u001b[0m\u001b[1;33m)\u001b[0m\u001b[1;33m\u001b[0m\u001b[1;33m\u001b[0m\u001b[0m\n\u001b[0m\u001b[0;32m     28\u001b[0m \u001b[0mprint\u001b[0m\u001b[1;33m(\u001b[0m\u001b[0mC3\u001b[0m\u001b[1;33m.\u001b[0m\u001b[0m__mro__\u001b[0m\u001b[1;33m)\u001b[0m\u001b[1;33m\u001b[0m\u001b[1;33m\u001b[0m\u001b[0m\n",
      "\u001b[1;32m<ipython-input-31-b69e962115b8>\u001b[0m in \u001b[0;36moperations\u001b[1;34m(self)\u001b[0m\n\u001b[0;32m     22\u001b[0m         \u001b[0mself\u001b[0m\u001b[1;33m.\u001b[0m\u001b[0mop1\u001b[0m\u001b[1;33m(\u001b[0m\u001b[1;33m)\u001b[0m\u001b[1;33m\u001b[0m\u001b[1;33m\u001b[0m\u001b[0m\n\u001b[0;32m     23\u001b[0m         \u001b[0mself\u001b[0m\u001b[1;33m.\u001b[0m\u001b[0mop2\u001b[0m\u001b[1;33m(\u001b[0m\u001b[1;33m)\u001b[0m\u001b[1;33m\u001b[0m\u001b[1;33m\u001b[0m\u001b[0m\n\u001b[1;32m---> 24\u001b[1;33m         \u001b[0mprint\u001b[0m\u001b[1;33m(\u001b[0m\u001b[0mself\u001b[0m\u001b[1;33m.\u001b[0m\u001b[0ma\u001b[0m\u001b[1;33m)\u001b[0m\u001b[1;33m\u001b[0m\u001b[1;33m\u001b[0m\u001b[0m\n\u001b[0m\u001b[0;32m     25\u001b[0m \u001b[1;33m\u001b[0m\u001b[0m\n\u001b[0;32m     26\u001b[0m \u001b[0mo3\u001b[0m\u001b[1;33m=\u001b[0m\u001b[0mC3\u001b[0m\u001b[1;33m(\u001b[0m\u001b[1;36m10\u001b[0m\u001b[1;33m)\u001b[0m\u001b[1;33m\u001b[0m\u001b[1;33m\u001b[0m\u001b[0m\n",
      "\u001b[1;31mAttributeError\u001b[0m: 'C3' object has no attribute 'a'"
     ]
    }
   ],
   "source": [
    "class C1:\n",
    "    def __init__(self,a):\n",
    "        self.a=a\n",
    "    def op1(self):\n",
    "        print(\"this is op1 in c1\")\n",
    "        \n",
    "    def op2(self):\n",
    "        print(\"this is op2 in c1\")\n",
    "        \n",
    "class C2:\n",
    "    def op2(self):\n",
    "        print(\"this is op2 in c2\")\n",
    "class C3(C2, C1):# C3 child class, C1 parent class\n",
    "    def __init__(self,b):\n",
    "        self.b=b\n",
    "    def op3(self):\n",
    "        print(\"this is op3 in c3\")\n",
    "        \n",
    "    def operations(self):\n",
    "        print(\"this is operations\")\n",
    "        self.op3()\n",
    "        self.op1()\n",
    "        self.op2()\n",
    "        print(self.a)\n",
    "    \n",
    "o3=C3(10)\n",
    "o3.operations()\n",
    "print(C3.__mro__)"
   ]
  },
  {
   "cell_type": "code",
   "execution_count": 32,
   "metadata": {},
   "outputs": [
    {
     "name": "stdout",
     "output_type": "stream",
     "text": [
      "this is operations\n",
      "this is op3 in c3\n",
      "this is op1 in c1\n",
      "this is op2 in c2\n",
      "10\n"
     ]
    },
    {
     "ename": "AttributeError",
     "evalue": "'C3' object has no attribute 'a'",
     "output_type": "error",
     "traceback": [
      "\u001b[1;31m---------------------------------------------------------------------------\u001b[0m",
      "\u001b[1;31mAttributeError\u001b[0m                            Traceback (most recent call last)",
      "\u001b[1;32m<ipython-input-32-8f7233c548bb>\u001b[0m in \u001b[0;36m<module>\u001b[1;34m\u001b[0m\n\u001b[0;32m     26\u001b[0m \u001b[1;33m\u001b[0m\u001b[0m\n\u001b[0;32m     27\u001b[0m \u001b[0mo3\u001b[0m\u001b[1;33m=\u001b[0m\u001b[0mC3\u001b[0m\u001b[1;33m(\u001b[0m\u001b[1;36m10\u001b[0m\u001b[1;33m)\u001b[0m\u001b[1;33m\u001b[0m\u001b[1;33m\u001b[0m\u001b[0m\n\u001b[1;32m---> 28\u001b[1;33m \u001b[0mo3\u001b[0m\u001b[1;33m.\u001b[0m\u001b[0moperations\u001b[0m\u001b[1;33m(\u001b[0m\u001b[1;33m)\u001b[0m\u001b[1;33m\u001b[0m\u001b[1;33m\u001b[0m\u001b[0m\n\u001b[0m\u001b[0;32m     29\u001b[0m \u001b[0mprint\u001b[0m\u001b[1;33m(\u001b[0m\u001b[0mC3\u001b[0m\u001b[1;33m.\u001b[0m\u001b[0m__mro__\u001b[0m\u001b[1;33m)\u001b[0m\u001b[1;33m\u001b[0m\u001b[1;33m\u001b[0m\u001b[0m\n",
      "\u001b[1;32m<ipython-input-32-8f7233c548bb>\u001b[0m in \u001b[0;36moperations\u001b[1;34m(self)\u001b[0m\n\u001b[0;32m     23\u001b[0m         \u001b[0mself\u001b[0m\u001b[1;33m.\u001b[0m\u001b[0mop2\u001b[0m\u001b[1;33m(\u001b[0m\u001b[1;33m)\u001b[0m\u001b[1;33m\u001b[0m\u001b[1;33m\u001b[0m\u001b[0m\n\u001b[0;32m     24\u001b[0m         \u001b[0mprint\u001b[0m\u001b[1;33m(\u001b[0m\u001b[0mself\u001b[0m\u001b[1;33m.\u001b[0m\u001b[0mb\u001b[0m\u001b[1;33m)\u001b[0m\u001b[1;33m\u001b[0m\u001b[1;33m\u001b[0m\u001b[0m\n\u001b[1;32m---> 25\u001b[1;33m         \u001b[0mprint\u001b[0m\u001b[1;33m(\u001b[0m\u001b[0mself\u001b[0m\u001b[1;33m.\u001b[0m\u001b[0ma\u001b[0m\u001b[1;33m)\u001b[0m\u001b[1;33m\u001b[0m\u001b[1;33m\u001b[0m\u001b[0m\n\u001b[0m\u001b[0;32m     26\u001b[0m \u001b[1;33m\u001b[0m\u001b[0m\n\u001b[0;32m     27\u001b[0m \u001b[0mo3\u001b[0m\u001b[1;33m=\u001b[0m\u001b[0mC3\u001b[0m\u001b[1;33m(\u001b[0m\u001b[1;36m10\u001b[0m\u001b[1;33m)\u001b[0m\u001b[1;33m\u001b[0m\u001b[1;33m\u001b[0m\u001b[0m\n",
      "\u001b[1;31mAttributeError\u001b[0m: 'C3' object has no attribute 'a'"
     ]
    }
   ],
   "source": [
    "class C1:\n",
    "    def __init__(self,a):\n",
    "        self.a=a\n",
    "    def op1(self):\n",
    "        print(\"this is op1 in c1\")\n",
    "        \n",
    "    def op2(self):\n",
    "        print(\"this is op2 in c1\")\n",
    "        \n",
    "class C2:\n",
    "    def op2(self):\n",
    "        print(\"this is op2 in c2\")\n",
    "class C3(C2, C1):# C3 child class, C1 parent class\n",
    "    def __init__(self,b):\n",
    "        self.b=b\n",
    "    def op3(self):\n",
    "        print(\"this is op3 in c3\")\n",
    "        \n",
    "    def operations(self):\n",
    "        print(\"this is operations\")\n",
    "        self.op3()\n",
    "        self.op1()\n",
    "        self.op2()\n",
    "        print(self.b)\n",
    "        print(self.a)\n",
    "    \n",
    "o3=C3(10)\n",
    "o3.operations()\n",
    "print(C3.__mro__)"
   ]
  },
  {
   "cell_type": "code",
   "execution_count": 33,
   "metadata": {},
   "outputs": [
    {
     "name": "stdout",
     "output_type": "stream",
     "text": [
      "this is operations\n",
      "this is op3 in c3\n",
      "this is op1 in c1\n",
      "this is op2 in c2\n",
      "20\n",
      "10\n",
      "(<class '__main__.C3'>, <class '__main__.C2'>, <class '__main__.C1'>, <class 'object'>)\n"
     ]
    }
   ],
   "source": [
    "class C1:\n",
    "    def __init__(self,a):\n",
    "        self.a=a\n",
    "    def op1(self):\n",
    "        print(\"this is op1 in c1\")\n",
    "        \n",
    "    def op2(self):\n",
    "        print(\"this is op2 in c1\")\n",
    "        \n",
    "class C2:\n",
    "    def op2(self):\n",
    "        print(\"this is op2 in c2\")\n",
    "class C3(C2, C1):# C3 child class, C1 parent class\n",
    "    def __init__(self,a,b):\n",
    "        self.b=b\n",
    "        self.a=a\n",
    "    def op3(self):\n",
    "        print(\"this is op3 in c3\")\n",
    "        \n",
    "    def operations(self):\n",
    "        print(\"this is operations\")\n",
    "        self.op3()\n",
    "        self.op1()\n",
    "        self.op2()\n",
    "        print(self.b)\n",
    "        print(self.a)\n",
    "    \n",
    "o3=C3(10,20)\n",
    "o3.operations()\n",
    "print(C3.__mro__)"
   ]
  },
  {
   "cell_type": "code",
   "execution_count": null,
   "metadata": {},
   "outputs": [],
   "source": [
    "class C1:\n",
    "    def __init__(self,a):\n",
    "        self.a=a\n",
    "    def op1(self):\n",
    "        print(\"this is op1 in c1\")\n",
    "        \n",
    "    def op2(self):\n",
    "        print(\"this is op2 in c1\")\n",
    "        \n",
    "class C2:\n",
    "    def op2(self):\n",
    "        print(\"this is op2 in c2\")\n",
    "class C3(C2, C1):# C3 child class, C1 parent class\n",
    "    def __init__(self,a,b):\n",
    "        self.b=b\n",
    "        self.__init__(a)# infine recursion. self.__init__ it will call c3 constructor only..\n",
    "    def op3(self):\n",
    "        print(\"this is op3 in c3\")\n",
    "        \n",
    "    def operations(self):\n",
    "        print(\"this is operations\")\n",
    "        self.op3()\n",
    "        self.op1()\n",
    "        self.op2()\n",
    "        print(self.b)\n",
    "        print(self.a)\n",
    "    \n",
    "o3=C3(10,20)\n",
    "o3.operations()\n",
    "print(C3.__mro__)"
   ]
  },
  {
   "cell_type": "code",
   "execution_count": 1,
   "metadata": {},
   "outputs": [
    {
     "name": "stdout",
     "output_type": "stream",
     "text": [
      "this is operations\n",
      "this is op3 in c3\n",
      "this is op1 in c1\n",
      "this is op2 in c2\n",
      "20\n",
      "10\n",
      "(<class '__main__.C3'>, <class '__main__.C2'>, <class '__main__.C1'>, <class 'object'>)\n"
     ]
    }
   ],
   "source": [
    "class C1:\n",
    "    def __init__(self,a):\n",
    "        self.a=a\n",
    "    def op1(self):\n",
    "        print(\"this is op1 in c1\")\n",
    "        \n",
    "    def op2(self):\n",
    "        print(\"this is op2 in c1\")\n",
    "        \n",
    "class C2:\n",
    "    def op2(self):\n",
    "        print(\"this is op2 in c2\")\n",
    "class C3(C2, C1):# C3 child class, C1 parent class\n",
    "    def __init__(self,a,b):\n",
    "        self.b=b\n",
    "        C1.__init__(self, a)\n",
    "    def op3(self):\n",
    "        print(\"this is op3 in c3\")\n",
    "        \n",
    "    def operations(self):\n",
    "        print(\"this is operations\")\n",
    "        self.op3()\n",
    "        self.op1()\n",
    "        self.op2()\n",
    "        print(self.b)\n",
    "        print(self.a)\n",
    "    \n",
    "o3=C3(10,20)\n",
    "o3.operations()\n",
    "print(C3.__mro__)# method resultion order."
   ]
  },
  {
   "cell_type": "code",
   "execution_count": 4,
   "metadata": {},
   "outputs": [
    {
     "name": "stdout",
     "output_type": "stream",
     "text": [
      "this is operations\n",
      "this is op3 in c3\n",
      "this is op1 in c1\n",
      "this is op2 in c2\n",
      "20\n",
      "10\n",
      "(<class '__main__.C3'>, <class '__main__.C2'>, <class '__main__.C1'>, <class 'object'>)\n"
     ]
    }
   ],
   "source": [
    "class C1:\n",
    "    def __init__(self,a):\n",
    "        self.a=a\n",
    "    def op1(self):\n",
    "        print(\"this is op1 in c1\")\n",
    "        \n",
    "    def op2(self):\n",
    "        print(\"this is op2 in c1\")\n",
    "        \n",
    "class C2:\n",
    "    def op2(self):\n",
    "        print(\"this is op2 in c2\")\n",
    "class C3(C2, C1):# C3 child class, C1 parent class\n",
    "    def __init__(self,a,b):# constructor overriding.\n",
    "        self.b=b\n",
    "        #C1.__init__(self, a)\n",
    "        super(C3, self).__init__(a)\n",
    "    def op3(self):\n",
    "        print(\"this is op3 in c3\")\n",
    "        \n",
    "    def operations(self):\n",
    "        print(\"this is operations\")\n",
    "        self.op3()\n",
    "        self.op1()\n",
    "        self.op2()\n",
    "        print(self.b)\n",
    "        print(self.a)\n",
    "    \n",
    "o3=C3(10,20)\n",
    "o3.operations()\n",
    "print(C3.__mro__)# method resultion order."
   ]
  },
  {
   "cell_type": "code",
   "execution_count": 5,
   "metadata": {},
   "outputs": [
    {
     "name": "stdout",
     "output_type": "stream",
     "text": [
      "insert in to table {'name': 'electonics'}\n"
     ]
    }
   ],
   "source": [
    "class DB:\n",
    "    def __init__(self, data):\n",
    "        self.data = data\n",
    "        \n",
    "    def create(self):\n",
    "        print(\"insert in to table %s\"%self.data)\n",
    "        \n",
    "class Product(DB):\n",
    "    pass\n",
    "\n",
    "class Category(DB):\n",
    "    pass\n",
    "\n",
    "\n",
    "cat1=Category({\"name\":\"electonics\"})\n",
    "cat1.create()"
   ]
  },
  {
   "cell_type": "code",
   "execution_count": 7,
   "metadata": {},
   "outputs": [
    {
     "name": "stdout",
     "output_type": "stream",
     "text": [
      "insert in to table {'name': 'electonics'}\n",
      "insert in to table {'name': 'mobile phone'}\n"
     ]
    }
   ],
   "source": [
    "class DB:\n",
    "    def __init__(self, data):\n",
    "        self.data = data\n",
    "        \n",
    "    def create(self):\n",
    "        print(\"insert in to table %s\"%self.data)\n",
    "        \n",
    "class Product(DB):\n",
    "    pass\n",
    "\n",
    "class Category(DB):\n",
    "    pass\n",
    "\n",
    "\n",
    "cat1=Category({\"name\":\"electonics\"})\n",
    "cat1.create()\n",
    "p1=Product({\"name\":\"mobile phone\"})\n",
    "p1.create()"
   ]
  },
  {
   "cell_type": "code",
   "execution_count": 8,
   "metadata": {},
   "outputs": [
    {
     "name": "stdout",
     "output_type": "stream",
     "text": [
      "insert in to table {'name': 'electonics'}\n",
      "not valid\n"
     ]
    }
   ],
   "source": [
    "class DB:\n",
    "    def __init__(self, data):\n",
    "        self.data = data\n",
    "        \n",
    "    def create(self):\n",
    "        print(\"insert in to table %s\"%self.data)\n",
    "        \n",
    "class Product(DB):\n",
    "    def validate_create(self):\n",
    "        if self.data.get(\"name\").isalnum():\n",
    "            self.create()\n",
    "        else:\n",
    "            print(\"not valid\")\n",
    "\n",
    "class Category(DB):\n",
    "    pass\n",
    "\n",
    "\n",
    "cat1=Category({\"name\":\"electonics\"})\n",
    "cat1.create()# insert int o database\n",
    "p1=Product({\"name\":\"mobile phone\"})\n",
    "p1.validate_create()# validate and create"
   ]
  },
  {
   "cell_type": "code",
   "execution_count": 9,
   "metadata": {},
   "outputs": [
    {
     "name": "stdout",
     "output_type": "stream",
     "text": [
      "insert in to table {'name': 'electonics'}\n",
      "insert in to table {'name': 'mobile phone'}\n"
     ]
    }
   ],
   "source": [
    "class DB:\n",
    "    def __init__(self, data):\n",
    "        self.data = data\n",
    "        \n",
    "    def create(self):\n",
    "        print(\"insert in to table %s\"%self.data)\n",
    "        \n",
    "class Product(DB):\n",
    "    def validate_create(self):\n",
    "        if self.data.get(\"name\").isalnum():\n",
    "            self.create()\n",
    "        else:\n",
    "            print(\"not valid\")\n",
    "\n",
    "class Category(DB):\n",
    "    pass\n",
    "\n",
    "\n",
    "cat1=Category({\"name\":\"electonics\"})\n",
    "cat1.create()# insert int o database\n",
    "p1=Product({\"name\":\"mobile phone\"})\n",
    "p1.create()# validate and create"
   ]
  },
  {
   "cell_type": "code",
   "execution_count": 10,
   "metadata": {},
   "outputs": [
    {
     "name": "stdout",
     "output_type": "stream",
     "text": [
      "insert in to table {'name': 'electonics'}\n",
      "not valid\n"
     ]
    }
   ],
   "source": [
    "class DB:\n",
    "    def __init__(self, data):\n",
    "        self.data = data\n",
    "        \n",
    "    def create(self):\n",
    "        print(\"insert in to table %s\"%self.data)\n",
    "        \n",
    "class Product(DB):\n",
    "    def create(self):# method overriding\n",
    "        if self.data.get(\"name\").isalnum():\n",
    "            super(Product,self).create()\n",
    "        else:\n",
    "            print(\"not valid\")\n",
    "\n",
    "class Category(DB):\n",
    "    pass\n",
    "\n",
    "\n",
    "cat1=Category({\"name\":\"electonics\"})\n",
    "cat1.create()# insert int o database\n",
    "p1=Product({\"name\":\"mobile phone\"})\n",
    "p1.create()# validate and create"
   ]
  },
  {
   "cell_type": "code",
   "execution_count": null,
   "metadata": {},
   "outputs": [],
   "source": [
    "class Emp:\n",
    "    def __init__(self, name,age,pan=None,adhar=None):# overloaded a constructor\n",
    "        self.name=name\n",
    "        self.age=age\n",
    "        self.pan=pan\n",
    "        self.adhar=adhar\n",
    "        \n",
    "emp1 = Emp(\"Employee1\",28)\n",
    "emp2 = Emp(\"Employee2\",34,\"pan124\")# "
   ]
  },
  {
   "cell_type": "code",
   "execution_count": null,
   "metadata": {},
   "outputs": [],
   "source": [
    "#overloading can be achieved with default parameters and *args, **kwargs"
   ]
  },
  {
   "cell_type": "code",
   "execution_count": 1,
   "metadata": {},
   "outputs": [
    {
     "name": "stdout",
     "output_type": "stream",
     "text": [
      "30\n"
     ]
    }
   ],
   "source": [
    "a=10# it will create integer object: it will call __init__ method of int class\n",
    "b=20\n",
    "print(a+b)# they implemented __add__ method in int class."
   ]
  },
  {
   "cell_type": "code",
   "execution_count": 2,
   "metadata": {},
   "outputs": [
    {
     "ename": "TypeError",
     "evalue": "unsupported operand type(s) for +: 'Emp' and 'Emp'",
     "output_type": "error",
     "traceback": [
      "\u001b[1;31m---------------------------------------------------------------------------\u001b[0m",
      "\u001b[1;31mTypeError\u001b[0m                                 Traceback (most recent call last)",
      "\u001b[1;32m<ipython-input-2-dd35d4a19c10>\u001b[0m in \u001b[0;36m<module>\u001b[1;34m\u001b[0m\n\u001b[0;32m      8\u001b[0m \u001b[0memp1\u001b[0m \u001b[1;33m=\u001b[0m \u001b[0mEmp\u001b[0m\u001b[1;33m(\u001b[0m\u001b[1;34m\"Employee1\"\u001b[0m\u001b[1;33m,\u001b[0m\u001b[1;36m28\u001b[0m\u001b[1;33m)\u001b[0m\u001b[1;33m\u001b[0m\u001b[1;33m\u001b[0m\u001b[0m\n\u001b[0;32m      9\u001b[0m \u001b[0memp2\u001b[0m \u001b[1;33m=\u001b[0m \u001b[0mEmp\u001b[0m\u001b[1;33m(\u001b[0m\u001b[1;34m\"Employee2\"\u001b[0m\u001b[1;33m,\u001b[0m\u001b[1;36m34\u001b[0m\u001b[1;33m,\u001b[0m\u001b[1;34m\"pan124\"\u001b[0m\u001b[1;33m)\u001b[0m\u001b[1;33m\u001b[0m\u001b[1;33m\u001b[0m\u001b[0m\n\u001b[1;32m---> 10\u001b[1;33m \u001b[0mprint\u001b[0m\u001b[1;33m(\u001b[0m\u001b[0memp1\u001b[0m\u001b[1;33m+\u001b[0m\u001b[0memp2\u001b[0m\u001b[1;33m)\u001b[0m\u001b[1;33m\u001b[0m\u001b[1;33m\u001b[0m\u001b[0m\n\u001b[0m",
      "\u001b[1;31mTypeError\u001b[0m: unsupported operand type(s) for +: 'Emp' and 'Emp'"
     ]
    }
   ],
   "source": [
    "class Emp:\n",
    "    def __init__(self, name,age,pan=None,adhar=None):\n",
    "        self.name=name\n",
    "        self.age=age\n",
    "        self.pan=pan\n",
    "        self.adhar=adhar\n",
    "        \n",
    "emp1 = Emp(\"Employee1\",28)\n",
    "emp2 = Emp(\"Employee2\",34,\"pan124\")\n",
    "print(emp1+emp2)"
   ]
  },
  {
   "cell_type": "code",
   "execution_count": null,
   "metadata": {},
   "outputs": [],
   "source": [
    "class Emp:\n",
    "    def __init__(self, name,age,pan=None,adhar=None):\n",
    "        self.name=name\n",
    "        self.age=age\n",
    "        self.pan=pan\n",
    "        self.adhar=adhar\n",
    "        \n",
    "emp1 = Emp(\"Employee1\",28)\n",
    "emp2 = Emp(\"Employee2\",34,\"pan124\")\n",
    "print(emp1+emp2)"
   ]
  },
  {
   "cell_type": "code",
   "execution_count": 1,
   "metadata": {},
   "outputs": [
    {
     "name": "stdout",
     "output_type": "stream",
     "text": [
      "{'name': 'Employee1Employee2', 'age': 62}\n"
     ]
    }
   ],
   "source": [
    "class Emp:\n",
    "    def __init__(self, name,age,pan=None,adhar=None):\n",
    "        self.name=name\n",
    "        self.age=age\n",
    "        self.pan=pan\n",
    "        self.adhar=adhar\n",
    "        \n",
    "    def __add__(self1, self2):\n",
    "        return {\"name\":self1.name+self2.name,\"age\":self1.age+self2.age}\n",
    "        \n",
    "emp1 = Emp(\"Employee1\",28)\n",
    "emp2 = Emp(\"Employee2\",34,\"pan124\")\n",
    "print(emp1+emp2)"
   ]
  },
  {
   "cell_type": "code",
   "execution_count": 2,
   "metadata": {},
   "outputs": [
    {
     "name": "stdout",
     "output_type": "stream",
     "text": [
      "{'name': 'Employee1Employee2', 'age': 62}\n",
      "{'age': -6}\n"
     ]
    }
   ],
   "source": [
    "class Emp:\n",
    "    def __init__(self, name,age,pan=None,adhar=None):\n",
    "        self.name=name\n",
    "        self.age=age\n",
    "        self.pan=pan\n",
    "        self.adhar=adhar\n",
    "        \n",
    "    def __add__(self1, self2):\n",
    "        return {\"name\":self1.name+self2.name,\"age\":self1.age+self2.age}\n",
    "    def __sub__(self1, self2):\n",
    "        return {\"age\":self1.age-self2.age}\n",
    "        \n",
    "emp1 = Emp(\"Employee1\",28)\n",
    "emp2 = Emp(\"Employee2\",34,\"pan124\")\n",
    "print(emp1+emp2)\n",
    "print(emp1-emp2)"
   ]
  },
  {
   "cell_type": "code",
   "execution_count": 3,
   "metadata": {},
   "outputs": [
    {
     "name": "stdout",
     "output_type": "stream",
     "text": [
      "['__abs__', '__add__', '__and__', '__bool__', '__ceil__', '__class__', '__delattr__', '__dir__', '__divmod__', '__doc__', '__eq__', '__float__', '__floor__', '__floordiv__', '__format__', '__ge__', '__getattribute__', '__getnewargs__', '__gt__', '__hash__', '__index__', '__init__', '__init_subclass__', '__int__', '__invert__', '__le__', '__lshift__', '__lt__', '__mod__', '__mul__', '__ne__', '__neg__', '__new__', '__or__', '__pos__', '__pow__', '__radd__', '__rand__', '__rdivmod__', '__reduce__', '__reduce_ex__', '__repr__', '__rfloordiv__', '__rlshift__', '__rmod__', '__rmul__', '__ror__', '__round__', '__rpow__', '__rrshift__', '__rshift__', '__rsub__', '__rtruediv__', '__rxor__', '__setattr__', '__sizeof__', '__str__', '__sub__', '__subclasshook__', '__truediv__', '__trunc__', '__xor__', 'as_integer_ratio', 'bit_length', 'conjugate', 'denominator', 'from_bytes', 'imag', 'numerator', 'real', 'to_bytes']\n"
     ]
    }
   ],
   "source": [
    "a=10\n",
    "print(dir(a))"
   ]
  },
  {
   "cell_type": "code",
   "execution_count": 4,
   "metadata": {},
   "outputs": [
    {
     "name": "stdout",
     "output_type": "stream",
     "text": [
      "{'name': 'Employee1Employee2', 'age': 62}\n",
      "{'age': -6}\n"
     ]
    },
    {
     "ename": "TypeError",
     "evalue": "object of type 'Emp' has no len()",
     "output_type": "error",
     "traceback": [
      "\u001b[1;31m---------------------------------------------------------------------------\u001b[0m",
      "\u001b[1;31mTypeError\u001b[0m                                 Traceback (most recent call last)",
      "\u001b[1;32m<ipython-input-4-6ba2d4f09ec6>\u001b[0m in \u001b[0;36m<module>\u001b[1;34m\u001b[0m\n\u001b[0;32m     15\u001b[0m \u001b[0mprint\u001b[0m\u001b[1;33m(\u001b[0m\u001b[0memp1\u001b[0m\u001b[1;33m+\u001b[0m\u001b[0memp2\u001b[0m\u001b[1;33m)\u001b[0m\u001b[1;33m\u001b[0m\u001b[1;33m\u001b[0m\u001b[0m\n\u001b[0;32m     16\u001b[0m \u001b[0mprint\u001b[0m\u001b[1;33m(\u001b[0m\u001b[0memp1\u001b[0m\u001b[1;33m-\u001b[0m\u001b[0memp2\u001b[0m\u001b[1;33m)\u001b[0m\u001b[1;33m\u001b[0m\u001b[1;33m\u001b[0m\u001b[0m\n\u001b[1;32m---> 17\u001b[1;33m \u001b[0mprint\u001b[0m\u001b[1;33m(\u001b[0m\u001b[0mlen\u001b[0m\u001b[1;33m(\u001b[0m\u001b[0memp1\u001b[0m\u001b[1;33m)\u001b[0m\u001b[1;33m)\u001b[0m\u001b[1;33m\u001b[0m\u001b[1;33m\u001b[0m\u001b[0m\n\u001b[0m",
      "\u001b[1;31mTypeError\u001b[0m: object of type 'Emp' has no len()"
     ]
    }
   ],
   "source": [
    "class Emp:\n",
    "    def __init__(self, name,age,pan=None,adhar=None):\n",
    "        self.name=name\n",
    "        self.age=age\n",
    "        self.pan=pan\n",
    "        self.adhar=adhar\n",
    "        \n",
    "    def __add__(self1, self2):\n",
    "        return {\"name\":self1.name+self2.name,\"age\":self1.age+self2.age}\n",
    "    def __sub__(self1, self2):\n",
    "        return {\"age\":self1.age-self2.age}\n",
    "        \n",
    "emp1 = Emp(\"Employee1\",28)\n",
    "emp2 = Emp(\"Employee2\",34,\"pan124\")\n",
    "print(emp1+emp2)\n",
    "print(emp1-emp2)\n",
    "print(len(emp1))"
   ]
  },
  {
   "cell_type": "code",
   "execution_count": 5,
   "metadata": {},
   "outputs": [
    {
     "name": "stdout",
     "output_type": "stream",
     "text": [
      "{'name': 'Employee1Employee2', 'age': 62}\n",
      "{'age': -6}\n",
      "9\n"
     ]
    }
   ],
   "source": [
    "class Emp:\n",
    "    def __init__(self, name,age,pan=None,adhar=None):\n",
    "        self.name=name\n",
    "        self.age=age\n",
    "        self.pan=pan\n",
    "        self.adhar=adhar\n",
    "        \n",
    "    def __add__(self1, self2):\n",
    "        return {\"name\":self1.name+self2.name,\"age\":self1.age+self2.age}\n",
    "    def __sub__(self1, self2):\n",
    "        return {\"age\":self1.age-self2.age}\n",
    "    def __len__(self):\n",
    "        return len(self.name)\n",
    "        \n",
    "emp1 = Emp(\"Employee1\",28)\n",
    "emp2 = Emp(\"Employee2\",34,\"pan124\")\n",
    "print(emp1+emp2)\n",
    "print(emp1-emp2)\n",
    "print(len(emp1))"
   ]
  },
  {
   "cell_type": "code",
   "execution_count": 6,
   "metadata": {},
   "outputs": [
    {
     "name": "stdout",
     "output_type": "stream",
     "text": [
      "this is init\n"
     ]
    }
   ],
   "source": [
    "class Emp:\n",
    "    def __init__(self):\n",
    "        print(\"this is init\")\n",
    "    def __call__(self):\n",
    "        print(\"this is call\")\n",
    "e1=Emp()"
   ]
  },
  {
   "cell_type": "code",
   "execution_count": 7,
   "metadata": {},
   "outputs": [
    {
     "name": "stdout",
     "output_type": "stream",
     "text": [
      "this is init\n",
      "<class '__main__.Emp'>\n"
     ]
    }
   ],
   "source": [
    "class Emp:\n",
    "    def __init__(self):\n",
    "        print(\"this is init\")\n",
    "    def __call__(self):\n",
    "        print(\"this is call\")\n",
    "e1=Emp()\n",
    "print(Emp)"
   ]
  },
  {
   "cell_type": "code",
   "execution_count": 8,
   "metadata": {},
   "outputs": [
    {
     "name": "stdout",
     "output_type": "stream",
     "text": [
      "this is init\n",
      "<__main__.Emp object at 0x000001F523206220>\n"
     ]
    }
   ],
   "source": [
    "class Emp:\n",
    "    def __init__(self):\n",
    "        print(\"this is init\")\n",
    "    def __call__(self):\n",
    "        print(\"this is call\")\n",
    "e1=Emp()\n",
    "print(e1)"
   ]
  },
  {
   "cell_type": "code",
   "execution_count": 9,
   "metadata": {},
   "outputs": [
    {
     "name": "stdout",
     "output_type": "stream",
     "text": [
      "{'name': 'Employee1Employee2', 'age': 62}\n",
      "{'age': -6}\n",
      "9\n"
     ]
    },
    {
     "ename": "TypeError",
     "evalue": "'Emp' object is not iterable",
     "output_type": "error",
     "traceback": [
      "\u001b[1;31m---------------------------------------------------------------------------\u001b[0m",
      "\u001b[1;31mTypeError\u001b[0m                                 Traceback (most recent call last)",
      "\u001b[1;32m<ipython-input-9-6f75188da952>\u001b[0m in \u001b[0;36m<module>\u001b[1;34m\u001b[0m\n\u001b[0;32m     18\u001b[0m \u001b[0mprint\u001b[0m\u001b[1;33m(\u001b[0m\u001b[0memp1\u001b[0m\u001b[1;33m-\u001b[0m\u001b[0memp2\u001b[0m\u001b[1;33m)\u001b[0m\u001b[1;33m\u001b[0m\u001b[1;33m\u001b[0m\u001b[0m\n\u001b[0;32m     19\u001b[0m \u001b[0mprint\u001b[0m\u001b[1;33m(\u001b[0m\u001b[0mlen\u001b[0m\u001b[1;33m(\u001b[0m\u001b[0memp1\u001b[0m\u001b[1;33m)\u001b[0m\u001b[1;33m)\u001b[0m\u001b[1;33m\u001b[0m\u001b[1;33m\u001b[0m\u001b[0m\n\u001b[1;32m---> 20\u001b[1;33m \u001b[1;32mfor\u001b[0m \u001b[0mi\u001b[0m \u001b[1;32min\u001b[0m \u001b[0memp1\u001b[0m\u001b[1;33m:\u001b[0m\u001b[1;33m\u001b[0m\u001b[1;33m\u001b[0m\u001b[0m\n\u001b[0m\u001b[0;32m     21\u001b[0m     \u001b[0mprint\u001b[0m\u001b[1;33m(\u001b[0m\u001b[0mi\u001b[0m\u001b[1;33m)\u001b[0m\u001b[1;33m\u001b[0m\u001b[1;33m\u001b[0m\u001b[0m\n",
      "\u001b[1;31mTypeError\u001b[0m: 'Emp' object is not iterable"
     ]
    }
   ],
   "source": [
    "class Emp:\n",
    "    def __init__(self, name,age,pan=None,adhar=None):\n",
    "        self.name=name\n",
    "        self.age=age\n",
    "        self.pan=pan\n",
    "        self.adhar=adhar\n",
    "        \n",
    "    def __add__(self1, self2):\n",
    "        return {\"name\":self1.name+self2.name,\"age\":self1.age+self2.age}\n",
    "    def __sub__(self1, self2):\n",
    "        return {\"age\":self1.age-self2.age}\n",
    "    def __len__(self):\n",
    "        return len(self.name)\n",
    "        \n",
    "emp1 = Emp(\"Employee1\",28)\n",
    "emp2 = Emp(\"Employee2\",34,\"pan124\")\n",
    "print(emp1+emp2)\n",
    "print(emp1-emp2)\n",
    "print(len(emp1))\n",
    "for i in emp1:\n",
    "    print(i)"
   ]
  },
  {
   "cell_type": "code",
   "execution_count": 10,
   "metadata": {},
   "outputs": [
    {
     "name": "stdout",
     "output_type": "stream",
     "text": [
      "{'name': 'Employee1Employee2', 'age': 62}\n",
      "{'age': -6}\n",
      "9\n",
      "('name', 'Employee1')\n",
      "('age', 28)\n",
      "('pan', None)\n",
      "('adhar', None)\n"
     ]
    }
   ],
   "source": [
    "class Emp:\n",
    "    def __init__(self, name,age,pan=None,adhar=None):\n",
    "        self.name=name\n",
    "        self.age=age\n",
    "        self.pan=pan\n",
    "        self.adhar=adhar\n",
    "        \n",
    "    def __add__(self1, self2):\n",
    "        return {\"name\":self1.name+self2.name,\"age\":self1.age+self2.age}\n",
    "    def __sub__(self1, self2):\n",
    "        return {\"age\":self1.age-self2.age}\n",
    "    def __len__(self):\n",
    "        return len(self.name)\n",
    "    def __iter__(self):\n",
    "        for i in self.__dict__.items():\n",
    "            yield i\n",
    "        \n",
    "emp1 = Emp(\"Employee1\",28)\n",
    "emp2 = Emp(\"Employee2\",34,\"pan124\")\n",
    "print(emp1+emp2)\n",
    "print(emp1-emp2)\n",
    "print(len(emp1))\n",
    "for i in emp1:\n",
    "    print(i)"
   ]
  },
  {
   "cell_type": "code",
   "execution_count": 11,
   "metadata": {},
   "outputs": [
    {
     "ename": "TypeError",
     "evalue": "'int' object is not iterable",
     "output_type": "error",
     "traceback": [
      "\u001b[1;31m---------------------------------------------------------------------------\u001b[0m",
      "\u001b[1;31mTypeError\u001b[0m                                 Traceback (most recent call last)",
      "\u001b[1;32m<ipython-input-11-1950a99d4371>\u001b[0m in \u001b[0;36m<module>\u001b[1;34m\u001b[0m\n\u001b[0;32m      1\u001b[0m \u001b[0ma\u001b[0m\u001b[1;33m=\u001b[0m\u001b[1;36m1000\u001b[0m\u001b[1;33m\u001b[0m\u001b[1;33m\u001b[0m\u001b[0m\n\u001b[1;32m----> 2\u001b[1;33m \u001b[1;32mfor\u001b[0m \u001b[0mi\u001b[0m \u001b[1;32min\u001b[0m \u001b[0ma\u001b[0m\u001b[1;33m:\u001b[0m\u001b[1;33m\u001b[0m\u001b[1;33m\u001b[0m\u001b[0m\n\u001b[0m\u001b[0;32m      3\u001b[0m     \u001b[0mprint\u001b[0m\u001b[1;33m(\u001b[0m\u001b[0mi\u001b[0m\u001b[1;33m)\u001b[0m\u001b[1;33m\u001b[0m\u001b[1;33m\u001b[0m\u001b[0m\n",
      "\u001b[1;31mTypeError\u001b[0m: 'int' object is not iterable"
     ]
    }
   ],
   "source": [
    "a=1000\n",
    "for i in a:\n",
    "    print(i)"
   ]
  },
  {
   "cell_type": "code",
   "execution_count": 13,
   "metadata": {},
   "outputs": [
    {
     "name": "stdout",
     "output_type": "stream",
     "text": [
      "1\n",
      "2\n",
      "3\n"
     ]
    }
   ],
   "source": [
    "class MyInt(int):\n",
    "    def __iter__(self):\n",
    "        yield 1\n",
    "        yield 2\n",
    "        yield 3\n",
    "a=MyInt(100)\n",
    "for i in a:\n",
    "    print(i)"
   ]
  },
  {
   "cell_type": "code",
   "execution_count": 15,
   "metadata": {},
   "outputs": [
    {
     "name": "stdout",
     "output_type": "stream",
     "text": [
      "jayaramguduru\n"
     ]
    }
   ],
   "source": [
    "class Emp:\n",
    "    def __init__(self, firstname, lastname):\n",
    "        self.fname=firstname\n",
    "        self.lname=lastname\n",
    "        self.name=self.lname+self.fname\n",
    "        \n",
    "jay = Emp(\"guduru\",\"jayaram\")\n",
    "print(jay.name)"
   ]
  },
  {
   "cell_type": "code",
   "execution_count": 16,
   "metadata": {},
   "outputs": [
    {
     "name": "stdout",
     "output_type": "stream",
     "text": [
      "jayaramguduru\n",
      "jayaramguduru\n"
     ]
    }
   ],
   "source": [
    "class Emp:\n",
    "    def __init__(self, firstname, lastname):\n",
    "        self.fname=firstname\n",
    "        self.lname=lastname\n",
    "        self.name=self.lname+self.fname\n",
    "        \n",
    "jay = Emp(\"guduru\",\"jayaram\")\n",
    "print(jay.name)\n",
    "jay.fname=\"GUDURU\"\n",
    "print(jay.name)"
   ]
  },
  {
   "cell_type": "code",
   "execution_count": 19,
   "metadata": {},
   "outputs": [
    {
     "name": "stdout",
     "output_type": "stream",
     "text": [
      "jayaramguduru\n",
      "jayaramGUDURU\n"
     ]
    }
   ],
   "source": [
    "class Emp:\n",
    "    def __init__(self, firstname, lastname):\n",
    "        self.fname=firstname\n",
    "        self.lname=lastname\n",
    "    def get_name(self):\n",
    "        return self.lname+self.fname\n",
    "        \n",
    "jay = Emp(\"guduru\",\"jayaram\")\n",
    "print(jay.get_name())\n",
    "jay.fname=\"GUDURU\"\n",
    "print(jay.get_name())"
   ]
  },
  {
   "cell_type": "code",
   "execution_count": 20,
   "metadata": {},
   "outputs": [
    {
     "name": "stdout",
     "output_type": "stream",
     "text": [
      "jayaramguduru\n",
      "jayaramGUDURU\n"
     ]
    }
   ],
   "source": [
    "class Emp:\n",
    "    def __init__(self, firstname, lastname):\n",
    "        self.fname=firstname\n",
    "        self.lname=lastname\n",
    "    def name(self):\n",
    "        return self.lname+self.fname\n",
    "        \n",
    "jay = Emp(\"guduru\",\"jayaram\")\n",
    "print(jay.name())\n",
    "jay.fname=\"GUDURU\"\n",
    "print(jay.name())"
   ]
  },
  {
   "cell_type": "code",
   "execution_count": 21,
   "metadata": {},
   "outputs": [
    {
     "name": "stdout",
     "output_type": "stream",
     "text": [
      "jayaramguduru\n",
      "jayaramGUDURU\n"
     ]
    }
   ],
   "source": [
    "class Emp:\n",
    "    def __init__(self, firstname, lastname):\n",
    "        self.fname=firstname\n",
    "        self.lname=lastname\n",
    "        \n",
    "    @property\n",
    "    def name(self):# only read.. we cant use this for write.\n",
    "        return self.lname+self.fname\n",
    "        \n",
    "jay = Emp(\"guduru\",\"jayaram\")\n",
    "print(jay.name)\n",
    "jay.fname=\"GUDURU\"\n",
    "print(jay.name)"
   ]
  },
  {
   "cell_type": "code",
   "execution_count": 22,
   "metadata": {},
   "outputs": [
    {
     "name": "stdout",
     "output_type": "stream",
     "text": [
      "jayaramguduru\n",
      "jayaramGUDURU\n"
     ]
    },
    {
     "ename": "AttributeError",
     "evalue": "can't set attribute",
     "output_type": "error",
     "traceback": [
      "\u001b[1;31m---------------------------------------------------------------------------\u001b[0m",
      "\u001b[1;31mAttributeError\u001b[0m                            Traceback (most recent call last)",
      "\u001b[1;32m<ipython-input-22-edc76c7fefa2>\u001b[0m in \u001b[0;36m<module>\u001b[1;34m\u001b[0m\n\u001b[0;32m     12\u001b[0m \u001b[0mjay\u001b[0m\u001b[1;33m.\u001b[0m\u001b[0mfname\u001b[0m\u001b[1;33m=\u001b[0m\u001b[1;34m\"GUDURU\"\u001b[0m\u001b[1;33m\u001b[0m\u001b[1;33m\u001b[0m\u001b[0m\n\u001b[0;32m     13\u001b[0m \u001b[0mprint\u001b[0m\u001b[1;33m(\u001b[0m\u001b[0mjay\u001b[0m\u001b[1;33m.\u001b[0m\u001b[0mname\u001b[0m\u001b[1;33m)\u001b[0m\u001b[1;33m\u001b[0m\u001b[1;33m\u001b[0m\u001b[0m\n\u001b[1;32m---> 14\u001b[1;33m \u001b[0mjay\u001b[0m\u001b[1;33m.\u001b[0m\u001b[0mname\u001b[0m \u001b[1;33m=\u001b[0m \u001b[1;34m\"JAYARAM\"\u001b[0m\u001b[1;33m\u001b[0m\u001b[1;33m\u001b[0m\u001b[0m\n\u001b[0m",
      "\u001b[1;31mAttributeError\u001b[0m: can't set attribute"
     ]
    }
   ],
   "source": [
    "class Emp:\n",
    "    def __init__(self, firstname, lastname):\n",
    "        self.fname=firstname\n",
    "        self.lname=lastname\n",
    "        \n",
    "    @property\n",
    "    def name(self):# only read.. we cant use this for write.\n",
    "        return self.lname+self.fname\n",
    "        \n",
    "jay = Emp(\"guduru\",\"jayaram\")\n",
    "print(jay.name)\n",
    "jay.fname=\"GUDURU\"\n",
    "print(jay.name)\n",
    "jay.name = \"JAYARAM\""
   ]
  },
  {
   "cell_type": "code",
   "execution_count": 29,
   "metadata": {},
   "outputs": [
    {
     "name": "stdout",
     "output_type": "stream",
     "text": [
      "called this method\n",
      "called this method\n",
      "called this method\n",
      "jayaramguduru\n"
     ]
    }
   ],
   "source": [
    "class Emp:# every class is a child class of object class\n",
    "    def __init__(self, firstname, lastname):\n",
    "        self.fname=firstname\n",
    "        self.lname=lastname\n",
    "        self.name=self.lname+self.fname\n",
    "        \n",
    "    def __getattribute__(self, attr):\n",
    "        print(\"called this method\")\n",
    "        return object.__getattribute__(self, attr)\n",
    "        \n",
    "jay = Emp(\"guduru\",\"jayaram\")\n",
    "print(jay.name)"
   ]
  },
  {
   "cell_type": "code",
   "execution_count": 25,
   "metadata": {},
   "outputs": [
    {
     "name": "stdout",
     "output_type": "stream",
     "text": [
      "['__abs__', '__add__', '__and__', '__bool__', '__ceil__', '__class__', '__delattr__', '__dir__', '__divmod__', '__doc__', '__eq__', '__float__', '__floor__', '__floordiv__', '__format__', '__ge__', '__getattribute__', '__getnewargs__', '__gt__', '__hash__', '__index__', '__init__', '__init_subclass__', '__int__', '__invert__', '__le__', '__lshift__', '__lt__', '__mod__', '__mul__', '__ne__', '__neg__', '__new__', '__or__', '__pos__', '__pow__', '__radd__', '__rand__', '__rdivmod__', '__reduce__', '__reduce_ex__', '__repr__', '__rfloordiv__', '__rlshift__', '__rmod__', '__rmul__', '__ror__', '__round__', '__rpow__', '__rrshift__', '__rshift__', '__rsub__', '__rtruediv__', '__rxor__', '__setattr__', '__sizeof__', '__str__', '__sub__', '__subclasshook__', '__truediv__', '__trunc__', '__xor__', 'as_integer_ratio', 'bit_length', 'conjugate', 'denominator', 'from_bytes', 'imag', 'numerator', 'real', 'to_bytes']\n"
     ]
    }
   ],
   "source": [
    "a=10\n",
    "print(dir(a))"
   ]
  },
  {
   "cell_type": "code",
   "execution_count": 31,
   "metadata": {},
   "outputs": [
    {
     "name": "stdout",
     "output_type": "stream",
     "text": [
      "jayaramguduru\n"
     ]
    }
   ],
   "source": [
    "class Emp:# every class is a child class of object class\n",
    "    def __init__(self, firstname, lastname):\n",
    "        self.fname=firstname\n",
    "        self.lname=lastname\n",
    "        self.name=self.lname+self.fname\n",
    "        \n",
    "    def __getattribute__(self, attr):\n",
    "        #\n",
    "        return object.__getattribute__(self, attr)\n",
    "    \n",
    "    def __setattr__(self, attr, value):\n",
    "        return object.__setattr__(self, attr, value)\n",
    "        \n",
    "jay = Emp(\"guduru\",\"jayaram\")\n",
    "print(jay.name)"
   ]
  },
  {
   "cell_type": "code",
   "execution_count": 32,
   "metadata": {},
   "outputs": [
    {
     "name": "stdout",
     "output_type": "stream",
     "text": [
      "fname guduru\n",
      "lname jayaram\n",
      "name jayaramguduru\n",
      "jayaramguduru\n"
     ]
    }
   ],
   "source": [
    "class Emp:# every class is a child class of object class\n",
    "    def __init__(self, firstname, lastname):\n",
    "        self.fname=firstname\n",
    "        self.lname=lastname\n",
    "        self.name=self.lname+self.fname\n",
    "        \n",
    "    def __getattribute__(self, attr):\n",
    "        #\n",
    "        return object.__getattribute__(self, attr)\n",
    "    \n",
    "    def __setattr__(self, attr, value):\n",
    "        print(attr, value)\n",
    "        return object.__setattr__(self, attr, value)\n",
    "        \n",
    "jay = Emp(\"guduru\",\"jayaram\")\n",
    "print(jay.name)"
   ]
  },
  {
   "cell_type": "code",
   "execution_count": 34,
   "metadata": {},
   "outputs": [
    {
     "name": "stdout",
     "output_type": "stream",
     "text": [
      "jayaramguduru\n"
     ]
    }
   ],
   "source": [
    "class Emp:# every class is a child class of object class\n",
    "    def __init__(self, firstname, lastname):\n",
    "        self.fname=firstname\n",
    "        self.lname=lastname\n",
    "        self.name=self.lname+self.fname\n",
    "        \n",
    "    def __getattribute__(self, attr):\n",
    "        #\n",
    "        return object.__getattribute__(self, attr)\n",
    "    \n",
    "    def __setattr__(self, attr, value):\n",
    "        if attr in [\"fname\", \"lname\"]:\n",
    "            if hasattr(self, \"lname\") and hasattr(self, \"fname\"):\n",
    "                object.__setattr__(self, \"name\", self.lname+self.fname)\n",
    "        return object.__setattr__(self, attr, value)\n",
    "        \n",
    "jay = Emp(\"guduru\",\"jayaram\")\n",
    "print(jay.name)"
   ]
  },
  {
   "cell_type": "code",
   "execution_count": 37,
   "metadata": {},
   "outputs": [
    {
     "name": "stdout",
     "output_type": "stream",
     "text": [
      "jayaramguduru\n",
      "jayaramGUDURU\n"
     ]
    }
   ],
   "source": [
    "class Emp:# every class is a child class of object class\n",
    "    def __init__(self, firstname, lastname):\n",
    "        self.fname=firstname\n",
    "        self.lname=lastname\n",
    "        self.name=self.lname+self.fname\n",
    "        \n",
    "    def __getattribute__(self, attr):\n",
    "        #\n",
    "        return object.__getattribute__(self, attr)\n",
    "    \n",
    "    def __setattr__(self, attr, value):\n",
    "        if attr == \"fname\":\n",
    "            if hasattr(self, \"lname\"):\n",
    "                object.__setattr__(self, \"name\", self.lname+value)\n",
    "        elif attr == \"lname\":\n",
    "            if hasattr(self, \"fname\"):\n",
    "                object.__setattr__(self, \"name\", value+self.fname)\n",
    "        return object.__setattr__(self, attr, value)\n",
    "        \n",
    "jay = Emp(\"guduru\",\"jayaram\")\n",
    "print(jay.name)\n",
    "jay.fname = \"GUDURU\"\n",
    "print(jay.name)"
   ]
  },
  {
   "cell_type": "code",
   "execution_count": 1,
   "metadata": {},
   "outputs": [
    {
     "name": "stdout",
     "output_type": "stream",
     "text": [
      "calling constructor\n"
     ]
    }
   ],
   "source": [
    "class Emp:\n",
    "    def __init__(self,name):\n",
    "        print(\"calling constructor\")\n",
    "        self.name=name\n",
    "jay = Emp(\"Jayaram\")"
   ]
  },
  {
   "cell_type": "code",
   "execution_count": 2,
   "metadata": {},
   "outputs": [
    {
     "name": "stdout",
     "output_type": "stream",
     "text": [
      "calling constructor\n",
      "Jayaram\n"
     ]
    }
   ],
   "source": [
    "class Emp:\n",
    "    def __init__(self,name):\n",
    "        print(\"calling constructor\")\n",
    "        self.name=name\n",
    "    def get(self):\n",
    "        return self.name\n",
    "jay = Emp(\"Jayaram\")\n",
    "print(jay.get())"
   ]
  },
  {
   "cell_type": "code",
   "execution_count": null,
   "metadata": {},
   "outputs": [],
   "source": [
    "class Emp:\n",
    "    def __init__(self,name):\n",
    "        print(\"calling constructor\")\n",
    "        self.name=name\n",
    "    def get(self):\n",
    "        return self.name\n",
    "jay = Emp(\"Jayaram\")# 1. it will call __new__ method. new method creates a data object and returns the data object.\n",
    "#2. by using this dataobject, will call constructor.\n",
    "print(jay.get())"
   ]
  },
  {
   "cell_type": "code",
   "execution_count": 6,
   "metadata": {},
   "outputs": [
    {
     "name": "stdout",
     "output_type": "stream",
     "text": [
      "calling new method\n",
      "calling constructor\n",
      "Jayaram\n"
     ]
    }
   ],
   "source": [
    "class Emp:\n",
    "    def __new__(cls, *args):\n",
    "        print(\"calling new method\")\n",
    "        return object.__new__(cls)\n",
    "    def __init__(self,name):\n",
    "        print(\"calling constructor\")\n",
    "        self.name=name\n",
    "    def get(self):\n",
    "        return self.name\n",
    "jay = Emp(\"Jayaram\")# 1. it will call __new__ method. new method creates a data object and returns the data object.\n",
    "#2. by using this dataobject, will call constructor.\n",
    "print(jay.get())"
   ]
  },
  {
   "cell_type": "code",
   "execution_count": 7,
   "metadata": {},
   "outputs": [
    {
     "name": "stdout",
     "output_type": "stream",
     "text": [
      "calling new method\n"
     ]
    },
    {
     "ename": "AttributeError",
     "evalue": "'NoneType' object has no attribute 'get'",
     "output_type": "error",
     "traceback": [
      "\u001b[1;31m---------------------------------------------------------------------------\u001b[0m",
      "\u001b[1;31mAttributeError\u001b[0m                            Traceback (most recent call last)",
      "\u001b[1;32m<ipython-input-7-cf6d3cfe1c10>\u001b[0m in \u001b[0;36m<module>\u001b[1;34m\u001b[0m\n\u001b[0;32m     10\u001b[0m \u001b[0mjay\u001b[0m \u001b[1;33m=\u001b[0m \u001b[0mEmp\u001b[0m\u001b[1;33m(\u001b[0m\u001b[1;34m\"Jayaram\"\u001b[0m\u001b[1;33m)\u001b[0m\u001b[1;31m# 1. it will call __new__ method. new method creates a data object and returns the data object.\u001b[0m\u001b[1;33m\u001b[0m\u001b[1;33m\u001b[0m\u001b[0m\n\u001b[0;32m     11\u001b[0m \u001b[1;31m#2. by using this dataobject, will call constructor.\u001b[0m\u001b[1;33m\u001b[0m\u001b[1;33m\u001b[0m\u001b[1;33m\u001b[0m\u001b[0m\n\u001b[1;32m---> 12\u001b[1;33m \u001b[0mprint\u001b[0m\u001b[1;33m(\u001b[0m\u001b[0mjay\u001b[0m\u001b[1;33m.\u001b[0m\u001b[0mget\u001b[0m\u001b[1;33m(\u001b[0m\u001b[1;33m)\u001b[0m\u001b[1;33m)\u001b[0m\u001b[1;33m\u001b[0m\u001b[1;33m\u001b[0m\u001b[0m\n\u001b[0m",
      "\u001b[1;31mAttributeError\u001b[0m: 'NoneType' object has no attribute 'get'"
     ]
    }
   ],
   "source": [
    "class Emp:\n",
    "    def __new__(cls, *args):\n",
    "        print(\"calling new method\")\n",
    "        return None\n",
    "    def __init__(self,name):\n",
    "        print(\"calling constructor\")\n",
    "        self.name=name\n",
    "    def get(self):\n",
    "        return self.name\n",
    "jay = Emp(\"Jayaram\")# 1. it will call __new__ method. new method creates a data object and returns the data object.\n",
    "#2. by using this dataobject, will call constructor.\n",
    "print(jay.get())"
   ]
  },
  {
   "cell_type": "code",
   "execution_count": 8,
   "metadata": {},
   "outputs": [
    {
     "name": "stdout",
     "output_type": "stream",
     "text": [
      "calling new method\n",
      "dept constructor\n"
     ]
    },
    {
     "ename": "AttributeError",
     "evalue": "'Dept' object has no attribute 'get'",
     "output_type": "error",
     "traceback": [
      "\u001b[1;31m---------------------------------------------------------------------------\u001b[0m",
      "\u001b[1;31mAttributeError\u001b[0m                            Traceback (most recent call last)",
      "\u001b[1;32m<ipython-input-8-9562a655c258>\u001b[0m in \u001b[0;36m<module>\u001b[1;34m\u001b[0m\n\u001b[0;32m     13\u001b[0m \u001b[0mjay\u001b[0m \u001b[1;33m=\u001b[0m \u001b[0mEmp\u001b[0m\u001b[1;33m(\u001b[0m\u001b[1;34m\"Jayaram\"\u001b[0m\u001b[1;33m)\u001b[0m\u001b[1;31m# 1. it will call __new__ method. new method creates a data object and returns the data object.\u001b[0m\u001b[1;33m\u001b[0m\u001b[1;33m\u001b[0m\u001b[0m\n\u001b[0;32m     14\u001b[0m \u001b[1;31m#2. by using this dataobject, will call constructor.\u001b[0m\u001b[1;33m\u001b[0m\u001b[1;33m\u001b[0m\u001b[1;33m\u001b[0m\u001b[0m\n\u001b[1;32m---> 15\u001b[1;33m \u001b[0mprint\u001b[0m\u001b[1;33m(\u001b[0m\u001b[0mjay\u001b[0m\u001b[1;33m.\u001b[0m\u001b[0mget\u001b[0m\u001b[1;33m(\u001b[0m\u001b[1;33m)\u001b[0m\u001b[1;33m)\u001b[0m\u001b[1;33m\u001b[0m\u001b[1;33m\u001b[0m\u001b[0m\n\u001b[0m",
      "\u001b[1;31mAttributeError\u001b[0m: 'Dept' object has no attribute 'get'"
     ]
    }
   ],
   "source": [
    "class Dept:\n",
    "    def __init__(self):\n",
    "        print(\"dept constructor\")\n",
    "class Emp:\n",
    "    def __new__(cls, *args):\n",
    "        print(\"calling new method\")\n",
    "        return Dept()\n",
    "    def __init__(self,name):\n",
    "        print(\"calling constructor\")\n",
    "        self.name=name\n",
    "    def get(self):\n",
    "        return self.name\n",
    "jay = Emp(\"Jayaram\")# 1. it will call __new__ method. new method creates a data object and returns the data object.\n",
    "#2. by using this dataobject, will call constructor. dataobject.__init__(*args)\n",
    "print(jay.get())"
   ]
  },
  {
   "cell_type": "code",
   "execution_count": 9,
   "metadata": {},
   "outputs": [
    {
     "name": "stdout",
     "output_type": "stream",
     "text": [
      "1\n",
      "2\n",
      "3\n",
      "Jayaram\n"
     ]
    }
   ],
   "source": [
    "class Emp:\n",
    "    obj_count = 0\n",
    "    def __new__(cls, *args):\n",
    "        cls.obj_count = cls.obj_count+1\n",
    "        print(cls.obj_count)\n",
    "        return object.__new__(cls)\n",
    "    def __init__(self,name):\n",
    "        self.name=name\n",
    "    def get(self):\n",
    "        return self.name\n",
    "jay = Emp(\"Jayaram\")\n",
    "vedha = Emp(\"vedha\")\n",
    "sai = Emp(\"sai\")\n",
    "print(jay.get())"
   ]
  },
  {
   "cell_type": "code",
   "execution_count": 10,
   "metadata": {},
   "outputs": [
    {
     "name": "stdout",
     "output_type": "stream",
     "text": [
      "Jayaram\n"
     ]
    },
    {
     "ename": "Exception",
     "evalue": "Can create only one object.",
     "output_type": "error",
     "traceback": [
      "\u001b[1;31m---------------------------------------------------------------------------\u001b[0m",
      "\u001b[1;31mException\u001b[0m                                 Traceback (most recent call last)",
      "\u001b[1;32m<ipython-input-10-bc788c21b320>\u001b[0m in \u001b[0;36m<module>\u001b[1;34m\u001b[0m\n\u001b[0;32m     12\u001b[0m \u001b[0mjay\u001b[0m \u001b[1;33m=\u001b[0m \u001b[0mEmp\u001b[0m\u001b[1;33m(\u001b[0m\u001b[1;34m\"Jayaram\"\u001b[0m\u001b[1;33m)\u001b[0m\u001b[1;33m\u001b[0m\u001b[1;33m\u001b[0m\u001b[0m\n\u001b[0;32m     13\u001b[0m \u001b[0mprint\u001b[0m\u001b[1;33m(\u001b[0m\u001b[0mjay\u001b[0m\u001b[1;33m.\u001b[0m\u001b[0mget\u001b[0m\u001b[1;33m(\u001b[0m\u001b[1;33m)\u001b[0m\u001b[1;33m)\u001b[0m\u001b[1;33m\u001b[0m\u001b[1;33m\u001b[0m\u001b[0m\n\u001b[1;32m---> 14\u001b[1;33m \u001b[0mvedha\u001b[0m \u001b[1;33m=\u001b[0m \u001b[0mEmp\u001b[0m\u001b[1;33m(\u001b[0m\u001b[1;34m\"vedha\"\u001b[0m\u001b[1;33m)\u001b[0m\u001b[1;33m\u001b[0m\u001b[1;33m\u001b[0m\u001b[0m\n\u001b[0m\u001b[0;32m     15\u001b[0m \u001b[0msai\u001b[0m \u001b[1;33m=\u001b[0m \u001b[0mEmp\u001b[0m\u001b[1;33m(\u001b[0m\u001b[1;34m\"sai\"\u001b[0m\u001b[1;33m)\u001b[0m\u001b[1;33m\u001b[0m\u001b[1;33m\u001b[0m\u001b[0m\n\u001b[0;32m     16\u001b[0m \u001b[0mprint\u001b[0m\u001b[1;33m(\u001b[0m\u001b[0mjay\u001b[0m\u001b[1;33m.\u001b[0m\u001b[0mget\u001b[0m\u001b[1;33m(\u001b[0m\u001b[1;33m)\u001b[0m\u001b[1;33m)\u001b[0m\u001b[1;33m\u001b[0m\u001b[1;33m\u001b[0m\u001b[0m\n",
      "\u001b[1;32m<ipython-input-10-bc788c21b320>\u001b[0m in \u001b[0;36m__new__\u001b[1;34m(cls, *args)\u001b[0m\n\u001b[0;32m      3\u001b[0m     \u001b[1;32mdef\u001b[0m \u001b[0m__new__\u001b[0m\u001b[1;33m(\u001b[0m\u001b[0mcls\u001b[0m\u001b[1;33m,\u001b[0m \u001b[1;33m*\u001b[0m\u001b[0margs\u001b[0m\u001b[1;33m)\u001b[0m\u001b[1;33m:\u001b[0m\u001b[1;33m\u001b[0m\u001b[1;33m\u001b[0m\u001b[0m\n\u001b[0;32m      4\u001b[0m         \u001b[1;32mif\u001b[0m \u001b[0mcls\u001b[0m\u001b[1;33m.\u001b[0m\u001b[0mobj_count\u001b[0m\u001b[1;33m>\u001b[0m\u001b[1;36m0\u001b[0m\u001b[1;33m:\u001b[0m\u001b[1;33m\u001b[0m\u001b[1;33m\u001b[0m\u001b[0m\n\u001b[1;32m----> 5\u001b[1;33m             \u001b[1;32mraise\u001b[0m \u001b[0mException\u001b[0m\u001b[1;33m(\u001b[0m\u001b[1;34m\"Can create only one object.\"\u001b[0m\u001b[1;33m)\u001b[0m\u001b[1;33m\u001b[0m\u001b[1;33m\u001b[0m\u001b[0m\n\u001b[0m\u001b[0;32m      6\u001b[0m         \u001b[0mcls\u001b[0m\u001b[1;33m.\u001b[0m\u001b[0mobj_count\u001b[0m \u001b[1;33m=\u001b[0m \u001b[0mcls\u001b[0m\u001b[1;33m.\u001b[0m\u001b[0mobj_count\u001b[0m\u001b[1;33m+\u001b[0m\u001b[1;36m1\u001b[0m\u001b[1;33m\u001b[0m\u001b[1;33m\u001b[0m\u001b[0m\n\u001b[0;32m      7\u001b[0m         \u001b[1;32mreturn\u001b[0m \u001b[0mobject\u001b[0m\u001b[1;33m.\u001b[0m\u001b[0m__new__\u001b[0m\u001b[1;33m(\u001b[0m\u001b[0mcls\u001b[0m\u001b[1;33m)\u001b[0m\u001b[1;33m\u001b[0m\u001b[1;33m\u001b[0m\u001b[0m\n",
      "\u001b[1;31mException\u001b[0m: Can create only one object."
     ]
    }
   ],
   "source": [
    "#single pattern\n",
    "class Emp:\n",
    "    obj_count = 0\n",
    "    def __new__(cls, *args):\n",
    "        if cls.obj_count>0:\n",
    "            raise Exception(\"Can create only one object.\")\n",
    "        cls.obj_count = cls.obj_count+1\n",
    "        return object.__new__(cls)\n",
    "    def __init__(self,name):\n",
    "        self.name=name\n",
    "    def get(self):\n",
    "        return self.name\n",
    "jay = Emp(\"Jayaram\")\n",
    "print(jay.get())\n",
    "vedha = Emp(\"vedha\")\n",
    "sai = Emp(\"sai\")\n",
    "print(jay.get())"
   ]
  },
  {
   "cell_type": "code",
   "execution_count": 11,
   "metadata": {},
   "outputs": [
    {
     "name": "stdout",
     "output_type": "stream",
     "text": [
      "120000\n",
      "Khyaathi\n"
     ]
    }
   ],
   "source": [
    "class Emp:\n",
    "    company_name=\"Khyaathi\"\n",
    "    def __init__(self, name,sal):\n",
    "        self.name=name\n",
    "        self.sal=sal\n",
    "    def get_sal(self):\n",
    "        return self.sal\n",
    "    def get_company(self):\n",
    "        return self.company_name\n",
    "    \n",
    "jay = Emp(\"Jayaram\",120000)\n",
    "print(jay.get_sal())\n",
    "print(jay.get_company())"
   ]
  },
  {
   "cell_type": "code",
   "execution_count": 12,
   "metadata": {},
   "outputs": [
    {
     "name": "stdout",
     "output_type": "stream",
     "text": [
      "120000\n",
      "Khyaathi\n",
      "Khyaathi\n"
     ]
    }
   ],
   "source": [
    "class Emp:\n",
    "    company_name=\"Khyaathi\"\n",
    "    def __init__(self, name,sal):\n",
    "        self.name=name\n",
    "        self.sal=sal\n",
    "    def get_sal(self):# instance method\n",
    "        return self.sal\n",
    "    def get_company(self):# instance method\n",
    "        return self.company_name\n",
    "    \n",
    "jay = Emp(\"Jayaram\",120000)\n",
    "print(jay.get_sal())\n",
    "print(jay.get_company())# when we call an instance method by using a dataobject,\n",
    "#by default it will pass data object(jay) as a firstsragumnet\n",
    "print(Emp.company_name)# when we call an instance method by using a dataobject,\n",
    "#by default it will pass data object(jay) as a firstsragumnet"
   ]
  },
  {
   "cell_type": "code",
   "execution_count": null,
   "metadata": {},
   "outputs": [],
   "source": [
    "class Emp:\n",
    "    company_name=\"Khyaathi\"\n",
    "    def __init__(self, name,sal):\n",
    "        self.name=name\n",
    "        self.sal=sal\n",
    "    def get_sal(self):# instance method\n",
    "        return self.sal\n",
    "    def get_company(self):# instance method\n",
    "        return self.company_name\n",
    "    \n",
    "jay = Emp(\"Jayaram\",120000)\n",
    "print(jay.get_sal())\n",
    "print(jay.get_company())# when we call an instance method by using a dataobject,\n",
    "#by default it will pass data object(jay) as a firstsragumnet\n",
    "print(Emp.company_name)# when we call an instance method by using a dataobject,\n",
    "#by default it will pass data object(jay) as a firstsragumnet.But basically we dont need data object here. we want to pass\n",
    "# a class object. how do we change this default behaviour?"
   ]
  },
  {
   "cell_type": "code",
   "execution_count": 13,
   "metadata": {},
   "outputs": [
    {
     "name": "stdout",
     "output_type": "stream",
     "text": [
      "120000\n",
      "Khyaathi\n"
     ]
    }
   ],
   "source": [
    "class Emp:\n",
    "    company_name=\"Khyaathi\"\n",
    "    def __init__(self, name,sal):\n",
    "        self.name=name\n",
    "        self.sal=sal\n",
    "    def get_sal(self):# instance method\n",
    "        return self.sal\n",
    "    \n",
    "    @classmethod\n",
    "    def get_company(self):# class method\n",
    "        return self.company_name\n",
    "    \n",
    "jay = Emp(\"Jayaram\",120000)\n",
    "print(jay.get_sal())\n",
    "print(jay.get_company())# when we call an class method by using a dataobject/classobject,\n",
    "#by default it will pass class object(Emp) as a firstsragumnet."
   ]
  },
  {
   "cell_type": "code",
   "execution_count": 14,
   "metadata": {},
   "outputs": [
    {
     "name": "stdout",
     "output_type": "stream",
     "text": [
      "<__main__.Emp object at 0x000001BFD1DFAD30>\n",
      "120000\n",
      "<class '__main__.Emp'>\n",
      "Khyaathi\n"
     ]
    }
   ],
   "source": [
    "class Emp:\n",
    "    company_name=\"Khyaathi\"\n",
    "    def __init__(self, name,sal):\n",
    "        self.name=name\n",
    "        self.sal=sal\n",
    "    def get_sal(self):# instance method\n",
    "        print(self)\n",
    "        return self.sal\n",
    "    \n",
    "    @classmethod\n",
    "    def get_company(self):# class method\n",
    "        print(self)\n",
    "        return self.company_name\n",
    "    \n",
    "jay = Emp(\"Jayaram\",120000)\n",
    "print(jay.get_sal())\n",
    "print(jay.get_company())# when we call an class method by using a dataobject/classobject,\n",
    "#by default it will pass class object(Emp) as a firstsragumnet."
   ]
  },
  {
   "cell_type": "code",
   "execution_count": 16,
   "metadata": {},
   "outputs": [
    {
     "name": "stdout",
     "output_type": "stream",
     "text": [
      "120000\n",
      "Khyaathi\n",
      "Khyaathi\n"
     ]
    }
   ],
   "source": [
    "class Emp:\n",
    "    company_name=\"Khyaathi\"\n",
    "    def __init__(self, name,sal):\n",
    "        self.name=name\n",
    "        self.sal=sal\n",
    "    def get_sal(self):# instance method\n",
    "        return self.sal\n",
    "    \n",
    "    @classmethod\n",
    "    def get_company(cls):# class method\n",
    "        return cls.company_name\n",
    "    \n",
    "jay = Emp(\"Jayaram\",120000)\n",
    "print(jay.get_sal())\n",
    "print(jay.get_company())# when we call an class method by using a dataobject/classobject,\n",
    "#by default it will pass class object(Emp) as a firstsragumnet.\n",
    "print(Emp.get_company())"
   ]
  },
  {
   "cell_type": "code",
   "execution_count": 17,
   "metadata": {},
   "outputs": [
    {
     "name": "stdout",
     "output_type": "stream",
     "text": [
      "120000\n",
      "Khyaathi\n",
      "Khyaathi\n",
      "hello\n",
      "hello\n"
     ]
    }
   ],
   "source": [
    "class Emp:\n",
    "    company_name=\"Khyaathi\"\n",
    "    def __init__(self, name,sal):\n",
    "        self.name=name\n",
    "        self.sal=sal\n",
    "    def get_sal(self):# instance method\n",
    "        return self.sal\n",
    "    \n",
    "    @classmethod\n",
    "    def get_company(cls):# class method\n",
    "        return cls.company_name\n",
    "    \n",
    "    @staticmethod\n",
    "    def process_response(response):# static method\n",
    "        if response.isalnum():\n",
    "            return response\n",
    "        else:\n",
    "            raise Exception(\"it has special sysmbols\")\n",
    "    \n",
    "jay = Emp(\"Jayaram\",120000)\n",
    "print(jay.get_sal())# it will pass data object(jay) as a first argument, it's a instance method\n",
    "print(jay.get_company())# it will pass class object(Emp) as a first argument, it's a class method\n",
    "print(Emp.get_company())# notthing is going to pass as a first argument, it's a static method.\n",
    "# we are not using any data object/class object attributes in process_reponse. Basiclaly we dont need any data/class object \n",
    "# inside the process_response. that's why we can treat this method as static method\n",
    "print(jay.process_response(\"hello\"))# it will not pass any class/data objects as a first argument.\n",
    "print(Emp.process_response(\"hello\"))"
   ]
  },
  {
   "cell_type": "code",
   "execution_count": null,
   "metadata": {},
   "outputs": [],
   "source": []
  }
 ],
 "metadata": {
  "kernelspec": {
   "display_name": "Python 3",
   "language": "python",
   "name": "python3"
  },
  "language_info": {
   "codemirror_mode": {
    "name": "ipython",
    "version": 3
   },
   "file_extension": ".py",
   "mimetype": "text/x-python",
   "name": "python",
   "nbconvert_exporter": "python",
   "pygments_lexer": "ipython3",
   "version": "3.8.3"
  }
 },
 "nbformat": 4,
 "nbformat_minor": 4
}
