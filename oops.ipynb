{
 "cells": [
  {
   "cell_type": "code",
   "execution_count": null,
   "metadata": {},
   "outputs": [],
   "source": [
    "def salary_cal(emp_id,emp_name,emp_sal,emp_leaves):\n",
    "    print(\"this is function\")\n",
    "\n",
    "class Emp:\n",
    "    def salary_cal(obj):\n",
    "        print(\"this is salry calculation\")"
   ]
  },
  {
   "cell_type": "code",
   "execution_count": 1,
   "metadata": {},
   "outputs": [
    {
     "name": "stdout",
     "output_type": "stream",
     "text": [
      "this is class\n"
     ]
    }
   ],
   "source": [
    "def fun():\n",
    "    print(\"this is fun\")\n",
    "    \n",
    "class Emp:\n",
    "    print(\"this is class\")"
   ]
  },
  {
   "cell_type": "code",
   "execution_count": 2,
   "metadata": {},
   "outputs": [
    {
     "name": "stdout",
     "output_type": "stream",
     "text": [
      "this is class\n"
     ]
    }
   ],
   "source": [
    "def fun():\n",
    "    print(\"this is fun\")\n",
    "    \n",
    "class Emp:\n",
    "    print(\"this is class\")\n",
    "    def get(obj):\n",
    "        print(\"this is get\")"
   ]
  },
  {
   "cell_type": "code",
   "execution_count": 3,
   "metadata": {},
   "outputs": [
    {
     "name": "stdout",
     "output_type": "stream",
     "text": [
      "this is class\n",
      "Jay 1 200000\n",
      "this is get\n"
     ]
    }
   ],
   "source": [
    "def fun():\n",
    "    print(\"this is fun\")\n",
    "    \n",
    "class Emp:\n",
    "    print(\"this is class\")\n",
    "    emp_name=\"Jay\"\n",
    "    emp_id=1\n",
    "    emp_sal=200000\n",
    "    emp_leaves=3\n",
    "    def get(obj):\n",
    "        print(\"this is get\")\n",
    "\n",
    "print(Emp.emp_name, Emp.emp_id, Emp.emp_sal)\n",
    "Emp.get(\"jayaram\")"
   ]
  },
  {
   "cell_type": "code",
   "execution_count": 5,
   "metadata": {},
   "outputs": [
    {
     "name": "stdout",
     "output_type": "stream",
     "text": [
      "Jayaram 1 200000 3\n",
      "Vedhanvesh 2 300000 2\n"
     ]
    }
   ],
   "source": [
    "class Emp:# class object\n",
    "    pass\n",
    "jay=Emp()# data object\n",
    "jay.name=\"Jayaram\"\n",
    "jay.id=1\n",
    "jay.sal=200000\n",
    "jay.leaves=3# name id sal leaves are the attributes, these atttributes are binded to Emp data object, refer by jay reference.\n",
    "vedha = Emp()# data object\n",
    "vedha.name=\"Vedhanvesh\"\n",
    "vedha.id=2\n",
    "vedha.sal=300000\n",
    "vedha.leaves=2\n",
    "print(jay.name,jay.id,jay.sal,jay.leaves)\n",
    "print(vedha.name, vedha.id, vedha.sal, vedha.leaves)"
   ]
  },
  {
   "cell_type": "code",
   "execution_count": 7,
   "metadata": {},
   "outputs": [
    {
     "name": "stdout",
     "output_type": "stream",
     "text": [
      "('Jayaram', 1, 200000, 3)\n",
      "('Vedhanvesh', 2, 300000, 2)\n"
     ]
    }
   ],
   "source": [
    "# class Product: name, cost, color, discount, deliverycharges, profit\n",
    "class Emp:# class object\n",
    "    def get(obj):\n",
    "        return obj.name, obj.id, obj.sal, obj.leaves\n",
    "        \n",
    "jay=Emp()# data object\n",
    "jay.name=\"Jayaram\"\n",
    "jay.id=1\n",
    "jay.sal=200000\n",
    "jay.leaves=3# name id sal leaves are the attributes, these atttributes are binded to Emp data object, refer by jay reference.\n",
    "vedha = Emp()# data object\n",
    "vedha.name=\"Vedhanvesh\"\n",
    "vedha.id=2\n",
    "vedha.sal=300000\n",
    "vedha.leaves=2\n",
    "#print(jay.name,jay.id,jay.sal,jay.leaves)\n",
    "print(Emp.get(jay))\n",
    "#print(vedha.name, vedha.id, vedha.sal, vedha.leaves)\n",
    "print(Emp.get(vedha))"
   ]
  },
  {
   "cell_type": "code",
   "execution_count": 8,
   "metadata": {},
   "outputs": [
    {
     "name": "stdout",
     "output_type": "stream",
     "text": [
      "('Jayaram', 1, 200000, 3)\n",
      "('Vedhanvesh', 2, 300000, 2)\n"
     ]
    }
   ],
   "source": [
    "# class Product: name, cost, color, discount, deliverycharges, profit\n",
    "class Emp:# class object\n",
    "    def set_data(obj, name, e_id, sal,leaves):\n",
    "        obj.name=name\n",
    "        obj.id=e_id\n",
    "        obj.sal=sal\n",
    "        obj.leaves=leaves\n",
    "    \n",
    "    def get(obj):\n",
    "        return obj.name, obj.id, obj.sal, obj.leaves\n",
    "        \n",
    "jay=Emp()# data object\n",
    "Emp.set_data(jay, \"Jayaram\",1,200000,3)\n",
    "# jay.name=\"Jayaram\"\n",
    "# jay.id=1\n",
    "# jay.sal=200000\n",
    "# jay.leaves=3# name id sal leaves are the attributes, these atttributes are binded to Emp data object, refer by jay reference.\n",
    "vedha = Emp()# data object\n",
    "Emp.set_data(vedha,\"Vedhanvesh\",2,300000,2)\n",
    "# vedha.name=\"Vedhanvesh\"\n",
    "# vedha.id=2\n",
    "# vedha.sal=300000\n",
    "# vedha.leaves=2\n",
    "#print(jay.name,jay.id,jay.sal,jay.leaves)\n",
    "print(Emp.get(jay))\n",
    "#print(vedha.name, vedha.id, vedha.sal, vedha.leaves)\n",
    "print(Emp.get(vedha))"
   ]
  },
  {
   "cell_type": "code",
   "execution_count": 10,
   "metadata": {},
   "outputs": [
    {
     "name": "stdout",
     "output_type": "stream",
     "text": [
      "('Jayaram', 1, 200000, 3)\n",
      "('Vedhanvesh', 2, 300000, 2)\n"
     ]
    }
   ],
   "source": [
    "class Emp:# class object\n",
    "    def set_data(obj, name, e_id, sal,leaves):\n",
    "        obj.name=name\n",
    "        obj.id=e_id\n",
    "        obj.sal=sal\n",
    "        obj.leaves=leaves\n",
    "    \n",
    "    def get(obj):\n",
    "        return obj.name, obj.id, obj.sal, obj.leaves\n",
    "        \n",
    "jay=Emp()\n",
    "Emp.set_data(jay, \"Jayaram\",1,200000,3)\n",
    "vedha = Emp()\n",
    "Emp.set_data(vedha,\"Vedhanvesh\",2,300000,2)\n",
    "print(Emp.get(jay))\n",
    "print(Emp.get(vedha))"
   ]
  },
  {
   "cell_type": "code",
   "execution_count": 13,
   "metadata": {},
   "outputs": [
    {
     "name": "stdout",
     "output_type": "stream",
     "text": [
      "('Jayaram', 1, 200000, 3)\n",
      "('Vedhanvesh', 2, 300000, 2)\n"
     ]
    }
   ],
   "source": [
    "class Emp:# class object\n",
    "    def set_data(obj, name, e_id, sal,leaves):\n",
    "        obj.name=name\n",
    "        obj.id=e_id\n",
    "        obj.sal=sal\n",
    "        obj.leaves=leaves\n",
    "    \n",
    "    def get(obj):\n",
    "        return obj.name, obj.id, obj.sal, obj.leaves\n",
    "        \n",
    "jay=Emp()\n",
    "#Emp.set_data(jay, \"Jayaram\",1,200000,3)\n",
    "jay.set_data(\"Jayaram\",1,200000,3)\n",
    "vedha = Emp()\n",
    "#Emp.set_data(vedha,\"Vedhanvesh\",2,300000,2)\n",
    "vedha.set_data(\"Vedhanvesh\",2,300000,2)\n",
    "#print(Emp.get(jay))\n",
    "print(jay.get())\n",
    "#print(Emp.get(vedha))\n",
    "print(vedha.get())"
   ]
  },
  {
   "cell_type": "code",
   "execution_count": 14,
   "metadata": {},
   "outputs": [
    {
     "name": "stdout",
     "output_type": "stream",
     "text": [
      "('Jayaram', 1, 200000, 3)\n",
      "('Vedhanvesh', 2, 300000, 2)\n"
     ]
    }
   ],
   "source": [
    "class Emp:# class object\n",
    "    def set_data(obj, name, e_id, sal,leaves):\n",
    "        obj.name=name\n",
    "        obj.id=e_id\n",
    "        obj.sal=sal\n",
    "        obj.leaves=leaves\n",
    "    \n",
    "    def get(obj):\n",
    "        return obj.name, obj.id, obj.sal, obj.leaves\n",
    "        \n",
    "jay=Emp()\n",
    "jay.set_data(\"Jayaram\",1,200000,3)\n",
    "vedha = Emp()\n",
    "vedha.set_data(\"Vedhanvesh\",2,300000,2)\n",
    "print(jay.get())\n",
    "print(vedha.get())"
   ]
  },
  {
   "cell_type": "code",
   "execution_count": 17,
   "metadata": {},
   "outputs": [
    {
     "name": "stdout",
     "output_type": "stream",
     "text": [
      "('Jayaram', 1, 200000, 3)\n",
      "('Vedhanvesh', 2, 300000, 2)\n",
      "180000.0\n",
      "280000.0\n"
     ]
    }
   ],
   "source": [
    "class Emp:# class object\n",
    "    def set_data(obj, name, e_id, sal,leaves):\n",
    "        obj.name=name\n",
    "        obj.id=e_id\n",
    "        obj.sal=sal\n",
    "        obj.leaves=leaves\n",
    "    \n",
    "    def get(obj):\n",
    "        return obj.name, obj.id, obj.sal, obj.leaves\n",
    "    def sal_cal(obj):\n",
    "        return obj.sal-(obj.leaves*(obj.sal/30))\n",
    "        \n",
    "jay=Emp()\n",
    "jay.set_data(\"Jayaram\",1,200000,3)\n",
    "vedha = Emp()\n",
    "vedha.set_data(\"Vedhanvesh\",2,300000,2)\n",
    "print(jay.get())\n",
    "print(vedha.get())\n",
    "print(jay.sal_cal())\n",
    "print(vedha.sal_cal())"
   ]
  },
  {
   "cell_type": "code",
   "execution_count": 18,
   "metadata": {},
   "outputs": [
    {
     "name": "stdout",
     "output_type": "stream",
     "text": [
      "('Jayaram', 1, 200000, 3)\n",
      "('Vedhanvesh', 2, 300000, 2)\n",
      "180000.0\n",
      "280000.0\n"
     ]
    }
   ],
   "source": [
    "class Emp:# class object\n",
    "    def set_data(self, name, e_id, sal,leaves):\n",
    "        self.name=name\n",
    "        self.id=e_id\n",
    "        self.sal=sal\n",
    "        self.leaves=leaves\n",
    "    \n",
    "    def get(self):\n",
    "        return self.name, self.id, self.sal, self.leaves\n",
    "    def sal_cal(self):\n",
    "        return self.sal-(self.leaves*(self.sal/30))\n",
    "        \n",
    "jay=Emp()\n",
    "jay.set_data(\"Jayaram\",1,200000,3)\n",
    "vedha = Emp()\n",
    "vedha.set_data(\"Vedhanvesh\",2,300000,2)\n",
    "print(jay.get())\n",
    "print(vedha.get())\n",
    "print(jay.sal_cal())\n",
    "print(vedha.sal_cal())"
   ]
  },
  {
   "cell_type": "code",
   "execution_count": 19,
   "metadata": {},
   "outputs": [
    {
     "name": "stdout",
     "output_type": "stream",
     "text": [
      "('Jayaram', 1, 200000, 3)\n",
      "('Vedhanvesh', 2, 300000, 2)\n",
      "180000.0\n",
      "280000.0\n"
     ]
    },
    {
     "ename": "AttributeError",
     "evalue": "'Emp' object has no attribute 'sal'",
     "output_type": "error",
     "traceback": [
      "\u001b[1;31m---------------------------------------------------------------------------\u001b[0m",
      "\u001b[1;31mAttributeError\u001b[0m                            Traceback (most recent call last)",
      "\u001b[1;32m<ipython-input-19-fb0ef7fca88e>\u001b[0m in \u001b[0;36m<module>\u001b[1;34m\u001b[0m\n\u001b[0;32m     20\u001b[0m \u001b[0mprint\u001b[0m\u001b[1;33m(\u001b[0m\u001b[0mvedha\u001b[0m\u001b[1;33m.\u001b[0m\u001b[0msal_cal\u001b[0m\u001b[1;33m(\u001b[0m\u001b[1;33m)\u001b[0m\u001b[1;33m)\u001b[0m\u001b[1;33m\u001b[0m\u001b[1;33m\u001b[0m\u001b[0m\n\u001b[0;32m     21\u001b[0m \u001b[0msai\u001b[0m\u001b[1;33m=\u001b[0m\u001b[0mEmp\u001b[0m\u001b[1;33m(\u001b[0m\u001b[1;33m)\u001b[0m\u001b[1;33m\u001b[0m\u001b[1;33m\u001b[0m\u001b[0m\n\u001b[1;32m---> 22\u001b[1;33m \u001b[0mprint\u001b[0m\u001b[1;33m(\u001b[0m\u001b[0msai\u001b[0m\u001b[1;33m.\u001b[0m\u001b[0msal_cal\u001b[0m\u001b[1;33m(\u001b[0m\u001b[1;33m)\u001b[0m\u001b[1;33m)\u001b[0m\u001b[1;33m\u001b[0m\u001b[1;33m\u001b[0m\u001b[0m\n\u001b[0m",
      "\u001b[1;32m<ipython-input-19-fb0ef7fca88e>\u001b[0m in \u001b[0;36msal_cal\u001b[1;34m(self)\u001b[0m\n\u001b[0;32m      9\u001b[0m         \u001b[1;32mreturn\u001b[0m \u001b[0mself\u001b[0m\u001b[1;33m.\u001b[0m\u001b[0mname\u001b[0m\u001b[1;33m,\u001b[0m \u001b[0mself\u001b[0m\u001b[1;33m.\u001b[0m\u001b[0mid\u001b[0m\u001b[1;33m,\u001b[0m \u001b[0mself\u001b[0m\u001b[1;33m.\u001b[0m\u001b[0msal\u001b[0m\u001b[1;33m,\u001b[0m \u001b[0mself\u001b[0m\u001b[1;33m.\u001b[0m\u001b[0mleaves\u001b[0m\u001b[1;33m\u001b[0m\u001b[1;33m\u001b[0m\u001b[0m\n\u001b[0;32m     10\u001b[0m     \u001b[1;32mdef\u001b[0m \u001b[0msal_cal\u001b[0m\u001b[1;33m(\u001b[0m\u001b[0mself\u001b[0m\u001b[1;33m)\u001b[0m\u001b[1;33m:\u001b[0m\u001b[1;33m\u001b[0m\u001b[1;33m\u001b[0m\u001b[0m\n\u001b[1;32m---> 11\u001b[1;33m         \u001b[1;32mreturn\u001b[0m \u001b[0mself\u001b[0m\u001b[1;33m.\u001b[0m\u001b[0msal\u001b[0m\u001b[1;33m-\u001b[0m\u001b[1;33m(\u001b[0m\u001b[0mself\u001b[0m\u001b[1;33m.\u001b[0m\u001b[0mleaves\u001b[0m\u001b[1;33m*\u001b[0m\u001b[1;33m(\u001b[0m\u001b[0mself\u001b[0m\u001b[1;33m.\u001b[0m\u001b[0msal\u001b[0m\u001b[1;33m/\u001b[0m\u001b[1;36m30\u001b[0m\u001b[1;33m)\u001b[0m\u001b[1;33m)\u001b[0m\u001b[1;33m\u001b[0m\u001b[1;33m\u001b[0m\u001b[0m\n\u001b[0m\u001b[0;32m     12\u001b[0m \u001b[1;33m\u001b[0m\u001b[0m\n\u001b[0;32m     13\u001b[0m \u001b[0mjay\u001b[0m\u001b[1;33m=\u001b[0m\u001b[0mEmp\u001b[0m\u001b[1;33m(\u001b[0m\u001b[1;33m)\u001b[0m\u001b[1;33m\u001b[0m\u001b[1;33m\u001b[0m\u001b[0m\n",
      "\u001b[1;31mAttributeError\u001b[0m: 'Emp' object has no attribute 'sal'"
     ]
    }
   ],
   "source": [
    "class Emp:# class object\n",
    "    def set_data(self, name, e_id, sal,leaves):\n",
    "        self.name=name\n",
    "        self.id=e_id\n",
    "        self.sal=sal\n",
    "        self.leaves=leaves\n",
    "    \n",
    "    def get(self):\n",
    "        return self.name, self.id, self.sal, self.leaves\n",
    "    def sal_cal(self):\n",
    "        return self.sal-(self.leaves*(self.sal/30))\n",
    "        \n",
    "jay=Emp()\n",
    "jay.set_data(\"Jayaram\",1,200000,3)\n",
    "vedha = Emp()\n",
    "vedha.set_data(\"Vedhanvesh\",2,300000,2)\n",
    "print(jay.get())\n",
    "print(vedha.get())\n",
    "print(jay.sal_cal())\n",
    "print(vedha.sal_cal())\n",
    "sai=Emp()\n",
    "print(sai.sal_cal())"
   ]
  },
  {
   "cell_type": "code",
   "execution_count": null,
   "metadata": {},
   "outputs": [],
   "source": []
  }
 ],
 "metadata": {
  "kernelspec": {
   "display_name": "Python 3",
   "language": "python",
   "name": "python3"
  },
  "language_info": {
   "codemirror_mode": {
    "name": "ipython",
    "version": 3
   },
   "file_extension": ".py",
   "mimetype": "text/x-python",
   "name": "python",
   "nbconvert_exporter": "python",
   "pygments_lexer": "ipython3",
   "version": "3.8.3"
  }
 },
 "nbformat": 4,
 "nbformat_minor": 4
}
