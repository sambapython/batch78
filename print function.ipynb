{
 "cells": [
  {
   "cell_type": "code",
   "execution_count": 1,
   "metadata": {},
   "outputs": [
    {
     "name": "stdout",
     "output_type": "stream",
     "text": [
      "hello world\n"
     ]
    }
   ],
   "source": [
    "print(\"hello world\")"
   ]
  },
  {
   "cell_type": "code",
   "execution_count": 2,
   "metadata": {},
   "outputs": [
    {
     "name": "stdout",
     "output_type": "stream",
     "text": [
      "Jayaram 4 3.46783 17.36789\n"
     ]
    }
   ],
   "source": [
    "name=\"Jayaram\"\n",
    "age=4\n",
    "height=3.46783\n",
    "weight=17.36789\n",
    "print(name,age,height,weight)"
   ]
  },
  {
   "cell_type": "code",
   "execution_count": 3,
   "metadata": {},
   "outputs": [
    {
     "name": "stdout",
     "output_type": "stream",
     "text": [
      "Jayaram=>4=>3.46783=>17.36789\n"
     ]
    }
   ],
   "source": [
    "name=\"Jayaram\"\n",
    "age=4\n",
    "height=3.46783\n",
    "weight=17.36789\n",
    "print(name,age,height,weight,sep=\"=>\")"
   ]
  },
  {
   "cell_type": "code",
   "execution_count": 4,
   "metadata": {},
   "outputs": [
    {
     "name": "stdout",
     "output_type": "stream",
     "text": [
      "hello\n",
      "hi\n"
     ]
    }
   ],
   "source": [
    "print(\"hello\")\n",
    "print(\"hi\")"
   ]
  },
  {
   "cell_type": "code",
   "execution_count": 5,
   "metadata": {},
   "outputs": [
    {
     "name": "stdout",
     "output_type": "stream",
     "text": [
      "hello hi\n"
     ]
    }
   ],
   "source": [
    "print(\"hello\",end=\" \")\n",
    "print(\"hi\")"
   ]
  },
  {
   "cell_type": "code",
   "execution_count": 6,
   "metadata": {},
   "outputs": [
    {
     "name": "stdout",
     "output_type": "stream",
     "text": [
      "hello \n",
      " hi\n"
     ]
    }
   ],
   "source": [
    "print(\"hello \\n hi\")"
   ]
  },
  {
   "cell_type": "code",
   "execution_count": 7,
   "metadata": {},
   "outputs": [
    {
     "name": "stdout",
     "output_type": "stream",
     "text": [
      "hi\n"
     ]
    }
   ],
   "source": [
    "print(\"hi\")"
   ]
  },
  {
   "cell_type": "code",
   "execution_count": 8,
   "metadata": {},
   "outputs": [
    {
     "name": "stdout",
     "output_type": "stream",
     "text": [
      "hi\n"
     ]
    }
   ],
   "source": [
    "print('hi')"
   ]
  },
  {
   "cell_type": "code",
   "execution_count": 9,
   "metadata": {},
   "outputs": [
    {
     "name": "stdout",
     "output_type": "stream",
     "text": [
      "It's a cool weather in hyderabad now\n"
     ]
    }
   ],
   "source": [
    "print(\"It's a cool weather in hyderabad now\")"
   ]
  },
  {
   "cell_type": "code",
   "execution_count": 10,
   "metadata": {},
   "outputs": [
    {
     "ename": "SyntaxError",
     "evalue": "invalid syntax (<ipython-input-10-a2ba61559013>, line 1)",
     "output_type": "error",
     "traceback": [
      "\u001b[1;36m  File \u001b[1;32m\"<ipython-input-10-a2ba61559013>\"\u001b[1;36m, line \u001b[1;32m1\u001b[0m\n\u001b[1;33m    print(\"It's a cool weather in \"hyderabad\" now\")\u001b[0m\n\u001b[1;37m                                   ^\u001b[0m\n\u001b[1;31mSyntaxError\u001b[0m\u001b[1;31m:\u001b[0m invalid syntax\n"
     ]
    }
   ],
   "source": [
    "print(\"It's a cool weather in \"hyderabad\" now\")"
   ]
  },
  {
   "cell_type": "code",
   "execution_count": 11,
   "metadata": {},
   "outputs": [
    {
     "name": "stdout",
     "output_type": "stream",
     "text": [
      "It's a cool weather in \"hyderabad\" now\n"
     ]
    }
   ],
   "source": [
    "print(\"It's a cool weather in \\\"hyderabad\\\" now\")"
   ]
  },
  {
   "cell_type": "code",
   "execution_count": 12,
   "metadata": {},
   "outputs": [
    {
     "name": "stdout",
     "output_type": "stream",
     "text": [
      "It's a cool weather in \"hyderabad\" now\n"
     ]
    }
   ],
   "source": [
    "print('It\\'s a cool weather in \"hyderabad\" now')"
   ]
  },
  {
   "cell_type": "code",
   "execution_count": 13,
   "metadata": {},
   "outputs": [
    {
     "name": "stdout",
     "output_type": "stream",
     "text": [
      "sdfsdfds\n",
      "sdfsd\n",
      "dsfsdfsd\n",
      "sdfsd\tsdfsdf\n",
      "sdfsdf\n",
      "\n",
      "dsfsdfsd\n",
      "sdfsd\n",
      "dsfsdfs\n"
     ]
    }
   ],
   "source": [
    "print(\"sdfsdfds\\nsdfsd\\ndsfsdfsd\\nsdfsd\\tsdfsdf\\nsdfsdf\\n\\ndsfsdfsd\\nsdfsd\\ndsfsdfs\")"
   ]
  },
  {
   "cell_type": "code",
   "execution_count": 14,
   "metadata": {},
   "outputs": [
    {
     "name": "stdout",
     "output_type": "stream",
     "text": [
      "\n",
      "\n"
     ]
    }
   ],
   "source": [
    "print(\"\\n\")"
   ]
  },
  {
   "cell_type": "code",
   "execution_count": 15,
   "metadata": {},
   "outputs": [
    {
     "name": "stdout",
     "output_type": "stream",
     "text": [
      "\\n\n"
     ]
    }
   ],
   "source": [
    "print(\"\\\\n\")"
   ]
  },
  {
   "cell_type": "code",
   "execution_count": 16,
   "metadata": {},
   "outputs": [
    {
     "name": "stdout",
     "output_type": "stream",
     "text": [
      "sdfsdfds\\nsdfsd\\ndsfsdfsd\\nsdfsd\\tsdfsdf\\nsdfsdf\\n\\ndsfsdfsd\\nsdfsd\\ndsfsdfs\n"
     ]
    }
   ],
   "source": [
    "print(\"sdfsdfds\\\\nsdfsd\\\\ndsfsdfsd\\\\nsdfsd\\\\tsdfsdf\\\\nsdfsdf\\\\n\\\\ndsfsdfsd\\\\nsdfsd\\\\ndsfsdfs\")"
   ]
  },
  {
   "cell_type": "code",
   "execution_count": 17,
   "metadata": {},
   "outputs": [
    {
     "name": "stdout",
     "output_type": "stream",
     "text": [
      "sdfsdfds\\nsdfsd\\ndsfsdfsd\\nsdfsd\\tsdfsdf\\nsdfsdf\\n\\ndsfsdfsd\\nsdfsd\\ndsfsdfs\n"
     ]
    }
   ],
   "source": [
    "print(r\"sdfsdfds\\nsdfsd\\ndsfsdfsd\\nsdfsd\\tsdfsdf\\nsdfsdf\\n\\ndsfsdfsd\\nsdfsd\\ndsfsdfs\")\n",
    "#raw strings. it will not recognize the special characters \\n \\t"
   ]
  },
  {
   "cell_type": "code",
   "execution_count": 18,
   "metadata": {},
   "outputs": [
    {
     "name": "stdout",
     "output_type": "stream",
     "text": [
      "name\n"
     ]
    }
   ],
   "source": [
    "name=\"apple\"\n",
    "print(\"name\")"
   ]
  },
  {
   "cell_type": "code",
   "execution_count": 19,
   "metadata": {},
   "outputs": [
    {
     "name": "stdout",
     "output_type": "stream",
     "text": [
      "name\n",
      "apple\n"
     ]
    }
   ],
   "source": [
    "name=\"apple\"\n",
    "print(\"name\")\n",
    "print(name)"
   ]
  },
  {
   "cell_type": "code",
   "execution_count": 20,
   "metadata": {},
   "outputs": [
    {
     "name": "stdout",
     "output_type": "stream",
     "text": [
      "Jayaram 4 3.46783 17.36789\n"
     ]
    }
   ],
   "source": [
    "name=\"Jayaram\"\n",
    "age=4\n",
    "height=3.46783\n",
    "weight=17.36789\n",
    "print(name,age,height,weight)"
   ]
  },
  {
   "cell_type": "code",
   "execution_count": 21,
   "metadata": {},
   "outputs": [
    {
     "name": "stdout",
     "output_type": "stream",
     "text": [
      "The person Jayaram details\n"
     ]
    }
   ],
   "source": [
    "#The person jayaram details AGE:4 years, WEIGHT:17.37 KG, HEIGHT:3.47 feets.\n",
    "name=\"Jayaram\"\n",
    "age=4\n",
    "height=3.46783\n",
    "weight=17.36789\n",
    "print(\"The person\",name,\"details\")"
   ]
  },
  {
   "cell_type": "code",
   "execution_count": 22,
   "metadata": {},
   "outputs": [
    {
     "name": "stdout",
     "output_type": "stream",
     "text": [
      "The person Jayaram details AGE: 4\n"
     ]
    }
   ],
   "source": [
    "#The person jayaram details AGE:4 years, WEIGHT:17.37 KG, HEIGHT:3.47 feets.\n",
    "name=\"Jayaram\"\n",
    "age=4\n",
    "height=3.46783\n",
    "weight=17.36789\n",
    "print(\"The person\",name,\"details AGE:\",age)"
   ]
  },
  {
   "cell_type": "code",
   "execution_count": 23,
   "metadata": {},
   "outputs": [
    {
     "name": "stdout",
     "output_type": "stream",
     "text": [
      "The personJayaramdetails AGE:4\n"
     ]
    }
   ],
   "source": [
    "#The person jayaram details AGE:4 years, WEIGHT:17.37 KG, HEIGHT:3.47 feets.\n",
    "name=\"Jayaram\"\n",
    "age=4\n",
    "height=3.46783\n",
    "weight=17.36789\n",
    "print(\"The person\",name,\"details AGE:\",age,sep=\"\")"
   ]
  },
  {
   "cell_type": "code",
   "execution_count": 24,
   "metadata": {},
   "outputs": [
    {
     "name": "stdout",
     "output_type": "stream",
     "text": [
      "The person Jayaram details AGE:4\n"
     ]
    }
   ],
   "source": [
    "#The person jayaram details AGE:4 years, WEIGHT:17.37 KG, HEIGHT:3.47 feets.\n",
    "name=\"Jayaram\"\n",
    "age=4\n",
    "height=3.46783\n",
    "weight=17.36789\n",
    "print(\"The person \",name,\" details AGE:\",age,sep=\"\")"
   ]
  },
  {
   "cell_type": "code",
   "execution_count": 28,
   "metadata": {},
   "outputs": [
    {
     "name": "stdout",
     "output_type": "stream",
     "text": [
      "The person Jayaram details AGE:4 years, WEIGHT:17.37 KG\n"
     ]
    }
   ],
   "source": [
    "#The person jayaram details AGE:4 years, WEIGHT:17.37 KG, HEIGHT:3.47 feets.\n",
    "name=\"Jayaram\"\n",
    "age=4\n",
    "height=3.46783\n",
    "weight=17.36789\n",
    "print(\"The person \",name,\" details AGE:\",age,\" years, \",\"WEIGHT:\",round(weight,2),\" KG\",   sep=\"\")"
   ]
  },
  {
   "cell_type": "code",
   "execution_count": 31,
   "metadata": {},
   "outputs": [
    {
     "name": "stdout",
     "output_type": "stream",
     "text": [
      "The person Jayaram details AGE:4 years, WEIGHT:17.37 KG, HEIGHT:3.47 feets\n"
     ]
    }
   ],
   "source": [
    "#The person jayaram details AGE:4 years, WEIGHT:17.37 KG, HEIGHT:3.47 feets.\n",
    "name=\"Jayaram\"\n",
    "age=4\n",
    "height=3.46783\n",
    "weight=17.36789\n",
    "print(\"The person \",name,\" details AGE:\",age,\" years, \",\"WEIGHT:\",round(weight,2),\" KG, \",\"HEIGHT:\",round(height,2),\" feets\",sep=\"\")"
   ]
  },
  {
   "cell_type": "code",
   "execution_count": 32,
   "metadata": {},
   "outputs": [
    {
     "name": "stdout",
     "output_type": "stream",
     "text": [
      "The person Jayaram details AGE:4 years, WEIGHT:17.37 KG, HEIGHT:3.47 feets\n",
      "The person Jayaram details\n"
     ]
    }
   ],
   "source": [
    "#The person jayaram details AGE:4 years, WEIGHT:17.37 KG, HEIGHT:3.47 feets.\n",
    "name=\"Jayaram\"\n",
    "age=4\n",
    "height=3.46783\n",
    "weight=17.36789\n",
    "print(\"The person \",name,\" details AGE:\",age,\" years, \",\"WEIGHT:\",round(weight,2),\" KG, \",\"HEIGHT:\",round(height,2),\" feets\",sep=\"\")\n",
    "#template strings\n",
    "print(f\"The person {name} details\")"
   ]
  },
  {
   "cell_type": "code",
   "execution_count": 33,
   "metadata": {},
   "outputs": [
    {
     "name": "stdout",
     "output_type": "stream",
     "text": [
      "The person Jayaram details AGE:4 years, WEIGHT:17.37 KG, HEIGHT:3.47 feets\n",
      "The person {name} details\n"
     ]
    }
   ],
   "source": [
    "#The person jayaram details AGE:4 years, WEIGHT:17.37 KG, HEIGHT:3.47 feets.\n",
    "name=\"Jayaram\"\n",
    "age=4\n",
    "height=3.46783\n",
    "weight=17.36789\n",
    "print(\"The person \",name,\" details AGE:\",age,\" years, \",\"WEIGHT:\",round(weight,2),\" KG, \",\"HEIGHT:\",round(height,2),\" feets\",sep=\"\")\n",
    "#template strings\n",
    "print(\"The person {name} details\")"
   ]
  },
  {
   "cell_type": "code",
   "execution_count": 34,
   "metadata": {},
   "outputs": [
    {
     "name": "stdout",
     "output_type": "stream",
     "text": [
      "The person Jayaram details AGE:4 years, WEIGHT:17.37 KG, HEIGHT:3.47 feets\n",
      "The person Jayaram details AGE:4 years, WEIGHT:17.36789 KG, HEIGHT:3.46783 feets.\n"
     ]
    }
   ],
   "source": [
    "#The person jayaram details AGE:4 years, WEIGHT:17.37 KG, HEIGHT:3.47 feets.\n",
    "name=\"Jayaram\"\n",
    "age=4\n",
    "height=3.46783\n",
    "weight=17.36789\n",
    "print(\"The person \",name,\" details AGE:\",age,\" years, \",\"WEIGHT:\",round(weight,2),\" KG, \",\"HEIGHT:\",round(height,2),\" feets\",sep=\"\")\n",
    "#template strings, f strings\n",
    "print(f\"The person {name} details AGE:{age} years, WEIGHT:{weight} KG, HEIGHT:{height} feets.\")"
   ]
  },
  {
   "cell_type": "code",
   "execution_count": 36,
   "metadata": {},
   "outputs": [
    {
     "name": "stdout",
     "output_type": "stream",
     "text": [
      "The person Jayaram details AGE:4 years, WEIGHT:17.37 KG, HEIGHT:3.47 feets\n",
      "The person Jayaram details AGE:4 years, WEIGHT:17.37 KG, HEIGHT:3.47 feets.\n"
     ]
    }
   ],
   "source": [
    "#The person jayaram details AGE:4 years, WEIGHT:17.37 KG, HEIGHT:3.47 feets.\n",
    "name=\"Jayaram\"\n",
    "age=4\n",
    "height=3.46783\n",
    "weight=17.36789\n",
    "print(\"The person \",name,\" details AGE:\",age,\" years, \",\"WEIGHT:\",round(weight,2),\" KG, \",\"HEIGHT:\",round(height,2),\" feets.\",sep=\"\")\n",
    "#template strings, f strings\n",
    "print(f\"The person {name} details AGE:{age} years, WEIGHT:{round(weight,2)} KG, HEIGHT:{round(height,2)} feets.\")"
   ]
  },
  {
   "cell_type": "code",
   "execution_count": 38,
   "metadata": {},
   "outputs": [
    {
     "name": "stdout",
     "output_type": "stream",
     "text": [
      "The person Jayaram details AGE:4 years, WEIGHT:17.37 KG, HEIGHT:3.47 feets.\n",
      "The person Jayaram details AGE:4 years, WEIGHT:17.367890 KG, HEIGHT:3.467830 feets.\n"
     ]
    }
   ],
   "source": [
    "#The person jayaram details AGE:4 years, WEIGHT:17.37 KG, HEIGHT:3.47 feets.\n",
    "name=\"Jayaram\"\n",
    "age=4\n",
    "height=3.46783\n",
    "weight=17.36789\n",
    "print(\"The person \",name,\" details AGE:\",age,\" years, \",\"WEIGHT:\",round(weight,2),\" KG, \",\"HEIGHT:\",round(height,2),\" feets.\",sep=\"\")\n",
    "#template strings, f strings\n",
    "print(f\"The person {name} details AGE:{age} years, WEIGHT:{weight:f} KG, HEIGHT:{height:f} feets.\")"
   ]
  },
  {
   "cell_type": "code",
   "execution_count": 39,
   "metadata": {},
   "outputs": [
    {
     "name": "stdout",
     "output_type": "stream",
     "text": [
      "The person Jayaram details AGE:4 years, WEIGHT:17.37 KG, HEIGHT:3.47 feets.\n",
      "The person Jayaram details AGE:4 years, WEIGHT:17.37 KG, HEIGHT:3.47 feets.\n"
     ]
    }
   ],
   "source": [
    "#The person jayaram details AGE:4 years, WEIGHT:17.37 KG, HEIGHT:3.47 feets.\n",
    "name=\"Jayaram\"\n",
    "age=4\n",
    "height=3.46783\n",
    "weight=17.36789\n",
    "print(\"The person \",name,\" details AGE:\",age,\" years, \",\"WEIGHT:\",round(weight,2),\" KG, \",\"HEIGHT:\",round(height,2),\" feets.\",sep=\"\")\n",
    "#template strings, f strings\n",
    "print(f\"The person {name} details AGE:{age} years, WEIGHT:{weight:.2f} KG, HEIGHT:{height:.2f} feets.\")"
   ]
  },
  {
   "cell_type": "code",
   "execution_count": null,
   "metadata": {},
   "outputs": [],
   "source": [
    "#The person jayaram details AGE:4 years, WEIGHT:17.37 KG, HEIGHT:3.47 feets.\n",
    "name=\"Jayaram\"\n",
    "age=4\n",
    "height=3.46783\n",
    "weight=17.36789\n",
    "print(\"The person \",name,\" details AGE:\",age,\" years, \",\"WEIGHT:\",round(weight,2),\" KG, \",\"HEIGHT:\",round(height,2),\" feets.\",sep=\"\")\n",
    "#template strings, f strings\n",
    "print(f\"The person {name} details AGE:{age} years, WEIGHT:{weight:.2f} KG, HEIGHT:{height:.2f} feets.\")\n",
    "# templates strings are crashing in localization(language conversions)."
   ]
  },
  {
   "cell_type": "code",
   "execution_count": 40,
   "metadata": {},
   "outputs": [
    {
     "name": "stdout",
     "output_type": "stream",
     "text": [
      "The person Jayaram details AGE:4 years, WEIGHT:17.37 KG, HEIGHT:3.47 feets.\n"
     ]
    }
   ],
   "source": [
    "name=\"Jayaram\"\n",
    "age=4\n",
    "height=3.46783\n",
    "weight=17.36789\n",
    "s=f\"The person {name} details AGE:{age} years, WEIGHT:{weight:.2f} KG, HEIGHT:{height:.2f} feets.\"\n",
    "print(s)# convert to some other language"
   ]
  },
  {
   "cell_type": "code",
   "execution_count": 41,
   "metadata": {},
   "outputs": [
    {
     "name": "stdout",
     "output_type": "stream",
     "text": [
      "The person Jayaram details AGE:4 years, WEIGHT:17.37 KG, HEIGHT:3.47 feets.\n",
      "The person Jayaram details AGE:4 years, WEIGHT:17.37 KG, HEIGHT:3.47 feets.\n",
      "The Person %s details AGE:%s ('Jayaram', 4)\n"
     ]
    }
   ],
   "source": [
    "#The person jayaram details AGE:4 years, WEIGHT:17.37 KG, HEIGHT:3.47 feets.\n",
    "name=\"Jayaram\"\n",
    "age=4\n",
    "height=3.46783\n",
    "weight=17.36789\n",
    "print(\"The person \",name,\" details AGE:\",age,\" years, \",\"WEIGHT:\",round(weight,2),\" KG, \",\"HEIGHT:\",round(height,2),\" feets.\",sep=\"\")\n",
    "#template strings, f strings\n",
    "print(f\"The person {name} details AGE:{age} years, WEIGHT:{weight:.2f} KG, HEIGHT:{height:.2f} feets.\")\n",
    "# templates strings are crashing in localization(language conversions).\n",
    "#format specifiers\n",
    "print(\"The Person %s details AGE:%s\",(name,age))"
   ]
  },
  {
   "cell_type": "code",
   "execution_count": 42,
   "metadata": {},
   "outputs": [
    {
     "name": "stdout",
     "output_type": "stream",
     "text": [
      "The person Jayaram details AGE:4 years, WEIGHT:17.37 KG, HEIGHT:3.47 feets.\n",
      "The person Jayaram details AGE:4 years, WEIGHT:17.37 KG, HEIGHT:3.47 feets.\n",
      "The Person Jayaram details AGE:4\n"
     ]
    }
   ],
   "source": [
    "#The person jayaram details AGE:4 years, WEIGHT:17.37 KG, HEIGHT:3.47 feets.\n",
    "name=\"Jayaram\"\n",
    "age=4\n",
    "height=3.46783\n",
    "weight=17.36789\n",
    "print(\"The person \",name,\" details AGE:\",age,\" years, \",\"WEIGHT:\",round(weight,2),\" KG, \",\"HEIGHT:\",round(height,2),\" feets.\",sep=\"\")\n",
    "#template strings, f strings\n",
    "print(f\"The person {name} details AGE:{age} years, WEIGHT:{weight:.2f} KG, HEIGHT:{height:.2f} feets.\")\n",
    "# templates strings are crashing in localization(language conversions).\n",
    "#format specifiers\n",
    "print(\"The Person %s details AGE:%s\"%(name,age))"
   ]
  },
  {
   "cell_type": "code",
   "execution_count": 44,
   "metadata": {},
   "outputs": [
    {
     "name": "stdout",
     "output_type": "stream",
     "text": [
      "The person Jayaram details AGE:4 years, WEIGHT:17.37 KG, HEIGHT:3.47 feets.\n",
      "The person Jayaram details AGE:4 years, WEIGHT:17.37 KG, HEIGHT:3.47 feets.\n",
      "The Person 4 details AGE:Jayaram\n"
     ]
    }
   ],
   "source": [
    "#The person jayaram details AGE:4 years, WEIGHT:17.37 KG, HEIGHT:3.47 feets.\n",
    "name=\"Jayaram\"\n",
    "age=4\n",
    "height=3.46783\n",
    "weight=17.36789\n",
    "print(\"The person \",name,\" details AGE:\",age,\" years, \",\"WEIGHT:\",round(weight,2),\" KG, \",\"HEIGHT:\",round(height,2),\" feets.\",sep=\"\")\n",
    "#template strings, f strings\n",
    "print(f\"The person {name} details AGE:{age} years, WEIGHT:{weight:.2f} KG, HEIGHT:{height:.2f} feets.\")\n",
    "# templates strings are crashing in localization(language conversions).\n",
    "#format specifiers\n",
    "print(\"The Person %s details AGE:%s\"%(age,name))"
   ]
  },
  {
   "cell_type": "code",
   "execution_count": 45,
   "metadata": {},
   "outputs": [
    {
     "name": "stdout",
     "output_type": "stream",
     "text": [
      "The person Jayaram details AGE:4 years, WEIGHT:17.37 KG, HEIGHT:3.47 feets.\n",
      "The person Jayaram details AGE:4 years, WEIGHT:17.37 KG, HEIGHT:3.47 feets.\n",
      "The Person Jayaram details AGE:4 years, WEIGHT:17.36789 KG, HEIGHT:3.46783 feets.\n"
     ]
    }
   ],
   "source": [
    "#The person jayaram details AGE:4 years, WEIGHT:17.37 KG, HEIGHT:3.47 feets.\n",
    "name=\"Jayaram\"\n",
    "age=4\n",
    "height=3.46783\n",
    "weight=17.36789\n",
    "print(\"The person \",name,\" details AGE:\",age,\" years, \",\"WEIGHT:\",round(weight,2),\" KG, \",\"HEIGHT:\",round(height,2),\" feets.\",sep=\"\")\n",
    "#template strings, f strings\n",
    "print(f\"The person {name} details AGE:{age} years, WEIGHT:{weight:.2f} KG, HEIGHT:{height:.2f} feets.\")\n",
    "# templates strings are crashing in localization(language conversions).\n",
    "#format specifiers\n",
    "print(\"The Person %s details AGE:%s years, WEIGHT:%s KG, HEIGHT:%s feets.\"%(name,age,weight,height))"
   ]
  },
  {
   "cell_type": "code",
   "execution_count": 46,
   "metadata": {},
   "outputs": [
    {
     "name": "stdout",
     "output_type": "stream",
     "text": [
      "The person Jayaram details AGE:4 years, WEIGHT:17.37 KG, HEIGHT:3.47 feets.\n",
      "The person Jayaram details AGE:4 years, WEIGHT:17.37 KG, HEIGHT:3.47 feets.\n",
      "The Person Jayaram details AGE:4 years, WEIGHT:17.367890 KG, HEIGHT:3.467830 feets.\n"
     ]
    }
   ],
   "source": [
    "#The person jayaram details AGE:4 years, WEIGHT:17.37 KG, HEIGHT:3.47 feets.\n",
    "name=\"Jayaram\"\n",
    "age=4\n",
    "height=3.46783\n",
    "weight=17.36789\n",
    "print(\"The person \",name,\" details AGE:\",age,\" years, \",\"WEIGHT:\",round(weight,2),\" KG, \",\"HEIGHT:\",round(height,2),\" feets.\",sep=\"\")\n",
    "#template strings, f strings\n",
    "print(f\"The person {name} details AGE:{age} years, WEIGHT:{weight:.2f} KG, HEIGHT:{height:.2f} feets.\")\n",
    "# templates strings are crashing in localization(language conversions).\n",
    "#format specifiers\n",
    "print(\"The Person %s details AGE:%s years, WEIGHT:%f KG, HEIGHT:%f feets.\"%(name,age,weight,height))"
   ]
  },
  {
   "cell_type": "code",
   "execution_count": 47,
   "metadata": {},
   "outputs": [
    {
     "name": "stdout",
     "output_type": "stream",
     "text": [
      "The person Jayaram details AGE:4 years, WEIGHT:17.37 KG, HEIGHT:3.47 feets.\n",
      "The person Jayaram details AGE:4 years, WEIGHT:17.37 KG, HEIGHT:3.47 feets.\n",
      "The Person Jayaram details AGE:4 years, WEIGHT:17.37 KG, HEIGHT:3.47 feets.\n"
     ]
    }
   ],
   "source": [
    "#The person jayaram details AGE:4 years, WEIGHT:17.37 KG, HEIGHT:3.47 feets.\n",
    "name=\"Jayaram\"\n",
    "age=4\n",
    "height=3.46783\n",
    "weight=17.36789\n",
    "print(\"The person \",name,\" details AGE:\",age,\" years, \",\"WEIGHT:\",round(weight,2),\" KG, \",\"HEIGHT:\",round(height,2),\" feets.\",sep=\"\")\n",
    "#template strings, f strings\n",
    "print(f\"The person {name} details AGE:{age} years, WEIGHT:{weight:.2f} KG, HEIGHT:{height:.2f} feets.\")\n",
    "# templates strings are crashing in localization(language conversions).\n",
    "#format specifiers\n",
    "print(\"The Person %s details AGE:%s years, WEIGHT:%.2f KG, HEIGHT:%.2f feets.\"%(name,age,weight,height))"
   ]
  },
  {
   "cell_type": "code",
   "execution_count": 48,
   "metadata": {},
   "outputs": [
    {
     "name": "stdout",
     "output_type": "stream",
     "text": [
      "the product coast details:23\n"
     ]
    }
   ],
   "source": [
    "cost=23.45678\n",
    "print(\"the product coast details:%d\"%cost)"
   ]
  },
  {
   "cell_type": "code",
   "execution_count": 52,
   "metadata": {},
   "outputs": [
    {
     "name": "stdout",
     "output_type": "stream",
     "text": [
      "the product coast details:17\n"
     ]
    }
   ],
   "source": [
    "cost=23\n",
    "print(\"the product coast details:%x\"%cost)"
   ]
  },
  {
   "cell_type": "code",
   "execution_count": 53,
   "metadata": {},
   "outputs": [
    {
     "ename": "ValueError",
     "evalue": "unsupported format character 'b' (0x62) at index 27",
     "output_type": "error",
     "traceback": [
      "\u001b[1;31m---------------------------------------------------------------------------\u001b[0m",
      "\u001b[1;31mValueError\u001b[0m                                Traceback (most recent call last)",
      "\u001b[1;32m<ipython-input-53-a4e828c00fc2>\u001b[0m in \u001b[0;36m<module>\u001b[1;34m\u001b[0m\n\u001b[0;32m      1\u001b[0m \u001b[0mcost\u001b[0m\u001b[1;33m=\u001b[0m\u001b[1;36m23\u001b[0m\u001b[1;33m\u001b[0m\u001b[1;33m\u001b[0m\u001b[0m\n\u001b[1;32m----> 2\u001b[1;33m \u001b[0mprint\u001b[0m\u001b[1;33m(\u001b[0m\u001b[1;34m\"the product coast details:%b\"\u001b[0m\u001b[1;33m%\u001b[0m\u001b[0mcost\u001b[0m\u001b[1;33m)\u001b[0m\u001b[1;33m\u001b[0m\u001b[1;33m\u001b[0m\u001b[0m\n\u001b[0m",
      "\u001b[1;31mValueError\u001b[0m: unsupported format character 'b' (0x62) at index 27"
     ]
    }
   ],
   "source": [
    "cost=23\n",
    "print(\"the product coast details:%b\"%cost)"
   ]
  },
  {
   "cell_type": "code",
   "execution_count": 54,
   "metadata": {},
   "outputs": [
    {
     "name": "stdout",
     "output_type": "stream",
     "text": [
      "the product coast details:27\n"
     ]
    }
   ],
   "source": [
    "cost=23\n",
    "print(\"the product coast details:%o\"%cost)"
   ]
  },
  {
   "cell_type": "code",
   "execution_count": null,
   "metadata": {},
   "outputs": [],
   "source": [
    "cost=23\n",
    "print(\"the product coast details:%x\"%cost)"
   ]
  },
  {
   "cell_type": "code",
   "execution_count": 55,
   "metadata": {},
   "outputs": [
    {
     "name": "stdout",
     "output_type": "stream",
     "text": [
      "the product coast details:23\n"
     ]
    }
   ],
   "source": [
    "cost=23\n",
    "print(f\"the product coast details:{cost}\")"
   ]
  },
  {
   "cell_type": "code",
   "execution_count": 56,
   "metadata": {},
   "outputs": [
    {
     "name": "stdout",
     "output_type": "stream",
     "text": [
      "the product coast details:10111\n"
     ]
    }
   ],
   "source": [
    "cost=23\n",
    "print(f\"the product coast details:{cost:b}\")"
   ]
  },
  {
   "cell_type": "code",
   "execution_count": 57,
   "metadata": {},
   "outputs": [
    {
     "ename": "ValueError",
     "evalue": "Unknown format code 'd' for object of type 'float'",
     "output_type": "error",
     "traceback": [
      "\u001b[1;31m---------------------------------------------------------------------------\u001b[0m",
      "\u001b[1;31mValueError\u001b[0m                                Traceback (most recent call last)",
      "\u001b[1;32m<ipython-input-57-6e136b698723>\u001b[0m in \u001b[0;36m<module>\u001b[1;34m\u001b[0m\n\u001b[0;32m      1\u001b[0m \u001b[0mcost\u001b[0m\u001b[1;33m=\u001b[0m\u001b[1;36m23.45\u001b[0m\u001b[1;33m\u001b[0m\u001b[1;33m\u001b[0m\u001b[0m\n\u001b[1;32m----> 2\u001b[1;33m \u001b[0mprint\u001b[0m\u001b[1;33m(\u001b[0m\u001b[1;34mf\"the product coast details:{cost:d}\"\u001b[0m\u001b[1;33m)\u001b[0m\u001b[1;33m\u001b[0m\u001b[1;33m\u001b[0m\u001b[0m\n\u001b[0m",
      "\u001b[1;31mValueError\u001b[0m: Unknown format code 'd' for object of type 'float'"
     ]
    }
   ],
   "source": [
    "cost=23.45\n",
    "print(f\"the product coast details:{cost:d}\")"
   ]
  },
  {
   "cell_type": "code",
   "execution_count": 58,
   "metadata": {},
   "outputs": [
    {
     "name": "stdout",
     "output_type": "stream",
     "text": [
      "the product coast details:23\n"
     ]
    }
   ],
   "source": [
    "cost=23.45\n",
    "print(f\"the product coast details:{int(cost)}\")"
   ]
  },
  {
   "cell_type": "code",
   "execution_count": 59,
   "metadata": {},
   "outputs": [
    {
     "name": "stdout",
     "output_type": "stream",
     "text": [
      "sdfsdf\n",
      "sdfsd\n",
      "sdfsd\n",
      "sdfsd\\mnsdfsd\n",
      "sdfsd\n",
      "sdfsd\n"
     ]
    }
   ],
   "source": [
    "s=\"sdfsdf\\nsdfsd\\nsdfsd\\nsdfsd\\mnsdfsd\\nsdfsd\\nsdfsd\"\n",
    "print(s)"
   ]
  },
  {
   "cell_type": "code",
   "execution_count": 60,
   "metadata": {},
   "outputs": [
    {
     "name": "stdout",
     "output_type": "stream",
     "text": [
      "sdfsdf\n",
      "sdfsd\n",
      "sdfsd\n",
      "sdfsd\\mnsdfsd\n",
      "sdfsd\n",
      "sdfsd\n"
     ]
    }
   ],
   "source": [
    "k=\"sdfsdf\\nsdfsd\\nsdfsd\\nsdfsd\\mnsdfsd\\nsdfsd\\nsdfsd\"\n",
    "print(\"%s\"%k)"
   ]
  },
  {
   "cell_type": "code",
   "execution_count": 61,
   "metadata": {},
   "outputs": [
    {
     "name": "stdout",
     "output_type": "stream",
     "text": [
      "'sdfsdf\\nsdfsd\\nsdfsd\\nsdfsd\\\\mnsdfsd\\nsdfsd\\nsdfsd'\n"
     ]
    }
   ],
   "source": [
    "k=\"sdfsdf\\nsdfsd\\nsdfsd\\nsdfsd\\mnsdfsd\\nsdfsd\\nsdfsd\"\n",
    "print(\"%r\"%k)"
   ]
  },
  {
   "cell_type": "code",
   "execution_count": 62,
   "metadata": {},
   "outputs": [
    {
     "name": "stdout",
     "output_type": "stream",
     "text": [
      "python <class 'str'>\n"
     ]
    }
   ],
   "source": [
    "s=\"python\"\n",
    "print(s,type(s))"
   ]
  },
  {
   "cell_type": "code",
   "execution_count": 63,
   "metadata": {},
   "outputs": [
    {
     "name": "stdout",
     "output_type": "stream",
     "text": [
      "b'python' <class 'bytes'>\n"
     ]
    }
   ],
   "source": [
    "s=b\"python\"\n",
    "print(s, type(s))"
   ]
  },
  {
   "cell_type": "code",
   "execution_count": null,
   "metadata": {},
   "outputs": [],
   "source": []
  }
 ],
 "metadata": {
  "kernelspec": {
   "display_name": "Python 3",
   "language": "python",
   "name": "python3"
  },
  "language_info": {
   "codemirror_mode": {
    "name": "ipython",
    "version": 3
   },
   "file_extension": ".py",
   "mimetype": "text/x-python",
   "name": "python",
   "nbconvert_exporter": "python",
   "pygments_lexer": "ipython3",
   "version": "3.8.3"
  }
 },
 "nbformat": 4,
 "nbformat_minor": 4
}
