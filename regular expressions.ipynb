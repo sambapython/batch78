{
 "cells": [
  {
   "cell_type": "code",
   "execution_count": 1,
   "metadata": {},
   "outputs": [],
   "source": [
    "import re"
   ]
  },
  {
   "cell_type": "code",
   "execution_count": 2,
   "metadata": {},
   "outputs": [],
   "source": [
    "s=\"\"\"\n",
    "id,name,sal\n",
    "1,jsy,2000\n",
    "2,vedha,3000\n",
    "\"\"\""
   ]
  },
  {
   "cell_type": "code",
   "execution_count": 3,
   "metadata": {},
   "outputs": [
    {
     "name": "stdout",
     "output_type": "stream",
     "text": [
      "\n",
      "id,name,sal\n",
      "1,jsy,2000\n",
      "2,vedha,3000\n"
     ]
    }
   ],
   "source": [
    "s=\"\"\"\n",
    "id,name,sal\n",
    "1,jsy,2000\n",
    "2,vedha,3000\n",
    "\"\"\"\n",
    "for i in s.splitlines():\n",
    "    print(i)"
   ]
  },
  {
   "cell_type": "code",
   "execution_count": 4,
   "metadata": {},
   "outputs": [
    {
     "name": "stdout",
     "output_type": "stream",
     "text": [
      "['']\n",
      "['id', 'name', 'sal']\n",
      "['1', 'jsy', '2000']\n",
      "['2', 'vedha', '3000']\n"
     ]
    }
   ],
   "source": [
    "s=\"\"\"\n",
    "id,name,sal\n",
    "1,jsy,2000\n",
    "2,vedha,3000\n",
    "\"\"\"\n",
    "for i in s.splitlines():\n",
    "    print(i.split(\",\"))"
   ]
  },
  {
   "cell_type": "code",
   "execution_count": 6,
   "metadata": {},
   "outputs": [
    {
     "name": "stdout",
     "output_type": "stream",
     "text": [
      "sal\n",
      "2000\n",
      "3000\n"
     ]
    }
   ],
   "source": [
    "s=\"\"\"\n",
    "id,name,sal\n",
    "1,jsy,2000\n",
    "2,vedha,3000\n",
    "\"\"\"\n",
    "for i in s.splitlines():\n",
    "    row = i.split(\",\")\n",
    "    if len(row)>1:\n",
    "        print(row[2])\n",
    "        "
   ]
  },
  {
   "cell_type": "code",
   "execution_count": 7,
   "metadata": {},
   "outputs": [
    {
     "name": "stdout",
     "output_type": "stream",
     "text": [
      "name\n",
      "jsy\n",
      "vedha\n"
     ]
    }
   ],
   "source": [
    "s=\"\"\"\n",
    "id,name,sal\n",
    "1,jsy,2000\n",
    "2,vedha,3000\n",
    "\"\"\"\n",
    "for i in s.splitlines():\n",
    "    row = i.split(\",\")\n",
    "    if len(row)>1:\n",
    "        print(row[1])\n",
    "        "
   ]
  },
  {
   "cell_type": "code",
   "execution_count": 8,
   "metadata": {},
   "outputs": [
    {
     "name": "stdout",
     "output_type": "stream",
     "text": [
      "id\n",
      "1\n",
      "2\n"
     ]
    }
   ],
   "source": [
    "s=\"\"\"\n",
    "id,name,sal\n",
    "1,jsy,2000\n",
    "2,vedha,3000\n",
    "\"\"\"\n",
    "for i in s.splitlines():\n",
    "    row = i.split(\",\")\n",
    "    if len(row)>1:\n",
    "        print(row[0])\n",
    "        "
   ]
  },
  {
   "cell_type": "code",
   "execution_count": 9,
   "metadata": {},
   "outputs": [
    {
     "name": "stdout",
     "output_type": "stream",
     "text": [
      "2000\n",
      "2\n",
      "sai\n"
     ]
    }
   ],
   "source": [
    "s=\"\"\"\n",
    "2000,1,jay,JaY12@gmail.com\n",
    "2,vedha,3000,Vedha$!12@yahoo.co.in\n",
    "sai,3,sai@org.com,4000\n",
    "\"\"\"\n",
    "for i in s.splitlines():\n",
    "    row = i.split(\",\")\n",
    "    if len(row)>1:\n",
    "        print(row[0])"
   ]
  },
  {
   "cell_type": "code",
   "execution_count": 12,
   "metadata": {},
   "outputs": [
    {
     "name": "stdout",
     "output_type": "stream",
     "text": [
      "['2', '0', '0', '0', ',', '1', ',', ',', '1', '2', '2', ',', ',', '3', '0', '0', '0', ',', '1', '2', ',', '3', ',', ',', '4', '0', '0', '0']\n"
     ]
    }
   ],
   "source": [
    "import re\n",
    "s=\"\"\"\n",
    "2000,1,jay,JaY12@gmail.com\n",
    "2,vedha,3000,Vedha$!12@yahoo.co.in\n",
    "sai,3,sai@org.com,4000\n",
    "\"\"\"\n",
    "print(re.findall(\"[0,1,2,3,4,5,6,7,8,9]\",s))"
   ]
  },
  {
   "cell_type": "code",
   "execution_count": 13,
   "metadata": {},
   "outputs": [
    {
     "name": "stdout",
     "output_type": "stream",
     "text": [
      "['2', '0', '0', '0', ',', '1', ',', ',', '1', '2', '2', ',', ',', '3', '0', '0', '0', ',', '1', '2', ',', '3', ',', ',', '4', '0', '0', '0']\n"
     ]
    }
   ],
   "source": [
    "import re\n",
    "s=\"\"\"\n",
    "2000,1,jay,JaY12@gmail.com\n",
    "2,vedha,3000,Vedha$!12@yahoo.co.in\n",
    "sai,3,sai@org.com,4000\n",
    "\"\"\"\n",
    "print(re.findall(\"[0,1,2,3,4,5,6,7,8,9]{1}\",s))"
   ]
  },
  {
   "cell_type": "code",
   "execution_count": 15,
   "metadata": {},
   "outputs": [
    {
     "name": "stdout",
     "output_type": "stream",
     "text": [
      "[',1,', ',3,']\n"
     ]
    }
   ],
   "source": [
    "import re\n",
    "s=\"\"\"\n",
    "2000,1,jay,JaY12@gmail.com\n",
    "2,vedha,3000,Vedha$!12@yahoo.co.in\n",
    "sai,3,sai@org.com,4000\n",
    "\"\"\"\n",
    "print(re.findall(\",[0,1,2,3,4,5,6,7,8,9],\",s))"
   ]
  },
  {
   "cell_type": "code",
   "execution_count": 17,
   "metadata": {},
   "outputs": [
    {
     "name": "stdout",
     "output_type": "stream",
     "text": [
      "[',1,', '\\n2,', ',3,']\n"
     ]
    }
   ],
   "source": [
    "import re\n",
    "s=\"\"\"\n",
    "2000,1,jay,JaY12@gmail.com\n",
    "2,vedha,3000,Vedha$!12@yahoo.co.in\n",
    "sai,3,sai@org.com,4000\n",
    "\"\"\"\n",
    "print(re.findall(\"[,,'\\n'][0,1,2,3,4,5,6,7,8,9],\",s))"
   ]
  },
  {
   "cell_type": "code",
   "execution_count": 18,
   "metadata": {},
   "outputs": [
    {
     "name": "stdout",
     "output_type": "stream",
     "text": [
      "['0,', '1,', '2,', '0,', '3,']\n"
     ]
    }
   ],
   "source": [
    "import re\n",
    "s=\"\"\"\n",
    "2000,1,jay,JaY12@gmail.com\n",
    "2,vedha,3000,Vedha$!12@yahoo.co.in\n",
    "sai,3,sai@org.com,4000\n",
    "\"\"\"\n",
    "print(re.findall(\"[0-9],\",s))"
   ]
  },
  {
   "cell_type": "code",
   "execution_count": 19,
   "metadata": {},
   "outputs": [
    {
     "name": "stdout",
     "output_type": "stream",
     "text": [
      "['2000', '3000', '4000']\n"
     ]
    }
   ],
   "source": [
    "import re\n",
    "s=\"\"\"\n",
    "2000,1,jay,JaY12@gmail.com\n",
    "2,vedha,3000,Vedha$!12@yahoo.co.in\n",
    "sai,3,sai@org.com,4000\n",
    "\"\"\"\n",
    "print(re.findall(\"[0-9]{4}\",s))"
   ]
  },
  {
   "cell_type": "code",
   "execution_count": 20,
   "metadata": {},
   "outputs": [
    {
     "name": "stdout",
     "output_type": "stream",
     "text": [
      "['2000', '1', '12', '2', '3000', '12', '3', '4000']\n"
     ]
    }
   ],
   "source": [
    "import re\n",
    "s=\"\"\"\n",
    "2000,1,jay,JaY12@gmail.com\n",
    "2,vedha,3000,Vedha$!12@yahoo.co.in\n",
    "sai,3,sai@org.com,4000\n",
    "\"\"\"\n",
    "print(re.findall(\"[0-9]{1,6}\",s))"
   ]
  },
  {
   "cell_type": "code",
   "execution_count": 21,
   "metadata": {},
   "outputs": [
    {
     "name": "stdout",
     "output_type": "stream",
     "text": [
      "['2000', '1', '12', '2', '3000', '12', '3', '4000']\n"
     ]
    }
   ],
   "source": [
    "import re\n",
    "s=\"\"\"\n",
    "2000,1,jay,JaY12@gmail.com\n",
    "2,vedha,3000,Vedha$!12@yahoo.co.in\n",
    "sai,3,sai@org.com,4000\n",
    "\"\"\"\n",
    "print(re.findall(\"[0-9]{1,}\",s))"
   ]
  },
  {
   "cell_type": "code",
   "execution_count": 22,
   "metadata": {},
   "outputs": [
    {
     "name": "stdout",
     "output_type": "stream",
     "text": [
      "['2000', '3000', '4000']\n"
     ]
    }
   ],
   "source": [
    "import re\n",
    "s=\"\"\"\n",
    "2000,1,jay,JaY12@gmail.com\n",
    "2,vedha,3000,Vedha$!12@yahoo.co.in\n",
    "sai,3,sai@org.com,4000\n",
    "\"\"\"\n",
    "print(re.findall(\"[0-9]{4,}\",s))"
   ]
  },
  {
   "cell_type": "code",
   "execution_count": 23,
   "metadata": {},
   "outputs": [
    {
     "name": "stdout",
     "output_type": "stream",
     "text": [
      "['2000', '9676622023', '9676622024', '3000', '9676622025', '4000', '9676622026']\n"
     ]
    }
   ],
   "source": [
    "import re\n",
    "s=\"\"\"\n",
    "2000,1,jay,JaY12@gmail.com,9676622023\n",
    "2,vedha,9676622024,3000,Vedha$!12@yahoo.co.in\n",
    "9676622025,sai,3,sai@org.com,4000\n",
    "dhana,dhana@tcs.com,9676622026,\n",
    "\"\"\"\n",
    "print(re.findall(\"[0-9]{4,}\",s))"
   ]
  },
  {
   "cell_type": "code",
   "execution_count": 24,
   "metadata": {},
   "outputs": [
    {
     "name": "stdout",
     "output_type": "stream",
     "text": [
      "['9676622023', '9676622024', '9676622025', '9676622026']\n"
     ]
    }
   ],
   "source": [
    "import re\n",
    "s=\"\"\"\n",
    "2000,1,jay,JaY12@gmail.com,9676622023\n",
    "2,vedha,9676622024,3000,Vedha$!12@yahoo.co.in\n",
    "9676622025,sai,3,sai@org.com,4000\n",
    "dhana,dhana@tcs.com,9676622026,\n",
    "\"\"\"\n",
    "print(re.findall(\"[0-9]{10}\",s))"
   ]
  },
  {
   "cell_type": "code",
   "execution_count": 25,
   "metadata": {},
   "outputs": [
    {
     "name": "stdout",
     "output_type": "stream",
     "text": [
      "['9676622023', '9676622024', '9676622025', '9676622026']\n"
     ]
    }
   ],
   "source": [
    "import re\n",
    "s=\"\"\"\n",
    "2000,1,jay,JaY12@gmail.com,9676622023\n",
    "2,vedha,9676622024,3000,Vedha$!12@yahoo.co.in\n",
    "9676622025,sai,3,sai@org.com,4000\n",
    "dhana,dhana@tcs.com,9676622026,\n",
    "\"\"\"\n",
    "print(re.findall(\"\\d{10}\",s))"
   ]
  },
  {
   "cell_type": "code",
   "execution_count": 26,
   "metadata": {},
   "outputs": [
    {
     "name": "stdout",
     "output_type": "stream",
     "text": [
      "['j', 'a', 'y', 'a', 'g', 'm', 'a', 'i', 'l', 'c', 'o', 'm', 'v', 'e', 'd', 'h', 'a', 'e', 'd', 'h', 'a', 'y', 'a', 'h', 'o', 'o', 'c', 'o', 'i', 'n', 's', 'a', 'i', 's', 'a', 'i', 'o', 'r', 'g', 'c', 'o', 'm', 'd', 'h', 'a', 'n', 'a', 'd', 'h', 'a', 'n', 'a', 't', 'c', 's', 'c', 'o', 'm']\n"
     ]
    }
   ],
   "source": [
    "import re\n",
    "s=\"\"\"\n",
    "2000,1,jay,JaY12@gmail.com,9676622023\n",
    "2,vedha,9676622024,3000,Vedha$!12@yahoo.co.in\n",
    "9676622025,sai,3,sai@org.com,4000\n",
    "dhana,dhana@tcs.com,9676622026,\n",
    "\"\"\"\n",
    "print(re.findall(\"[a-z]\",s))"
   ]
  },
  {
   "cell_type": "code",
   "execution_count": 27,
   "metadata": {},
   "outputs": [
    {
     "name": "stdout",
     "output_type": "stream",
     "text": [
      "['j', 'a', 'y', 'J', 'a', 'Y', 'g', 'm', 'a', 'i', 'l', 'c', 'o', 'm', 'v', 'e', 'd', 'h', 'a', 'V', 'e', 'd', 'h', 'a', 'y', 'a', 'h', 'o', 'o', 'c', 'o', 'i', 'n', 's', 'a', 'i', 's', 'a', 'i', 'o', 'r', 'g', 'c', 'o', 'm', 'd', 'h', 'a', 'n', 'a', 'd', 'h', 'a', 'n', 'a', 't', 'c', 's', 'c', 'o', 'm']\n"
     ]
    }
   ],
   "source": [
    "import re\n",
    "s=\"\"\"\n",
    "2000,1,jay,JaY12@gmail.com,9676622023\n",
    "2,vedha,9676622024,3000,Vedha$!12@yahoo.co.in\n",
    "9676622025,sai,3,sai@org.com,4000\n",
    "dhana,dhana@tcs.com,9676622026,\n",
    "\"\"\"\n",
    "print(re.findall(\"[a-z]\",s,re.I))"
   ]
  },
  {
   "cell_type": "code",
   "execution_count": 29,
   "metadata": {},
   "outputs": [
    {
     "name": "stdout",
     "output_type": "stream",
     "text": [
      "['2', '0', '0', '0', '1', 'j', 'a', 'y', 'J', 'a', 'Y', '1', '2', 'g', 'm', 'a', 'i', 'l', 'c', 'o', 'm', '9', '6', '7', '6', '6', '2', '2', '0', '2', '3', '2', 'v', 'e', 'd', 'h', 'a', '9', '6', '7', '6', '6', '2', '2', '0', '2', '4', '3', '0', '0', '0', 'V', 'e', 'd', 'h', 'a', '1', '2', 'y', 'a', 'h', 'o', 'o', 'c', 'o', 'i', 'n', '9', '6', '7', '6', '6', '2', '2', '0', '2', '5', 's', 'a', 'i', '3', 's', 'a', 'i', 'o', 'r', 'g', 'c', 'o', 'm', '4', '0', '0', '0', 'd', 'h', 'a', 'n', 'a', 'd', 'h', 'a', 'n', 'a', 't', 'c', 's', 'c', 'o', 'm', '9', '6', '7', '6', '6', '2', '2', '0', '2', '6']\n"
     ]
    }
   ],
   "source": [
    "import re\n",
    "s=\"\"\"\n",
    "2000,1,jay,JaY12@gmail.com,9676622023\n",
    "2,vedha,9676622024,3000,Vedha$!12@yahoo.co.in\n",
    "9676622025,sai,3,sai@org.com,4000\n",
    "dhana,dhana@tcs.com,9676622026,\n",
    "\"\"\"\n",
    "print(re.findall(\"[a-z0-9]\",s,re.I))"
   ]
  },
  {
   "cell_type": "code",
   "execution_count": 30,
   "metadata": {},
   "outputs": [
    {
     "name": "stdout",
     "output_type": "stream",
     "text": [
      "['Y1']\n"
     ]
    }
   ],
   "source": [
    "import re\n",
    "s=\"\"\"\n",
    "2000,1,jay,JaY12@gmail.com,9676622023\n",
    "2,vedha,9676622024,3000,Vedha$!12@yahoo.co.in\n",
    "9676622025,sai,3,sai@org.com,4000\n",
    "dhana,dhana@tcs.com,9676622026,\n",
    "\"\"\"\n",
    "print(re.findall(\"[a-z][0-9]\",s,re.I))"
   ]
  },
  {
   "cell_type": "code",
   "execution_count": 31,
   "metadata": {},
   "outputs": [
    {
     "name": "stdout",
     "output_type": "stream",
     "text": [
      "['@', '@', '@', '@']\n"
     ]
    }
   ],
   "source": [
    "import re\n",
    "s=\"\"\"\n",
    "2000,1,jay,JaY12@gmail.com,9676622023\n",
    "2,vedha,9676622024,3000,Vedha$!12@yahoo.co.in\n",
    "9676622025,sai,3,sai@org.com,4000\n",
    "dhana,dhana@tcs.com,9676622026,\n",
    "\"\"\"\n",
    "print(re.findall(\"[@#]\",s,re.I))"
   ]
  },
  {
   "cell_type": "code",
   "execution_count": 32,
   "metadata": {},
   "outputs": [
    {
     "name": "stdout",
     "output_type": "stream",
     "text": [
      "['.', '.', '.', '.', '.']\n"
     ]
    }
   ],
   "source": [
    "import re\n",
    "s=\"\"\"\n",
    "2000,1,jay,JaY12@gmail.com,9676622023\n",
    "2,vedha,9676622024,3000,Vedha$!12@yahoo.co.in\n",
    "9676622025,sai,3,sai@org.com,4000\n",
    "dhana,dhana@tcs.com,9676622026,\n",
    "\"\"\"\n",
    "print(re.findall(\"[.]\",s,re.I))"
   ]
  },
  {
   "cell_type": "code",
   "execution_count": 33,
   "metadata": {},
   "outputs": [
    {
     "name": "stdout",
     "output_type": "stream",
     "text": [
      "['2', '0', '0', '0', ',', '1', ',', 'j', 'a', 'y', ',', 'J', 'a', 'Y', '1', '2', '@', 'g', 'm', 'a', 'i', 'l', '.', 'c', 'o', 'm', ',', '9', '6', '7', '6', '6', '2', '2', '0', '2', '3', '2', ',', 'v', 'e', 'd', 'h', 'a', ',', '9', '6', '7', '6', '6', '2', '2', '0', '2', '4', ',', '3', '0', '0', '0', ',', 'V', 'e', 'd', 'h', 'a', '$', '!', '1', '2', '@', 'y', 'a', 'h', 'o', 'o', '.', 'c', 'o', '.', 'i', 'n', '9', '6', '7', '6', '6', '2', '2', '0', '2', '5', ',', 's', 'a', 'i', ',', '3', ',', 's', 'a', 'i', '@', 'o', 'r', 'g', '.', 'c', 'o', 'm', ',', '4', '0', '0', '0', 'd', 'h', 'a', 'n', 'a', ',', 'd', 'h', 'a', 'n', 'a', '@', 't', 'c', 's', '.', 'c', 'o', 'm', ',', '9', '6', '7', '6', '6', '2', '2', '0', '2', '6', ',']\n"
     ]
    }
   ],
   "source": [
    "import re\n",
    "s=\"\"\"\n",
    "2000,1,jay,JaY12@gmail.com,9676622023\n",
    "2,vedha,9676622024,3000,Vedha$!12@yahoo.co.in\n",
    "9676622025,sai,3,sai@org.com,4000\n",
    "dhana,dhana@tcs.com,9676622026\n",
    "\"\"\"\n",
    "print(re.findall(\".\",s,re.I))"
   ]
  },
  {
   "cell_type": "code",
   "execution_count": 34,
   "metadata": {},
   "outputs": [
    {
     "name": "stdout",
     "output_type": "stream",
     "text": [
      "['\\n', '2', '0', '0', '0', ',', '1', ',', 'j', 'a', 'y', ',', 'J', 'a', 'Y', '1', '2', '@', 'g', 'm', 'a', 'i', 'l', '.', 'c', 'o', 'm', ',', '9', '6', '7', '6', '6', '2', '2', '0', '2', '3', '\\n', '2', ',', 'v', 'e', 'd', 'h', 'a', ',', '9', '6', '7', '6', '6', '2', '2', '0', '2', '4', ',', '3', '0', '0', '0', ',', 'V', 'e', 'd', 'h', 'a', '$', '!', '1', '2', '@', 'y', 'a', 'h', 'o', 'o', '.', 'c', 'o', '.', 'i', 'n', '\\n', '9', '6', '7', '6', '6', '2', '2', '0', '2', '5', ',', 's', 'a', 'i', ',', '3', ',', 's', 'a', 'i', '@', 'o', 'r', 'g', '.', 'c', 'o', 'm', ',', '4', '0', '0', '0', '\\n', 'd', 'h', 'a', 'n', 'a', ',', 'd', 'h', 'a', 'n', 'a', '@', 't', 'c', 's', '.', 'c', 'o', 'm', ',', '9', '6', '7', '6', '6', '2', '2', '0', '2', '6', '\\n']\n"
     ]
    }
   ],
   "source": [
    "import re\n",
    "s=\"\"\"\n",
    "2000,1,jay,JaY12@gmail.com,9676622023\n",
    "2,vedha,9676622024,3000,Vedha$!12@yahoo.co.in\n",
    "9676622025,sai,3,sai@org.com,4000\n",
    "dhana,dhana@tcs.com,9676622026\n",
    "\"\"\"\n",
    "print(re.findall(\".\",s,re.I|re.DOTALL))"
   ]
  },
  {
   "cell_type": "code",
   "execution_count": 35,
   "metadata": {},
   "outputs": [
    {
     "name": "stdout",
     "output_type": "stream",
     "text": [
      "['2', '0', '0', '0', '1', '1', '2', '9', '6', '7', '6', '6', '2', '2', '0', '2', '3', '2', '9', '6', '7', '6', '6', '2', '2', '0', '2', '4', '3', '0', '0', '0', '1', '2', '9', '6', '7', '6', '6', '2', '2', '0', '2', '5', '3', '4', '0', '0', '0', '9', '6', '7', '6', '6', '2', '2', '0', '2', '6']\n"
     ]
    }
   ],
   "source": [
    "import re\n",
    "s=\"\"\"\n",
    "2000,1,jay,JaY12@gmail.com,9676622023\n",
    "2,vedha,9676622024,3000,Vedha$!12@yahoo.co.in\n",
    "9676622025,sai,3,sai@org.com,4000\n",
    "dhana,dhana@tcs.com,9676622026\n",
    "\"\"\"\n",
    "print(re.findall('[0-9]',s))"
   ]
  },
  {
   "cell_type": "code",
   "execution_count": 36,
   "metadata": {},
   "outputs": [
    {
     "name": "stdout",
     "output_type": "stream",
     "text": [
      "['2000', '1', '12', '9676622023', '2', '9676622024', '3000', '12', '9676622025', '3', '4000', '9676622026']\n"
     ]
    }
   ],
   "source": [
    "import re\n",
    "s=\"\"\"\n",
    "2000,1,jay,JaY12@gmail.com,9676622023\n",
    "2,vedha,9676622024,3000,Vedha$!12@yahoo.co.in\n",
    "9676622025,sai,3,sai@org.com,4000\n",
    "dhana,dhana@tcs.com,9676622026\n",
    "\"\"\"\n",
    "print(re.findall('[0-9]{1,}',s))"
   ]
  },
  {
   "cell_type": "code",
   "execution_count": 37,
   "metadata": {},
   "outputs": [
    {
     "name": "stdout",
     "output_type": "stream",
     "text": [
      "['2000', '1', '12', '9676622023', '2', '9676622024', '3000', '12', '9676622025', '3', '4000', '9676622026']\n"
     ]
    }
   ],
   "source": [
    "import re\n",
    "s=\"\"\"\n",
    "2000,1,jay,JaY12@gmail.com,9676622023\n",
    "2,vedha,9676622024,3000,Vedha$!12@yahoo.co.in\n",
    "9676622025,sai,3,sai@org.com,4000\n",
    "dhana,dhana@tcs.com,9676622026\n",
    "\"\"\"\n",
    "print(re.findall('[0-9]+',s))"
   ]
  },
  {
   "cell_type": "code",
   "execution_count": 38,
   "metadata": {},
   "outputs": [
    {
     "name": "stdout",
     "output_type": "stream",
     "text": [
      "['', '2000', '', '1', '', '', '', '', '', '', '', '', '12', '', '', '', '', '', '', '', '', '', '', '', '9676622023', '', '2', '', '', '', '', '', '', '', '9676622024', '', '3000', '', '', '', '', '', '', '', '', '12', '', '', '', '', '', '', '', '', '', '', '', '', '', '9676622025', '', '', '', '', '', '3', '', '', '', '', '', '', '', '', '', '', '', '', '', '4000', '', '', '', '', '', '', '', '', '', '', '', '', '', '', '', '', '', '', '', '', '', '9676622026', '', '']\n"
     ]
    }
   ],
   "source": [
    "import re\n",
    "s=\"\"\"\n",
    "2000,1,jay,JaY12@gmail.com,9676622023\n",
    "2,vedha,9676622024,3000,Vedha$!12@yahoo.co.in\n",
    "9676622025,sai,3,sai@org.com,4000\n",
    "dhana,dhana@tcs.com,9676622026\n",
    "\"\"\"\n",
    "print(re.findall('[0-9]{0,}',s))"
   ]
  },
  {
   "cell_type": "code",
   "execution_count": 39,
   "metadata": {},
   "outputs": [
    {
     "name": "stdout",
     "output_type": "stream",
     "text": [
      "['', '2000', '', '1', '', '', '', '', '', '', '', '', '12', '', '', '', '', '', '', '', '', '', '', '', '9676622023', '', '2', '', '', '', '', '', '', '', '9676622024', '', '3000', '', '', '', '', '', '', '', '', '12', '', '', '', '', '', '', '', '', '', '', '', '', '', '9676622025', '', '', '', '', '', '3', '', '', '', '', '', '', '', '', '', '', '', '', '', '4000', '', '', '', '', '', '', '', '', '', '', '', '', '', '', '', '', '', '', '', '', '', '9676622026', '', '']\n"
     ]
    }
   ],
   "source": [
    "import re\n",
    "s=\"\"\"\n",
    "2000,1,jay,JaY12@gmail.com,9676622023\n",
    "2,vedha,9676622024,3000,Vedha$!12@yahoo.co.in\n",
    "9676622025,sai,3,sai@org.com,4000\n",
    "dhana,dhana@tcs.com,9676622026\n",
    "\"\"\"\n",
    "print(re.findall('[0-9]*',s))"
   ]
  },
  {
   "cell_type": "code",
   "execution_count": 43,
   "metadata": {},
   "outputs": [
    {
     "name": "stdout",
     "output_type": "stream",
     "text": [
      "['', '2', '0', '0', '0', '', '1', '', '', '', '', '', '', '', '', '1', '2', '', '', '', '', '', '', '', '', '', '', '', '9', '6', '7', '6', '6', '2', '2', '0', '2', '3', '', '2', '', '', '', '', '', '', '', '9', '6', '7', '6', '6', '2', '2', '0', '2', '4', '', '3', '0', '0', '0', '', '', '', '', '', '', '', '', '1', '2', '', '', '', '', '', '', '', '', '', '', '', '', '', '9', '6', '7', '6', '6', '2', '2', '0', '2', '5', '', '', '', '', '', '3', '', '', '', '', '', '', '', '', '', '', '', '', '', '4', '0', '0', '0', '', '', '', '', '', '', '', '', '', '', '', '', '', '', '', '', '', '', '', '', '', '9', '6', '7', '6', '6', '2', '2', '0', '2', '6', '', '']\n"
     ]
    }
   ],
   "source": [
    "import re\n",
    "s=\"\"\"\n",
    "2000,1,jay,JaY12@gmail.com,9676622023\n",
    "2,vedha,9676622024,3000,Vedha$!12@yahoo.co.in\n",
    "9676622025,sai,3,sai@org.com,4000\n",
    "dhana,dhana@tcs.com,9676622026\n",
    "\"\"\"\n",
    "print(re.findall('[0-9]{0,1}',s))"
   ]
  },
  {
   "cell_type": "code",
   "execution_count": 41,
   "metadata": {},
   "outputs": [
    {
     "name": "stdout",
     "output_type": "stream",
     "text": [
      "['', '2', '0', '0', '0', '', '1', '', '', '', '', '', '', '', '', '1', '2', '', '', '', '', '', '', '', '', '', '', '', '9', '6', '7', '6', '6', '2', '2', '0', '2', '3', '', '2', '', '', '', '', '', '', '', '9', '6', '7', '6', '6', '2', '2', '0', '2', '4', '', '3', '0', '0', '0', '', '', '', '', '', '', '', '', '1', '2', '', '', '', '', '', '', '', '', '', '', '', '', '', '9', '6', '7', '6', '6', '2', '2', '0', '2', '5', '', '', '', '', '', '3', '', '', '', '', '', '', '', '', '', '', '', '', '', '4', '0', '0', '0', '', '', '', '', '', '', '', '', '', '', '', '', '', '', '', '', '', '', '', '', '', '9', '6', '7', '6', '6', '2', '2', '0', '2', '6', '', '']\n"
     ]
    }
   ],
   "source": [
    "import re\n",
    "s=\"\"\"\n",
    "2000,1,jay,JaY12@gmail.com,9676622023\n",
    "2,vedha,9676622024,3000,Vedha$!12@yahoo.co.in\n",
    "9676622025,sai,3,sai@org.com,4000\n",
    "dhana,dhana@tcs.com,9676622026\n",
    "\"\"\"\n",
    "print(re.findall('[0-9]?',s))"
   ]
  },
  {
   "cell_type": "code",
   "execution_count": 44,
   "metadata": {},
   "outputs": [
    {
     "name": "stdout",
     "output_type": "stream",
     "text": [
      "['2000,1,jay,JaY12@', '2,vedha,9676622024,3000,Vedha$!12@', '9676622025,sai,3,sai@', 'dhana,dhana@']\n"
     ]
    }
   ],
   "source": [
    "import re\n",
    "s=\"\"\"\n",
    "2000,1,jay,JaY12@gmail.com,9676622023\n",
    "2,vedha,9676622024,3000,Vedha$!12@yahoo.co.in\n",
    "9676622025,sai,3,sai@org.com,4000\n",
    "dhana,dhana@tcs.com,9676622026\n",
    "\"\"\"\n",
    "print(re.findall('.+@',s))"
   ]
  },
  {
   "cell_type": "code",
   "execution_count": 45,
   "metadata": {},
   "outputs": [
    {
     "name": "stdout",
     "output_type": "stream",
     "text": [
      "['jay,JaY12@', 'vedha,9676622024,3000,Vedha$!12@', 'sai,3,sai@', 'dhana,dhana@']\n"
     ]
    }
   ],
   "source": [
    "import re\n",
    "s=\"\"\"\n",
    "2000,1,jay,JaY12@gmail.com,9676622023\n",
    "2,vedha,9676622024,3000,Vedha$!12@yahoo.co.in\n",
    "9676622025,sai,3,sai@org.com,4000\n",
    "dhana,dhana@tcs.com,9676622026\n",
    "\"\"\"\n",
    "print(re.findall('[a-z]+.+@',s,re.I))"
   ]
  },
  {
   "cell_type": "code",
   "execution_count": 46,
   "metadata": {},
   "outputs": [
    {
     "name": "stdout",
     "output_type": "stream",
     "text": [
      "[',jay,JaY12@', ',vedha,9676622024,3000,Vedha$!12@', ',sai,3,sai@', ',dhana@']\n"
     ]
    }
   ],
   "source": [
    "import re\n",
    "s=\"\"\"\n",
    "2000,1,jay,JaY12@gmail.com,9676622023\n",
    "2,vedha,9676622024,3000,Vedha12@yahoo.co.in\n",
    "9676622025,sai,3,sai@org.com,4000\n",
    "dhana,dhana@tcs.com,9676622026\n",
    "\"\"\"\n",
    "print(re.findall(',[a-z]+.+@',s,re.I))"
   ]
  },
  {
   "cell_type": "code",
   "execution_count": 47,
   "metadata": {},
   "outputs": [
    {
     "name": "stdout",
     "output_type": "stream",
     "text": [
      "['JaY12@', 'Vedha12@', 'sai@', 'dhana@']\n"
     ]
    }
   ],
   "source": [
    "import re\n",
    "s=\"\"\"\n",
    "2000,1,jay,JaY12@gmail.com,9676622023\n",
    "2,vedha,9676622024,3000,Vedha12@yahoo.co.in\n",
    "9676622025,sai,3,sai@org.com,4000\n",
    "dhana,dhana@tcs.com,9676622026\n",
    "\"\"\"\n",
    "print(re.findall('[a-z0-9]+@',s,re.I))"
   ]
  },
  {
   "cell_type": "code",
   "execution_count": 48,
   "metadata": {},
   "outputs": [
    {
     "name": "stdout",
     "output_type": "stream",
     "text": [
      "['JaY12@gmail', 'Vedha12@yahoo', 'sai@org', 'dhana@tcs']\n"
     ]
    }
   ],
   "source": [
    "import re\n",
    "s=\"\"\"\n",
    "2000,1,jay,JaY12@gmail.com,9676622023\n",
    "2,vedha,9676622024,3000,Vedha12@yahoo.co.in\n",
    "9676622025,sai,3,sai@org.com,4000\n",
    "dhana,dhana@tcs.com,9676622026\n",
    "\"\"\"\n",
    "print(re.findall('[a-z0-9]+@[a-z]+',s,re.I))"
   ]
  },
  {
   "cell_type": "code",
   "execution_count": 49,
   "metadata": {},
   "outputs": [
    {
     "name": "stdout",
     "output_type": "stream",
     "text": [
      "['JaY12@gmail.', 'Vedha12@yahoo.', 'sai@org.', 'dhana@tcs.']\n"
     ]
    }
   ],
   "source": [
    "import re\n",
    "s=\"\"\"\n",
    "2000,1,jay,JaY12@gmail.com,9676622023\n",
    "2,vedha,9676622024,3000,Vedha12@yahoo.co.in\n",
    "9676622025,sai,3,sai@org.com,4000\n",
    "dhana,dhana@tcs.com,9676622026\n",
    "\"\"\"\n",
    "print(re.findall('[a-z0-9]+@[a-z]+\\.',s,re.I))"
   ]
  },
  {
   "cell_type": "code",
   "execution_count": 50,
   "metadata": {},
   "outputs": [
    {
     "name": "stdout",
     "output_type": "stream",
     "text": [
      "['JaY12@gmail.com', 'Vedha12@yahoo.co.in', 'sai@org.com', 'dhana@tcs.com']\n"
     ]
    }
   ],
   "source": [
    "import re\n",
    "s=\"\"\"\n",
    "2000,1,jay,JaY12@gmail.com,9676622023\n",
    "2,vedha,9676622024,3000,Vedha12@yahoo.co.in\n",
    "9676622025,sai,3,sai@org.com,4000\n",
    "dhana,dhana@tcs.com,9676622026\n",
    "\"\"\"\n",
    "print(re.findall('[a-z0-9]+@[a-z]+\\.[a-z.]+[a-z]*',s,re.I))"
   ]
  },
  {
   "cell_type": "code",
   "execution_count": 51,
   "metadata": {},
   "outputs": [
    {
     "name": "stdout",
     "output_type": "stream",
     "text": [
      "['JaY12@gmail.com', 'Vedha12@yahoo.co.in', 'sai@org.com', 'dhana@tcs.com']\n"
     ]
    }
   ],
   "source": [
    "import re\n",
    "s=\"\"\"\n",
    "2000,1,jay,JaY12@gmail.com,9676622023\n",
    "2,vedha,9676622024,3000,Vedha12@yahoo.co.in\n",
    "9676622025,sai,3,sai@org.com,4000\n",
    "dhana,dhana@tcs.com,9676622026\n",
    "\"\"\"\n",
    "print(re.findall('\\w+@[a-z]+\\.[a-z.]+[a-z]*',s,re.I))"
   ]
  },
  {
   "cell_type": "code",
   "execution_count": 1,
   "metadata": {},
   "outputs": [
    {
     "name": "stdout",
     "output_type": "stream",
     "text": [
      "<re.Match object; span=(12, 27), match='JaY12@gmail.com'>\n"
     ]
    }
   ],
   "source": [
    "import re\n",
    "s=\"\"\"\n",
    "2000,1,jay,JaY12@gmail.com,9676622023\n",
    "2,vedha,9676622024,3000,Vedha12@yahoo.co.in\n",
    "9676622025,sai,3,sai@org.com,4000\n",
    "dhana,dhana@tcs.com,9676622026\n",
    "\"\"\"\n",
    "print(re.search('\\w+@[a-z]+\\.[a-z.]+[a-z]*',s,re.I))"
   ]
  },
  {
   "cell_type": "code",
   "execution_count": 2,
   "metadata": {},
   "outputs": [
    {
     "name": "stdout",
     "output_type": "stream",
     "text": [
      "None\n"
     ]
    }
   ],
   "source": [
    "import re\n",
    "s=\"\"\"\n",
    "2000,1,jay,JaY12@gmail.com,9676622023\n",
    "2,vedha,9676622024,3000,Vedha12@yahoo.co.in\n",
    "9676622025,sai,3,sai@org.com,4000\n",
    "dhana,dhana@tcs.com,9676622026\n",
    "\"\"\"\n",
    "print(re.search('[0-9]{20}',s,re.I))"
   ]
  },
  {
   "cell_type": "code",
   "execution_count": 3,
   "metadata": {},
   "outputs": [
    {
     "name": "stdout",
     "output_type": "stream",
     "text": [
      "None\n"
     ]
    }
   ],
   "source": [
    "import re\n",
    "s=\"\"\"\n",
    "2000,1,jay,JaY12@gmail.com,9676622023\n",
    "2,vedha,9676622024,3000,Vedha12@yahoo.co.in\n",
    "9676622025,sai,3,sai@org.com,4000\n",
    "dhana,dhana@tcs.com,9676622026\n",
    "\"\"\"\n",
    "print(re.match('\\w+@[a-z]+\\.[a-z.]+[a-z]*',s,re.I))"
   ]
  },
  {
   "cell_type": "code",
   "execution_count": 5,
   "metadata": {},
   "outputs": [
    {
     "name": "stdout",
     "output_type": "stream",
     "text": [
      "<re.Match object; span=(0, 1), match='2'>\n"
     ]
    }
   ],
   "source": [
    "import re\n",
    "s=\"\"\"2000,1,jay,JaY12@gmail.com,9676622023\n",
    "2,vedha,9676622024,3000,Vedha12@yahoo.co.in\n",
    "9676622025,sai,3,sai@org.com,4000\n",
    "dhana,dhana@tcs.com,9676622026\n",
    "\"\"\"\n",
    "print(re.match('[0-9]',s,re.I))"
   ]
  },
  {
   "cell_type": "code",
   "execution_count": 6,
   "metadata": {},
   "outputs": [
    {
     "name": "stdout",
     "output_type": "stream",
     "text": [
      "None\n"
     ]
    }
   ],
   "source": [
    "import re\n",
    "s=\"\"\"2000,1,jay,JaY12@gmail.com,9676622023\n",
    "2,vedha,9676622024,3000,Vedha12@yahoo.co.in\n",
    "9676622025,sai,3,sai@org.com,4000\n",
    "dhana,dhana@tcs.com,9676622026\n",
    "\"\"\"\n",
    "print(re.match('\\w+@[a-z]+\\.[a-z.]+[a-z]*',s,re.I|re.M))"
   ]
  },
  {
   "cell_type": "code",
   "execution_count": 7,
   "metadata": {},
   "outputs": [
    {
     "name": "stdout",
     "output_type": "stream",
     "text": [
      "None\n"
     ]
    }
   ],
   "source": [
    "import re\n",
    "s=\"\"\"2000,1,jay,JaY12@gmail.com,9676622023\n",
    "Vedha12@yahoo.co.in,2,vedha,9676622024,3000\n",
    "9676622025,sai,3,sai@org.com,4000\n",
    "dhana,dhana@tcs.com,9676622026\n",
    "\"\"\"\n",
    "print(re.match('\\w+@[a-z]+\\.[a-z.]+[a-z]*',s,re.I|re.M))"
   ]
  },
  {
   "cell_type": "code",
   "execution_count": 8,
   "metadata": {},
   "outputs": [],
   "source": [
    "re.M?"
   ]
  },
  {
   "cell_type": "code",
   "execution_count": 9,
   "metadata": {},
   "outputs": [
    {
     "name": "stdout",
     "output_type": "stream",
     "text": [
      "['JaY12@gmail.com', 'Vedha12@yahoo.co.in', 'sai@org.com', 'dhana@tcs.com']\n"
     ]
    }
   ],
   "source": [
    "import re\n",
    "s=\"\"\"2000,1,jay,JaY12@gmail.com,9676622023\n",
    "Vedha12@yahoo.co.in,2,vedha,9676622024,3000\n",
    "9676622025,sai,3,sai@org.com,4000\n",
    "dhana,dhana@tcs.com,9676622026\n",
    "\"\"\"\n",
    "print(re.findall('\\w+@[a-z]+\\.[a-z.]+[a-z]*',s,re.I|re.M))"
   ]
  },
  {
   "cell_type": "code",
   "execution_count": 11,
   "metadata": {},
   "outputs": [
    {
     "name": "stdout",
     "output_type": "stream",
     "text": [
      "None\n"
     ]
    }
   ],
   "source": [
    "import re\n",
    "s=\"\"\"\n",
    "2000,1,jay,JaY12@gmail.com,9676622023\n",
    "Vedha12@yahoo.co.in,2,vedha,9676622024,3000\n",
    "9676622025,sai,3,sai@org.com,4000\n",
    "dhana,dhana@tcs.com,9676622026\n",
    "\"\"\"\n",
    "print(re.match('\\w+@[a-z]+\\.[a-z.]+[a-z]*',s,re.I|re.M))"
   ]
  },
  {
   "cell_type": "code",
   "execution_count": 12,
   "metadata": {},
   "outputs": [
    {
     "name": "stdout",
     "output_type": "stream",
     "text": [
      "None\n"
     ]
    }
   ],
   "source": [
    "import re\n",
    "s=\"\"\"\n",
    "2000,1,jay,JaY12@gmail.com,9676622023\n",
    "Vedha12@yahoo.co.in,2,vedha,9676622024,3000\n",
    "9676622025,sai,3,sai@org.com,4000\n",
    "dhana,dhana@tcs.com,9676622026\n",
    "\"\"\"\n",
    "print(re.match('[a-z]',s,re.I))"
   ]
  },
  {
   "cell_type": "code",
   "execution_count": 14,
   "metadata": {},
   "outputs": [
    {
     "name": "stdout",
     "output_type": "stream",
     "text": [
      "None\n"
     ]
    }
   ],
   "source": [
    "import re\n",
    "s=\"\"\"2000,1,jay,JaY12@gmail.com,9676622023\n",
    "Vedha12@yahoo.co.in,2,vedha,9676622024,3000\n",
    "9676622025,sai,3,sai@org.com,4000\n",
    "dhana,dhana@tcs.com,9676622026\n",
    "\"\"\"\n",
    "print(re.match('[a-z]',s,re.I|re.M))"
   ]
  },
  {
   "cell_type": "code",
   "execution_count": 15,
   "metadata": {},
   "outputs": [
    {
     "name": "stdout",
     "output_type": "stream",
     "text": [
      "None\n"
     ]
    }
   ],
   "source": [
    "import re\n",
    "s=\"\"\"2000,1,jay,JaY12@gmail.com,9676622023\n",
    "Vedha12@yahoo.co.in,2,vedha,9676622024,3000\n",
    "9676622025,sai,3,sai@org.com,4000\n",
    "dhana,dhana@tcs.com,9676622026\n",
    "\"\"\"\n",
    "print(re.match('[a-z]',s,re.M))"
   ]
  },
  {
   "cell_type": "code",
   "execution_count": 16,
   "metadata": {},
   "outputs": [
    {
     "name": "stdout",
     "output_type": "stream",
     "text": [
      "None\n"
     ]
    }
   ],
   "source": [
    "import re\n",
    "s=\"\"\"2000,1,jay,JaY12@gmail.com,9676622023\n",
    "Vedha12@yahoo.co.in,2,vedha,9676622024,3000\n",
    "9676622025,sai,3,sai@org.com,4000\n",
    "dhana,dhana@tcs.com,9676622026\n",
    "\"\"\"\n",
    "print(re.match('[a-z]',s,re.M))"
   ]
  },
  {
   "cell_type": "code",
   "execution_count": null,
   "metadata": {},
   "outputs": [],
   "source": [
    "import re\n",
    "s=\"\"\"2000,1,jay,JaY12@gmail.com,9676622023\n",
    "Vedha12@yahoo.co.in,2,vedha,9676622024,3000\n",
    "9676622025,sai,3,sai@org.com,4000\n",
    "dhana,dhana@tcs.com,9676622026\n",
    "\"\"\"\n",
    "print(re.match('[a-z]',s,re.I|re.M))"
   ]
  },
  {
   "cell_type": "code",
   "execution_count": 17,
   "metadata": {},
   "outputs": [
    {
     "name": "stdout",
     "output_type": "stream",
     "text": [
      "<callable_iterator object at 0x0000020CF9308310>\n"
     ]
    }
   ],
   "source": [
    "import re\n",
    "s=\"\"\"2000,1,jay,JaY12@gmail.com,9676622023\n",
    "Vedha12@yahoo.co.in,2,vedha,9676622024,3000\n",
    "9676622025,sai,3,sai@org.com,4000\n",
    "dhana,dhana@tcs.com,9676622026\n",
    "\"\"\"\n",
    "print(re.finditer('[a-z]',s,re.I))"
   ]
  },
  {
   "cell_type": "code",
   "execution_count": 19,
   "metadata": {},
   "outputs": [
    {
     "name": "stdout",
     "output_type": "stream",
     "text": [
      "<re.Match object; span=(7, 8), match='j'>\n",
      "<re.Match object; span=(8, 9), match='a'>\n",
      "<re.Match object; span=(9, 10), match='y'>\n",
      "<re.Match object; span=(11, 12), match='J'>\n",
      "<re.Match object; span=(12, 13), match='a'>\n",
      "<re.Match object; span=(13, 14), match='Y'>\n",
      "<re.Match object; span=(17, 18), match='g'>\n",
      "<re.Match object; span=(18, 19), match='m'>\n",
      "<re.Match object; span=(19, 20), match='a'>\n",
      "<re.Match object; span=(20, 21), match='i'>\n",
      "<re.Match object; span=(21, 22), match='l'>\n",
      "<re.Match object; span=(23, 24), match='c'>\n",
      "<re.Match object; span=(24, 25), match='o'>\n",
      "<re.Match object; span=(25, 26), match='m'>\n",
      "<re.Match object; span=(38, 39), match='V'>\n",
      "<re.Match object; span=(39, 40), match='e'>\n",
      "<re.Match object; span=(40, 41), match='d'>\n",
      "<re.Match object; span=(41, 42), match='h'>\n",
      "<re.Match object; span=(42, 43), match='a'>\n",
      "<re.Match object; span=(46, 47), match='y'>\n",
      "<re.Match object; span=(47, 48), match='a'>\n",
      "<re.Match object; span=(48, 49), match='h'>\n",
      "<re.Match object; span=(49, 50), match='o'>\n",
      "<re.Match object; span=(50, 51), match='o'>\n",
      "<re.Match object; span=(52, 53), match='c'>\n",
      "<re.Match object; span=(53, 54), match='o'>\n",
      "<re.Match object; span=(55, 56), match='i'>\n",
      "<re.Match object; span=(56, 57), match='n'>\n",
      "<re.Match object; span=(60, 61), match='v'>\n",
      "<re.Match object; span=(61, 62), match='e'>\n",
      "<re.Match object; span=(62, 63), match='d'>\n",
      "<re.Match object; span=(63, 64), match='h'>\n",
      "<re.Match object; span=(64, 65), match='a'>\n",
      "<re.Match object; span=(93, 94), match='s'>\n",
      "<re.Match object; span=(94, 95), match='a'>\n",
      "<re.Match object; span=(95, 96), match='i'>\n",
      "<re.Match object; span=(99, 100), match='s'>\n",
      "<re.Match object; span=(100, 101), match='a'>\n",
      "<re.Match object; span=(101, 102), match='i'>\n",
      "<re.Match object; span=(103, 104), match='o'>\n",
      "<re.Match object; span=(104, 105), match='r'>\n",
      "<re.Match object; span=(105, 106), match='g'>\n",
      "<re.Match object; span=(107, 108), match='c'>\n",
      "<re.Match object; span=(108, 109), match='o'>\n",
      "<re.Match object; span=(109, 110), match='m'>\n",
      "<re.Match object; span=(116, 117), match='d'>\n",
      "<re.Match object; span=(117, 118), match='h'>\n",
      "<re.Match object; span=(118, 119), match='a'>\n",
      "<re.Match object; span=(119, 120), match='n'>\n",
      "<re.Match object; span=(120, 121), match='a'>\n",
      "<re.Match object; span=(122, 123), match='d'>\n",
      "<re.Match object; span=(123, 124), match='h'>\n",
      "<re.Match object; span=(124, 125), match='a'>\n",
      "<re.Match object; span=(125, 126), match='n'>\n",
      "<re.Match object; span=(126, 127), match='a'>\n",
      "<re.Match object; span=(128, 129), match='t'>\n",
      "<re.Match object; span=(129, 130), match='c'>\n",
      "<re.Match object; span=(130, 131), match='s'>\n",
      "<re.Match object; span=(132, 133), match='c'>\n",
      "<re.Match object; span=(133, 134), match='o'>\n",
      "<re.Match object; span=(134, 135), match='m'>\n"
     ]
    }
   ],
   "source": [
    "import re\n",
    "s=\"\"\"2000,1,jay,JaY12@gmail.com,9676622023\n",
    "Vedha12@yahoo.co.in,2,vedha,9676622024,3000\n",
    "9676622025,sai,3,sai@org.com,4000\n",
    "dhana,dhana@tcs.com,9676622026\n",
    "\"\"\"\n",
    "for match_obj in re.finditer('[a-z]',s,re.I):\n",
    "    print(match_obj)"
   ]
  },
  {
   "cell_type": "code",
   "execution_count": 21,
   "metadata": {},
   "outputs": [
    {
     "name": "stdout",
     "output_type": "stream",
     "text": [
      "<re.Match object; span=(12, 27), match='JaY12@gmail.com'>\n",
      "<re.Match object; span=(39, 58), match='Vedha12@yahoo.co.in'>\n",
      "<re.Match object; span=(100, 111), match='sai@org.com'>\n",
      "<re.Match object; span=(123, 136), match='dhana@tcs.com'>\n"
     ]
    }
   ],
   "source": [
    "import re\n",
    "s=\"\"\"\n",
    "2000,1,jay,JaY12@gmail.com,9676622023\n",
    "Vedha12@yahoo.co.in,2,vedha,9676622024,3000\n",
    "9676622025,sai,3,sai@org.com,4000\n",
    "dhana,dhana@tcs.com,9676622026\n",
    "\"\"\"\n",
    "for match_obj in re.finditer('\\w+@[a-z]+\\.[a-z.]+[a-z]*',s,re.I|re.M):\n",
    "    print(match_obj)"
   ]
  },
  {
   "cell_type": "code",
   "execution_count": 24,
   "metadata": {},
   "outputs": [
    {
     "name": "stdout",
     "output_type": "stream",
     "text": [
      "JaY12@gmail.com\n",
      "Vedha12@yahoo.co.in\n",
      "sai@org.com\n",
      "dhana@tcs.com\n"
     ]
    }
   ],
   "source": [
    "import re\n",
    "s=\"\"\"\n",
    "2000,1,jay,JaY12@gmail.com,9676622023\n",
    "Vedha12@yahoo.co.in,2,vedha,9676622024,3000\n",
    "9676622025,sai,3,sai@org.com,4000\n",
    "dhana,dhana@tcs.com,9676622026\n",
    "\"\"\"\n",
    "for match_obj in re.finditer('\\w+@[a-z]+\\.[a-z.]+[a-z]*',s,re.I):\n",
    "    print(match_obj.group(0))"
   ]
  },
  {
   "cell_type": "code",
   "execution_count": 25,
   "metadata": {},
   "outputs": [
    {
     "data": {
      "text/plain": [
       "[]"
      ]
     },
     "execution_count": 25,
     "metadata": {},
     "output_type": "execute_result"
    }
   ],
   "source": [
    "import re\n",
    "s=\"\"\"\n",
    "2000,1,jay,JaY12@gmail.com,9676622023\n",
    "Vedha12@yahoo.co.in,2,vedha,9676622024,3000\n",
    "9676622025,sai,3,sai@org.com,4000\n",
    "dhana,dhana@tcs.com,9676622026\n",
    "\"\"\"\n",
    "re.findall('^\\w+@[a-z]+\\.[a-z.]+[a-z]*',s,re.I)"
   ]
  },
  {
   "cell_type": "code",
   "execution_count": 26,
   "metadata": {},
   "outputs": [
    {
     "data": {
      "text/plain": [
       "['JaY12@gmail.com']"
      ]
     },
     "execution_count": 26,
     "metadata": {},
     "output_type": "execute_result"
    }
   ],
   "source": [
    "import re\n",
    "s=\"\"\"JaY12@gmail.com,2000,1,jay,9676622023\n",
    "Vedha12@yahoo.co.in,2,vedha,9676622024,3000\n",
    "9676622025,sai,3,sai@org.com,4000\n",
    "dhana,dhana@tcs.com,9676622026\n",
    "\"\"\"\n",
    "re.findall('^\\w+@[a-z]+\\.[a-z.]+[a-z]*',s,re.I)"
   ]
  },
  {
   "cell_type": "code",
   "execution_count": 27,
   "metadata": {},
   "outputs": [
    {
     "data": {
      "text/plain": [
       "[]"
      ]
     },
     "execution_count": 27,
     "metadata": {},
     "output_type": "execute_result"
    }
   ],
   "source": [
    "import re\n",
    "s=\"\"\"JaY12@gmail.com,2000,1,jay,9676622023\n",
    "Vedha12@yahoo.co.in,2,vedha,9676622024,3000\n",
    "9676622025,sai,3,sai@org.com,4000\n",
    "dhana,dhana@tcs.com,9676622026\n",
    "\"\"\"\n",
    "re.findall('\\w+@[a-z]+\\.[a-z.]+[a-z]*$',s,re.I)"
   ]
  },
  {
   "cell_type": "code",
   "execution_count": 29,
   "metadata": {},
   "outputs": [
    {
     "name": "stdout",
     "output_type": "stream",
     "text": [
      "['9676622026']\n"
     ]
    }
   ],
   "source": [
    "import re\n",
    "s=\"\"\"JaY12@gmail.com,2000,1,jay,9676622023\n",
    "Vedha12@yahoo.co.in,2,vedha,9676622024,3000\n",
    "9676622025,sai,3,sai@org.com,4000\n",
    "dhana,dhana@tcs.com,9676622026\n",
    "\"\"\"\n",
    "print(re.findall('[0-9]+$',s,re.I))"
   ]
  },
  {
   "cell_type": "code",
   "execution_count": null,
   "metadata": {},
   "outputs": [],
   "source": []
  }
 ],
 "metadata": {
  "kernelspec": {
   "display_name": "Python 3",
   "language": "python",
   "name": "python3"
  },
  "language_info": {
   "codemirror_mode": {
    "name": "ipython",
    "version": 3
   },
   "file_extension": ".py",
   "mimetype": "text/x-python",
   "name": "python",
   "nbconvert_exporter": "python",
   "pygments_lexer": "ipython3",
   "version": "3.8.3"
  }
 },
 "nbformat": 4,
 "nbformat_minor": 4
}
